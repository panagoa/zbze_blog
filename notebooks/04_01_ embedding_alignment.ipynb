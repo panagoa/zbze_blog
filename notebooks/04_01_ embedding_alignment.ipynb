{
 "cells": [
  {
   "cell_type": "code",
   "execution_count": 1,
   "outputs": [
    {
     "name": "stderr",
     "output_type": "stream",
     "text": [
      "Warning : `load_model` does not return WordVectorModel or SupervisedModel any more, but a `FastText` object which is very similar.\n"
     ]
    }
   ],
   "source": [
    "import fasttext\n",
    "\n",
    "kbd_model = fasttext.load_model('../data/processed/embeddings/fasttext_skipgram_kbd_300.bin')"
   ],
   "metadata": {
    "collapsed": false,
    "ExecuteTime": {
     "end_time": "2024-01-07T19:07:21.834604Z",
     "start_time": "2024-01-07T19:07:18.220074Z"
    }
   }
  },
  {
   "cell_type": "code",
   "execution_count": 2,
   "outputs": [],
   "source": [
    "import gensim.downloader as api\n",
    "import numpy as np\n",
    "from gensim.models import KeyedVectors\n",
    "from scipy.linalg import orthogonal_procrustes\n",
    "\n",
    "ru_model: KeyedVectors = api.load('word2vec-ruscorpora-300')  # Русские эмбеддинги\n",
    "flat_keys = {key.split('_')[0]: key for key in ru_model.index_to_key}\n",
    "# ru_model.get_vector(flat_keys['великан'])"
   ],
   "metadata": {
    "collapsed": false,
    "ExecuteTime": {
     "end_time": "2024-01-07T19:07:26.293557Z",
     "start_time": "2024-01-07T19:07:23.759812Z"
    }
   }
  },
  {
   "cell_type": "code",
   "execution_count": 3,
   "outputs": [],
   "source": [
    "import pandas as pd\n",
    "\n",
    "rus_kbd_glossary_df = pd.read_csv('../data/processed/glossary/html_cleaned/Rus-Ady_UASP.csv')\n",
    "kbd_rus_glossary_df = pd.read_csv('../data/processed/glossary/html_cleaned/Ady-Ady_AP.csv')\n",
    "\n",
    "rus_kbd_glossary_df = rus_kbd_glossary_df.rename(\n",
    "    columns={\n",
    "        '#name': 'word',\n",
    "        'Урыс-адыгэ школ псалъалъэ (Rus-Ady) (eastern)': 'description'}\n",
    ")\n",
    "kbd_rus_glossary_df = kbd_rus_glossary_df.rename(\n",
    "    columns={\n",
    "        '#name': 'word',\n",
    "        'Адыгэбзэ псалъалъэ (Ady) (eastern)': 'description'}\n",
    ")"
   ],
   "metadata": {
    "collapsed": false,
    "ExecuteTime": {
     "end_time": "2024-01-07T19:07:29.826805Z",
     "start_time": "2024-01-07T19:07:29.319461Z"
    }
   }
  },
  {
   "cell_type": "code",
   "execution_count": 0,
   "outputs": [],
   "source": [
    "import nltk\n",
    "\n",
    "glossary_rus_words = set(rus_kbd_glossary_df['word'].values)\n",
    "glossary_kbd_words = set(kbd_rus_glossary_df['word'].values)\n",
    "glossary_kbd_words = {word.lower().replace('i', 'I') for word in glossary_kbd_words}"
   ],
   "metadata": {
    "collapsed": false
   }
  },
  {
   "cell_type": "code",
   "execution_count": 6,
   "outputs": [
    {
     "name": "stderr",
     "output_type": "stream",
     "text": [
      "100%|██████████| 27268/27268 [00:00<00:00, 57579.07it/s]\n"
     ]
    }
   ],
   "source": [
    "from tqdm import tqdm\n",
    "\n",
    "kbd_kv = KeyedVectors(vector_size=300, count=len(glossary_kbd_words))\n",
    "for word in tqdm(glossary_kbd_words):\n",
    "    kbd_kv.add_vector(word, kbd_model.get_word_vector(word))\n"
   ],
   "metadata": {
    "collapsed": false,
    "ExecuteTime": {
     "end_time": "2024-01-07T19:07:51.004813Z",
     "start_time": "2024-01-07T19:07:50.480585Z"
    }
   }
  },
  {
   "cell_type": "markdown",
   "source": [
    "# Поиск соответствий в слов в словаре\n",
    "\n",
    "Ищем соответствия слов русского языка для слов на кабардинском языке."
   ],
   "metadata": {
    "collapsed": false
   }
  },
  {
   "cell_type": "code",
   "execution_count": 29,
   "outputs": [
    {
     "data": {
      "text/plain": "                word                                        description  \\\n0                  а  \\nI первая буква кабардино-черкесского алфавит...   \n3            абазэхэ  абазэхэр абадзехи (одна из адыгейских этническ...   \n6             абгъуэ  гнездо\\n/ Къуалэбзухэр, джэдкъазхэр щыкIэцI, щ...   \n8              абдеж  нареч. 1. там\\n/ А щIыпIэм.\\nАбдеж ущымыту къы...   \n12           абджыбз  \\nстеклорез (инструмент)\\n/ Абдж зэрабз, зэрыз...   \n...              ...                                                ...   \n3171       дэпсэлъэн  (допсалъэ) неперех. гл. 1. поддержать кого-л.\\...   \n3172      дэпсэлъеин  (допсэлъей) неперех. гл. разговаривать заносчи...   \n3178     дэпхъэнкIэн  (депхъанкIэ) перех. гл. замести что-л. внутрь ...   \n3179  дэпхъэнкIыкIын  (депхъэнкIыкI) перех. гл. вымести что-л. откуд...   \n3185       дэпхъуеин  (допхъуей) неперех. гл. хватать что-л., находя...   \n\n         intersection                                   description_flat  \\\n0             {буква}      I первая буква кабардино-черкесского алфавита   \n3              {одна}  абазэхэр абадзехи (одна из адыгейских этническ...   \n6            {гнездо}                                             гнездо   \n8               {там}                                      нареч. 1. там   \n12       {инструмент}                             стеклорез (инструмент)   \n...               ...                                                ...   \n3171     {поддержать}      (допсалъэ) неперех. гл. 1. поддержать кого-л.   \n3172  {разговаривать}  (допсэлъей) неперех. гл. разговаривать заносчи...   \n3178        {замести}  (депхъанкIэ) перех. гл. замести что-л. внутрь ...   \n3179        {вымести}  (депхъэнкIыкI) перех. гл. вымести что-л. откуд...   \n3185        {хватать}  (допхъуей) неперех. гл. хватать что-л., находя...   \n\n      intersection_count  \n0                      1  \n3                      1  \n6                      1  \n8                      1  \n12                     1  \n...                  ...  \n3171                   1  \n3172                   1  \n3178                   1  \n3179                   1  \n3185                   1  \n\n[1000 rows x 5 columns]",
      "text/html": "<div>\n<style scoped>\n    .dataframe tbody tr th:only-of-type {\n        vertical-align: middle;\n    }\n\n    .dataframe tbody tr th {\n        vertical-align: top;\n    }\n\n    .dataframe thead th {\n        text-align: right;\n    }\n</style>\n<table border=\"1\" class=\"dataframe\">\n  <thead>\n    <tr style=\"text-align: right;\">\n      <th></th>\n      <th>word</th>\n      <th>description</th>\n      <th>intersection</th>\n      <th>description_flat</th>\n      <th>intersection_count</th>\n    </tr>\n  </thead>\n  <tbody>\n    <tr>\n      <th>0</th>\n      <td>а</td>\n      <td>\\nI первая буква кабардино-черкесского алфавит...</td>\n      <td>{буква}</td>\n      <td>I первая буква кабардино-черкесского алфавита</td>\n      <td>1</td>\n    </tr>\n    <tr>\n      <th>3</th>\n      <td>абазэхэ</td>\n      <td>абазэхэр абадзехи (одна из адыгейских этническ...</td>\n      <td>{одна}</td>\n      <td>абазэхэр абадзехи (одна из адыгейских этническ...</td>\n      <td>1</td>\n    </tr>\n    <tr>\n      <th>6</th>\n      <td>абгъуэ</td>\n      <td>гнездо\\n/ Къуалэбзухэр, джэдкъазхэр щыкIэцI, щ...</td>\n      <td>{гнездо}</td>\n      <td>гнездо</td>\n      <td>1</td>\n    </tr>\n    <tr>\n      <th>8</th>\n      <td>абдеж</td>\n      <td>нареч. 1. там\\n/ А щIыпIэм.\\nАбдеж ущымыту къы...</td>\n      <td>{там}</td>\n      <td>нареч. 1. там</td>\n      <td>1</td>\n    </tr>\n    <tr>\n      <th>12</th>\n      <td>абджыбз</td>\n      <td>\\nстеклорез (инструмент)\\n/ Абдж зэрабз, зэрыз...</td>\n      <td>{инструмент}</td>\n      <td>стеклорез (инструмент)</td>\n      <td>1</td>\n    </tr>\n    <tr>\n      <th>...</th>\n      <td>...</td>\n      <td>...</td>\n      <td>...</td>\n      <td>...</td>\n      <td>...</td>\n    </tr>\n    <tr>\n      <th>3171</th>\n      <td>дэпсэлъэн</td>\n      <td>(допсалъэ) неперех. гл. 1. поддержать кого-л.\\...</td>\n      <td>{поддержать}</td>\n      <td>(допсалъэ) неперех. гл. 1. поддержать кого-л.</td>\n      <td>1</td>\n    </tr>\n    <tr>\n      <th>3172</th>\n      <td>дэпсэлъеин</td>\n      <td>(допсэлъей) неперех. гл. разговаривать заносчи...</td>\n      <td>{разговаривать}</td>\n      <td>(допсэлъей) неперех. гл. разговаривать заносчи...</td>\n      <td>1</td>\n    </tr>\n    <tr>\n      <th>3178</th>\n      <td>дэпхъэнкIэн</td>\n      <td>(депхъанкIэ) перех. гл. замести что-л. внутрь ...</td>\n      <td>{замести}</td>\n      <td>(депхъанкIэ) перех. гл. замести что-л. внутрь ...</td>\n      <td>1</td>\n    </tr>\n    <tr>\n      <th>3179</th>\n      <td>дэпхъэнкIыкIын</td>\n      <td>(депхъэнкIыкI) перех. гл. вымести что-л. откуд...</td>\n      <td>{вымести}</td>\n      <td>(депхъэнкIыкI) перех. гл. вымести что-л. откуд...</td>\n      <td>1</td>\n    </tr>\n    <tr>\n      <th>3185</th>\n      <td>дэпхъуеин</td>\n      <td>(допхъуей) неперех. гл. хватать что-л., находя...</td>\n      <td>{хватать}</td>\n      <td>(допхъуей) неперех. гл. хватать что-л., находя...</td>\n      <td>1</td>\n    </tr>\n  </tbody>\n</table>\n<p>1000 rows × 5 columns</p>\n</div>"
     },
     "execution_count": 29,
     "metadata": {},
     "output_type": "execute_result"
    }
   ],
   "source": [
    "kbd_rus_glossary_df['word'] = kbd_rus_glossary_df['word'].apply(lambda x: x.lower().replace('i', 'I'))\n",
    "kbd_rus_glossary_df['description_flat'] = kbd_rus_glossary_df['description'].apply(\n",
    "    lambda x: [line for line in x.split('\\n') if line][0]\n",
    ")\n",
    "kbd_rus_glossary_df['intersection'] = kbd_rus_glossary_df['description_flat'].apply(\n",
    "    lambda x: set(nltk.word_tokenize(x.lower().replace('i', 'I'))) & glossary_rus_words\n",
    ")\n",
    "kbd_rus_glossary_df['intersection_count'] = kbd_rus_glossary_df['intersection'].apply(len)\n",
    "kbd_rus_glossary_df = kbd_rus_glossary_df[kbd_rus_glossary_df['intersection_count'] == 1]\n",
    "kbd_rus_glossary_df.head(n=1000)"
   ],
   "metadata": {
    "collapsed": false,
    "ExecuteTime": {
     "end_time": "2024-01-07T19:25:55.784815Z",
     "start_time": "2024-01-07T19:25:55.261269Z"
    }
   }
  },
  {
   "cell_type": "code",
   "execution_count": 31,
   "outputs": [],
   "source": [
    "# маппинг слов: английское слово -> русское слово\n",
    "bilingual_dict = [\n",
    "    (kbd_word, list(rus_words)[0])\n",
    "    for kbd_word, rus_words in kbd_rus_glossary_df[['word', 'intersection']].values\n",
    "    if list(rus_words)[0] in flat_keys\n",
    "]\n",
    "\n",
    "# Извлекаем соответствующие эмбеддинги для каждого слова из пары\n",
    "X = np.array([kbd_model.get_word_vector(kbd_word) for kbd_word, _ in bilingual_dict])\n",
    "Y = np.array([ru_model[flat_keys[ru_word]] for _, ru_word in bilingual_dict])\n",
    "\n",
    "# Вычисляем ортогональное преобразование\n",
    "R, _ = orthogonal_procrustes(X, Y)\n",
    "\n",
    "# Применяем преобразование\n",
    "X_aligned = np.dot(X, R)  # в X_aligned векторы будут похожи на Y\n",
    "Y_aligned = np.dot(Y, R.T)  # в Y_aligned векторы будут похожи на X"
   ],
   "metadata": {
    "collapsed": false,
    "ExecuteTime": {
     "end_time": "2024-01-07T19:34:40.297186Z",
     "start_time": "2024-01-07T19:34:39.737325Z"
    }
   }
  },
  {
   "cell_type": "markdown",
   "source": [
    "# Собираем выравненные векторы\n",
    "\n",
    "Чтобы искать соответствия слов на противоположных языках, создадим новые мапы слово -> вектор для каждого языка."
   ],
   "metadata": {
    "collapsed": false
   }
  },
  {
   "cell_type": "code",
   "execution_count": 33,
   "outputs": [],
   "source": [
    "# ключ - слово на русском, значение - выравненный вектор на русском\n",
    "rus_aligned = KeyedVectors(vector_size=300, count=len(bilingual_dict))\n",
    "for word, vector in zip([ru_word for _, ru_word in bilingual_dict], Y_aligned):\n",
    "    rus_aligned.add_vector(word, vector)\n",
    "\n",
    "# ключ - слово на кабардинском, значение - выравненный вектор на русском\n",
    "kbd_aligned = KeyedVectors(vector_size=300, count=len(bilingual_dict))\n",
    "for word, vector in zip([kbd_word for kbd_word, _ in bilingual_dict], X_aligned):\n",
    "    kbd_aligned.add_vector(word, vector)"
   ],
   "metadata": {
    "collapsed": false,
    "ExecuteTime": {
     "end_time": "2024-01-07T19:35:57.215007Z",
     "start_time": "2024-01-07T19:35:57.179720Z"
    }
   }
  },
  {
   "cell_type": "code",
   "execution_count": 52,
   "outputs": [
    {
     "name": "stdout",
     "output_type": "stream",
     "text": [
      "[('дом_NOUN', 0.627297580242157),\n",
      " ('шестикомнатный_ADJ', 0.5185121297836304),\n",
      " ('омеблировывать_VERB', 0.5052497386932373),\n",
      " ('восьмиквартирный_ADJ', 0.4852362871170044),\n",
      " ('квартира_NOUN', 0.4841042459011078)]\n",
      "[('унэ', 0.6272976994514465),\n",
      " ('унэбжэ', 0.5661582946777344),\n",
      " ('унэишэ', 0.5644971132278442),\n",
      " ('унэн', 0.5371354222297668),\n",
      " ('унэзэн', 0.528395414352417)]\n"
     ]
    }
   ],
   "source": [
    "from pprint import pprint\n",
    "\n",
    "pprint(ru_model.similar_by_vector(kbd_aligned['унэ'], topn=5))\n",
    "pprint(kbd_kv.similar_by_vector(rus_aligned['дом'], topn=5))"
   ],
   "metadata": {
    "collapsed": false,
    "ExecuteTime": {
     "end_time": "2024-01-08T20:48:36.001531Z",
     "start_time": "2024-01-08T20:48:35.923180Z"
    }
   }
  },
  {
   "cell_type": "code",
   "execution_count": 54,
   "outputs": [
    {
     "name": "stdout",
     "output_type": "stream",
     "text": [
      "[('ворота_NOUN', 0.6502230167388916),\n",
      " ('калитка_NOUN', 0.6096857786178589),\n",
      " ('дверь_NOUN', 0.579963743686676),\n",
      " ('крыльцо_NOUN', 0.5683156251907349),\n",
      " ('подъезд_NOUN', 0.5473355054855347)]\n",
      "[('куэбжэ', 0.6502230167388916),\n",
      " ('куэбжэIут', 0.6338037848472595),\n",
      " ('Iуэбжэ', 0.6187616586685181),\n",
      " ('бжэ', 0.6008488535881042),\n",
      " ('куэбжэдэнэ', 0.5942080616950989)]\n"
     ]
    }
   ],
   "source": [
    "pprint(ru_model.similar_by_vector(kbd_aligned['куэбжэ'], topn=5))\n",
    "pprint(kbd_kv.similar_by_vector(rus_aligned['ворота'], topn=5))"
   ],
   "metadata": {
    "collapsed": false,
    "ExecuteTime": {
     "end_time": "2024-01-08T20:49:32.763135Z",
     "start_time": "2024-01-08T20:49:32.731191Z"
    }
   }
  },
  {
   "cell_type": "code",
   "execution_count": null,
   "outputs": [],
   "source": [],
   "metadata": {
    "collapsed": false
   }
  }
 ],
 "metadata": {
  "kernelspec": {
   "display_name": "Python 3",
   "language": "python",
   "name": "python3"
  },
  "language_info": {
   "codemirror_mode": {
    "name": "ipython",
    "version": 2
   },
   "file_extension": ".py",
   "mimetype": "text/x-python",
   "name": "python",
   "nbconvert_exporter": "python",
   "pygments_lexer": "ipython2",
   "version": "2.7.6"
  }
 },
 "nbformat": 4,
 "nbformat_minor": 0
}
