{
 "cells": [
  {
   "cell_type": "code",
   "outputs": [],
   "source": [
    "from tqdm import tqdm\n",
    "import pandas as pd\n"
   ],
   "metadata": {
    "collapsed": false,
    "ExecuteTime": {
     "end_time": "2024-03-21T00:24:45.991291Z",
     "start_time": "2024-03-21T00:24:45.453576Z"
    }
   },
   "id": "7201285131cef05",
   "execution_count": 1
  },
  {
   "cell_type": "code",
   "outputs": [],
   "source": [
    "df = pd.read_csv('../data/processed/word_freqs/freq_1000000_oshhamaho_translated.csv')"
   ],
   "metadata": {
    "collapsed": false,
    "ExecuteTime": {
     "end_time": "2024-03-21T00:24:46.934952Z",
     "start_time": "2024-03-21T00:24:46.683406Z"
    }
   },
   "id": "d7458d22e2a2202d",
   "execution_count": 2
  },
  {
   "cell_type": "code",
   "outputs": [],
   "source": [
    "df = df[df['kbd'] != df['rus']]"
   ],
   "metadata": {
    "collapsed": false,
    "ExecuteTime": {
     "end_time": "2024-03-21T00:28:41.690127Z",
     "start_time": "2024-03-21T00:28:41.669562Z"
    }
   },
   "id": "7fc6af8b53ff6520",
   "execution_count": 6
  },
  {
   "cell_type": "code",
   "outputs": [
    {
     "data": {
      "text/plain": "                     0  kbd            rus\n74428  \"/преступление\"    \"  преступление\"\n72227        \"\"/гимном   \"\"         гимном\n72235        \"\"/арэфым   \"\"         арэфым\n72283      \"\"/Некрасов   \"\"       Некрасов\n72310        \"\"/всегда   \"\"         всегда\n...                ...  ...            ...\n43864                /  NaN            NaN\n43865                /  NaN            NaN\n53445                /  NaN            NaN\n53446                /  NaN            NaN\n53447                /  NaN            NaN\n\n[165846 rows x 3 columns]",
      "text/html": "<div>\n<style scoped>\n    .dataframe tbody tr th:only-of-type {\n        vertical-align: middle;\n    }\n\n    .dataframe tbody tr th {\n        vertical-align: top;\n    }\n\n    .dataframe thead th {\n        text-align: right;\n    }\n</style>\n<table border=\"1\" class=\"dataframe\">\n  <thead>\n    <tr style=\"text-align: right;\">\n      <th></th>\n      <th>0</th>\n      <th>kbd</th>\n      <th>rus</th>\n    </tr>\n  </thead>\n  <tbody>\n    <tr>\n      <th>74428</th>\n      <td>\"/преступление\"</td>\n      <td>\"</td>\n      <td>преступление\"</td>\n    </tr>\n    <tr>\n      <th>72227</th>\n      <td>\"\"/гимном</td>\n      <td>\"\"</td>\n      <td>гимном</td>\n    </tr>\n    <tr>\n      <th>72235</th>\n      <td>\"\"/арэфым</td>\n      <td>\"\"</td>\n      <td>арэфым</td>\n    </tr>\n    <tr>\n      <th>72283</th>\n      <td>\"\"/Некрасов</td>\n      <td>\"\"</td>\n      <td>Некрасов</td>\n    </tr>\n    <tr>\n      <th>72310</th>\n      <td>\"\"/всегда</td>\n      <td>\"\"</td>\n      <td>всегда</td>\n    </tr>\n    <tr>\n      <th>...</th>\n      <td>...</td>\n      <td>...</td>\n      <td>...</td>\n    </tr>\n    <tr>\n      <th>43864</th>\n      <td>/</td>\n      <td>NaN</td>\n      <td>NaN</td>\n    </tr>\n    <tr>\n      <th>43865</th>\n      <td>/</td>\n      <td>NaN</td>\n      <td>NaN</td>\n    </tr>\n    <tr>\n      <th>53445</th>\n      <td>/</td>\n      <td>NaN</td>\n      <td>NaN</td>\n    </tr>\n    <tr>\n      <th>53446</th>\n      <td>/</td>\n      <td>NaN</td>\n      <td>NaN</td>\n    </tr>\n    <tr>\n      <th>53447</th>\n      <td>/</td>\n      <td>NaN</td>\n      <td>NaN</td>\n    </tr>\n  </tbody>\n</table>\n<p>165846 rows × 3 columns</p>\n</div>"
     },
     "execution_count": 8,
     "metadata": {},
     "output_type": "execute_result"
    }
   ],
   "source": [
    "df.sort_values(['kbd'])"
   ],
   "metadata": {
    "collapsed": false,
    "ExecuteTime": {
     "end_time": "2024-03-21T00:31:30.400106Z",
     "start_time": "2024-03-21T00:31:30.276179Z"
    }
   },
   "id": "c1ab8b5c02dd722a",
   "execution_count": 8
  },
  {
   "cell_type": "code",
   "outputs": [],
   "source": [
    "df = df.drop_duplicates()"
   ],
   "metadata": {
    "collapsed": false,
    "ExecuteTime": {
     "end_time": "2024-03-21T00:33:17.090161Z",
     "start_time": "2024-03-21T00:33:17.003959Z"
    }
   },
   "id": "a85617241f0dbf9a",
   "execution_count": 9
  },
  {
   "cell_type": "code",
   "outputs": [],
   "source": [
    "df = df[df['rus'] != '\\\"\\\"']\n",
    "df = df[df['rus'] != '\"']\n",
    "df = df[df['rus'] != '\"\"']\n",
    "df = df[df['rus'] != '\"\"']"
   ],
   "metadata": {
    "collapsed": false,
    "ExecuteTime": {
     "end_time": "2024-03-21T00:39:18.249140Z",
     "start_time": "2024-03-21T00:39:18.191693Z"
    }
   },
   "id": "886208836b9b8160",
   "execution_count": 20
  },
  {
   "cell_type": "code",
   "outputs": [
    {
     "data": {
      "text/plain": "                                       0                kbd  \\\n0                    щхьэусыгъуэ/причина        щхьэусыгъуэ   \n1                          нэхъыфI/лучше            нэхъыфI   \n8                                   :/:                   :   \n10                               абы/ему                абы   \n11                                си/мой                 си   \n...                                  ...                ...   \n174970  ДиректорыщIэу/Как новый директор      ДиректорыщIэу   \n174971  зылI-лIитIкIэ/двумя-тремя людьми      зылI-лIитIкIэ   \n174972          къызэхэзыублари/начавший    къызэхэзыублари   \n174973  Iуэхутхьэбзэшхуэу/большая услуга  Iуэхутхьэбзэшхуэу   \n174974            хузэфIэмыкIауэ/не смог     хузэфIэмыкIауэ   \n\n                       rus  \n0                  причина  \n1                    лучше  \n8                       :   \n10                     ему  \n11                     мой  \n...                    ...  \n174970  Как новый директор  \n174971  двумя-тремя людьми  \n174972            начавший  \n174973      большая услуга  \n174974             не смог  \n\n[154109 rows x 3 columns]",
      "text/html": "<div>\n<style scoped>\n    .dataframe tbody tr th:only-of-type {\n        vertical-align: middle;\n    }\n\n    .dataframe tbody tr th {\n        vertical-align: top;\n    }\n\n    .dataframe thead th {\n        text-align: right;\n    }\n</style>\n<table border=\"1\" class=\"dataframe\">\n  <thead>\n    <tr style=\"text-align: right;\">\n      <th></th>\n      <th>0</th>\n      <th>kbd</th>\n      <th>rus</th>\n    </tr>\n  </thead>\n  <tbody>\n    <tr>\n      <th>0</th>\n      <td>щхьэусыгъуэ/причина</td>\n      <td>щхьэусыгъуэ</td>\n      <td>причина</td>\n    </tr>\n    <tr>\n      <th>1</th>\n      <td>нэхъыфI/лучше</td>\n      <td>нэхъыфI</td>\n      <td>лучше</td>\n    </tr>\n    <tr>\n      <th>8</th>\n      <td>:/:</td>\n      <td>:</td>\n      <td>:</td>\n    </tr>\n    <tr>\n      <th>10</th>\n      <td>абы/ему</td>\n      <td>абы</td>\n      <td>ему</td>\n    </tr>\n    <tr>\n      <th>11</th>\n      <td>си/мой</td>\n      <td>си</td>\n      <td>мой</td>\n    </tr>\n    <tr>\n      <th>...</th>\n      <td>...</td>\n      <td>...</td>\n      <td>...</td>\n    </tr>\n    <tr>\n      <th>174970</th>\n      <td>ДиректорыщIэу/Как новый директор</td>\n      <td>ДиректорыщIэу</td>\n      <td>Как новый директор</td>\n    </tr>\n    <tr>\n      <th>174971</th>\n      <td>зылI-лIитIкIэ/двумя-тремя людьми</td>\n      <td>зылI-лIитIкIэ</td>\n      <td>двумя-тремя людьми</td>\n    </tr>\n    <tr>\n      <th>174972</th>\n      <td>къызэхэзыублари/начавший</td>\n      <td>къызэхэзыублари</td>\n      <td>начавший</td>\n    </tr>\n    <tr>\n      <th>174973</th>\n      <td>Iуэхутхьэбзэшхуэу/большая услуга</td>\n      <td>Iуэхутхьэбзэшхуэу</td>\n      <td>большая услуга</td>\n    </tr>\n    <tr>\n      <th>174974</th>\n      <td>хузэфIэмыкIауэ/не смог</td>\n      <td>хузэфIэмыкIауэ</td>\n      <td>не смог</td>\n    </tr>\n  </tbody>\n</table>\n<p>154109 rows × 3 columns</p>\n</div>"
     },
     "execution_count": 21,
     "metadata": {},
     "output_type": "execute_result"
    }
   ],
   "source": [
    "df"
   ],
   "metadata": {
    "collapsed": false,
    "ExecuteTime": {
     "end_time": "2024-03-21T00:39:19.058672Z",
     "start_time": "2024-03-21T00:39:19.054530Z"
    }
   },
   "id": "8e8c9f20a4dc9a14",
   "execution_count": 21
  },
  {
   "cell_type": "code",
   "outputs": [],
   "source": [],
   "metadata": {
    "collapsed": false
   },
   "id": "39162078f0a47a99"
  }
 ],
 "metadata": {
  "kernelspec": {
   "display_name": "Python 3",
   "language": "python",
   "name": "python3"
  },
  "language_info": {
   "codemirror_mode": {
    "name": "ipython",
    "version": 2
   },
   "file_extension": ".py",
   "mimetype": "text/x-python",
   "name": "python",
   "nbconvert_exporter": "python",
   "pygments_lexer": "ipython2",
   "version": "2.7.6"
  }
 },
 "nbformat": 4,
 "nbformat_minor": 5
}
