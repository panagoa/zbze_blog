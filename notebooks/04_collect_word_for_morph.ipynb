{
 "cells": [
  {
   "cell_type": "code",
   "execution_count": 1,
   "id": "835b95aaedab07fe",
   "metadata": {
    "collapsed": false,
    "ExecuteTime": {
     "end_time": "2024-03-21T00:57:29.048378Z",
     "start_time": "2024-03-21T00:57:25.740806Z"
    }
   },
   "outputs": [
    {
     "name": "stderr",
     "output_type": "stream",
     "text": [
      "Warning : `load_model` does not return WordVectorModel or SupervisedModel any more, but a `FastText` object which is very similar.\n"
     ]
    }
   ],
   "source": [
    "import fasttext\n",
    "\n",
    "model = fasttext.load_model('../data/processed/embeddings/fasttext_skipgram_kbd_100.bin')"
   ]
  },
  {
   "cell_type": "code",
   "outputs": [
    {
     "data": {
      "text/plain": "               key key_lang  \\\n0      дэкъутыхьын      KAB   \n1        дэкъухьын      KAB   \n2         дэлэжьэн      KAB   \n3      дэлэжьыкIын      KAB   \n4      дэлэжьыхьын      KAB   \n...            ...      ...   \n18398     дэкIутэн      KAB   \n18399      дэкъуэн      KAB   \n18400   дэкъугъеин      KAB   \n18401     дэкъузэн      KAB   \n18402  дэкъутыкIын      KAB   \n\n                                                raw_text  \\\n0      а) (декъутыхь) перех. гл. ломать, разбирать, к...   \n1      I (декъухь) перех. гл. разбросать, рассыпать ч...   \n2      (долажьэ) неперех. гл. работать вместе с кем-л...   \n3      (долэжьыкI) неперех. гл. износиться, протереть...   \n4      I а) (делэжьыхь) перех. гл. сотворить, создать...   \n...                                                  ...   \n18398  (декIутэ) перех. гл. высыпать что-л. куда-л., ...   \n18399  \\n(мэдакъуэ) неперех. гл. выбирать долго и в р...   \n18400  (докъугъей) неперех. гл. выть, задрав голову (...   \n18401  (декъузэ) перех. гл. 1. зажать что-л. между че...   \n18402  (декъутыкI) перех. гл. сломать, выбить что-л.,...   \n\n                                                raw_html  \n0      <div style=\"margin-left:4em\">а) (декъутыхь) <i...  \n1      <div style=\"margin-left:4em\">I (декъухь) <i><f...  \n2      <div style=\"margin-left:4em\">(долажьэ) <i><fon...  \n3      <div style=\"margin-left:4em\">(долэжьыкI) <i><f...  \n4      <div style=\"margin-left:4em\">I а) (делэжьыхь) ...  \n...                                                  ...  \n18398  <div style=\"margin-left:4em\">(декIутэ) <i><fon...  \n18399  <div style=\"margin-left:1em\"></div>\\n<div styl...  \n18400  <div style=\"margin-left:4em\">(докъугъей) <i><f...  \n18401  <div style=\"margin-left:4em\">(декъузэ) <i><fon...  \n18402  <div style=\"margin-left:4em\">(декъутыкI) <i><f...  \n\n[18403 rows x 4 columns]",
      "text/html": "<div>\n<style scoped>\n    .dataframe tbody tr th:only-of-type {\n        vertical-align: middle;\n    }\n\n    .dataframe tbody tr th {\n        vertical-align: top;\n    }\n\n    .dataframe thead th {\n        text-align: right;\n    }\n</style>\n<table border=\"1\" class=\"dataframe\">\n  <thead>\n    <tr style=\"text-align: right;\">\n      <th></th>\n      <th>key</th>\n      <th>key_lang</th>\n      <th>raw_text</th>\n      <th>raw_html</th>\n    </tr>\n  </thead>\n  <tbody>\n    <tr>\n      <th>0</th>\n      <td>дэкъутыхьын</td>\n      <td>KAB</td>\n      <td>а) (декъутыхь) перех. гл. ломать, разбирать, к...</td>\n      <td>&lt;div style=\"margin-left:4em\"&gt;а) (декъутыхь) &lt;i...</td>\n    </tr>\n    <tr>\n      <th>1</th>\n      <td>дэкъухьын</td>\n      <td>KAB</td>\n      <td>I (декъухь) перех. гл. разбросать, рассыпать ч...</td>\n      <td>&lt;div style=\"margin-left:4em\"&gt;I (декъухь) &lt;i&gt;&lt;f...</td>\n    </tr>\n    <tr>\n      <th>2</th>\n      <td>дэлэжьэн</td>\n      <td>KAB</td>\n      <td>(долажьэ) неперех. гл. работать вместе с кем-л...</td>\n      <td>&lt;div style=\"margin-left:4em\"&gt;(долажьэ) &lt;i&gt;&lt;fon...</td>\n    </tr>\n    <tr>\n      <th>3</th>\n      <td>дэлэжьыкIын</td>\n      <td>KAB</td>\n      <td>(долэжьыкI) неперех. гл. износиться, протереть...</td>\n      <td>&lt;div style=\"margin-left:4em\"&gt;(долэжьыкI) &lt;i&gt;&lt;f...</td>\n    </tr>\n    <tr>\n      <th>4</th>\n      <td>дэлэжьыхьын</td>\n      <td>KAB</td>\n      <td>I а) (делэжьыхь) перех. гл. сотворить, создать...</td>\n      <td>&lt;div style=\"margin-left:4em\"&gt;I а) (делэжьыхь) ...</td>\n    </tr>\n    <tr>\n      <th>...</th>\n      <td>...</td>\n      <td>...</td>\n      <td>...</td>\n      <td>...</td>\n    </tr>\n    <tr>\n      <th>18398</th>\n      <td>дэкIутэн</td>\n      <td>KAB</td>\n      <td>(декIутэ) перех. гл. высыпать что-л. куда-л., ...</td>\n      <td>&lt;div style=\"margin-left:4em\"&gt;(декIутэ) &lt;i&gt;&lt;fon...</td>\n    </tr>\n    <tr>\n      <th>18399</th>\n      <td>дэкъуэн</td>\n      <td>KAB</td>\n      <td>\\n(мэдакъуэ) неперех. гл. выбирать долго и в р...</td>\n      <td>&lt;div style=\"margin-left:1em\"&gt;&lt;/div&gt;\\n&lt;div styl...</td>\n    </tr>\n    <tr>\n      <th>18400</th>\n      <td>дэкъугъеин</td>\n      <td>KAB</td>\n      <td>(докъугъей) неперех. гл. выть, задрав голову (...</td>\n      <td>&lt;div style=\"margin-left:4em\"&gt;(докъугъей) &lt;i&gt;&lt;f...</td>\n    </tr>\n    <tr>\n      <th>18401</th>\n      <td>дэкъузэн</td>\n      <td>KAB</td>\n      <td>(декъузэ) перех. гл. 1. зажать что-л. между че...</td>\n      <td>&lt;div style=\"margin-left:4em\"&gt;(декъузэ) &lt;i&gt;&lt;fon...</td>\n    </tr>\n    <tr>\n      <th>18402</th>\n      <td>дэкъутыкIын</td>\n      <td>KAB</td>\n      <td>(декъутыкI) перех. гл. сломать, выбить что-л.,...</td>\n      <td>&lt;div style=\"margin-left:4em\"&gt;(декъутыкI) &lt;i&gt;&lt;f...</td>\n    </tr>\n  </tbody>\n</table>\n<p>18403 rows × 4 columns</p>\n</div>"
     },
     "execution_count": 2,
     "metadata": {},
     "output_type": "execute_result"
    }
   ],
   "source": [
    "import pandas as pd\n",
    "\n",
    "df = pd.read_csv('../data/external/morph/kbd_verb_глагол.csv')\n",
    "\n",
    "df['key'] = df['key'].str.replace('i', 'I')\n",
    "df"
   ],
   "metadata": {
    "collapsed": false,
    "ExecuteTime": {
     "end_time": "2024-03-21T00:57:38.663336Z",
     "start_time": "2024-03-21T00:57:37.755632Z"
    }
   },
   "id": "3ef95f483399d0a0",
   "execution_count": 2
  },
  {
   "cell_type": "code",
   "outputs": [
    {
     "name": "stderr",
     "output_type": "stream",
     "text": [
      "100%|██████████| 18403/18403 [34:18<00:00,  8.94it/s]    \n"
     ]
    }
   ],
   "source": [
    "from tqdm import tqdm\n",
    "\n",
    "for q in tqdm(df['key']):\n",
    "    with open(f'../data/external/morph/{q}.txt', 'w') as f:\n",
    "        f.write('\\n'.join([word for score, word in model.get_nearest_neighbors(q, k=50)]))\n"
   ],
   "metadata": {
    "collapsed": true,
    "ExecuteTime": {
     "end_time": "2024-03-10T03:26:29.876716Z",
     "start_time": "2024-03-10T02:52:10.953275Z"
    }
   },
   "id": "initial_id",
   "execution_count": 12
  },
  {
   "cell_type": "code",
   "outputs": [],
   "source": [
    "q = 'джэн'\n",
    "with open(f'../data/external/morph/{q}.txt', 'w') as f:\n",
    "    f.write('\\n'.join([word for score, word in model.get_nearest_neighbors(q, k=100)]))"
   ],
   "metadata": {
    "collapsed": false,
    "ExecuteTime": {
     "end_time": "2024-03-21T01:04:58.890168Z",
     "start_time": "2024-03-21T01:04:58.884194Z"
    }
   },
   "id": "f9db901755893aa",
   "execution_count": 5
  },
  {
   "cell_type": "code",
   "outputs": [],
   "source": [],
   "metadata": {
    "collapsed": false
   },
   "id": "7118d55033d4ef3a"
  }
 ],
 "metadata": {
  "kernelspec": {
   "display_name": "Python 3",
   "language": "python",
   "name": "python3"
  },
  "language_info": {
   "codemirror_mode": {
    "name": "ipython",
    "version": 2
   },
   "file_extension": ".py",
   "mimetype": "text/x-python",
   "name": "python",
   "nbconvert_exporter": "python",
   "pygments_lexer": "ipython2",
   "version": "2.7.6"
  }
 },
 "nbformat": 4,
 "nbformat_minor": 5
}
