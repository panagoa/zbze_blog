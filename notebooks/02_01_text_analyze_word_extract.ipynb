{
 "cells": [
  {
   "cell_type": "code",
   "execution_count": 1,
   "outputs": [
    {
     "name": "stderr",
     "output_type": "stream",
     "text": [
      "[nltk_data] Downloading package stopwords to\n",
      "[nltk_data]     /Users/panagoa/nltk_data...\n",
      "[nltk_data]   Package stopwords is already up-to-date!\n"
     ]
    }
   ],
   "source": [
    "from collections import Counter\n",
    "import os\n",
    "import nltk\n",
    "import pandas as pd\n",
    "\n",
    "input_dir = '../data/processed'\n",
    "\n",
    "output_dir = '../data/processed/word_freqs'\n",
    "os.makedirs(output_dir, exist_ok=True)\n",
    "\n",
    "BUF_SIZE = 100000\n",
    "word_limit = 1000000\n",
    "\n",
    "all_word_counter = Counter()\n",
    "\n",
    "def save_freqs_flat(counter, output_path):\n",
    "    with open(output_path, 'w') as f:\n",
    "        output = '\\n'.join(\n",
    "            [\n",
    "                word for \n",
    "                word, freq in sorted(counter.most_common(word_limit), key=lambda x: x[1], reverse=True)\n",
    "            ]\n",
    "        )\n",
    "        f.write(output)\n",
    "\n",
    "def save_with_freq(counter, output_path, freq_limit=0):\n",
    "    data = [\n",
    "        {\n",
    "            'word': word,\n",
    "            'freq': freq\n",
    "        }\n",
    "        for word, freq in counter.items()\n",
    "        if freq > freq_limit\n",
    "    ]\n",
    "\n",
    "    df = pd.DataFrame(data)\n",
    "    df = df.sort_values('freq', ascending=False)\n",
    "    df.to_csv(\n",
    "        output_path.replace('.txt', '.csv'),\n",
    "        index=False\n",
    "    )\n",
    "\n",
    "\n",
    "for input_file_name in [\n",
    "    'oshhamaho.txt',\n",
    "    'apkbr_ru.txt',\n",
    "    'elgkbr_ru.txt',\n",
    "]:\n",
    "    input_file_path = os.path.join(input_dir, input_file_name)\n",
    "    file_word_counter = Counter()\n",
    "    with open(input_file_path) as f:\n",
    "        tmp_raw = f.read(BUF_SIZE)\n",
    "        while tmp_raw:\n",
    "            words = nltk.word_tokenize(tmp_raw)\n",
    "            \n",
    "            all_word_counter.update(words)\n",
    "            file_word_counter.update(words)\n",
    "            \n",
    "            tmp_raw = f.read(BUF_SIZE)\n",
    "    \n",
    "    freq_out_path = os.path.join(output_dir, f'freq_{word_limit}_{input_file_name}')\n",
    "    save_freqs_flat(file_word_counter, freq_out_path)\n",
    "    save_with_freq(file_word_counter, freq_out_path)\n",
    "\n",
    "all_freq_out_path = os.path.join(output_dir, f'freq_{word_limit}_all.txt')\n",
    "save_freqs_flat(all_word_counter, all_freq_out_path)\n",
    "save_with_freq(all_word_counter, all_freq_out_path)"
   ],
   "metadata": {
    "collapsed": false,
    "ExecuteTime": {
     "end_time": "2024-01-06T21:17:05.281023Z",
     "start_time": "2024-01-06T21:16:20.459620Z"
    }
   },
   "id": "8537ef5b5921e5bd"
  }
 ],
 "metadata": {
  "kernelspec": {
   "display_name": "Python 3",
   "language": "python",
   "name": "python3"
  },
  "language_info": {
   "codemirror_mode": {
    "name": "ipython",
    "version": 2
   },
   "file_extension": ".py",
   "mimetype": "text/x-python",
   "name": "python",
   "nbconvert_exporter": "python",
   "pygments_lexer": "ipython2",
   "version": "2.7.6"
  }
 },
 "nbformat": 4,
 "nbformat_minor": 5
}
