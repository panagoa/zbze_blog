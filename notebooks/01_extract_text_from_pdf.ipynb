{
 "cells": [
  {
   "cell_type": "code",
   "execution_count": 1,
   "id": "initial_id",
   "metadata": {
    "collapsed": true,
    "ExecuteTime": {
     "end_time": "2024-03-21T19:22:31.356386Z",
     "start_time": "2024-03-21T19:22:31.326351Z"
    }
   },
   "outputs": [],
   "source": [
    "import os\n",
    "\n",
    "import textract\n",
    "from tqdm import tqdm\n",
    "\n",
    "from src.logic.text_cleaner import clean_text\n",
    "\n",
    "def extract_text_from_pdf_file(pdf_path):\n",
    "    try:\n",
    "        text = textract.process(pdf_path, method='pdfminer')\n",
    "    except Exception:\n",
    "        return ''\n",
    "\n",
    "    text = text.decode('utf-8')\n",
    "    return text"
   ]
  },
  {
   "cell_type": "code",
   "execution_count": 2,
   "outputs": [
    {
     "name": "stderr",
     "output_type": "stream",
     "text": [
      "bijoev_kumikova_timijev_uchebniy_russko_kab_slovar_2013.pdf: 100%|██████████| 1/1 [01:17<00:00, 77.10s/it]\n"
     ]
    }
   ],
   "source": [
    "oshhamaho_external_pdf_dir = '../data/external/pdf'\n",
    "oshhamaho_interim_txt_dir = '../data/interim/pdf'\n",
    "os.makedirs(oshhamaho_interim_txt_dir, exist_ok=True)\n",
    "\n",
    "pdf_files = [f for f in os.listdir(oshhamaho_external_pdf_dir) if f.endswith('.pdf')]\n",
    "\n",
    "pgbar = tqdm(pdf_files)\n",
    "\n",
    "for pdf_file in pgbar:\n",
    "    pgbar.set_description(pdf_file)\n",
    "    pdf_path = os.path.join(oshhamaho_external_pdf_dir, pdf_file)\n",
    "\n",
    "    text_i = extract_text_from_pdf_file(pdf_path)\n",
    "    cleaned_text = clean_text(text_i)\n",
    "\n",
    "    text_file = pdf_file.replace('.pdf', '.txt')\n",
    "    text_path = os.path.join(oshhamaho_interim_txt_dir, text_file)\n",
    "    with open(text_path, 'w') as f:\n",
    "        f.write(cleaned_text)"
   ],
   "metadata": {
    "collapsed": false,
    "ExecuteTime": {
     "end_time": "2024-03-21T19:23:50.211838Z",
     "start_time": "2024-03-21T19:22:33.086088Z"
    }
   },
   "id": "a3de793cafaaf712"
  },
  {
   "cell_type": "code",
   "execution_count": 3,
   "outputs": [
    {
     "name": "stderr",
     "output_type": "stream",
     "text": [
      "11-12-2010.txt: 100%|██████████| 85/85 [00:05<00:00, 14.51it/s]\n"
     ]
    }
   ],
   "source": [
    "txt_files = sorted([f for f in os.listdir(oshhamaho_interim_txt_dir) if f.endswith('.txt')])\n",
    "processed_dir = '../data/processed/'\n",
    "os.makedirs(processed_dir, exist_ok=True)\n",
    "\n",
    "oshhamaho_all_txt_path = os.path.join(processed_dir, 'oshhamaho.txt')\n",
    "\n",
    "pgbar = tqdm(txt_files)\n",
    "text = ''\n",
    "\n",
    "for txt_file in pgbar:\n",
    "    pgbar.set_description(txt_file)\n",
    "    txt_path = os.path.join(oshhamaho_interim_txt_dir, txt_file)\n",
    "\n",
    "    with open(txt_path, 'r') as f:\n",
    "        text_i = f.read()\n",
    "\n",
    "    cleaned_text = clean_text(text_i)\n",
    "    text += cleaned_text + '\\n'\n",
    "\n",
    "with open(oshhamaho_all_txt_path, 'w') as f:\n",
    "    f.write(text)"
   ],
   "metadata": {
    "collapsed": false,
    "ExecuteTime": {
     "end_time": "2023-12-20T23:56:58.015882Z",
     "start_time": "2023-12-20T23:56:51.987462Z"
    }
   },
   "id": "c5c492f3050774a4"
  }
 ],
 "metadata": {
  "kernelspec": {
   "display_name": "Python 3",
   "language": "python",
   "name": "python3"
  },
  "language_info": {
   "codemirror_mode": {
    "name": "ipython",
    "version": 2
   },
   "file_extension": ".py",
   "mimetype": "text/x-python",
   "name": "python",
   "nbconvert_exporter": "python",
   "pygments_lexer": "ipython2",
   "version": "2.7.6"
  }
 },
 "nbformat": 4,
 "nbformat_minor": 5
}
