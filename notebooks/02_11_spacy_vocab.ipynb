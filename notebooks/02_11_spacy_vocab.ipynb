{
 "cells": [
  {
   "cell_type": "code",
   "outputs": [],
   "source": [
    "import pandas as pd\n",
    "\n",
    "df_oshhamaho = pd.read_csv('../data/processed/word_freqs/freq_1000000_oshhamaho.csv')\n",
    "df_elgkbr_ru = pd.read_csv('../data/processed/word_freqs/freq_1000000_elgkbr_ru.csv')\n",
    "df_apkbr_ru = pd.read_csv('../data/processed/word_freqs/freq_1000000_apkbr_ru.csv')"
   ],
   "metadata": {
    "collapsed": false,
    "ExecuteTime": {
     "end_time": "2024-02-22T21:15:23.463328Z",
     "start_time": "2024-02-22T21:15:22.764810Z"
    }
   },
   "id": "d7ff1b7d4a3c5f8b",
   "execution_count": 5
  },
  {
   "cell_type": "code",
   "outputs": [],
   "source": [
    "oshhamaho_words = set(df_oshhamaho['word'].tolist())\n",
    "elgkbr_ru_words = set(df_elgkbr_ru['word'].tolist())\n",
    "apkbr_ru_words = set(df_apkbr_ru['word'].tolist())"
   ],
   "metadata": {
    "collapsed": false,
    "ExecuteTime": {
     "end_time": "2024-02-22T21:15:24.765923Z",
     "start_time": "2024-02-22T21:15:24.762721Z"
    }
   },
   "id": "c756fdffa02f4c0a",
   "execution_count": 6
  },
  {
   "cell_type": "code",
   "outputs": [],
   "source": [
    "from spacy.vocab import Vocab\n",
    "\n",
    "vocab = Vocab(strings=oshhamaho_words.union(elgkbr_ru_words).union(apkbr_ru_words))"
   ],
   "metadata": {
    "collapsed": false,
    "ExecuteTime": {
     "end_time": "2024-02-22T21:15:52.889148Z",
     "start_time": "2024-02-22T21:15:52.884796Z"
    }
   },
   "id": "5f17b0b95d176ab8",
   "execution_count": 7
  },
  {
   "cell_type": "code",
   "outputs": [],
   "source": [
    "vocab.to_disk('../data/processed/spacy/vocab')"
   ],
   "metadata": {
    "collapsed": false,
    "ExecuteTime": {
     "end_time": "2024-02-22T21:19:04.977642Z",
     "start_time": "2024-02-22T21:19:04.014502Z"
    }
   },
   "id": "3d458168c20dbbf2",
   "execution_count": 13
  },
  {
   "cell_type": "code",
   "outputs": [
    {
     "name": "stderr",
     "output_type": "stream",
     "text": [
      "Warning : `load_model` does not return WordVectorModel or SupervisedModel any more, but a `FastText` object which is very similar.\n"
     ]
    }
   ],
   "source": [
    "import fasttext\n",
    "\n",
    "kbd_model = fasttext.load_model('../data/processed/embeddings/fasttext_skipgram_kbd_100.bin')"
   ],
   "metadata": {
    "collapsed": false,
    "ExecuteTime": {
     "end_time": "2024-02-22T21:23:58.779180Z",
     "start_time": "2024-02-22T21:23:55.640498Z"
    }
   },
   "id": "3f24c0876a703da",
   "execution_count": 15
  },
  {
   "cell_type": "code",
   "outputs": [
    {
     "name": "stderr",
     "output_type": "stream",
     "text": [
      "100%|██████████| 784761/784761 [00:08<00:00, 93474.35it/s] \n"
     ]
    }
   ],
   "source": [
    "from tqdm import tqdm\n",
    "\n",
    "for word in tqdm(vocab.strings):\n",
    "    vocab.set_vector(word, kbd_model.get_word_vector(word))"
   ],
   "metadata": {
    "collapsed": false,
    "ExecuteTime": {
     "end_time": "2024-02-22T21:24:28.224454Z",
     "start_time": "2024-02-22T21:24:19.810329Z"
    }
   },
   "id": "7c7a15ac7ff022d6",
   "execution_count": 16
  },
  {
   "cell_type": "code",
   "outputs": [],
   "source": [
    "import gzip\n",
    "\n",
    "with gzip.open('../data/processed/spacy/kbd_with_vectors.bin.gz', 'wb') as f:\n",
    "    f.write(vocab.to_bytes())"
   ],
   "metadata": {
    "collapsed": false,
    "ExecuteTime": {
     "end_time": "2024-02-22T21:38:01.343091Z",
     "start_time": "2024-02-22T21:37:33.887473Z"
    }
   },
   "id": "6f66767c93bd6851",
   "execution_count": 21
  },
  {
   "cell_type": "code",
   "outputs": [],
   "source": [],
   "metadata": {
    "collapsed": false
   },
   "id": "8c985d7dea4de8b8"
  }
 ],
 "metadata": {
  "kernelspec": {
   "display_name": "Python 3",
   "language": "python",
   "name": "python3"
  },
  "language_info": {
   "codemirror_mode": {
    "name": "ipython",
    "version": 2
   },
   "file_extension": ".py",
   "mimetype": "text/x-python",
   "name": "python",
   "nbconvert_exporter": "python",
   "pygments_lexer": "ipython2",
   "version": "2.7.6"
  }
 },
 "nbformat": 4,
 "nbformat_minor": 5
}
