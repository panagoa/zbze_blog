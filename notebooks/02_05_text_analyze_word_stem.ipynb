{
 "cells": [
  {
   "cell_type": "markdown",
   "source": [
    "В этом ноутбуке мы будем анализировать распределение токенов и их комбинаций в словах.\n",
    "\n",
    "Используя токенизатор и N-граммный анализ, мы исследуем повторяющиеся паттерны, что поможет в задачах стемминга и лемматизации."
   ],
   "metadata": {
    "collapsed": false
   }
  },
  {
   "cell_type": "code",
   "execution_count": 23,
   "outputs": [],
   "source": [
    "import os\n",
    "\n",
    "from tokenizers import Tokenizer\n",
    "\n",
    "tokenizer_uni = Tokenizer.from_file('../data/processed/tokenizer/words_unigram_5000.tokenizer.json')"
   ],
   "metadata": {
    "collapsed": false,
    "ExecuteTime": {
     "end_time": "2024-03-19T00:06:15.441949Z",
     "start_time": "2024-03-19T00:06:15.436955Z"
    }
   }
  },
  {
   "cell_type": "code",
   "execution_count": 24,
   "outputs": [],
   "source": [
    "with open('../data/processed/word_freqs/freq_1000000_oshhamaho.txt') as f:\n",
    "    words = f.read().split('\\n')"
   ],
   "metadata": {
    "collapsed": false,
    "ExecuteTime": {
     "end_time": "2024-03-19T00:06:18.099427Z",
     "start_time": "2024-03-19T00:06:17.669382Z"
    }
   }
  },
  {
   "cell_type": "code",
   "execution_count": 25,
   "outputs": [],
   "source": [
    "token_dist_dir = '../data/processed/token_distribution'\n",
    "os.makedirs(token_dist_dir, exist_ok=True)"
   ],
   "metadata": {
    "collapsed": false,
    "ExecuteTime": {
     "end_time": "2024-03-19T00:06:18.161123Z",
     "start_time": "2024-03-19T00:06:17.959912Z"
    }
   }
  },
  {
   "cell_type": "code",
   "execution_count": 26,
   "outputs": [],
   "source": [
    "from collections import defaultdict\n",
    "import nltk\n",
    "from tqdm import tqdm\n",
    "\n",
    "\n",
    "def create_token_ng_distribution(words, n=5):\n",
    "    token_ngrams_freq_dist = nltk.FreqDist()\n",
    "    ngrams_tokens = defaultdict(list)\n",
    "\n",
    "    pgbar = tqdm(sorted(words), desc=f'create {n}-gram distribution')\n",
    "    for word in pgbar:\n",
    "        tokens = tokenizer_uni.encode(word).tokens\n",
    "        token_ids = [tokenizer_uni.token_to_id(token) for token in tokens]\n",
    "\n",
    "        ngrams = tuple(nltk.ngrams(tokens, n=n))\n",
    "        token_ngrams_freq_dist.update(ngrams)\n",
    "        for ng in ngrams:\n",
    "            ngrams_tokens[ng].append((tokens, token_ids))\n",
    "\n",
    "    return token_ngrams_freq_dist, ngrams_tokens"
   ],
   "metadata": {
    "collapsed": false,
    "ExecuteTime": {
     "end_time": "2024-03-19T00:06:18.161781Z",
     "start_time": "2024-03-19T00:06:17.988873Z"
    }
   }
  },
  {
   "cell_type": "code",
   "execution_count": 27,
   "outputs": [],
   "source": [
    "import csv\n",
    "import pandas as pd\n",
    "\n",
    "\n",
    "def is_valid_stem(stem, freq, min_freq=10, max_freq=400, min_len=4):\n",
    "    # малая частота стема говорит о том что она возможно слишком специфичная и длинная\n",
    "    if freq < min_freq:\n",
    "        return False\n",
    "\n",
    "    # большая частота говорит о том что она возможно слишком общая и короткая\n",
    "    if freq > max_freq:\n",
    "        return False\n",
    "\n",
    "    # если длина стема слишком мала, кандидат тоже не подходит\n",
    "    if len(stem) < min_len:\n",
    "        return False\n",
    "\n",
    "    # todo можно проверить на вхождение в список префиксов и суффиксов, так точность должна увеличиться\n",
    "    return True\n",
    "\n",
    "\n",
    "def save_by_stem(df_data, n, ng_name, freq):\n",
    "    df = pd.DataFrame(df_data)\n",
    "    # сортируя по количеству токенов в слове, наверху будут слова слова близкие к корню, а внизу сложносоставные слова\n",
    "    df = df.sort_values('word_ng_len', ascending=True)\n",
    "\n",
    "    f_name = f'({freq}){ng_name}'\n",
    "    f_path = f'{token_dist_dir}/{n}/{f_name}.csv'\n",
    "    df.to_csv(f_path, index=False, sep=',', quoting=csv.QUOTE_MINIMAL, header=True)\n",
    "\n",
    "\n",
    "def choose_stem(token_ngrams_freq_dist, ngrams_tokens, n=5, is_save_by_stem=False):\n",
    "    if is_save_by_stem:\n",
    "        os.makedirs(f'{token_dist_dir}/{n}', exist_ok=True)\n",
    "\n",
    "    data = []\n",
    "    freq_dist_sorted = sorted(token_ngrams_freq_dist.items(), key=lambda x: x[1], reverse=True)\n",
    "    pgbar = tqdm(freq_dist_sorted, desc=f'choose {n}-gram stem')\n",
    "    for ng, freq in pgbar:\n",
    "        # фильтруя n-граммы по частоте, получим часть слова которая встречается в составе других слов\n",
    "        # то есть часть слова которую можно использовать для поиска похожих слов (стемминг)\n",
    "\n",
    "        stem = ''.join(ng)\n",
    "        if not is_valid_stem(stem, freq):\n",
    "            continue\n",
    "\n",
    "        df_data = []\n",
    "        for _tokens, _token_ids in ngrams_tokens[ng]:\n",
    "            word = ''.join(_tokens)\n",
    "            df_data.append({\n",
    "                'stem_ng_len': n,\n",
    "                'stem': stem,\n",
    "                'word_ng_len': len(_tokens),\n",
    "                'word': word,\n",
    "                'template': word.replace(stem, '?' * len(stem)),\n",
    "                'tokens': '|'.join(_tokens),\n",
    "            })\n",
    "\n",
    "        if is_save_by_stem:\n",
    "            ng_name = '_'.join(ng)\n",
    "            save_by_stem(df_data, n, ng_name, freq)\n",
    "\n",
    "        data.extend(df_data)\n",
    "\n",
    "    return data"
   ],
   "metadata": {
    "collapsed": false,
    "ExecuteTime": {
     "end_time": "2024-03-19T00:06:18.225058Z",
     "start_time": "2024-03-19T00:06:18.180002Z"
    }
   }
  },
  {
   "cell_type": "code",
   "execution_count": 28,
   "outputs": [
    {
     "name": "stderr",
     "output_type": "stream",
     "text": [
      "create 1-gram distribution: 100%|██████████| 483338/483338 [00:38<00:00, 12546.62it/s]\n",
      "choose 1-gram stem: 100%|██████████| 2695/2695 [00:00<00:00, 7167.21it/s]\n",
      "create 2-gram distribution: 100%|██████████| 483338/483338 [00:16<00:00, 29352.18it/s]\n",
      "choose 2-gram stem: 100%|██████████| 152176/152176 [00:00<00:00, 183095.51it/s]\n",
      "create 3-gram distribution: 100%|██████████| 483338/483338 [00:08<00:00, 53916.35it/s]\n",
      "choose 3-gram stem: 100%|██████████| 364413/364413 [00:00<00:00, 422828.10it/s]\n",
      "create 4-gram distribution: 100%|██████████| 483338/483338 [00:14<00:00, 33928.61it/s]\n",
      "choose 4-gram stem: 100%|██████████| 389478/389478 [00:00<00:00, 868491.99it/s]\n",
      "create 5-gram distribution: 100%|██████████| 483338/483338 [00:07<00:00, 61013.68it/s]\n",
      "choose 5-gram stem: 100%|██████████| 308352/308352 [00:00<00:00, 1446711.01it/s]\n",
      "create 6-gram distribution: 100%|██████████| 483338/483338 [00:06<00:00, 70504.68it/s]\n",
      "choose 6-gram stem: 100%|██████████| 191758/191758 [00:00<00:00, 1951756.06it/s]\n"
     ]
    }
   ],
   "source": [
    "data = []\n",
    "for n in range(1, 7):\n",
    "    token_fd, ngrams_tokens = create_token_ng_distribution(words, n=n)\n",
    "    data_i = choose_stem(token_fd, ngrams_tokens, n=n, is_save_by_stem=False)\n",
    "    data.extend(data_i)"
   ],
   "metadata": {
    "collapsed": false,
    "ExecuteTime": {
     "end_time": "2024-03-19T00:08:02.263686Z",
     "start_time": "2024-03-19T00:06:22.564475Z"
    }
   }
  },
  {
   "cell_type": "code",
   "execution_count": 29,
   "outputs": [],
   "source": [
    "stem_df = pd.DataFrame(data)\n",
    "# Если стема полностью повторяет слово, она выбрана вполне удачно.\n",
    "# В некоторых случаях возможно что это даже лемма, ну или поиск леммы сильно упрощается\n",
    "\n",
    "# здесь не обязательно сравнивать строки полностью, достаточно количество токенов\n",
    "stem_df['stem_is_full_word'] = stem_df['stem_ng_len'] == stem_df['word_ng_len']"
   ],
   "metadata": {
    "collapsed": false,
    "ExecuteTime": {
     "end_time": "2024-03-19T00:08:04.906521Z",
     "start_time": "2024-03-19T00:08:02.310184Z"
    }
   }
  },
  {
   "cell_type": "code",
   "outputs": [],
   "source": [
    "sort_values = ['stem_ng_len', 'stem', 'word_ng_len', 'word']\n",
    "stem_df = stem_df.sort_values(sort_values, ascending=True)\n",
    "stem_df.to_csv(f'{token_dist_dir}/stem_candidates.csv.gz', index=False, sep=',', quoting=csv.QUOTE_MINIMAL, header=True,\n",
    "               compression='gzip')"
   ],
   "metadata": {
    "collapsed": false,
    "ExecuteTime": {
     "end_time": "2024-03-18T23:50:58.282017Z",
     "start_time": "2024-03-18T23:50:28.241318Z"
    }
   },
   "execution_count": 21
  },
  {
   "cell_type": "code",
   "outputs": [
    {
     "data": {
      "text/plain": "                stem_ng_len        stem  word_ng_len                   word  \\\ntemplate_short                                                                \nДы*кIуэнури               1      зэрыте            5       ДызэрытекIуэнури   \nДы*хьэжа                  1      зэрыте            4          Дызэрытехьэжа   \nКъа*жам                   1      зэрыте            3           Къазэрытежам   \nКъа*кIуэIам               1      зэрыте            5       КъазэрытекIуэIам   \nСы*лъэу                   1      зэрыте            5           Сызэрытелъэу   \n...                     ...         ...          ...                    ...   \n*гъуэнщи                  6  яфIэгъэщIэ            8      яфIэгъэщIэгъуэнщи   \n*гъуэныжкъым              6  яфIэгъэщIэ           10  яфIэгъэщIэгъуэныжкъым   \n*гъуэнын                  6  яфIэгъэщIэ            8      яфIэгъэщIэгъуэнын   \n*гъуэныну                 6  яфIэгъэщIэ            8     яфIэгъэщIэгъуэныну   \n*гъуэнынущ                6  яфIэгъэщIэ            8    яфIэгъэщIэгъуэнынущ   \n\n                             template                          tokens  \\\ntemplate_short                                                          \nДы*кIуэнури          Ды??????кIуэнури            Ды|зэрыте|кIу|эну|ри   \nДы*хьэжа                Ды??????хьэжа                Ды|зэрыте|хь|эжа   \nКъа*жам                  Къа??????жам                  Къа|зэрыте|жам   \nКъа*кIуэIам          Къа??????кIуэIам            Къа|зэрыте|кIу|э|Iам   \nСы*лъэу                  Сы??????лъэу                Сы|зэрыте|лъ|э|у   \n...                               ...                             ...   \n*гъуэнщи            ??????????гъуэнщи        я|фI|э|гъэ|щI|э|гъуэ|нщи   \n*гъуэныжкъым    ??????????гъуэныжкъым  я|фI|э|гъэ|щI|э|гъуэн|ыж|къ|ым   \n*гъуэнын            ??????????гъуэнын        я|фI|э|гъэ|щI|э|гъуэн|ын   \n*гъуэныну          ??????????гъуэныну       я|фI|э|гъэ|щI|э|гъуэн|ыну   \n*гъуэнынущ        ??????????гъуэнынущ      я|фI|э|гъэ|щI|э|гъуэн|ынущ   \n\n                stem_is_full_word  \ntemplate_short                     \nДы*кIуэнури                 False  \nДы*хьэжа                    False  \nКъа*жам                     False  \nКъа*кIуэIам                 False  \nСы*лъэу                     False  \n...                           ...  \n*гъуэнщи                    False  \n*гъуэныжкъым                False  \n*гъуэнын                    False  \n*гъуэныну                   False  \n*гъуэнынущ                  False  \n\n[1615308 rows x 7 columns]",
      "text/html": "<div>\n<style scoped>\n    .dataframe tbody tr th:only-of-type {\n        vertical-align: middle;\n    }\n\n    .dataframe tbody tr th {\n        vertical-align: top;\n    }\n\n    .dataframe thead th {\n        text-align: right;\n    }\n</style>\n<table border=\"1\" class=\"dataframe\">\n  <thead>\n    <tr style=\"text-align: right;\">\n      <th></th>\n      <th>stem_ng_len</th>\n      <th>stem</th>\n      <th>word_ng_len</th>\n      <th>word</th>\n      <th>template</th>\n      <th>tokens</th>\n      <th>stem_is_full_word</th>\n    </tr>\n    <tr>\n      <th>template_short</th>\n      <th></th>\n      <th></th>\n      <th></th>\n      <th></th>\n      <th></th>\n      <th></th>\n      <th></th>\n    </tr>\n  </thead>\n  <tbody>\n    <tr>\n      <th>Ды*кIуэнури</th>\n      <td>1</td>\n      <td>зэрыте</td>\n      <td>5</td>\n      <td>ДызэрытекIуэнури</td>\n      <td>Ды??????кIуэнури</td>\n      <td>Ды|зэрыте|кIу|эну|ри</td>\n      <td>False</td>\n    </tr>\n    <tr>\n      <th>Ды*хьэжа</th>\n      <td>1</td>\n      <td>зэрыте</td>\n      <td>4</td>\n      <td>Дызэрытехьэжа</td>\n      <td>Ды??????хьэжа</td>\n      <td>Ды|зэрыте|хь|эжа</td>\n      <td>False</td>\n    </tr>\n    <tr>\n      <th>Къа*жам</th>\n      <td>1</td>\n      <td>зэрыте</td>\n      <td>3</td>\n      <td>Къазэрытежам</td>\n      <td>Къа??????жам</td>\n      <td>Къа|зэрыте|жам</td>\n      <td>False</td>\n    </tr>\n    <tr>\n      <th>Къа*кIуэIам</th>\n      <td>1</td>\n      <td>зэрыте</td>\n      <td>5</td>\n      <td>КъазэрытекIуэIам</td>\n      <td>Къа??????кIуэIам</td>\n      <td>Къа|зэрыте|кIу|э|Iам</td>\n      <td>False</td>\n    </tr>\n    <tr>\n      <th>Сы*лъэу</th>\n      <td>1</td>\n      <td>зэрыте</td>\n      <td>5</td>\n      <td>Сызэрытелъэу</td>\n      <td>Сы??????лъэу</td>\n      <td>Сы|зэрыте|лъ|э|у</td>\n      <td>False</td>\n    </tr>\n    <tr>\n      <th>...</th>\n      <td>...</td>\n      <td>...</td>\n      <td>...</td>\n      <td>...</td>\n      <td>...</td>\n      <td>...</td>\n      <td>...</td>\n    </tr>\n    <tr>\n      <th>*гъуэнщи</th>\n      <td>6</td>\n      <td>яфIэгъэщIэ</td>\n      <td>8</td>\n      <td>яфIэгъэщIэгъуэнщи</td>\n      <td>??????????гъуэнщи</td>\n      <td>я|фI|э|гъэ|щI|э|гъуэ|нщи</td>\n      <td>False</td>\n    </tr>\n    <tr>\n      <th>*гъуэныжкъым</th>\n      <td>6</td>\n      <td>яфIэгъэщIэ</td>\n      <td>10</td>\n      <td>яфIэгъэщIэгъуэныжкъым</td>\n      <td>??????????гъуэныжкъым</td>\n      <td>я|фI|э|гъэ|щI|э|гъуэн|ыж|къ|ым</td>\n      <td>False</td>\n    </tr>\n    <tr>\n      <th>*гъуэнын</th>\n      <td>6</td>\n      <td>яфIэгъэщIэ</td>\n      <td>8</td>\n      <td>яфIэгъэщIэгъуэнын</td>\n      <td>??????????гъуэнын</td>\n      <td>я|фI|э|гъэ|щI|э|гъуэн|ын</td>\n      <td>False</td>\n    </tr>\n    <tr>\n      <th>*гъуэныну</th>\n      <td>6</td>\n      <td>яфIэгъэщIэ</td>\n      <td>8</td>\n      <td>яфIэгъэщIэгъуэныну</td>\n      <td>??????????гъуэныну</td>\n      <td>я|фI|э|гъэ|щI|э|гъуэн|ыну</td>\n      <td>False</td>\n    </tr>\n    <tr>\n      <th>*гъуэнынущ</th>\n      <td>6</td>\n      <td>яфIэгъэщIэ</td>\n      <td>8</td>\n      <td>яфIэгъэщIэгъуэнынущ</td>\n      <td>??????????гъуэнынущ</td>\n      <td>я|фI|э|гъэ|щI|э|гъуэн|ынущ</td>\n      <td>False</td>\n    </tr>\n  </tbody>\n</table>\n<p>1615308 rows × 7 columns</p>\n</div>"
     },
     "execution_count": 31,
     "metadata": {},
     "output_type": "execute_result"
    }
   ],
   "source": [
    "import re\n",
    "# stem_df set index to template\n",
    "\n",
    "replace_many_q = lambda x: re.sub(r'\\?{1,}', '*', x)\n",
    "\n",
    "stem_df['template_short'] = stem_df['template'].apply(replace_many_q)\n",
    "stem_df.set_index('template_short', inplace=True)\n",
    "stem_df"
   ],
   "metadata": {
    "collapsed": false,
    "ExecuteTime": {
     "end_time": "2024-03-19T00:08:50.523917Z",
     "start_time": "2024-03-19T00:08:48.730768Z"
    }
   },
   "execution_count": 31
  },
  {
   "cell_type": "code",
   "outputs": [
    {
     "data": {
      "text/plain": "                   0  stem_ng_len        stem  word_ng_len           word  \\\ntemplate_short                                                              \n*ри             4045            1        дэкI            2         дэкIри   \n*ри             4045            1        тэдж            2         тэджри   \n*ри             4045            1       гугъэ            2        гугъэри   \n*ри             4045            1        шхын            2         шхынри   \n*ри             4045            1        жиIэ            2         жиIэри   \n...              ...          ...         ...          ...            ...   \nе*ым              51            4     лъытакъ            6     елъытакъым   \nе*ым              51            5     упщIакъ            7     еупщIакъым   \nе*ым              51            5    хьэлIакъ            7    ехьэлIакъым   \nе*ым              51            5  кIуалIэркъ            7  екIуалIэркъым   \nе*ым              51            5    жьэртэкъ            7    ежьэртэкъым   \n\n                     template               tokens  stem_is_full_word  \ntemplate_short                                                         \n*ри                    ????ри              дэкI|ри              False  \n*ри                    ????ри              тэдж|ри              False  \n*ри                   ?????ри             гугъэ|ри              False  \n*ри                    ????ри              шхын|ри              False  \n*ри                    ????ри              жиIэ|ри              False  \n...                       ...                  ...                ...  \nе*ым               е???????ым      е|лъ|ыт|а|къ|ым              False  \nе*ым               е???????ым     е|у|п|щI|а|къ|ым              False  \nе*ым              е????????ым    е|хь|э|лI|а|къ|ым              False  \nе*ым            е??????????ым  е|кIу|а|лI|эр|къ|ым              False  \nе*ым              е????????ым    е|жь|э|рт|э|къ|ым              False  \n\n[393842 rows x 8 columns]",
      "text/html": "<div>\n<style scoped>\n    .dataframe tbody tr th:only-of-type {\n        vertical-align: middle;\n    }\n\n    .dataframe tbody tr th {\n        vertical-align: top;\n    }\n\n    .dataframe thead th {\n        text-align: right;\n    }\n</style>\n<table border=\"1\" class=\"dataframe\">\n  <thead>\n    <tr style=\"text-align: right;\">\n      <th></th>\n      <th>0</th>\n      <th>stem_ng_len</th>\n      <th>stem</th>\n      <th>word_ng_len</th>\n      <th>word</th>\n      <th>template</th>\n      <th>tokens</th>\n      <th>stem_is_full_word</th>\n    </tr>\n    <tr>\n      <th>template_short</th>\n      <th></th>\n      <th></th>\n      <th></th>\n      <th></th>\n      <th></th>\n      <th></th>\n      <th></th>\n      <th></th>\n    </tr>\n  </thead>\n  <tbody>\n    <tr>\n      <th>*ри</th>\n      <td>4045</td>\n      <td>1</td>\n      <td>дэкI</td>\n      <td>2</td>\n      <td>дэкIри</td>\n      <td>????ри</td>\n      <td>дэкI|ри</td>\n      <td>False</td>\n    </tr>\n    <tr>\n      <th>*ри</th>\n      <td>4045</td>\n      <td>1</td>\n      <td>тэдж</td>\n      <td>2</td>\n      <td>тэджри</td>\n      <td>????ри</td>\n      <td>тэдж|ри</td>\n      <td>False</td>\n    </tr>\n    <tr>\n      <th>*ри</th>\n      <td>4045</td>\n      <td>1</td>\n      <td>гугъэ</td>\n      <td>2</td>\n      <td>гугъэри</td>\n      <td>?????ри</td>\n      <td>гугъэ|ри</td>\n      <td>False</td>\n    </tr>\n    <tr>\n      <th>*ри</th>\n      <td>4045</td>\n      <td>1</td>\n      <td>шхын</td>\n      <td>2</td>\n      <td>шхынри</td>\n      <td>????ри</td>\n      <td>шхын|ри</td>\n      <td>False</td>\n    </tr>\n    <tr>\n      <th>*ри</th>\n      <td>4045</td>\n      <td>1</td>\n      <td>жиIэ</td>\n      <td>2</td>\n      <td>жиIэри</td>\n      <td>????ри</td>\n      <td>жиIэ|ри</td>\n      <td>False</td>\n    </tr>\n    <tr>\n      <th>...</th>\n      <td>...</td>\n      <td>...</td>\n      <td>...</td>\n      <td>...</td>\n      <td>...</td>\n      <td>...</td>\n      <td>...</td>\n      <td>...</td>\n    </tr>\n    <tr>\n      <th>е*ым</th>\n      <td>51</td>\n      <td>4</td>\n      <td>лъытакъ</td>\n      <td>6</td>\n      <td>елъытакъым</td>\n      <td>е???????ым</td>\n      <td>е|лъ|ыт|а|къ|ым</td>\n      <td>False</td>\n    </tr>\n    <tr>\n      <th>е*ым</th>\n      <td>51</td>\n      <td>5</td>\n      <td>упщIакъ</td>\n      <td>7</td>\n      <td>еупщIакъым</td>\n      <td>е???????ым</td>\n      <td>е|у|п|щI|а|къ|ым</td>\n      <td>False</td>\n    </tr>\n    <tr>\n      <th>е*ым</th>\n      <td>51</td>\n      <td>5</td>\n      <td>хьэлIакъ</td>\n      <td>7</td>\n      <td>ехьэлIакъым</td>\n      <td>е????????ым</td>\n      <td>е|хь|э|лI|а|къ|ым</td>\n      <td>False</td>\n    </tr>\n    <tr>\n      <th>е*ым</th>\n      <td>51</td>\n      <td>5</td>\n      <td>кIуалIэркъ</td>\n      <td>7</td>\n      <td>екIуалIэркъым</td>\n      <td>е??????????ым</td>\n      <td>е|кIу|а|лI|эр|къ|ым</td>\n      <td>False</td>\n    </tr>\n    <tr>\n      <th>е*ым</th>\n      <td>51</td>\n      <td>5</td>\n      <td>жьэртэкъ</td>\n      <td>7</td>\n      <td>ежьэртэкъым</td>\n      <td>е????????ым</td>\n      <td>е|жь|э|рт|э|къ|ым</td>\n      <td>False</td>\n    </tr>\n  </tbody>\n</table>\n<p>393842 rows × 8 columns</p>\n</div>"
     },
     "execution_count": 60,
     "metadata": {},
     "output_type": "execute_result"
    }
   ],
   "source": [
    "template_short_counts = pd.DataFrame(stem_df.value_counts('template_short'))\n",
    "\n",
    "stem_df_with_counts = pd.merge(template_short_counts, stem_df, on='template_short')\n",
    "stem_df_with_counts = stem_df_with_counts[(stem_df_with_counts[0] > 50) & (stem_df_with_counts[0] < 5000)]\n",
    "stem_df_with_counts"
   ],
   "metadata": {
    "collapsed": false,
    "ExecuteTime": {
     "end_time": "2024-03-19T00:33:40.828590Z",
     "start_time": "2024-03-19T00:33:37.319261Z"
    }
   },
   "execution_count": 60
  },
  {
   "cell_type": "code",
   "outputs": [
    {
     "data": {
      "text/plain": "         0  stem_ng_len          stem  word_ng_len           word  \\\n0      532            2        кхъухь            3        кхъухь-   \n1      532            2          Исмэ            3          Исмэ-   \n2      532            3  жэуаплыныгъэ            4  жэуаплыныгъэ-   \n3      532            4       къытхуи            5       къытхуи-   \n4      532            2       дызэпсэ            3       дызэпсэ-   \n...    ...          ...           ...          ...            ...   \n23535  173            3         элъти            5       ящIэлъти   \n23536  173            3       ыхункIэ            5     ящIыхункIэ   \n23537  173            1        ыфынут            3      ящIыфынут   \n23538  173            3         ыркъэ            5       ящIыркъэ   \n23539  173            3         элъыр            5       ящIэлъыр   \n\n            template            tokens  stem_is_full_word template_short  \n0            ??????-         кхъу|хь|-              False             *-  \n1              ????-           Ис|мэ|-              False             *-  \n2      ????????????-  жэуап|л|ыныгъэ|-              False             *-  \n3           ???????-      къ|ыт|ху|и|-              False             *-  \n4           ???????-        дызэ|псэ|-              False             *-  \n...              ...               ...                ...            ...  \n23535       ящI?????      я|щI|э|лъ|ти              False           ящI*  \n23536     ящI???????    я|щI|ы|ху|нкIэ              False           ящI*  \n23537      ящI??????       я|щI|ыфынут              False           ящI*  \n23538       ящI?????      я|щI|ыр|къ|э              False           ящI*  \n23539       ящI?????      я|щI|э|лъ|ыр              False           ящI*  \n\n[23540 rows x 9 columns]",
      "text/html": "<div>\n<style scoped>\n    .dataframe tbody tr th:only-of-type {\n        vertical-align: middle;\n    }\n\n    .dataframe tbody tr th {\n        vertical-align: top;\n    }\n\n    .dataframe thead th {\n        text-align: right;\n    }\n</style>\n<table border=\"1\" class=\"dataframe\">\n  <thead>\n    <tr style=\"text-align: right;\">\n      <th></th>\n      <th>0</th>\n      <th>stem_ng_len</th>\n      <th>stem</th>\n      <th>word_ng_len</th>\n      <th>word</th>\n      <th>template</th>\n      <th>tokens</th>\n      <th>stem_is_full_word</th>\n      <th>template_short</th>\n    </tr>\n  </thead>\n  <tbody>\n    <tr>\n      <th>0</th>\n      <td>532</td>\n      <td>2</td>\n      <td>кхъухь</td>\n      <td>3</td>\n      <td>кхъухь-</td>\n      <td>??????-</td>\n      <td>кхъу|хь|-</td>\n      <td>False</td>\n      <td>*-</td>\n    </tr>\n    <tr>\n      <th>1</th>\n      <td>532</td>\n      <td>2</td>\n      <td>Исмэ</td>\n      <td>3</td>\n      <td>Исмэ-</td>\n      <td>????-</td>\n      <td>Ис|мэ|-</td>\n      <td>False</td>\n      <td>*-</td>\n    </tr>\n    <tr>\n      <th>2</th>\n      <td>532</td>\n      <td>3</td>\n      <td>жэуаплыныгъэ</td>\n      <td>4</td>\n      <td>жэуаплыныгъэ-</td>\n      <td>????????????-</td>\n      <td>жэуап|л|ыныгъэ|-</td>\n      <td>False</td>\n      <td>*-</td>\n    </tr>\n    <tr>\n      <th>3</th>\n      <td>532</td>\n      <td>4</td>\n      <td>къытхуи</td>\n      <td>5</td>\n      <td>къытхуи-</td>\n      <td>???????-</td>\n      <td>къ|ыт|ху|и|-</td>\n      <td>False</td>\n      <td>*-</td>\n    </tr>\n    <tr>\n      <th>4</th>\n      <td>532</td>\n      <td>2</td>\n      <td>дызэпсэ</td>\n      <td>3</td>\n      <td>дызэпсэ-</td>\n      <td>???????-</td>\n      <td>дызэ|псэ|-</td>\n      <td>False</td>\n      <td>*-</td>\n    </tr>\n    <tr>\n      <th>...</th>\n      <td>...</td>\n      <td>...</td>\n      <td>...</td>\n      <td>...</td>\n      <td>...</td>\n      <td>...</td>\n      <td>...</td>\n      <td>...</td>\n      <td>...</td>\n    </tr>\n    <tr>\n      <th>23535</th>\n      <td>173</td>\n      <td>3</td>\n      <td>элъти</td>\n      <td>5</td>\n      <td>ящIэлъти</td>\n      <td>ящI?????</td>\n      <td>я|щI|э|лъ|ти</td>\n      <td>False</td>\n      <td>ящI*</td>\n    </tr>\n    <tr>\n      <th>23536</th>\n      <td>173</td>\n      <td>3</td>\n      <td>ыхункIэ</td>\n      <td>5</td>\n      <td>ящIыхункIэ</td>\n      <td>ящI???????</td>\n      <td>я|щI|ы|ху|нкIэ</td>\n      <td>False</td>\n      <td>ящI*</td>\n    </tr>\n    <tr>\n      <th>23537</th>\n      <td>173</td>\n      <td>1</td>\n      <td>ыфынут</td>\n      <td>3</td>\n      <td>ящIыфынут</td>\n      <td>ящI??????</td>\n      <td>я|щI|ыфынут</td>\n      <td>False</td>\n      <td>ящI*</td>\n    </tr>\n    <tr>\n      <th>23538</th>\n      <td>173</td>\n      <td>3</td>\n      <td>ыркъэ</td>\n      <td>5</td>\n      <td>ящIыркъэ</td>\n      <td>ящI?????</td>\n      <td>я|щI|ыр|къ|э</td>\n      <td>False</td>\n      <td>ящI*</td>\n    </tr>\n    <tr>\n      <th>23539</th>\n      <td>173</td>\n      <td>3</td>\n      <td>элъыр</td>\n      <td>5</td>\n      <td>ящIэлъыр</td>\n      <td>ящI?????</td>\n      <td>я|щI|э|лъ|ыр</td>\n      <td>False</td>\n      <td>ящI*</td>\n    </tr>\n  </tbody>\n</table>\n<p>23540 rows × 9 columns</p>\n</div>"
     },
     "execution_count": 62,
     "metadata": {},
     "output_type": "execute_result"
    }
   ],
   "source": [
    "template_short_example_df = pd.DataFrame(\n",
    "    stem_df_with_counts.groupby('template_short').apply(lambda x: x.sample(n=min(len(x), 10), random_state=1)).reset_index(drop=True)\n",
    ")\n",
    "template_short_example_df['template_short'] = template_short_example_df['template'].apply(replace_many_q)\n",
    "template_short_example_df.to_csv(f'{token_dist_dir}/stem_template_examples.csv', index=False, sep=',', quoting=csv.QUOTE_MINIMAL,\n",
    "                    header=True)\n",
    "template_short_example_df"
   ],
   "metadata": {
    "collapsed": false,
    "ExecuteTime": {
     "end_time": "2024-03-19T00:37:42.142111Z",
     "start_time": "2024-03-19T00:37:39.835069Z"
    }
   },
   "execution_count": 62
  },
  {
   "cell_type": "code",
   "outputs": [
    {
     "data": {
      "text/plain": "        stem_ng_len    stem  word_ng_len          word      template  \\\n668461            2  джэгун            2        джэгун        ??????   \n668460            2  джэгун            3      Сыджэгун      Сы??????   \n668462            2  джэгун            3      джэгунми      ??????ми   \n668463            2  джэгун            3      джэгунри      ??????ри   \n668464            2  джэгун            3      джэгунрэ      ??????рэ   \n668466            2  джэгун            3      дыджэгун      ды??????   \n668467            2  джэгун            3    зэрыджэгун    зэры??????   \n668471            2  джэгун            3       уджэгун       у??????   \n668474            2  джэгун            3  фызэрыджэгун  фызэры??????   \n668465            2  джэгун            4     джэгунрэт     ??????рэт   \n668468            2  джэгун            4     ириджэгун     ири??????   \n668469            2  джэгун            4     къиджэгун     къи??????   \n668472            2  джэгун            4     уджэгунри     у??????ри   \n668470            2  джэгун            5    къэбджэгун    къэб??????   \n668473            2  джэгун            5   уриджэгунри   ури??????ри   \n\n                 tokens  stem_is_full_word  \n668461          джэгу|н               True  \n668460       Сы|джэгу|н              False  \n668462       джэгу|н|ми              False  \n668463       джэгу|н|ри              False  \n668464       джэгу|н|рэ              False  \n668466       ды|джэгу|н              False  \n668467     зэры|джэгу|н              False  \n668471        у|джэгу|н              False  \n668474   фызэры|джэгу|н              False  \n668465     джэгу|н|рэ|т              False  \n668468     и|ри|джэгу|н              False  \n668469     къ|и|джэгу|н              False  \n668472     у|джэгу|н|ри              False  \n668470   къ|э|б|джэгу|н              False  \n668473  у|ри|джэгу|н|ри              False  ",
      "text/html": "<div>\n<style scoped>\n    .dataframe tbody tr th:only-of-type {\n        vertical-align: middle;\n    }\n\n    .dataframe tbody tr th {\n        vertical-align: top;\n    }\n\n    .dataframe thead th {\n        text-align: right;\n    }\n</style>\n<table border=\"1\" class=\"dataframe\">\n  <thead>\n    <tr style=\"text-align: right;\">\n      <th></th>\n      <th>stem_ng_len</th>\n      <th>stem</th>\n      <th>word_ng_len</th>\n      <th>word</th>\n      <th>template</th>\n      <th>tokens</th>\n      <th>stem_is_full_word</th>\n    </tr>\n  </thead>\n  <tbody>\n    <tr>\n      <th>668461</th>\n      <td>2</td>\n      <td>джэгун</td>\n      <td>2</td>\n      <td>джэгун</td>\n      <td>??????</td>\n      <td>джэгу|н</td>\n      <td>True</td>\n    </tr>\n    <tr>\n      <th>668460</th>\n      <td>2</td>\n      <td>джэгун</td>\n      <td>3</td>\n      <td>Сыджэгун</td>\n      <td>Сы??????</td>\n      <td>Сы|джэгу|н</td>\n      <td>False</td>\n    </tr>\n    <tr>\n      <th>668462</th>\n      <td>2</td>\n      <td>джэгун</td>\n      <td>3</td>\n      <td>джэгунми</td>\n      <td>??????ми</td>\n      <td>джэгу|н|ми</td>\n      <td>False</td>\n    </tr>\n    <tr>\n      <th>668463</th>\n      <td>2</td>\n      <td>джэгун</td>\n      <td>3</td>\n      <td>джэгунри</td>\n      <td>??????ри</td>\n      <td>джэгу|н|ри</td>\n      <td>False</td>\n    </tr>\n    <tr>\n      <th>668464</th>\n      <td>2</td>\n      <td>джэгун</td>\n      <td>3</td>\n      <td>джэгунрэ</td>\n      <td>??????рэ</td>\n      <td>джэгу|н|рэ</td>\n      <td>False</td>\n    </tr>\n    <tr>\n      <th>668466</th>\n      <td>2</td>\n      <td>джэгун</td>\n      <td>3</td>\n      <td>дыджэгун</td>\n      <td>ды??????</td>\n      <td>ды|джэгу|н</td>\n      <td>False</td>\n    </tr>\n    <tr>\n      <th>668467</th>\n      <td>2</td>\n      <td>джэгун</td>\n      <td>3</td>\n      <td>зэрыджэгун</td>\n      <td>зэры??????</td>\n      <td>зэры|джэгу|н</td>\n      <td>False</td>\n    </tr>\n    <tr>\n      <th>668471</th>\n      <td>2</td>\n      <td>джэгун</td>\n      <td>3</td>\n      <td>уджэгун</td>\n      <td>у??????</td>\n      <td>у|джэгу|н</td>\n      <td>False</td>\n    </tr>\n    <tr>\n      <th>668474</th>\n      <td>2</td>\n      <td>джэгун</td>\n      <td>3</td>\n      <td>фызэрыджэгун</td>\n      <td>фызэры??????</td>\n      <td>фызэры|джэгу|н</td>\n      <td>False</td>\n    </tr>\n    <tr>\n      <th>668465</th>\n      <td>2</td>\n      <td>джэгун</td>\n      <td>4</td>\n      <td>джэгунрэт</td>\n      <td>??????рэт</td>\n      <td>джэгу|н|рэ|т</td>\n      <td>False</td>\n    </tr>\n    <tr>\n      <th>668468</th>\n      <td>2</td>\n      <td>джэгун</td>\n      <td>4</td>\n      <td>ириджэгун</td>\n      <td>ири??????</td>\n      <td>и|ри|джэгу|н</td>\n      <td>False</td>\n    </tr>\n    <tr>\n      <th>668469</th>\n      <td>2</td>\n      <td>джэгун</td>\n      <td>4</td>\n      <td>къиджэгун</td>\n      <td>къи??????</td>\n      <td>къ|и|джэгу|н</td>\n      <td>False</td>\n    </tr>\n    <tr>\n      <th>668472</th>\n      <td>2</td>\n      <td>джэгун</td>\n      <td>4</td>\n      <td>уджэгунри</td>\n      <td>у??????ри</td>\n      <td>у|джэгу|н|ри</td>\n      <td>False</td>\n    </tr>\n    <tr>\n      <th>668470</th>\n      <td>2</td>\n      <td>джэгун</td>\n      <td>5</td>\n      <td>къэбджэгун</td>\n      <td>къэб??????</td>\n      <td>къ|э|б|джэгу|н</td>\n      <td>False</td>\n    </tr>\n    <tr>\n      <th>668473</th>\n      <td>2</td>\n      <td>джэгун</td>\n      <td>5</td>\n      <td>уриджэгунри</td>\n      <td>ури??????ри</td>\n      <td>у|ри|джэгу|н|ри</td>\n      <td>False</td>\n    </tr>\n  </tbody>\n</table>\n</div>"
     },
     "execution_count": 8,
     "metadata": {},
     "output_type": "execute_result"
    }
   ],
   "source": [
    "stem_df[stem_df['stem'] == 'джэгун'].head(n=30)"
   ],
   "metadata": {
    "collapsed": false,
    "ExecuteTime": {
     "end_time": "2024-03-18T23:42:17.876814Z",
     "start_time": "2024-03-18T23:42:17.861553Z"
    }
   },
   "execution_count": 8
  },
  {
   "cell_type": "code",
   "outputs": [],
   "source": [
    "import re\n",
    "from collections import Counter\n",
    "\n",
    "templates_cnt = Counter(stem_df['template_short'].values)"
   ],
   "metadata": {
    "collapsed": false,
    "ExecuteTime": {
     "end_time": "2024-03-18T23:42:25.705936Z",
     "start_time": "2024-03-18T23:42:23.632796Z"
    }
   },
   "execution_count": 9
  },
  {
   "cell_type": "code",
   "outputs": [],
   "source": [
    "templates_df = pd.DataFrame(templates_cnt.most_common(), columns=['template', 'freq'])\n",
    "templates_df = templates_df[templates_df['freq'] > 10]"
   ],
   "metadata": {
    "collapsed": false,
    "ExecuteTime": {
     "end_time": "2024-03-18T23:42:27.442735Z",
     "start_time": "2024-03-18T23:42:27.172415Z"
    }
   },
   "execution_count": 10
  },
  {
   "cell_type": "code",
   "outputs": [],
   "source": [
    "templates_df.to_csv(f'{token_dist_dir}/stem_templates.csv', index=False, sep=',', quoting=csv.QUOTE_MINIMAL,\n",
    "                    header=True)"
   ],
   "metadata": {
    "collapsed": false,
    "ExecuteTime": {
     "end_time": "2024-03-18T23:42:29.369206Z",
     "start_time": "2024-03-18T23:42:29.335811Z"
    }
   },
   "execution_count": 11
  },
  {
   "cell_type": "code",
   "execution_count": 36,
   "outputs": [
    {
     "data": {
      "text/plain": "         stem_ng_len     stem  word_ng_len              word  \\\n140847             1  -Джэрий            2        Бат-Джэрий   \n140863             1  -Джэрий            2      Кърым-Джэрий   \n140885             1  -Джэрий            2       Хъан-Джэрий   \n140891             1  -Джэрий            2      Хьэжы-Джэрий   \n140842             1  -Джэрий            3       Адэл-Джэрий   \n...              ...      ...          ...               ...   \n1600677            6   ………………           16  …………………………………………   \n1600678            6   ………………           16  …………………………………………   \n1600679            6   ………………           16  …………………………………………   \n1600680            6   ………………           16  …………………………………………   \n1600681            6   ………………           16  …………………………………………   \n\n                 template                           tokens  stem_is_full_word  \n140847         Бат???????                      Бат|-Джэрий              False  \n140863       Кърым???????                    Кърым|-Джэрий              False  \n140885        Хъан???????                     Хъан|-Джэрий              False  \n140891       Хьэжы???????                    Хьэжы|-Джэрий              False  \n140842        Адэл???????                    Адэ|л|-Джэрий              False  \n...                   ...                              ...                ...  \n1600677  ????????????…………  …|…|…|…|…|…|…|…|…|…|…|…|…|…|…|…              False  \n1600678  ????????????…………  …|…|…|…|…|…|…|…|…|…|…|…|…|…|…|…              False  \n1600679  ????????????…………  …|…|…|…|…|…|…|…|…|…|…|…|…|…|…|…              False  \n1600680  ????????????…………  …|…|…|…|…|…|…|…|…|…|…|…|…|…|…|…              False  \n1600681  ????????????…………  …|…|…|…|…|…|…|…|…|…|…|…|…|…|…|…              False  \n\n[1615308 rows x 7 columns]",
      "text/html": "<div>\n<style scoped>\n    .dataframe tbody tr th:only-of-type {\n        vertical-align: middle;\n    }\n\n    .dataframe tbody tr th {\n        vertical-align: top;\n    }\n\n    .dataframe thead th {\n        text-align: right;\n    }\n</style>\n<table border=\"1\" class=\"dataframe\">\n  <thead>\n    <tr style=\"text-align: right;\">\n      <th></th>\n      <th>stem_ng_len</th>\n      <th>stem</th>\n      <th>word_ng_len</th>\n      <th>word</th>\n      <th>template</th>\n      <th>tokens</th>\n      <th>stem_is_full_word</th>\n    </tr>\n  </thead>\n  <tbody>\n    <tr>\n      <th>140847</th>\n      <td>1</td>\n      <td>-Джэрий</td>\n      <td>2</td>\n      <td>Бат-Джэрий</td>\n      <td>Бат???????</td>\n      <td>Бат|-Джэрий</td>\n      <td>False</td>\n    </tr>\n    <tr>\n      <th>140863</th>\n      <td>1</td>\n      <td>-Джэрий</td>\n      <td>2</td>\n      <td>Кърым-Джэрий</td>\n      <td>Кърым???????</td>\n      <td>Кърым|-Джэрий</td>\n      <td>False</td>\n    </tr>\n    <tr>\n      <th>140885</th>\n      <td>1</td>\n      <td>-Джэрий</td>\n      <td>2</td>\n      <td>Хъан-Джэрий</td>\n      <td>Хъан???????</td>\n      <td>Хъан|-Джэрий</td>\n      <td>False</td>\n    </tr>\n    <tr>\n      <th>140891</th>\n      <td>1</td>\n      <td>-Джэрий</td>\n      <td>2</td>\n      <td>Хьэжы-Джэрий</td>\n      <td>Хьэжы???????</td>\n      <td>Хьэжы|-Джэрий</td>\n      <td>False</td>\n    </tr>\n    <tr>\n      <th>140842</th>\n      <td>1</td>\n      <td>-Джэрий</td>\n      <td>3</td>\n      <td>Адэл-Джэрий</td>\n      <td>Адэл???????</td>\n      <td>Адэ|л|-Джэрий</td>\n      <td>False</td>\n    </tr>\n    <tr>\n      <th>...</th>\n      <td>...</td>\n      <td>...</td>\n      <td>...</td>\n      <td>...</td>\n      <td>...</td>\n      <td>...</td>\n      <td>...</td>\n    </tr>\n    <tr>\n      <th>1600677</th>\n      <td>6</td>\n      <td>………………</td>\n      <td>16</td>\n      <td>…………………………………………</td>\n      <td>????????????…………</td>\n      <td>…|…|…|…|…|…|…|…|…|…|…|…|…|…|…|…</td>\n      <td>False</td>\n    </tr>\n    <tr>\n      <th>1600678</th>\n      <td>6</td>\n      <td>………………</td>\n      <td>16</td>\n      <td>…………………………………………</td>\n      <td>????????????…………</td>\n      <td>…|…|…|…|…|…|…|…|…|…|…|…|…|…|…|…</td>\n      <td>False</td>\n    </tr>\n    <tr>\n      <th>1600679</th>\n      <td>6</td>\n      <td>………………</td>\n      <td>16</td>\n      <td>…………………………………………</td>\n      <td>????????????…………</td>\n      <td>…|…|…|…|…|…|…|…|…|…|…|…|…|…|…|…</td>\n      <td>False</td>\n    </tr>\n    <tr>\n      <th>1600680</th>\n      <td>6</td>\n      <td>………………</td>\n      <td>16</td>\n      <td>…………………………………………</td>\n      <td>????????????…………</td>\n      <td>…|…|…|…|…|…|…|…|…|…|…|…|…|…|…|…</td>\n      <td>False</td>\n    </tr>\n    <tr>\n      <th>1600681</th>\n      <td>6</td>\n      <td>………………</td>\n      <td>16</td>\n      <td>…………………………………………</td>\n      <td>????????????…………</td>\n      <td>…|…|…|…|…|…|…|…|…|…|…|…|…|…|…|…</td>\n      <td>False</td>\n    </tr>\n  </tbody>\n</table>\n<p>1615308 rows × 7 columns</p>\n</div>"
     },
     "execution_count": 36,
     "metadata": {},
     "output_type": "execute_result"
    }
   ],
   "source": [
    "stem_df"
   ],
   "metadata": {
    "collapsed": false,
    "ExecuteTime": {
     "end_time": "2024-02-22T23:17:24.403664Z",
     "start_time": "2024-02-22T23:17:24.395682Z"
    }
   }
  },
  {
   "cell_type": "code",
   "outputs": [],
   "source": [
    "stem_df[['word', 'stem']].to_csv(f'{token_dist_dir}/stem_candidates.csv', index=False, sep=',',\n",
    "                                 quoting=csv.QUOTE_MINIMAL, header=True)"
   ],
   "metadata": {
    "collapsed": false,
    "ExecuteTime": {
     "end_time": "2024-02-22T23:17:27.163171Z",
     "start_time": "2024-02-22T23:17:24.404278Z"
    }
   },
   "execution_count": 37
  },
  {
   "cell_type": "code",
   "outputs": [],
   "source": [
    "stem_df[stem_df['stem_is_full_word'] == True].to_csv(f'{token_dist_dir}/stem_full_words.csv', index=False, sep=',',\n",
    "                                                     quoting=csv.QUOTE_MINIMAL, header=True)"
   ],
   "metadata": {
    "collapsed": false,
    "ExecuteTime": {
     "end_time": "2024-02-23T00:10:12.310504Z",
     "start_time": "2024-02-23T00:10:12.246906Z"
    }
   },
   "execution_count": 46
  },
  {
   "cell_type": "code",
   "outputs": [],
   "source": [],
   "metadata": {
    "collapsed": false
   }
  }
 ],
 "metadata": {
  "kernelspec": {
   "display_name": "Python 3",
   "language": "python",
   "name": "python3"
  },
  "language_info": {
   "codemirror_mode": {
    "name": "ipython",
    "version": 2
   },
   "file_extension": ".py",
   "mimetype": "text/x-python",
   "name": "python",
   "nbconvert_exporter": "python",
   "pygments_lexer": "ipython2",
   "version": "2.7.6"
  }
 },
 "nbformat": 4,
 "nbformat_minor": 0
}
