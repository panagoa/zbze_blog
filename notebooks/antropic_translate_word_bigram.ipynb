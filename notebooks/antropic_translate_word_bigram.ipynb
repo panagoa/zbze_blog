{
 "cells": [
  {
   "cell_type": "code",
   "id": "initial_id",
   "metadata": {
    "collapsed": true,
    "ExecuteTime": {
     "end_time": "2024-08-04T10:31:53.589304Z",
     "start_time": "2024-08-04T10:31:53.565438Z"
    }
   },
   "source": [
    "import os\n",
    "import anthropic\n",
    "\n",
    "client = anthropic.Anthropic(\n",
    "    api_key=os.getenv('ANTHROPIC_API_KEY'),\n",
    ")\n",
    "\n",
    "model_name = \"claude-3-5-sonnet-20240620\"\n",
    "batch_size = 100\n",
    "\n",
    "\n",
    "def batch_translate(bigrams):\n",
    "    message = client.messages.create(\n",
    "        # model=\"claude-3-opus-20240229\",\n",
    "        model=model_name,\n",
    "        max_tokens=4000,\n",
    "        temperature=0,\n",
    "        system=\"Выступи в роли знатока кабардинского языка и помоги мне перевести строки на русский язык. \\n\",\n",
    "        messages=[\n",
    "            {\n",
    "                \"role\": \"user\",\n",
    "                \"content\": [\n",
    "                    {\n",
    "                        \"type\": \"text\",\n",
    "                        \"text\": f\"\"\"Результат ожидаю без лишних объяснений, строго перевод на русском языке. \\n\\nСтроки для перевода будут разделены знаком \\\\n (переноса строки), в ответе перевод должен быть так же разделен \\\\n.  \\n\\nКаждая новая строка, это отдельное по смыслу предложение - соединять их и тем более пытатся их переводить вместе не стоит. \\n\\nНа выходе переведенных строк должно быть строго как и входных. \\n\\nЕсли не можешь перевести строку, ставь пустую строку \\\"\\\" чтобы остальные переведы остались под тем же индексом, это супер важно. \\n\\nНе пиши в ответе вводную информацию \\\"Перевод на русский язык:\\\" - только результат перевода. \\n\\n\\nпокажу пример данных чтобы ты понимал формат. \\n- на вход:\\nнэхърэ нэхъ\\nсыт хуэдэ\\n\\n- на выходе хочу получить:\\nчем больше\\nкакой, какая, какое\\n\\nследующим сообщением пришлю входные данные которые нужно будет тебе перевести. Буду присылать батчами по {batch_size} строк. Ожидаю получить ровно {batch_size} строк. Это важно для моего скрипта обработки данных: batches = df.groupby(df.index // 100)\\n\\nfor i, (name, group) in tqdm(enumerate(batches), total=len(batches)):\\n    group_result = batch_translate(group['word'].tolist())\\n    try:\\n        group_result_df = pd.DataFrame({{\\n            'source': group['word'].tolist(),\\n            'translated': group_result\\n        }})\\n        group_result_df.to_csv(f'../data/processed/word_freqs/freq_1000000_oshhamaho_{i}_{model_name}.csv', index=False)\\n    except Exception:\\n        continue\"\"\"\n",
    "                    }\n",
    "                ]\n",
    "            },\n",
    "            {\n",
    "                \"role\": \"assistant\",\n",
    "                \"content\": [\n",
    "                    {\n",
    "                        \"type\": \"text\",\n",
    "                        \"text\": \"Понял, жду строки для перевода. \"\n",
    "                    }\n",
    "                ]\n",
    "            },\n",
    "            {\n",
    "                \"role\": \"user\",\n",
    "                \"content\": [\n",
    "                    {\n",
    "                        \"type\": \"text\",\n",
    "                        \"text\": \"\\n\".join(bigrams)\n",
    "                    }\n",
    "                ]\n",
    "            }\n",
    "        ]\n",
    "    )\n",
    "\n",
    "    result = message.content[0].text.split('\\n')\n",
    "    return result"
   ],
   "outputs": [],
   "execution_count": 6
  },
  {
   "cell_type": "code",
   "source": [
    "from tqdm import tqdm\n",
    "import pandas as pd\n",
    "\n",
    "df = pd.read_csv('../data/processed/word_bigrams/oshhamaho.csv')\n",
    "df.sort_values('w_bigram', inplace=True)\n",
    "df"
   ],
   "metadata": {
    "collapsed": false,
    "ExecuteTime": {
     "end_time": "2024-08-04T10:32:47.159289Z",
     "start_time": "2024-08-04T10:32:47.138352Z"
    }
   },
   "id": "e02be0b5a0f4345",
   "outputs": [
    {
     "data": {
      "text/plain": [
       "            w_bigram  freq\n",
       "341       100 ирокъу    14\n",
       "2850   105-рэ ирокъу     3\n",
       "2527  150-рэ щрикъум     3\n",
       "1091       1557 гъэм     5\n",
       "2049       1560 гъэм     3\n",
       "...              ...   ...\n",
       "49          ящыщ зыщ    52\n",
       "587        ящыщ куэд     9\n",
       "1227     ящыщ куэдым     5\n",
       "1653      ящыщу нэхъ     4\n",
       "2847    №219 ЖьантIэ     3\n",
       "\n",
       "[2945 rows x 2 columns]"
      ],
      "text/html": [
       "<div>\n",
       "<style scoped>\n",
       "    .dataframe tbody tr th:only-of-type {\n",
       "        vertical-align: middle;\n",
       "    }\n",
       "\n",
       "    .dataframe tbody tr th {\n",
       "        vertical-align: top;\n",
       "    }\n",
       "\n",
       "    .dataframe thead th {\n",
       "        text-align: right;\n",
       "    }\n",
       "</style>\n",
       "<table border=\"1\" class=\"dataframe\">\n",
       "  <thead>\n",
       "    <tr style=\"text-align: right;\">\n",
       "      <th></th>\n",
       "      <th>w_bigram</th>\n",
       "      <th>freq</th>\n",
       "    </tr>\n",
       "  </thead>\n",
       "  <tbody>\n",
       "    <tr>\n",
       "      <th>341</th>\n",
       "      <td>100 ирокъу</td>\n",
       "      <td>14</td>\n",
       "    </tr>\n",
       "    <tr>\n",
       "      <th>2850</th>\n",
       "      <td>105-рэ ирокъу</td>\n",
       "      <td>3</td>\n",
       "    </tr>\n",
       "    <tr>\n",
       "      <th>2527</th>\n",
       "      <td>150-рэ щрикъум</td>\n",
       "      <td>3</td>\n",
       "    </tr>\n",
       "    <tr>\n",
       "      <th>1091</th>\n",
       "      <td>1557 гъэм</td>\n",
       "      <td>5</td>\n",
       "    </tr>\n",
       "    <tr>\n",
       "      <th>2049</th>\n",
       "      <td>1560 гъэм</td>\n",
       "      <td>3</td>\n",
       "    </tr>\n",
       "    <tr>\n",
       "      <th>...</th>\n",
       "      <td>...</td>\n",
       "      <td>...</td>\n",
       "    </tr>\n",
       "    <tr>\n",
       "      <th>49</th>\n",
       "      <td>ящыщ зыщ</td>\n",
       "      <td>52</td>\n",
       "    </tr>\n",
       "    <tr>\n",
       "      <th>587</th>\n",
       "      <td>ящыщ куэд</td>\n",
       "      <td>9</td>\n",
       "    </tr>\n",
       "    <tr>\n",
       "      <th>1227</th>\n",
       "      <td>ящыщ куэдым</td>\n",
       "      <td>5</td>\n",
       "    </tr>\n",
       "    <tr>\n",
       "      <th>1653</th>\n",
       "      <td>ящыщу нэхъ</td>\n",
       "      <td>4</td>\n",
       "    </tr>\n",
       "    <tr>\n",
       "      <th>2847</th>\n",
       "      <td>№219 ЖьантIэ</td>\n",
       "      <td>3</td>\n",
       "    </tr>\n",
       "  </tbody>\n",
       "</table>\n",
       "<p>2945 rows × 2 columns</p>\n",
       "</div>"
      ]
     },
     "execution_count": 8,
     "metadata": {},
     "output_type": "execute_result"
    }
   ],
   "execution_count": 8
  },
  {
   "metadata": {
    "ExecuteTime": {
     "end_time": "2024-08-04T10:30:41.494560Z",
     "start_time": "2024-08-04T10:30:41.491326Z"
    }
   },
   "cell_type": "code",
   "source": [
    "def process_batch(batch_data):\n",
    "    name, group = batch_data\n",
    "    group_result = batch_translate(group['w_bigram'].tolist())\n",
    "    try:\n",
    "        group_result_df = pd.DataFrame({\n",
    "            'w_bigram': group['w_bigram'].tolist(),\n",
    "            'translated': group_result\n",
    "        })\n",
    "        group_result_df.to_csv(f'../data/processed/word_bigrams/oshhamaho_{name}_{model_name}.csv', index=False)\n",
    "        return True\n",
    "    except Exception as e:\n",
    "        print(f\"Error processing batch {name}: {str(e)}\")\n",
    "        return False\n"
   ],
   "id": "7201285131cef05",
   "outputs": [],
   "execution_count": 3
  },
  {
   "metadata": {
    "ExecuteTime": {
     "end_time": "2024-08-04T10:31:26.332937Z",
     "start_time": "2024-08-04T10:31:26.308035Z"
    }
   },
   "cell_type": "code",
   "source": [
    "from concurrent.futures import ThreadPoolExecutor, as_completed\n",
    "\n",
    "batches = df.groupby(df.index // batch_size)\n",
    "\n",
    "with ThreadPoolExecutor(max_workers=8) as executor:\n",
    "    future_to_batch = {executor.submit(process_batch, (name, group)): name\n",
    "                       for name, group in batches\n",
    "                       if name >= 0\n",
    "                       }\n",
    "\n",
    "    for future in tqdm(as_completed(future_to_batch), total=len(future_to_batch)):\n",
    "        batch_name = future_to_batch[future]\n",
    "        try:\n",
    "            success = future.result()\n",
    "            if not success:\n",
    "                print(f\"Failed to process batch {batch_name}\")\n",
    "        except Exception as e:\n",
    "            print(f\"Batch {batch_name} generated an exception: {str(e)}\")"
   ],
   "id": "63fbc831eae0fdd2",
   "outputs": [
    {
     "name": "stderr",
     "output_type": "stream",
     "text": [
      "100%|██████████| 30/30 [00:00<00:00, 118149.41it/s]"
     ]
    },
    {
     "name": "stdout",
     "output_type": "stream",
     "text": [
      "Batch 17 generated an exception: name 'i' is not defined\n",
      "Batch 15 generated an exception: name 'i' is not defined\n",
      "Batch 0 generated an exception: name 'i' is not defined\n",
      "Batch 9 generated an exception: name 'i' is not defined\n",
      "Batch 3 generated an exception: name 'i' is not defined\n",
      "Batch 27 generated an exception: name 'i' is not defined\n",
      "Batch 7 generated an exception: name 'i' is not defined\n",
      "Batch 13 generated an exception: name 'i' is not defined\n",
      "Batch 29 generated an exception: name 'i' is not defined\n",
      "Batch 25 generated an exception: name 'i' is not defined\n",
      "Batch 11 generated an exception: name 'i' is not defined\n",
      "Batch 23 generated an exception: name 'i' is not defined\n",
      "Batch 21 generated an exception: name 'i' is not defined\n",
      "Batch 20 generated an exception: name 'i' is not defined\n",
      "Batch 18 generated an exception: name 'i' is not defined\n",
      "Batch 16 generated an exception: name 'i' is not defined\n",
      "Batch 5 generated an exception: name 'i' is not defined\n",
      "Batch 8 generated an exception: name 'i' is not defined\n",
      "Batch 14 generated an exception: name 'i' is not defined\n",
      "Batch 2 generated an exception: name 'i' is not defined\n",
      "Batch 26 generated an exception: name 'i' is not defined\n",
      "Batch 6 generated an exception: name 'i' is not defined\n",
      "Batch 12 generated an exception: name 'i' is not defined\n",
      "Batch 28 generated an exception: name 'i' is not defined\n",
      "Batch 24 generated an exception: name 'i' is not defined\n",
      "Batch 10 generated an exception: name 'i' is not defined\n",
      "Batch 1 generated an exception: name 'i' is not defined\n",
      "Batch 4 generated an exception: name 'i' is not defined\n",
      "Batch 22 generated an exception: name 'i' is not defined\n",
      "Batch 19 generated an exception: name 'i' is not defined\n"
     ]
    },
    {
     "name": "stderr",
     "output_type": "stream",
     "text": [
      "\n"
     ]
    }
   ],
   "execution_count": 5
  },
  {
   "metadata": {},
   "cell_type": "code",
   "outputs": [],
   "execution_count": null,
   "source": "",
   "id": "4021e1d3666345eb"
  }
 ],
 "metadata": {
  "kernelspec": {
   "display_name": "Python 3",
   "language": "python",
   "name": "python3"
  },
  "language_info": {
   "codemirror_mode": {
    "name": "ipython",
    "version": 2
   },
   "file_extension": ".py",
   "mimetype": "text/x-python",
   "name": "python",
   "nbconvert_exporter": "python",
   "pygments_lexer": "ipython2",
   "version": "2.7.6"
  }
 },
 "nbformat": 4,
 "nbformat_minor": 5
}
