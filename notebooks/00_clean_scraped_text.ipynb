{
 "cells": [
  {
   "cell_type": "code",
   "execution_count": 1,
   "id": "initial_id",
   "metadata": {
    "collapsed": true,
    "ExecuteTime": {
     "end_time": "2023-12-20T23:47:38.870523Z",
     "start_time": "2023-12-20T23:47:38.422966Z"
    }
   },
   "outputs": [],
   "source": [
    "import os\n",
    "\n",
    "import pandas as pd\n",
    "\n",
    "from src.logic.text_cleaner import clean_text\n"
   ]
  },
  {
   "cell_type": "code",
   "execution_count": 2,
   "outputs": [],
   "source": [
    "external_dir = '../data/external/'\n",
    "interim_dir = '../data/interim/'\n",
    "os.makedirs(interim_dir, exist_ok=True)\n",
    "\n",
    "processed_dir = '../data/processed/'\n",
    "os.makedirs(processed_dir, exist_ok=True)\n",
    "\n",
    "for file_name in ['apkbr_ru.jsonl', 'elgkbr_ru.jsonl']:\n",
    "    df = pd.read_json(os.path.join(external_dir, file_name), lines=True)\n",
    "    df['content'] = df['content'].apply(clean_text)\n",
    "\n",
    "    df.to_json(\n",
    "        os.path.join(interim_dir, file_name),\n",
    "        orient='records',\n",
    "        lines=True,\n",
    "        force_ascii=False\n",
    "    )\n",
    "\n",
    "    text = '\\n'.join(df['content'].tolist())\n",
    "    with open(os.path.join(processed_dir, file_name.replace('.jsonl', '.txt')), 'w') as f:\n",
    "        f.write(text)"
   ],
   "metadata": {
    "collapsed": false,
    "ExecuteTime": {
     "end_time": "2023-12-20T23:47:47.506629Z",
     "start_time": "2023-12-20T23:47:39.713679Z"
    }
   },
   "id": "9bd6c345a9b67489"
  }
 ],
 "metadata": {
  "kernelspec": {
   "display_name": "Python 3",
   "language": "python",
   "name": "python3"
  },
  "language_info": {
   "codemirror_mode": {
    "name": "ipython",
    "version": 2
   },
   "file_extension": ".py",
   "mimetype": "text/x-python",
   "name": "python",
   "nbconvert_exporter": "python",
   "pygments_lexer": "ipython2",
   "version": "2.7.6"
  }
 },
 "nbformat": 4,
 "nbformat_minor": 5
}
