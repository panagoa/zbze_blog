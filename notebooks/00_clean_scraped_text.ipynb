{
 "cells": [
  {
   "cell_type": "code",
   "execution_count": 22,
   "id": "initial_id",
   "metadata": {
    "collapsed": true,
    "ExecuteTime": {
     "end_time": "2023-12-20T21:43:48.530534Z",
     "start_time": "2023-12-20T21:43:48.528534Z"
    }
   },
   "outputs": [],
   "source": [
    "import os\n",
    "import pandas as pd\n",
    "from src.text_cleaner import clean_text"
   ]
  },
  {
   "cell_type": "code",
   "execution_count": 25,
   "outputs": [],
   "source": [
    "for file_name in ['apkbr_ru.jsonl', 'elgkbr_ru.jsonl']:\n",
    "    df = pd.read_json(os.path.join('../data/', file_name), lines=True)\n",
    "    df['content'] = df['content'].apply(clean_text)\n",
    "    df.to_json(\n",
    "        os.path.join('../data/', file_name), \n",
    "        orient='records', \n",
    "        lines=True,\n",
    "        force_ascii=False\n",
    "    )"
   ],
   "metadata": {
    "collapsed": false,
    "ExecuteTime": {
     "end_time": "2023-12-20T21:45:39.894428Z",
     "start_time": "2023-12-20T21:45:32.353998Z"
    }
   },
   "id": "9bd6c345a9b67489"
  },
  {
   "cell_type": "code",
   "execution_count": null,
   "outputs": [],
   "source": [],
   "metadata": {
    "collapsed": false
   },
   "id": "78afe38cf83a6e42"
  }
 ],
 "metadata": {
  "kernelspec": {
   "display_name": "Python 3",
   "language": "python",
   "name": "python3"
  },
  "language_info": {
   "codemirror_mode": {
    "name": "ipython",
    "version": 2
   },
   "file_extension": ".py",
   "mimetype": "text/x-python",
   "name": "python",
   "nbconvert_exporter": "python",
   "pygments_lexer": "ipython2",
   "version": "2.7.6"
  }
 },
 "nbformat": 4,
 "nbformat_minor": 5
}
