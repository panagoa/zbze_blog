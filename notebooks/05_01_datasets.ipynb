{
 "cells": [
  {
   "cell_type": "code",
   "execution_count": 1,
   "id": "initial_id",
   "metadata": {
    "collapsed": true,
    "ExecuteTime": {
     "end_time": "2024-01-21T12:59:48.257194Z",
     "start_time": "2024-01-21T12:59:48.254649Z"
    }
   },
   "outputs": [],
   "source": [
    "# !pip install datasets"
   ]
  },
  {
   "cell_type": "code",
   "execution_count": 2,
   "outputs": [],
   "source": [
    "from datasets import load_dataset\n",
    "\n",
    "dataset = load_dataset(\"anzorq/ru-kbd\")"
   ],
   "metadata": {
    "collapsed": false,
    "ExecuteTime": {
     "end_time": "2024-01-21T12:59:55.312883Z",
     "start_time": "2024-01-21T12:59:49.365404Z"
    }
   },
   "id": "d4df958a4670bcd"
  },
  {
   "cell_type": "code",
   "execution_count": 7,
   "outputs": [],
   "source": [
    "import pandas as pd\n",
    "\n",
    "df = pd.DataFrame(dataset['train']['translation'])"
   ],
   "metadata": {
    "collapsed": false,
    "ExecuteTime": {
     "end_time": "2024-01-21T13:01:20.781887Z",
     "start_time": "2024-01-21T13:01:20.580599Z"
    }
   },
   "id": "1109a82350e5848e"
  },
  {
   "cell_type": "code",
   "execution_count": 9,
   "outputs": [
    {
     "data": {
      "text/plain": "                                                      ru  \\\n33742  \"видно было, что весь кустик был переехан коле...   \n50599                                       выгораживать   \n3630                                            выкопать   \n44403                                           впопыхах   \n37717                                        выдавливать   \n...                                                  ...   \n60056                                           – сдали?   \n53518             \"– стало быть, нужно, – сказал панов.\"   \n48559                                    – в сумке была.   \n29253                         … (что делает) … (где?) ….   \n41201                         … (что делают?) … (когда).   \n\n                                 kbd  \n33742                                 \n50599                                 \n3630                                  \n44403                                 \n37717                                 \n...                              ...  \n60056                        – яфта?  \n53518       – Ӏуэху яӀэщи кърехуэкӀ.  \n48559               – ӀэмпӀэм илъащ.  \n29253  … (сыт ищӀэрэ?) … (дэнэ?) … .  \n41201   …(сыт ящӀэр?) … (дапщэщ) … ?  \n\n[63407 rows x 2 columns]",
      "text/html": "<div>\n<style scoped>\n    .dataframe tbody tr th:only-of-type {\n        vertical-align: middle;\n    }\n\n    .dataframe tbody tr th {\n        vertical-align: top;\n    }\n\n    .dataframe thead th {\n        text-align: right;\n    }\n</style>\n<table border=\"1\" class=\"dataframe\">\n  <thead>\n    <tr style=\"text-align: right;\">\n      <th></th>\n      <th>ru</th>\n      <th>kbd</th>\n    </tr>\n  </thead>\n  <tbody>\n    <tr>\n      <th>33742</th>\n      <td>\"видно было, что весь кустик был переехан коле...</td>\n      <td></td>\n    </tr>\n    <tr>\n      <th>50599</th>\n      <td>выгораживать</td>\n      <td></td>\n    </tr>\n    <tr>\n      <th>3630</th>\n      <td>выкопать</td>\n      <td></td>\n    </tr>\n    <tr>\n      <th>44403</th>\n      <td>впопыхах</td>\n      <td></td>\n    </tr>\n    <tr>\n      <th>37717</th>\n      <td>выдавливать</td>\n      <td></td>\n    </tr>\n    <tr>\n      <th>...</th>\n      <td>...</td>\n      <td>...</td>\n    </tr>\n    <tr>\n      <th>60056</th>\n      <td>– сдали?</td>\n      <td>– яфта?</td>\n    </tr>\n    <tr>\n      <th>53518</th>\n      <td>\"– стало быть, нужно, – сказал панов.\"</td>\n      <td>– Ӏуэху яӀэщи кърехуэкӀ.</td>\n    </tr>\n    <tr>\n      <th>48559</th>\n      <td>– в сумке была.</td>\n      <td>– ӀэмпӀэм илъащ.</td>\n    </tr>\n    <tr>\n      <th>29253</th>\n      <td>… (что делает) … (где?) ….</td>\n      <td>… (сыт ищӀэрэ?) … (дэнэ?) … .</td>\n    </tr>\n    <tr>\n      <th>41201</th>\n      <td>… (что делают?) … (когда).</td>\n      <td>…(сыт ящӀэр?) … (дапщэщ) … ?</td>\n    </tr>\n  </tbody>\n</table>\n<p>63407 rows × 2 columns</p>\n</div>"
     },
     "execution_count": 9,
     "metadata": {},
     "output_type": "execute_result"
    }
   ],
   "source": [
    "df.sort_values('kbd')"
   ],
   "metadata": {
    "collapsed": false,
    "ExecuteTime": {
     "end_time": "2024-01-21T13:01:47.265379Z",
     "start_time": "2024-01-21T13:01:47.218468Z"
    }
   },
   "id": "503781f7a67a2151"
  },
  {
   "cell_type": "code",
   "execution_count": 10,
   "outputs": [],
   "source": [
    "ru_sent = set(df['ru'].to_list())\n",
    "kbd_sent = set(df['kbd'].to_list())"
   ],
   "metadata": {
    "collapsed": false,
    "ExecuteTime": {
     "end_time": "2024-01-21T13:04:32.833475Z",
     "start_time": "2024-01-21T13:04:32.830350Z"
    }
   },
   "id": "dafe1eeafa660d9c"
  },
  {
   "cell_type": "code",
   "execution_count": 21,
   "outputs": [
    {
     "data": {
      "text/plain": "False"
     },
     "execution_count": 21,
     "metadata": {},
     "output_type": "execute_result"
    }
   ],
   "source": [
    "'слушать внимательно, ничего не пропуская' in ru_sent"
   ],
   "metadata": {
    "collapsed": false,
    "ExecuteTime": {
     "end_time": "2024-01-21T13:42:02.456522Z",
     "start_time": "2024-01-21T13:42:02.449183Z"
    }
   },
   "id": "38f72b64313bfd25"
  },
  {
   "cell_type": "code",
   "execution_count": null,
   "outputs": [],
   "source": [],
   "metadata": {
    "collapsed": false
   },
   "id": "1b396d97a9ac9cd4"
  }
 ],
 "metadata": {
  "kernelspec": {
   "display_name": "Python 3",
   "language": "python",
   "name": "python3"
  },
  "language_info": {
   "codemirror_mode": {
    "name": "ipython",
    "version": 2
   },
   "file_extension": ".py",
   "mimetype": "text/x-python",
   "name": "python",
   "nbconvert_exporter": "python",
   "pygments_lexer": "ipython2",
   "version": "2.7.6"
  }
 },
 "nbformat": 4,
 "nbformat_minor": 5
}
