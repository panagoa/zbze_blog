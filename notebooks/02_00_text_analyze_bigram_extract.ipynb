{
 "cells": [
  {
   "cell_type": "code",
   "execution_count": 96,
   "metadata": {
    "collapsed": true,
    "pycharm": {
     "name": "#%%\n"
    },
    "ExecuteTime": {
     "end_time": "2023-12-23T23:18:19.469658Z",
     "start_time": "2023-12-23T23:18:00.049737Z"
    }
   },
   "outputs": [],
   "source": [
    "import os\n",
    "from collections import Counter\n",
    "\n",
    "import nltk\n",
    "\n",
    "file_dir = '../data/processed'\n",
    "file_name = 'oshhamaho.txt'\n",
    "# file_name = 'apkbr_ru.txt'\n",
    "# file_name = 'elgkbr_ru.txt'\n",
    "file_path = os.path.join(file_dir, file_name)\n",
    "\n",
    "BUF_SIZE = 100000\n",
    "cnt = Counter()\n",
    "with open(file_path) as f:\n",
    "    tmp_raw = f.read(BUF_SIZE)\n",
    "    while tmp_raw:\n",
    "        tokens = nltk.word_tokenize(tmp_raw)\n",
    "        text = nltk.Text(tokens)\n",
    "        clc = text.collocation_list(5000)\n",
    "        cnt.update(clc)\n",
    "        tmp_raw = f.read(BUF_SIZE)"
   ]
  },
  {
   "cell_type": "code",
   "execution_count": 97,
   "outputs": [],
   "source": [
    "import pandas as pd\n",
    "\n",
    "data = [\n",
    "    {\n",
    "        'w_bigram': ' '.join(bigram),\n",
    "        'freq': freq\n",
    "    }\n",
    "    for bigram, freq in cnt.items()\n",
    "    if freq > 2\n",
    "]\n",
    "\n",
    "df = pd.DataFrame(data)\n",
    "df = df.sort_values('freq', ascending=False)"
   ],
   "metadata": {
    "collapsed": false,
    "pycharm": {
     "name": "#%%\n"
    },
    "ExecuteTime": {
     "end_time": "2023-12-23T23:18:19.476457Z",
     "start_time": "2023-12-23T23:18:19.474499Z"
    }
   }
  },
  {
   "cell_type": "code",
   "execution_count": 98,
   "outputs": [
    {
     "data": {
      "text/plain": "               w_bigram  freq\n0           нэхърэ нэхъ   216\n67            сыт хуэдэ   213\n42           сыт щыгъуи   209\n93           куэд щIауэ   149\n116           фIы дыдэу   131\n...                 ...   ...\n1790      сабийм хуэдэу     3\n1789     лъэпкъ цIыкIум     3\n1786  гъащIэ гъуэгуанэр     3\n1784      япэ секретару     3\n2944         Адыгэ нарт     3\n\n[2945 rows x 2 columns]",
      "text/html": "<div>\n<style scoped>\n    .dataframe tbody tr th:only-of-type {\n        vertical-align: middle;\n    }\n\n    .dataframe tbody tr th {\n        vertical-align: top;\n    }\n\n    .dataframe thead th {\n        text-align: right;\n    }\n</style>\n<table border=\"1\" class=\"dataframe\">\n  <thead>\n    <tr style=\"text-align: right;\">\n      <th></th>\n      <th>w_bigram</th>\n      <th>freq</th>\n    </tr>\n  </thead>\n  <tbody>\n    <tr>\n      <th>0</th>\n      <td>нэхърэ нэхъ</td>\n      <td>216</td>\n    </tr>\n    <tr>\n      <th>67</th>\n      <td>сыт хуэдэ</td>\n      <td>213</td>\n    </tr>\n    <tr>\n      <th>42</th>\n      <td>сыт щыгъуи</td>\n      <td>209</td>\n    </tr>\n    <tr>\n      <th>93</th>\n      <td>куэд щIауэ</td>\n      <td>149</td>\n    </tr>\n    <tr>\n      <th>116</th>\n      <td>фIы дыдэу</td>\n      <td>131</td>\n    </tr>\n    <tr>\n      <th>...</th>\n      <td>...</td>\n      <td>...</td>\n    </tr>\n    <tr>\n      <th>1790</th>\n      <td>сабийм хуэдэу</td>\n      <td>3</td>\n    </tr>\n    <tr>\n      <th>1789</th>\n      <td>лъэпкъ цIыкIум</td>\n      <td>3</td>\n    </tr>\n    <tr>\n      <th>1786</th>\n      <td>гъащIэ гъуэгуанэр</td>\n      <td>3</td>\n    </tr>\n    <tr>\n      <th>1784</th>\n      <td>япэ секретару</td>\n      <td>3</td>\n    </tr>\n    <tr>\n      <th>2944</th>\n      <td>Адыгэ нарт</td>\n      <td>3</td>\n    </tr>\n  </tbody>\n</table>\n<p>2945 rows × 2 columns</p>\n</div>"
     },
     "execution_count": 98,
     "metadata": {},
     "output_type": "execute_result"
    }
   ],
   "source": [
    "df"
   ],
   "metadata": {
    "collapsed": false,
    "pycharm": {
     "name": "#%%\n"
    },
    "ExecuteTime": {
     "end_time": "2023-12-23T23:18:19.481445Z",
     "start_time": "2023-12-23T23:18:19.479782Z"
    }
   }
  },
  {
   "cell_type": "code",
   "execution_count": 99,
   "outputs": [],
   "source": [
    "# для дальнейшей работы сохраним полученные данные в csv файл\n",
    "df.to_csv(\n",
    "    os.path.join('../data/processed/word_bigrams', file_name.replace('.txt', '.csv')),\n",
    "    index=False,\n",
    ")"
   ],
   "metadata": {
    "collapsed": false,
    "ExecuteTime": {
     "end_time": "2023-12-23T23:18:19.487208Z",
     "start_time": "2023-12-23T23:18:19.482949Z"
    }
   }
  },
  {
   "cell_type": "code",
   "execution_count": 100,
   "outputs": [],
   "source": [
    "from nltk.probability import ConditionalFreqDist, ConditionalProbDist, MLEProbDist\n",
    "\n",
    "cfdist = ConditionalFreqDist()\n",
    "\n",
    "for bigram, freq in cnt.items():\n",
    "    word1, word2 = bigram\n",
    "    cfdist[word1][word2] = freq\n",
    "\n",
    "cpdist = ConditionalProbDist(cfdist, MLEProbDist)\n"
   ],
   "metadata": {
    "collapsed": false,
    "ExecuteTime": {
     "end_time": "2023-12-23T23:18:19.532608Z",
     "start_time": "2023-12-23T23:18:19.526202Z"
    }
   }
  },
  {
   "cell_type": "code",
   "execution_count": 115,
   "outputs": [],
   "source": [
    "def get_prob(word1):\n",
    "    prob_dict = {}\n",
    "    for word_2 in cpdist[word1].samples():\n",
    "        prob_dict[word_2] = cpdist[word1].prob(word_2) * 100\n",
    "\n",
    "    return prob_dict\n"
   ],
   "metadata": {
    "collapsed": false,
    "ExecuteTime": {
     "end_time": "2023-12-23T23:29:21.389720Z",
     "start_time": "2023-12-23T23:29:21.381676Z"
    }
   }
  },
  {
   "cell_type": "code",
   "execution_count": 123,
   "outputs": [
    {
     "data": {
      "text/plain": "[('гуапэ', 14.814814814814813),\n ('дахэ', 9.25925925925926),\n ('быдэ', 6.481481481481481),\n ('шэрыуэхэмрэ', 5.555555555555555),\n ('куэд', 4.62962962962963),\n ('къызэринэкIащ', 2.7777777777777777),\n ('шэрыуэ', 1.8518518518518516),\n ('закъуэкIэ', 1.8518518518518516),\n ('шэрыуэхэр', 1.8518518518518516),\n ('пэжхэр', 1.8518518518518516),\n ('закъуэм', 1.8518518518518516),\n ('лей', 1.8518518518518516),\n ('мыжьэ-мывэм', 1.8518518518518516),\n ('дыдж', 1.8518518518518516),\n ('закъуэ', 1.8518518518518516),\n ('дыджхэр', 1.8518518518518516),\n ('гъэщIэрэщIэн', 1.8518518518518516),\n ('жимыIэу', 1.8518518518518516),\n ('гуемыIухэр', 0.9259259259259258),\n ('зэхэлъыр', 0.9259259259259258),\n ('жаIакъым', 0.9259259259259258),\n ('къыфIигъэкIакъым', 0.9259259259259258),\n ('халъхьащ', 0.9259259259259258),\n ('зэкIэлъыкIуэкIэм', 0.9259259259259258),\n ('зэпхахэм', 0.9259259259259258),\n ('зэкIэлъыкIуэкIэр', 0.9259259259259258),\n ('лъэпкъыгъуэм', 0.9259259259259258),\n ('гуэрхэр', 0.9259259259259258),\n ('кIапэр', 0.9259259259259258),\n ('анэшхуэм', 0.9259259259259258),\n ('закъуи', 0.9259259259259258),\n ('хъуэркIэ', 0.9259259259259258),\n ('закъуэтIакъуэ', 0.9259259259259258),\n ('гуапэкIэ', 0.9259259259259258),\n ('къудей-тIэ', 0.9259259259259258),\n ('дахэу', 0.9259259259259258),\n ('жыпIэху', 0.9259259259259258),\n ('иратащ', 0.9259259259259258),\n ('гуапэхэм', 0.9259259259259258),\n ('къахилъхьащ', 0.9259259259259258),\n ('зрата', 0.9259259259259258),\n ('зэпхам', 0.9259259259259258),\n ('лъэпкъыгъуэхэм', 0.9259259259259258),\n ('гупым', 0.9259259259259258),\n ('жызмыIэу', 0.9259259259259258),\n ('ныкъуэжыIэр', 0.9259259259259258),\n ('узот', 0.9259259259259258),\n ('къыхилъхьащ', 0.9259259259259258),\n ('тIэужыIэ', 0.9259259259259258),\n ('къыхэхыкIэм', 0.9259259259259258),\n ('Iущхэр', 0.9259259259259258),\n ('хъуэр', 0.9259259259259258),\n ('лъагэ', 0.9259259259259258),\n ('фIыкIэ', 0.9259259259259258),\n ('гъущэкъым', 0.9259259259259258)]"
     },
     "execution_count": 123,
     "metadata": {},
     "output_type": "execute_result"
    }
   ],
   "source": [
    "sorted(get_prob('псалъэ').items(), key=lambda x: x[1], reverse=True)"
   ],
   "metadata": {
    "collapsed": false,
    "ExecuteTime": {
     "end_time": "2023-12-23T23:33:07.942044Z",
     "start_time": "2023-12-23T23:33:07.927295Z"
    }
   }
  },
  {
   "cell_type": "markdown",
   "source": [
    "```python\n",
    "[('гуапэ', 14.814814814814813),\n",
    " ('дахэ', 9.25925925925926),\n",
    " ('быдэ', 6.481481481481481),\n",
    " ('шэрыуэхэмрэ', 5.555555555555555),\n",
    " ('куэд', 4.62962962962963),\n",
    " ('къызэринэкIащ', 2.7777777777777777),\n",
    " ...\n",
    "]\n",
    "```\n",
    "Мы здесь видим, что самые вероятные слова после `псалъэ` это `гуапэ`, `дахэ`, `быдэ` и т.д.\n",
    "\n",
    "как мы можем использовать полученные данные?\n",
    "- для определения того, какие слова чаще всего встречаются вместе\n",
    "- для предсказания следующего слова с учетом предыдущего\n",
    "чем это может быть полезно?\n",
    "- автодополнение при вводе текста\n",
    "- для автоматического исправления опечаток\n",
    "\n",
    "\n",
    "Подобное можно еще сделать по токенам, а не по словам.\n",
    "Тогда мы можем получить вариации слов с учетом падежей, числа и т.д.\n",
    "То есть зная начало слова, мы можем предсказать наиболее вероятные варианты слова.\n",
    "Что позволит более точно делать автодополнение и исправление опечаток."
   ],
   "metadata": {
    "collapsed": false
   }
  }
 ],
 "metadata": {
  "kernelspec": {
   "display_name": "Python 3",
   "language": "python",
   "name": "python3"
  },
  "language_info": {
   "codemirror_mode": {
    "name": "ipython",
    "version": 2
   },
   "file_extension": ".py",
   "mimetype": "text/x-python",
   "name": "python",
   "nbconvert_exporter": "python",
   "pygments_lexer": "ipython2",
   "version": "2.7.6"
  }
 },
 "nbformat": 4,
 "nbformat_minor": 0
}
