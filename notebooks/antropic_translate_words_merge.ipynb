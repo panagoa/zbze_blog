{
 "cells": [
  {
   "cell_type": "code",
   "outputs": [],
   "source": [
    "from tqdm import tqdm\n",
    "import pandas as pd\n"
   ],
   "metadata": {
    "collapsed": false,
    "ExecuteTime": {
     "end_time": "2024-03-18T00:38:09.738672Z",
     "start_time": "2024-03-18T00:38:09.360877Z"
    }
   },
   "id": "7201285131cef05",
   "execution_count": 1
  },
  {
   "cell_type": "code",
   "outputs": [],
   "source": [
    "df = pd.read_csv('../data/processed/word_freqs/freq_1000000_oshhamaho_haiku.csv')"
   ],
   "metadata": {
    "collapsed": false,
    "ExecuteTime": {
     "end_time": "2024-03-18T00:38:50.572933Z",
     "start_time": "2024-03-18T00:38:50.533319Z"
    }
   },
   "id": "7e2f366b00eeba12",
   "execution_count": 2
  },
  {
   "cell_type": "code",
   "outputs": [
    {
     "data": {
      "text/plain": "                                     0\n0                  щхьэусыгъуэ/причина\n1                        нэхъыфI/лучше\n2                                  и/и\n3                                  –/–\n4                                  «/«\n...                                ...\n9558  ДиректорыщIэу/Как новый директор\n9559  зылI-лIитIкIэ/двумя-тремя людьми\n9560          къызэхэзыублари/начавший\n9561  Iуэхутхьэбзэшхуэу/большая услуга\n9562            хузэфIэмыкIауэ/не смог\n\n[177339 rows x 1 columns]",
      "text/html": "<div>\n<style scoped>\n    .dataframe tbody tr th:only-of-type {\n        vertical-align: middle;\n    }\n\n    .dataframe tbody tr th {\n        vertical-align: top;\n    }\n\n    .dataframe thead th {\n        text-align: right;\n    }\n</style>\n<table border=\"1\" class=\"dataframe\">\n  <thead>\n    <tr style=\"text-align: right;\">\n      <th></th>\n      <th>0</th>\n    </tr>\n  </thead>\n  <tbody>\n    <tr>\n      <th>0</th>\n      <td>щхьэусыгъуэ/причина</td>\n    </tr>\n    <tr>\n      <th>1</th>\n      <td>нэхъыфI/лучше</td>\n    </tr>\n    <tr>\n      <th>2</th>\n      <td>и/и</td>\n    </tr>\n    <tr>\n      <th>3</th>\n      <td>–/–</td>\n    </tr>\n    <tr>\n      <th>4</th>\n      <td>«/«</td>\n    </tr>\n    <tr>\n      <th>...</th>\n      <td>...</td>\n    </tr>\n    <tr>\n      <th>9558</th>\n      <td>ДиректорыщIэу/Как новый директор</td>\n    </tr>\n    <tr>\n      <th>9559</th>\n      <td>зылI-лIитIкIэ/двумя-тремя людьми</td>\n    </tr>\n    <tr>\n      <th>9560</th>\n      <td>къызэхэзыублари/начавший</td>\n    </tr>\n    <tr>\n      <th>9561</th>\n      <td>Iуэхутхьэбзэшхуэу/большая услуга</td>\n    </tr>\n    <tr>\n      <th>9562</th>\n      <td>хузэфIэмыкIауэ/не смог</td>\n    </tr>\n  </tbody>\n</table>\n<p>177339 rows × 1 columns</p>\n</div>"
     },
     "execution_count": 5,
     "metadata": {},
     "output_type": "execute_result"
    }
   ],
   "source": [
    "df = pd.concat([df, pd.read_csv('../data/processed/word_freqs/freq_1000000_oshhamaho_haiku_2.csv')])\n",
    "df = pd.concat([df, pd.read_csv('../data/processed/word_freqs/freq_1000000_oshhamaho_haiku_3.csv')])\n",
    "df = pd.concat([df, pd.read_csv('../data/processed/word_freqs/freq_1000000_oshhamaho_haiku_4.csv')])\n",
    "df = pd.concat([df, pd.read_csv('../data/processed/word_freqs/freq_1000000_oshhamaho_tr_1.csv')])\n",
    "df = pd.concat([df, pd.read_csv('../data/processed/word_freqs/freq_1000000_oshhamaho_tr_2.csv')])\n",
    "df = pd.concat([df, pd.read_csv('../data/processed/word_freqs/freq_1000000_oshhamaho_tr_3.csv')])\n",
    "df = pd.concat([df, pd.read_csv('../data/processed/word_freqs/freq_1000000_oshhamaho_tr_4.csv')])\n",
    "df = pd.concat([df, pd.read_csv('../data/processed/word_freqs/freq_1000000_oshhamaho_tr_5.csv')])\n",
    "df = pd.concat([df, pd.read_csv('../data/processed/word_freqs/freq_1000000_oshhamaho_tr_6.csv')])\n",
    "df"
   ],
   "metadata": {
    "collapsed": false,
    "ExecuteTime": {
     "end_time": "2024-03-18T00:40:12.969481Z",
     "start_time": "2024-03-18T00:40:12.812013Z"
    }
   },
   "id": "10a3d54abef6a950",
   "execution_count": 5
  },
  {
   "cell_type": "code",
   "outputs": [
    {
     "name": "stderr",
     "output_type": "stream",
     "text": [
      "/var/folders/1_/ss0tzds95cjf19d6s8b1cdf80000gn/T/ipykernel_18394/1107177367.py:1: SettingWithCopyWarning: \n",
      "A value is trying to be set on a copy of a slice from a DataFrame\n",
      "\n",
      "See the caveats in the documentation: https://pandas.pydata.org/pandas-docs/stable/user_guide/indexing.html#returning-a-view-versus-a-copy\n",
      "  df.dropna(inplace=True)\n"
     ]
    },
    {
     "data": {
      "text/plain": "                                     0                kbd                 rus\n0                  щхьэусыгъуэ/причина        щхьэусыгъуэ             причина\n1                        нэхъыфI/лучше            нэхъыфI               лучше\n2                                  и/и                  и                   и\n3                                  –/–                  –                   –\n4                                  «/«                  «                   «\n...                                ...                ...                 ...\n9558  ДиректорыщIэу/Как новый директор      ДиректорыщIэу  Как новый директор\n9559  зылI-лIитIкIэ/двумя-тремя людьми      зылI-лIитIкIэ  двумя-тремя людьми\n9560          къызэхэзыублари/начавший    къызэхэзыублари            начавший\n9561  Iуэхутхьэбзэшхуэу/большая услуга  Iуэхутхьэбзэшхуэу      большая услуга\n9562            хузэфIэмыкIауэ/не смог     хузэфIэмыкIауэ             не смог\n\n[174975 rows x 3 columns]",
      "text/html": "<div>\n<style scoped>\n    .dataframe tbody tr th:only-of-type {\n        vertical-align: middle;\n    }\n\n    .dataframe tbody tr th {\n        vertical-align: top;\n    }\n\n    .dataframe thead th {\n        text-align: right;\n    }\n</style>\n<table border=\"1\" class=\"dataframe\">\n  <thead>\n    <tr style=\"text-align: right;\">\n      <th></th>\n      <th>0</th>\n      <th>kbd</th>\n      <th>rus</th>\n    </tr>\n  </thead>\n  <tbody>\n    <tr>\n      <th>0</th>\n      <td>щхьэусыгъуэ/причина</td>\n      <td>щхьэусыгъуэ</td>\n      <td>причина</td>\n    </tr>\n    <tr>\n      <th>1</th>\n      <td>нэхъыфI/лучше</td>\n      <td>нэхъыфI</td>\n      <td>лучше</td>\n    </tr>\n    <tr>\n      <th>2</th>\n      <td>и/и</td>\n      <td>и</td>\n      <td>и</td>\n    </tr>\n    <tr>\n      <th>3</th>\n      <td>–/–</td>\n      <td>–</td>\n      <td>–</td>\n    </tr>\n    <tr>\n      <th>4</th>\n      <td>«/«</td>\n      <td>«</td>\n      <td>«</td>\n    </tr>\n    <tr>\n      <th>...</th>\n      <td>...</td>\n      <td>...</td>\n      <td>...</td>\n    </tr>\n    <tr>\n      <th>9558</th>\n      <td>ДиректорыщIэу/Как новый директор</td>\n      <td>ДиректорыщIэу</td>\n      <td>Как новый директор</td>\n    </tr>\n    <tr>\n      <th>9559</th>\n      <td>зылI-лIитIкIэ/двумя-тремя людьми</td>\n      <td>зылI-лIитIкIэ</td>\n      <td>двумя-тремя людьми</td>\n    </tr>\n    <tr>\n      <th>9560</th>\n      <td>къызэхэзыублари/начавший</td>\n      <td>къызэхэзыублари</td>\n      <td>начавший</td>\n    </tr>\n    <tr>\n      <th>9561</th>\n      <td>Iуэхутхьэбзэшхуэу/большая услуга</td>\n      <td>Iуэхутхьэбзэшхуэу</td>\n      <td>большая услуга</td>\n    </tr>\n    <tr>\n      <th>9562</th>\n      <td>хузэфIэмыкIауэ/не смог</td>\n      <td>хузэфIэмыкIауэ</td>\n      <td>не смог</td>\n    </tr>\n  </tbody>\n</table>\n<p>174975 rows × 3 columns</p>\n</div>"
     },
     "execution_count": 10,
     "metadata": {},
     "output_type": "execute_result"
    }
   ],
   "source": [
    "df.dropna(inplace=True)\n",
    "df = df[df['0'].apply(lambda x: len(x.split('/')) == 2)]\n",
    "\n",
    "df['kbd'] = df['0'].apply(lambda x: x.split('/')[0])\n",
    "df['rus'] = df['0'].apply(lambda x: x.split('/')[1])\n",
    "df"
   ],
   "metadata": {
    "collapsed": false,
    "ExecuteTime": {
     "end_time": "2024-03-18T00:42:57.181290Z",
     "start_time": "2024-03-18T00:42:57.009224Z"
    }
   },
   "id": "766fe1e2bf5c6bb4",
   "execution_count": 10
  },
  {
   "cell_type": "code",
   "outputs": [
    {
     "data": {
      "text/plain": "                              0           kbd           rus\n2                           и/и             и             и\n3                           –/–             –             –\n4                           «/«             «             «\n5                           »/»             »             »\n6                           я/я             я             я\n...                         ...           ...           ...\n9297  Лъэрымыхьхэр/Лъэрымыхьхэр  Лъэрымыхьхэр  Лъэрымыхьхэр\n9312        гъукIэхэр/гъукIэхэр     гъукIэхэр     гъукIэхэр\n9488        1948-1949/1948-1949     1948-1949     1948-1949\n9512                    5-8/5-8           5-8           5-8\n9513              60-100/60-100        60-100        60-100\n\n[9135 rows x 3 columns]",
      "text/html": "<div>\n<style scoped>\n    .dataframe tbody tr th:only-of-type {\n        vertical-align: middle;\n    }\n\n    .dataframe tbody tr th {\n        vertical-align: top;\n    }\n\n    .dataframe thead th {\n        text-align: right;\n    }\n</style>\n<table border=\"1\" class=\"dataframe\">\n  <thead>\n    <tr style=\"text-align: right;\">\n      <th></th>\n      <th>0</th>\n      <th>kbd</th>\n      <th>rus</th>\n    </tr>\n  </thead>\n  <tbody>\n    <tr>\n      <th>2</th>\n      <td>и/и</td>\n      <td>и</td>\n      <td>и</td>\n    </tr>\n    <tr>\n      <th>3</th>\n      <td>–/–</td>\n      <td>–</td>\n      <td>–</td>\n    </tr>\n    <tr>\n      <th>4</th>\n      <td>«/«</td>\n      <td>«</td>\n      <td>«</td>\n    </tr>\n    <tr>\n      <th>5</th>\n      <td>»/»</td>\n      <td>»</td>\n      <td>»</td>\n    </tr>\n    <tr>\n      <th>6</th>\n      <td>я/я</td>\n      <td>я</td>\n      <td>я</td>\n    </tr>\n    <tr>\n      <th>...</th>\n      <td>...</td>\n      <td>...</td>\n      <td>...</td>\n    </tr>\n    <tr>\n      <th>9297</th>\n      <td>Лъэрымыхьхэр/Лъэрымыхьхэр</td>\n      <td>Лъэрымыхьхэр</td>\n      <td>Лъэрымыхьхэр</td>\n    </tr>\n    <tr>\n      <th>9312</th>\n      <td>гъукIэхэр/гъукIэхэр</td>\n      <td>гъукIэхэр</td>\n      <td>гъукIэхэр</td>\n    </tr>\n    <tr>\n      <th>9488</th>\n      <td>1948-1949/1948-1949</td>\n      <td>1948-1949</td>\n      <td>1948-1949</td>\n    </tr>\n    <tr>\n      <th>9512</th>\n      <td>5-8/5-8</td>\n      <td>5-8</td>\n      <td>5-8</td>\n    </tr>\n    <tr>\n      <th>9513</th>\n      <td>60-100/60-100</td>\n      <td>60-100</td>\n      <td>60-100</td>\n    </tr>\n  </tbody>\n</table>\n<p>9135 rows × 3 columns</p>\n</div>"
     },
     "execution_count": 12,
     "metadata": {},
     "output_type": "execute_result"
    }
   ],
   "source": [
    "df_equal = df[df['kbd'] == df['rus']]\n",
    "df_equal"
   ],
   "metadata": {
    "collapsed": false,
    "ExecuteTime": {
     "end_time": "2024-03-18T00:45:06.378883Z",
     "start_time": "2024-03-18T00:45:06.371137Z"
    }
   },
   "id": "60e7d8fb67ddf537",
   "execution_count": 12
  },
  {
   "cell_type": "code",
   "outputs": [],
   "source": [
    "df.to_csv('../data/processed/word_freqs/freq_1000000_oshhamaho_translated.csv', index=False)"
   ],
   "metadata": {
    "collapsed": false,
    "ExecuteTime": {
     "end_time": "2024-03-18T00:48:05.380287Z",
     "start_time": "2024-03-18T00:48:05.066819Z"
    }
   },
   "id": "d7458d22e2a2202d",
   "execution_count": 14
  },
  {
   "cell_type": "code",
   "outputs": [],
   "source": [],
   "metadata": {
    "collapsed": false
   },
   "id": "f9de7cae91fce982"
  }
 ],
 "metadata": {
  "kernelspec": {
   "display_name": "Python 3",
   "language": "python",
   "name": "python3"
  },
  "language_info": {
   "codemirror_mode": {
    "name": "ipython",
    "version": 2
   },
   "file_extension": ".py",
   "mimetype": "text/x-python",
   "name": "python",
   "nbconvert_exporter": "python",
   "pygments_lexer": "ipython2",
   "version": "2.7.6"
  }
 },
 "nbformat": 4,
 "nbformat_minor": 5
}
