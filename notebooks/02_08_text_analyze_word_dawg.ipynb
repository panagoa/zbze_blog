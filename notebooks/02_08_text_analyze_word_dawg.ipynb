{
 "cells": [
  {
   "cell_type": "markdown",
   "source": [
    "После визуализации процесса токенизации слов с помощью конечного автомата, мы переходим к использованию префиксных деревьев (trie), что позволяет нам ещё более глубоко анализировать и оптимизировать поиск и обработку слов в больших текстовых корпусах. \n",
    "\n",
    "Префиксное дерево ускоряет поиск слов по начальным буквам или фрагментам, обеспечивая эффективную и точную обработку языковых данных, что особенно важно при работе с агглютинативными языками и комплексными морфологическими структурами."
   ],
   "metadata": {
    "collapsed": false
   }
  },
  {
   "cell_type": "code",
   "execution_count": 9,
   "outputs": [],
   "source": [
    "with open('../data/processed/word_freqs/freq_1000000_oshhamaho.txt') as f:\n",
    "    words = f.read().split('\\n')"
   ],
   "metadata": {
    "collapsed": false,
    "ExecuteTime": {
     "end_time": "2024-01-01T23:32:29.151397Z",
     "start_time": "2024-01-01T23:32:29.083833Z"
    }
   }
  },
  {
   "cell_type": "code",
   "execution_count": 10,
   "outputs": [],
   "source": [
    "import ahocorasick\n",
    "trie = ahocorasick.Automaton(key_type=\"str\", value_type=\"int\")"
   ],
   "metadata": {
    "collapsed": false,
    "ExecuteTime": {
     "end_time": "2024-01-01T23:32:29.964265Z",
     "start_time": "2024-01-01T23:32:29.962254Z"
    }
   }
  },
  {
   "cell_type": "code",
   "execution_count": 11,
   "outputs": [],
   "source": [
    "for id, word in enumerate(sorted(words)):\n",
    "    trie.add_word(word, id)\n",
    "\n",
    "trie.make_automaton()"
   ],
   "metadata": {
    "collapsed": false,
    "ExecuteTime": {
     "end_time": "2024-01-01T23:32:30.923922Z",
     "start_time": "2024-01-01T23:32:30.618747Z"
    }
   }
  },
  {
   "cell_type": "code",
   "execution_count": 12,
   "outputs": [
    {
     "data": {
      "text/plain": "['к',\n 'къ',\n 'къы',\n 'къыгурыIуэ',\n 'къыгурыIуэр',\n 'къыгурыIуэрт',\n 'къыгурыIуэртэкъым']"
     },
     "execution_count": 12,
     "metadata": {},
     "output_type": "execute_result"
    }
   ],
   "source": [
    "list(trie.keys('къыгурыIуэртэкъым', '?', ahocorasick.MATCH_AT_MOST_PREFIX))"
   ],
   "metadata": {
    "collapsed": false,
    "ExecuteTime": {
     "end_time": "2024-01-01T23:32:31.487999Z",
     "start_time": "2024-01-01T23:32:31.476806Z"
    }
   }
  },
  {
   "cell_type": "code",
   "execution_count": 13,
   "outputs": [
    {
     "data": {
      "text/plain": "['къыдэжтэкъыми', 'къыдиттэкъым']"
     },
     "execution_count": 13,
     "metadata": {},
     "output_type": "execute_result"
    }
   ],
   "source": [
    "list(trie.keys('къы???тэкъым', '?', ahocorasick.MATCH_AT_LEAST_PREFIX))"
   ],
   "metadata": {
    "collapsed": false,
    "ExecuteTime": {
     "end_time": "2024-01-01T23:32:32.215221Z",
     "start_time": "2024-01-01T23:32:32.201810Z"
    }
   }
  },
  {
   "cell_type": "code",
   "execution_count": 14,
   "outputs": [
    {
     "data": {
      "text/plain": "18"
     },
     "execution_count": 14,
     "metadata": {},
     "output_type": "execute_result"
    }
   ],
   "source": [
    "trie.longest_prefix('къыгурыIуэртэкъыми')"
   ],
   "metadata": {
    "collapsed": false,
    "ExecuteTime": {
     "end_time": "2024-01-01T23:32:33.102126Z",
     "start_time": "2024-01-01T23:32:32.992954Z"
    }
   }
  },
  {
   "cell_type": "code",
   "execution_count": null,
   "outputs": [],
   "source": [],
   "metadata": {
    "collapsed": false
   }
  }
 ],
 "metadata": {
  "kernelspec": {
   "display_name": "Python 3",
   "language": "python",
   "name": "python3"
  },
  "language_info": {
   "codemirror_mode": {
    "name": "ipython",
    "version": 2
   },
   "file_extension": ".py",
   "mimetype": "text/x-python",
   "name": "python",
   "nbconvert_exporter": "python",
   "pygments_lexer": "ipython2",
   "version": "2.7.6"
  }
 },
 "nbformat": 4,
 "nbformat_minor": 0
}
