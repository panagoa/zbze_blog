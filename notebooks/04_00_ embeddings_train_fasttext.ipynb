{
 "cells": [
  {
   "cell_type": "code",
   "execution_count": 1,
   "outputs": [],
   "source": [
    "import os\n",
    "\n",
    "import nltk\n",
    "\n",
    "file_dir = '../data/processed'\n",
    "\n",
    "file_list = [\n",
    "    'apkbr_ru.txt',\n",
    "    'elgkbr_ru.txt',\n",
    "    'oshhamaho.txt',\n",
    "]\n",
    "\n",
    "\n",
    "def clen_sentence(sentence):\n",
    "    return ' '.join(nltk.word_tokenize(sentence))\n",
    "\n",
    "\n",
    "sentences = []\n",
    "for file in file_list:\n",
    "    with open(os.path.join(file_dir, file), 'r') as f:\n",
    "        text = f.read()\n",
    "\n",
    "    for sent in nltk.sent_tokenize(text):\n",
    "        if len(sent) > 10:\n",
    "            sentences.append(clen_sentence(sent))"
   ],
   "metadata": {
    "collapsed": false,
    "ExecuteTime": {
     "end_time": "2024-01-08T21:30:32.555911Z",
     "start_time": "2024-01-08T21:29:49.517669Z"
    }
   }
  },
  {
   "cell_type": "code",
   "execution_count": 2,
   "outputs": [],
   "source": [
    "with open(os.path.join(file_dir, 'all_sentences.txt'), 'w') as f:\n",
    "    f.write('\\n'.join(sentences))"
   ],
   "metadata": {
    "collapsed": false,
    "ExecuteTime": {
     "end_time": "2024-01-08T21:30:32.992122Z",
     "start_time": "2024-01-08T21:30:32.555257Z"
    }
   }
  },
  {
   "cell_type": "code",
   "execution_count": null,
   "outputs": [
    {
     "name": "stderr",
     "output_type": "stream",
     "text": [
      "Read 12M words\n",
      "Number of words:  782803\n",
      "Number of labels: 0\n",
      "Progress:   0.4% words/sec/thread:   23954 lr:  0.049820 avg.loss:  1.757137 ETA:   2h 5m41s"
     ]
    }
   ],
   "source": [
    "import fasttext\n",
    "\n",
    "train_file = os.path.join(file_dir, 'all_sentences.txt')\n",
    "model = fasttext.train_unsupervised(train_file, model='skipgram', dim=300, minCount=1, epoch=100)"
   ],
   "metadata": {
    "collapsed": false,
    "ExecuteTime": {
     "start_time": "2024-01-08T21:30:36.454290Z"
    }
   }
  },
  {
   "cell_type": "code",
   "execution_count": 4,
   "outputs": [
    {
     "data": {
      "text/plain": "[(0.9684677124023438, 'къыщыщыщI'),\n (0.9527106881141663, 'къыщыщIредз'),\n (0.9510614275932312, 'къыщыщIач'),\n (0.9502308368682861, 'къыщыщIож'),\n (0.9416472315788269, 'къыщыщIедз'),\n (0.9369624257087708, 'къыщыщIаи'),\n (0.9333284497261047, 'къыщыщIаш'),\n (0.9326284527778625, 'къыщыщIонэ'),\n (0.9306735992431641, 'къыщыщIих'),\n (0.9298132658004761, 'къыщыщIаIа'),\n (0.9294468760490417, 'къыщыщыщIи'),\n (0.9292056560516357, 'къыщыщIа'),\n (0.9250522255897522, 'къыщыщес'),\n (0.9246267676353455, 'къыщыщIэ'),\n (0.9223350882530212, 'къыщыщIэ-'),\n (0.9217402935028076, 'къыщыщыщIаи'),\n (0.9177662134170532, 'къыщыщIаша'),\n (0.9164496660232544, 'къыщыщIачым'),\n (0.9163097739219666, 'къыщыщIмэ'),\n (0.9152031540870667, 'къыщыщIишым')]"
     },
     "execution_count": 4,
     "metadata": {},
     "output_type": "execute_result"
    }
   ],
   "source": [
    "model.get_nearest_neighbors('къыщыщI', k=20)"
   ],
   "metadata": {
    "collapsed": false,
    "ExecuteTime": {
     "end_time": "2024-01-07T18:13:44.015317Z",
     "start_time": "2024-01-07T18:13:44.013236Z"
    }
   }
  },
  {
   "cell_type": "code",
   "execution_count": 5,
   "outputs": [],
   "source": [
    "model_dir = '../data/processed/embeddings'\n",
    "os.makedirs(model_dir, exist_ok=True)\n",
    "\n",
    "model.save_model(os.path.join(model_dir, 'fasttext_skipgram_kbd_300.bin'))"
   ],
   "metadata": {
    "collapsed": false,
    "ExecuteTime": {
     "end_time": "2024-01-07T18:13:51.006141Z",
     "start_time": "2024-01-07T18:13:44.015557Z"
    }
   }
  },
  {
   "cell_type": "code",
   "execution_count": 8,
   "outputs": [
    {
     "data": {
      "text/plain": "[(0.9828749895095825, 'Уабрагъуэ'),\n (0.9389511942863464, 'Абрагъуэ'),\n (0.9116460680961609, 'абрагъуэщ-'),\n (0.8895884156227112, 'абрагъуэжь'),\n (0.8730685114860535, 'абрагъуэр…'),\n (0.8383749127388, 'абрагъуэщи'),\n (0.8309344053268433, 'абрагъуэт'),\n (0.819878876209259, 'абрагъуэр'),\n (0.8158175349235535, 'абрагъуэм'),\n (0.8140588402748108, 'лIышхуэбрагъуэ')]"
     },
     "execution_count": 8,
     "metadata": {},
     "output_type": "execute_result"
    }
   ],
   "source": [
    "model.get_nearest_neighbors('абрагъуэ')"
   ],
   "metadata": {
    "collapsed": false,
    "ExecuteTime": {
     "end_time": "2024-01-07T18:35:39.193856Z",
     "start_time": "2024-01-07T18:35:39.192357Z"
    }
   }
  },
  {
   "cell_type": "code",
   "execution_count": null,
   "outputs": [],
   "source": [],
   "metadata": {
    "collapsed": false
   }
  }
 ],
 "metadata": {
  "kernelspec": {
   "display_name": "Python 3",
   "language": "python",
   "name": "python3"
  },
  "language_info": {
   "codemirror_mode": {
    "name": "ipython",
    "version": 2
   },
   "file_extension": ".py",
   "mimetype": "text/x-python",
   "name": "python",
   "nbconvert_exporter": "python",
   "pygments_lexer": "ipython2",
   "version": "2.7.6"
  }
 },
 "nbformat": 4,
 "nbformat_minor": 0
}
