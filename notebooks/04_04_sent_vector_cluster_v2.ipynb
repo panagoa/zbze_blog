{
 "cells": [
  {
   "cell_type": "code",
   "source": [
    "from sentence_transformers import SentenceTransformer\n",
    "\n",
    "model = SentenceTransformer('./sbert_from_mlm_bert_mix_2')"
   ],
   "metadata": {
    "collapsed": false,
    "ExecuteTime": {
     "end_time": "2024-08-13T22:54:17.123929Z",
     "start_time": "2024-08-13T22:54:13.647726Z"
    }
   },
   "outputs": [],
   "execution_count": 1
  },
  {
   "cell_type": "code",
   "source": [
    "import nltk\n",
    "import pandas as pd\n",
    "\n",
    "with open('../data/interim/oshhamaho/кавказский пленник.rus.txt', 'r') as f:\n",
    "    text_rus = f.read()\n",
    "    \n",
    "with open('../data/interim/oshhamaho/кавказский пленник.kbd.txt', 'r') as f:\n",
    "    text_kbd = f.read()\n",
    "\n",
    "\n",
    "df_rus = pd.DataFrame(nltk.sent_tokenize(text_rus), columns=['sent'])\n",
    "df_rus.rename(columns={'Unnamed: 0': 'sent'}, inplace=True)\n",
    "df_kbd = pd.DataFrame(nltk.sent_tokenize(text_kbd), columns=['sent'])\n",
    "df_kbd.rename(columns={'Unnamed: 0': 'sent'}, inplace=True)\n",
    "\n",
    "df_rus['vector'] = df_rus['sent'].apply(lambda x: model.encode(x))\n",
    "df_kbd['vector'] = df_kbd['sent'].apply(lambda x: model.encode(x))"
   ],
   "metadata": {
    "collapsed": false,
    "ExecuteTime": {
     "end_time": "2024-08-13T22:54:40.310643Z",
     "start_time": "2024-08-13T22:54:18.118436Z"
    }
   },
   "outputs": [],
   "execution_count": 2
  },
  {
   "metadata": {
    "ExecuteTime": {
     "end_time": "2024-08-13T22:54:42.248942Z",
     "start_time": "2024-08-13T22:54:42.135798Z"
    }
   },
   "cell_type": "code",
   "source": [
    "import numpy as np\n",
    "\n",
    "def cosine_similarity(v1, v2):\n",
    "    return np.dot(v1, v2) / (np.linalg.norm(v1) * np.linalg.norm(v2))\n",
    "\n",
    "window = 10\n",
    "output_file = '../data/interim/oshhamaho/кавказский пленник.rus_kbd.draft3.txt'\n",
    "\n",
    "# Сравнение текстов\n",
    "with open(output_file, 'w') as f:\n",
    "    for i, (rus_sent, rus_vector) in enumerate(zip(df_rus['sent'], df_rus['vector'])):\n",
    "        f.write(f'{rus_sent}\\n')\n",
    "        \n",
    "        start = max(0, i - window)\n",
    "        end = min(len(df_kbd), i + window)\n",
    "        \n",
    "        similarities = [\n",
    "            (kbd_sent, cosine_similarity(rus_vector, kbd_vector))\n",
    "            for kbd_sent, kbd_vector in zip(df_kbd['sent'][start:end], df_kbd['vector'][start:end])\n",
    "        ]\n",
    "\n",
    "        for kbd, score in sorted(similarities, key=lambda x: x[1], reverse=True):\n",
    "            f.write(f'\\t{score:.2f} {kbd}\\n')\n",
    "        \n",
    "        f.write('\\n')"
   ],
   "outputs": [],
   "execution_count": 3
  },
  {
   "metadata": {},
   "cell_type": "code",
   "outputs": [],
   "execution_count": null,
   "source": ""
  }
 ],
 "metadata": {
  "kernelspec": {
   "display_name": "Python 3",
   "language": "python",
   "name": "python3"
  },
  "language_info": {
   "codemirror_mode": {
    "name": "ipython",
    "version": 2
   },
   "file_extension": ".py",
   "mimetype": "text/x-python",
   "name": "python",
   "nbconvert_exporter": "python",
   "pygments_lexer": "ipython2",
   "version": "2.7.6"
  }
 },
 "nbformat": 4,
 "nbformat_minor": 0
}
