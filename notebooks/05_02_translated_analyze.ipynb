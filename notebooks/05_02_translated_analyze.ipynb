§{
 "cells": [
  {
   "cell_type": "code",
   "execution_count": 3,
   "id": "initial_id",
   "metadata": {
    "collapsed": true,
    "ExecuteTime": {
     "end_time": "2024-01-21T15:51:20.486572Z",
     "start_time": "2024-01-21T15:51:20.340739Z"
    }
   },
   "outputs": [],
   "source": [
    "import json\n",
    "import os\n",
    "\n",
    "translated_data = []\n",
    "\n",
    "translated_dir = '../data/processed/translated'\n",
    "\n",
    "for f_name in os.listdir(translated_dir):\n",
    "    if not f_name.endswith('.json'):\n",
    "        continue\n",
    "\n",
    "    with open(os.path.join(translated_dir, f_name), 'r') as f:\n",
    "        f_data = json.load(f)\n",
    "        translated_data.extend(f_data)"
   ]
  },
  {
   "cell_type": "code",
   "execution_count": 6,
   "outputs": [],
   "source": [
    "import pandas as pd\n",
    "\n",
    "df = pd.DataFrame(translated_data)"
   ],
   "metadata": {
    "collapsed": false,
    "ExecuteTime": {
     "end_time": "2024-01-21T15:52:35.710536Z",
     "start_time": "2024-01-21T15:52:35.168368Z"
    }
   },
   "id": "262c18b4cb092ead"
  },
  {
   "cell_type": "code",
   "execution_count": 7,
   "outputs": [
    {
     "data": {
      "text/plain": "             id lang_1                                             text_1  \\\n0       1993569    rus                          Уберись у себя в комнате.   \n1       1993577    rus                                  Он сам проснулся.   \n2       1993580    rus  Том не знает разницы между автоматом и автокра...   \n3       1993582    rus            Мне приходится содержать большую семью.   \n4       1993642    rus  От \"чайника\" с добрыми намерениями жди совета,...   \n...         ...    ...                                                ...   \n109995  1993554    rus                                            Очнись.   \n109996  1993556    rus                                Которая кошка твоя?   \n109997  1993559    rus                   Мои друзья навестили меня вчера.   \n109998  1993563    rus             Они закончили шахматную партию ничьей.   \n109999  1993566    rus               Шахматную партию они сыграли вничью.   \n\n       lang_2                                             text_2  \n0         kbd                                  Пэшым зыщыщӀыхьэ.  \n1         kbd                                   Ар езыр къэушащ.  \n2         kbd  Томым ищӀэркъым автоматымрэ автократымрэ я зэр...  \n3         kbd                         Унагъуэшхуэ сӀыгъын хуейщ.  \n4         kbd  \"Шейныкъуэм и мурадыфӀэхэмкӀэ къыпэплъэ, армэг...  \n...       ...                                                ...  \n109995    kbd                                          ЗытхьэщӀ.  \n109996    kbd                               Уи джэдур сыт хуэдэ?  \n109997    kbd       Сэ си ныбжьэгъухэм дыгъуасэ къысхуагъэкӀуащ.  \n109998    kbd                 Абыхэм шахмат джэгуныр зыми иухащ.  \n109999    kbd                     Шахмат джэгукӀэ зэрыджэгуахэщ.  \n\n[110000 rows x 5 columns]",
      "text/html": "<div>\n<style scoped>\n    .dataframe tbody tr th:only-of-type {\n        vertical-align: middle;\n    }\n\n    .dataframe tbody tr th {\n        vertical-align: top;\n    }\n\n    .dataframe thead th {\n        text-align: right;\n    }\n</style>\n<table border=\"1\" class=\"dataframe\">\n  <thead>\n    <tr style=\"text-align: right;\">\n      <th></th>\n      <th>id</th>\n      <th>lang_1</th>\n      <th>text_1</th>\n      <th>lang_2</th>\n      <th>text_2</th>\n    </tr>\n  </thead>\n  <tbody>\n    <tr>\n      <th>0</th>\n      <td>1993569</td>\n      <td>rus</td>\n      <td>Уберись у себя в комнате.</td>\n      <td>kbd</td>\n      <td>Пэшым зыщыщӀыхьэ.</td>\n    </tr>\n    <tr>\n      <th>1</th>\n      <td>1993577</td>\n      <td>rus</td>\n      <td>Он сам проснулся.</td>\n      <td>kbd</td>\n      <td>Ар езыр къэушащ.</td>\n    </tr>\n    <tr>\n      <th>2</th>\n      <td>1993580</td>\n      <td>rus</td>\n      <td>Том не знает разницы между автоматом и автокра...</td>\n      <td>kbd</td>\n      <td>Томым ищӀэркъым автоматымрэ автократымрэ я зэр...</td>\n    </tr>\n    <tr>\n      <th>3</th>\n      <td>1993582</td>\n      <td>rus</td>\n      <td>Мне приходится содержать большую семью.</td>\n      <td>kbd</td>\n      <td>Унагъуэшхуэ сӀыгъын хуейщ.</td>\n    </tr>\n    <tr>\n      <th>4</th>\n      <td>1993642</td>\n      <td>rus</td>\n      <td>От \"чайника\" с добрыми намерениями жди совета,...</td>\n      <td>kbd</td>\n      <td>\"Шейныкъуэм и мурадыфӀэхэмкӀэ къыпэплъэ, армэг...</td>\n    </tr>\n    <tr>\n      <th>...</th>\n      <td>...</td>\n      <td>...</td>\n      <td>...</td>\n      <td>...</td>\n      <td>...</td>\n    </tr>\n    <tr>\n      <th>109995</th>\n      <td>1993554</td>\n      <td>rus</td>\n      <td>Очнись.</td>\n      <td>kbd</td>\n      <td>ЗытхьэщӀ.</td>\n    </tr>\n    <tr>\n      <th>109996</th>\n      <td>1993556</td>\n      <td>rus</td>\n      <td>Которая кошка твоя?</td>\n      <td>kbd</td>\n      <td>Уи джэдур сыт хуэдэ?</td>\n    </tr>\n    <tr>\n      <th>109997</th>\n      <td>1993559</td>\n      <td>rus</td>\n      <td>Мои друзья навестили меня вчера.</td>\n      <td>kbd</td>\n      <td>Сэ си ныбжьэгъухэм дыгъуасэ къысхуагъэкӀуащ.</td>\n    </tr>\n    <tr>\n      <th>109998</th>\n      <td>1993563</td>\n      <td>rus</td>\n      <td>Они закончили шахматную партию ничьей.</td>\n      <td>kbd</td>\n      <td>Абыхэм шахмат джэгуныр зыми иухащ.</td>\n    </tr>\n    <tr>\n      <th>109999</th>\n      <td>1993566</td>\n      <td>rus</td>\n      <td>Шахматную партию они сыграли вничью.</td>\n      <td>kbd</td>\n      <td>Шахмат джэгукӀэ зэрыджэгуахэщ.</td>\n    </tr>\n  </tbody>\n</table>\n<p>110000 rows × 5 columns</p>\n</div>"
     },
     "execution_count": 7,
     "metadata": {},
     "output_type": "execute_result"
    }
   ],
   "source": [
    "df"
   ],
   "metadata": {
    "collapsed": false,
    "ExecuteTime": {
     "end_time": "2024-01-21T15:52:38.416184Z",
     "start_time": "2024-01-21T15:52:38.403809Z"
    }
   },
   "id": "be598b2c7f905bc9"
  },
  {
   "cell_type": "code",
   "execution_count": 9,
   "outputs": [],
   "source": [
    "kbd_sentences = df['text_2'].to_list()"
   ],
   "metadata": {
    "collapsed": false,
    "ExecuteTime": {
     "end_time": "2024-01-21T15:56:08.845257Z",
     "start_time": "2024-01-21T15:56:08.843659Z"
    }
   },
   "id": "6a221312071bffee"
  },
  {
   "cell_type": "code",
   "execution_count": 23,
   "outputs": [
    {
     "name": "stderr",
     "output_type": "stream",
     "text": [
      "Warning : `load_model` does not return WordVectorModel or SupervisedModel any more, but a `FastText` object which is very similar.\n"
     ]
    }
   ],
   "source": [
    "import fasttext\n",
    "\n",
    "kbd_model = fasttext.load_model('../data/processed/embeddings/fasttext_skipgram_kbd_300.bin')"
   ],
   "metadata": {
    "collapsed": false,
    "ExecuteTime": {
     "end_time": "2024-01-21T16:19:33.913449Z",
     "start_time": "2024-01-21T16:19:27.860034Z"
    }
   },
   "id": "bceb2afd4a315a93"
  },
  {
   "cell_type": "code",
   "execution_count": 24,
   "outputs": [
    {
     "name": "stderr",
     "output_type": "stream",
     "text": [
      "100%|██████████| 110000/110000 [00:03<00:00, 31345.77it/s]\n"
     ]
    }
   ],
   "source": [
    "from tqdm import tqdm\n",
    "\n",
    "sent_vectors = []\n",
    "\n",
    "for sent in tqdm(kbd_sentences):\n",
    "    sent_vectors.append({\n",
    "        'sent': sent,\n",
    "        'vecor': kbd_model.get_sentence_vector(sent) \n",
    "    })"
   ],
   "metadata": {
    "collapsed": false,
    "ExecuteTime": {
     "end_time": "2024-01-21T16:20:10.115578Z",
     "start_time": "2024-01-21T16:20:06.604367Z"
    }
   },
   "id": "831e80b127d46623"
  },
  {
   "cell_type": "code",
   "execution_count": 29,
   "outputs": [
    {
     "name": "stderr",
     "output_type": "stream",
     "text": [
      "/Users/panagoa/PycharmProjects/zbze_blog/venv/lib/python3.11/site-packages/argilla/client/client.py:157: UserWarning: Default user was detected and no workspace configuration was provided, so the default 'argilla' workspace will be used. If you want to setup another workspace, use the `rg.set_workspace` function or provide a different one on `rg.init`\n",
      "  warnings.warn(\n",
      "  0%|          | 0/110000 [00:00<?, ?it/s]/var/folders/1_/ss0tzds95cjf19d6s8b1cdf80000gn/T/ipykernel_29296/719171231.py:12: DeprecationWarning: Integer ids won't be supported in future versions. We recommend to start using strings instead. For datasets already containing integer values we recommend migrating them to avoid deprecation issues. See https://docs.argilla.io/en/latest/getting_started/installation/configurations/database_migrations.html#elasticsearch\n",
      "  Text2TextRecord(\n",
      "100%|██████████| 110000/110000 [00:51<00:00, 2126.25it/s]\n"
     ]
    },
    {
     "data": {
      "text/plain": "Output()",
      "application/vnd.jupyter.widget-view+json": {
       "version_major": 2,
       "version_minor": 0,
       "model_id": "5d0d04c6e57e4bc8a1b8871c157a9e56"
      }
     },
     "metadata": {},
     "output_type": "display_data"
    },
    {
     "data": {
      "text/plain": "",
      "text/html": "<pre style=\"white-space:pre;overflow-x:auto;line-height:normal;font-family:Menlo,'DejaVu Sans Mono',consolas,'Courier New',monospace\"></pre>\n"
     },
     "metadata": {},
     "output_type": "display_data"
    },
    {
     "data": {
      "text/plain": "\n",
      "text/html": "<pre style=\"white-space:pre;overflow-x:auto;line-height:normal;font-family:Menlo,'DejaVu Sans Mono',consolas,'Courier New',monospace\">\n</pre>\n"
     },
     "metadata": {},
     "output_type": "display_data"
    },
    {
     "data": {
      "text/plain": "\u001B[1;36m110000\u001B[0m records logged to \u001B]8;id=819883;http://localhost:6900/datasets/argilla/sentence_translated\u001B\\\u001B[4;94mhttp://localhost:6900/datasets/argilla/sentence_translated\u001B[0m\u001B]8;;\u001B\\\n",
      "text/html": "<pre style=\"white-space:pre;overflow-x:auto;line-height:normal;font-family:Menlo,'DejaVu Sans Mono',consolas,'Courier New',monospace\"><span style=\"color: #008080; text-decoration-color: #008080; font-weight: bold\">110000</span> records logged to <a href=\"http://localhost:6900/datasets/argilla/sentence_translated\" target=\"_blank\"><span style=\"color: #0000ff; text-decoration-color: #0000ff; text-decoration: underline\">http://localhost:6900/datasets/argilla/sentence_translated</span></a>\n</pre>\n"
     },
     "metadata": {},
     "output_type": "display_data"
    },
    {
     "data": {
      "text/plain": "BulkResponse(dataset='sentence_translated', processed=110000, failed=0)"
     },
     "execution_count": 29,
     "metadata": {},
     "output_type": "execute_result"
    }
   ],
   "source": [
    "from tqdm import tqdm\n",
    "import argilla as rg\n",
    "from argilla import Text2TextRecord\n",
    "\n",
    "rg.init(api_url=\"http://localhost:6900\", api_key=\"argilla.apikey\")\n",
    "\n",
    "batch_size = 20\n",
    "\n",
    "records = []\n",
    "for sent in tqdm(translated_data):\n",
    "    records.append(\n",
    "        Text2TextRecord(\n",
    "            id=sent['id'],\n",
    "            text=sent['text_1'],\n",
    "            prediction=[sent['text_2']],\n",
    "            vectors={\n",
    "                'kbd_fasttext_300': list(kbd_model.get_sentence_vector(sent['text_2']))\n",
    "            }\n",
    "        )\n",
    "    )\n",
    "    \n",
    "dataset_rg = rg.DatasetForText2Text(records)\n",
    "rg.log(dataset_rg, name=\"sentence_translated\")"
   ],
   "metadata": {
    "collapsed": false,
    "ExecuteTime": {
     "end_time": "2024-01-21T16:48:08.184887Z",
     "start_time": "2024-01-21T16:27:50.546603Z"
    }
   },
   "id": "9d345e118ed6d0ba"
  },
  {
   "cell_type": "code",
   "execution_count": null,
   "outputs": [],
   "source": [],
   "metadata": {
    "collapsed": false
   },
   "id": "c04c046c91d28490"
  }
 ],
 "metadata": {
  "kernelspec": {
   "display_name": "Python 3",
   "language": "python",
   "name": "python3"
  },
  "language_info": {
   "codemirror_mode": {
    "name": "ipython",
    "version": 2
   },
   "file_extension": ".py",
   "mimetype": "text/x-python",
   "name": "python",
   "nbconvert_exporter": "python",
   "pygments_lexer": "ipython2",
   "version": "2.7.6"
  }
 },
 "nbformat": 4,
 "nbformat_minor": 5
}
