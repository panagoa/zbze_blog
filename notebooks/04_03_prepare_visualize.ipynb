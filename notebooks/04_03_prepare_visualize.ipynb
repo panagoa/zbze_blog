{
 "cells": [
  {
   "cell_type": "code",
   "execution_count": 1,
   "id": "a2138b1a1b1817e",
   "metadata": {
    "collapsed": true,
    "ExecuteTime": {
     "end_time": "2024-01-20T18:43:00.632045Z",
     "start_time": "2024-01-20T18:42:57.272330Z"
    }
   },
   "outputs": [
    {
     "name": "stderr",
     "output_type": "stream",
     "text": [
      "Warning : `load_model` does not return WordVectorModel or SupervisedModel any more, but a `FastText` object which is very similar.\n"
     ]
    }
   ],
   "source": [
    "import fasttext\n",
    "import os\n",
    "\n",
    "embedding_dir = '../data/processed/embeddings/'\n",
    "kbd_model = fasttext.load_model(os.path.join(embedding_dir, 'fasttext_skipgram_kbd_300.bin'))"
   ]
  },
  {
   "cell_type": "code",
   "execution_count": 2,
   "outputs": [
    {
     "name": "stderr",
     "output_type": "stream",
     "text": [
      "100%|██████████| 29815/29815 [00:00<00:00, 63576.30it/s]\n"
     ]
    }
   ],
   "source": [
    "from tqdm import tqdm\n",
    "import pandas as pd\n",
    "\n",
    "file_name = 'freq_1000000_oshhamaho.csv'\n",
    "\n",
    "df = pd.read_csv(f'../data/processed/word_freqs/{file_name}', sep=',')\n",
    "words = df[df['freq'] > 10]['word'].values.tolist()\n",
    "\n",
    "vectors = [kbd_model.get_word_vector(word) for word in tqdm(words)]\n",
    "\n",
    "visual_dir = '../data/processed/embeddings/visualizations/'\n",
    "\n",
    "vectors_df = pd.DataFrame(vectors)\n",
    "vectors_df.to_csv(os.path.join(visual_dir, \"word_vectors.tsv\"), sep='\\t', header=False, index=False)\n",
    "\n",
    "words_df = pd.DataFrame(words)\n",
    "words_df.to_csv(os.path.join(visual_dir, \"word_labels.tsv\"), sep='\\t', header=False, index=False)"
   ],
   "metadata": {
    "collapsed": false,
    "ExecuteTime": {
     "end_time": "2024-01-20T18:43:08.838235Z",
     "start_time": "2024-01-20T18:43:01.524928Z"
    }
   },
   "id": "initial_id"
  },
  {
   "cell_type": "code",
   "execution_count": 28,
   "outputs": [],
   "source": [
    "s1 = 'Си гуапэщ я ныбжьэгъугъэм сызэрыригушхуэр абыхэм ящIэну.'\n",
    "s2 = 'Сэ зэныбжьэгъугъэм абыхэм гуапагъ хэлъщ сызэрыригушхуэр.'\n",
    "\n",
    "w1 = kbd_model.get_sentence_vector(s1)\n",
    "w2 = kbd_model.get_sentence_vector(s2)"
   ],
   "metadata": {
    "collapsed": false,
    "ExecuteTime": {
     "end_time": "2024-01-20T20:20:50.719530Z",
     "start_time": "2024-01-20T20:20:50.716086Z"
    }
   },
   "id": "b68bb718bcab4fdd"
  },
  {
   "cell_type": "code",
   "execution_count": 29,
   "outputs": [
    {
     "data": {
      "text/plain": "0.370035"
     },
     "execution_count": 29,
     "metadata": {},
     "output_type": "execute_result"
    }
   ],
   "source": [
    "import numpy as np\n",
    "\n",
    "distance = np.linalg.norm(w1 - w2)\n",
    "distance"
   ],
   "metadata": {
    "collapsed": false,
    "ExecuteTime": {
     "end_time": "2024-01-20T20:20:51.112606Z",
     "start_time": "2024-01-20T20:20:51.108207Z"
    }
   },
   "id": "ab329d32481548cd"
  },
  {
   "cell_type": "code",
   "execution_count": null,
   "outputs": [],
   "source": [],
   "metadata": {
    "collapsed": false
   },
   "id": "759c893bce1ed75d"
  }
 ],
 "metadata": {
  "kernelspec": {
   "display_name": "Python 3",
   "language": "python",
   "name": "python3"
  },
  "language_info": {
   "codemirror_mode": {
    "name": "ipython",
    "version": 2
   },
   "file_extension": ".py",
   "mimetype": "text/x-python",
   "name": "python",
   "nbconvert_exporter": "python",
   "pygments_lexer": "ipython2",
   "version": "2.7.6"
  }
 },
 "nbformat": 4,
 "nbformat_minor": 5
}
