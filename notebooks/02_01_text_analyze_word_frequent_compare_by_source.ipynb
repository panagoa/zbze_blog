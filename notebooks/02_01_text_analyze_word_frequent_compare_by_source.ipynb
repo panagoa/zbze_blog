{
 "cells": [
  {
   "cell_type": "code",
   "execution_count": 2,
   "outputs": [],
   "source": [
    "import os\n",
    "import pandas as pd\n",
    "\n",
    "input_dir = '../data/processed/word_freqs'\n",
    "\n",
    "df_freq_apkbr_ru = pd.read_csv(os.path.join(input_dir, 'freq_1000000_apkbr_ru.csv'))\n",
    "df_freq_elgkbr_ru = pd.read_csv(os.path.join(input_dir, 'freq_1000000_elgkbr_ru.csv'))\n",
    "df_freq_oshhamaho = pd.read_csv(os.path.join(input_dir, 'freq_1000000_oshhamaho.csv'))\n"
   ],
   "metadata": {
    "collapsed": false,
    "ExecuteTime": {
     "end_time": "2023-12-26T00:14:24.106301Z",
     "start_time": "2023-12-26T00:14:23.509707Z"
    }
   },
   "id": "8537ef5b5921e5bd"
  },
  {
   "cell_type": "code",
   "execution_count": 50,
   "outputs": [],
   "source": [
    "top_count = 100\n",
    "df_freq_apkbr_ru_top = df_freq_apkbr_ru.sort_values(by='freq', ascending=False).head(top_count)\n",
    "df_freq_elgkbr_ru_top = df_freq_elgkbr_ru.sort_values(by='freq', ascending=False).head(top_count)\n",
    "df_freq_oshhamaho_top = df_freq_oshhamaho.sort_values(by='freq', ascending=False).head(top_count)"
   ],
   "metadata": {
    "collapsed": false,
    "ExecuteTime": {
     "end_time": "2023-12-26T00:40:32.272451Z",
     "start_time": "2023-12-26T00:40:32.147520Z"
    }
   },
   "id": "8229610e7ee00b3e"
  },
  {
   "cell_type": "code",
   "execution_count": 51,
   "outputs": [
    {
     "data": {
      "text/plain": "         word  freq_apkbr_ru  freq_elgkbr_ru  freq_oshhamaho\n53  къалъхуащ           5030             NaN             NaN\n70       щыта           4174             NaN             NaN\n85   дунейпсо           3661             NaN             NaN\n88      щIыхь           3551             NaN             NaN\n99       ящыщ           3203             NaN             NaN",
      "text/html": "<div>\n<style scoped>\n    .dataframe tbody tr th:only-of-type {\n        vertical-align: middle;\n    }\n\n    .dataframe tbody tr th {\n        vertical-align: top;\n    }\n\n    .dataframe thead th {\n        text-align: right;\n    }\n</style>\n<table border=\"1\" class=\"dataframe\">\n  <thead>\n    <tr style=\"text-align: right;\">\n      <th></th>\n      <th>word</th>\n      <th>freq_apkbr_ru</th>\n      <th>freq_elgkbr_ru</th>\n      <th>freq_oshhamaho</th>\n    </tr>\n  </thead>\n  <tbody>\n    <tr>\n      <th>53</th>\n      <td>къалъхуащ</td>\n      <td>5030</td>\n      <td>NaN</td>\n      <td>NaN</td>\n    </tr>\n    <tr>\n      <th>70</th>\n      <td>щыта</td>\n      <td>4174</td>\n      <td>NaN</td>\n      <td>NaN</td>\n    </tr>\n    <tr>\n      <th>85</th>\n      <td>дунейпсо</td>\n      <td>3661</td>\n      <td>NaN</td>\n      <td>NaN</td>\n    </tr>\n    <tr>\n      <th>88</th>\n      <td>щIыхь</td>\n      <td>3551</td>\n      <td>NaN</td>\n      <td>NaN</td>\n    </tr>\n    <tr>\n      <th>99</th>\n      <td>ящыщ</td>\n      <td>3203</td>\n      <td>NaN</td>\n      <td>NaN</td>\n    </tr>\n  </tbody>\n</table>\n</div>"
     },
     "execution_count": 51,
     "metadata": {},
     "output_type": "execute_result"
    }
   ],
   "source": [
    "# посмотрим на слова, которые есть в apkbr_ru, но нет в elgkbr_ru и oshhamaho\n",
    "apkbr_ru = df_freq_apkbr_ru_top.merge(\n",
    "    df_freq_elgkbr_ru_top, \n",
    "    how='left', \n",
    "    left_on='word', \n",
    "    right_on='word', \n",
    "    suffixes=('_apkbr_ru', '_elgkbr_ru')\n",
    ").merge(\n",
    "    df_freq_oshhamaho_top, \n",
    "    how='left', \n",
    "    left_on='word', \n",
    "    right_on='word', \n",
    ")\n",
    "apkbr_ru.rename(columns={'freq': 'freq_oshhamaho'}, inplace=True)\n",
    "apkbr_ru_uniq = apkbr_ru[\n",
    "    (apkbr_ru.freq_elgkbr_ru.isna()) & \n",
    "    (apkbr_ru.freq_oshhamaho.isna())\n",
    "]\n",
    "apkbr_ru_uniq"
   ],
   "metadata": {
    "collapsed": false,
    "ExecuteTime": {
     "end_time": "2023-12-26T00:40:32.684800Z",
     "start_time": "2023-12-26T00:40:32.672473Z"
    }
   },
   "id": "cc1eadb9f9eed6bc"
  },
  {
   "cell_type": "markdown",
   "source": [
    "Топ уникальных слов из apkbr_ru (по сравнению с топами elgkbr_ru и oshhamaho) следующий:\n",
    "\"къалъхуащ\"\n",
    "\"щыта\"\n",
    "\"дунейпсо\"\n",
    "\"щIыхь\"\n",
    "\"ящыщ\""
   ],
   "metadata": {
    "collapsed": false
   },
   "id": "756d28a17d130d38"
  },
  {
   "cell_type": "code",
   "execution_count": 52,
   "outputs": [
    {
     "data": {
      "text/plain": "           word  freq_elgkbr_ru  freq_apkbr_ru  freq_oshhamaho\n50      унафэщI            2540            NaN             NaN\n81     КIуэкIуэ            1813            NaN             NaN\n82       Кавказ            1795            NaN             NaN\n84     щIыналъэ            1715            NaN             NaN\n86    лэжьыгъэм            1713            NaN             NaN\n88        хэтащ            1683            NaN             NaN\n89     IэнатIэм            1674            NaN             NaN\n90        ящыщщ            1652            NaN             NaN\n91          сом            1623            NaN             NaN\n92    Федерацэм            1603            NaN             NaN\n94     Апхуэдэу            1597            NaN             NaN\n96  къыхигъэщащ            1574            NaN             NaN\n98      къуажэм            1560            NaN             NaN",
      "text/html": "<div>\n<style scoped>\n    .dataframe tbody tr th:only-of-type {\n        vertical-align: middle;\n    }\n\n    .dataframe tbody tr th {\n        vertical-align: top;\n    }\n\n    .dataframe thead th {\n        text-align: right;\n    }\n</style>\n<table border=\"1\" class=\"dataframe\">\n  <thead>\n    <tr style=\"text-align: right;\">\n      <th></th>\n      <th>word</th>\n      <th>freq_elgkbr_ru</th>\n      <th>freq_apkbr_ru</th>\n      <th>freq_oshhamaho</th>\n    </tr>\n  </thead>\n  <tbody>\n    <tr>\n      <th>50</th>\n      <td>унафэщI</td>\n      <td>2540</td>\n      <td>NaN</td>\n      <td>NaN</td>\n    </tr>\n    <tr>\n      <th>81</th>\n      <td>КIуэкIуэ</td>\n      <td>1813</td>\n      <td>NaN</td>\n      <td>NaN</td>\n    </tr>\n    <tr>\n      <th>82</th>\n      <td>Кавказ</td>\n      <td>1795</td>\n      <td>NaN</td>\n      <td>NaN</td>\n    </tr>\n    <tr>\n      <th>84</th>\n      <td>щIыналъэ</td>\n      <td>1715</td>\n      <td>NaN</td>\n      <td>NaN</td>\n    </tr>\n    <tr>\n      <th>86</th>\n      <td>лэжьыгъэм</td>\n      <td>1713</td>\n      <td>NaN</td>\n      <td>NaN</td>\n    </tr>\n    <tr>\n      <th>88</th>\n      <td>хэтащ</td>\n      <td>1683</td>\n      <td>NaN</td>\n      <td>NaN</td>\n    </tr>\n    <tr>\n      <th>89</th>\n      <td>IэнатIэм</td>\n      <td>1674</td>\n      <td>NaN</td>\n      <td>NaN</td>\n    </tr>\n    <tr>\n      <th>90</th>\n      <td>ящыщщ</td>\n      <td>1652</td>\n      <td>NaN</td>\n      <td>NaN</td>\n    </tr>\n    <tr>\n      <th>91</th>\n      <td>сом</td>\n      <td>1623</td>\n      <td>NaN</td>\n      <td>NaN</td>\n    </tr>\n    <tr>\n      <th>92</th>\n      <td>Федерацэм</td>\n      <td>1603</td>\n      <td>NaN</td>\n      <td>NaN</td>\n    </tr>\n    <tr>\n      <th>94</th>\n      <td>Апхуэдэу</td>\n      <td>1597</td>\n      <td>NaN</td>\n      <td>NaN</td>\n    </tr>\n    <tr>\n      <th>96</th>\n      <td>къыхигъэщащ</td>\n      <td>1574</td>\n      <td>NaN</td>\n      <td>NaN</td>\n    </tr>\n    <tr>\n      <th>98</th>\n      <td>къуажэм</td>\n      <td>1560</td>\n      <td>NaN</td>\n      <td>NaN</td>\n    </tr>\n  </tbody>\n</table>\n</div>"
     },
     "execution_count": 52,
     "metadata": {},
     "output_type": "execute_result"
    }
   ],
   "source": [
    "elgkbr_ru = df_freq_elgkbr_ru_top.merge(\n",
    "    df_freq_apkbr_ru_top, \n",
    "    how='left', \n",
    "    left_on='word', \n",
    "    right_on='word', \n",
    "    suffixes=('_elgkbr_ru', '_apkbr_ru')\n",
    ").merge(\n",
    "    df_freq_oshhamaho_top, \n",
    "    how='left', \n",
    "    left_on='word', \n",
    "    right_on='word', \n",
    ")\n",
    "elgkbr_ru.rename(columns={'freq': 'freq_oshhamaho'}, inplace=True)\n",
    "elgkbr_ru_uniq = elgkbr_ru[\n",
    "    (elgkbr_ru.freq_apkbr_ru.isna()) & \n",
    "    (elgkbr_ru.freq_oshhamaho.isna())\n",
    "]\n",
    "elgkbr_ru_uniq"
   ],
   "metadata": {
    "collapsed": false,
    "ExecuteTime": {
     "end_time": "2023-12-26T00:40:33.259691Z",
     "start_time": "2023-12-26T00:40:33.253554Z"
    }
   },
   "id": "a0fbc9359f4df688"
  },
  {
   "cell_type": "markdown",
   "source": [
    "Топ уникальных слов из elgkbr_ru (по сравнению с топами apkbr_ru и oshhamaho) следующий:\n",
    "\"унафэщI\"\n",
    "\"КIуэкIуэ\"\n",
    "\"Кавказ\"\n",
    "\"щIыналъэ\"\n",
    "\"лэжьыгъэм\"\n",
    "\"хэтащ\"\n",
    "\"IэнатIэм\"\n",
    "\"ящыщщ\"\n",
    "\"сом\"\n",
    "\"Федерацэм\"\n",
    "\"Апхуэдэу\"\n",
    "\"къыхигъэщащ\"\n",
    "\"къуажэм\""
   ],
   "metadata": {
    "collapsed": false
   },
   "id": "2f7d2d2905edfafa"
  },
  {
   "cell_type": "code",
   "execution_count": 53,
   "outputs": [
    {
     "data": {
      "text/plain": "       word  freq_oshhamaho  freq_apkbr_ru  freq_elgkbr_ru\n34       уэ            6351            NaN             NaN\n41      Сыт            4938            NaN             NaN\n42       Уи            4894            NaN             NaN\n45       ..            4488            NaN             NaN\n51        *            3947            NaN             NaN\n54    щхьэр            3828            NaN             NaN\n56       Уэ            3809            NaN             NaN\n57    щIалэ            3724            NaN             NaN\n63     щхьэ            3599            NaN             NaN\n66     зыри            3502            NaN             NaN\n67       дэ            3466            NaN             NaN\n71      гум            3341            NaN             NaN\n72      гур            3277            NaN             NaN\n73     гуэр            3267            NaN             NaN\n74     иджы            3233            NaN             NaN\n76       гу            3165            NaN             NaN\n78      хэт            3069            NaN             NaN\n80  гъащIэм            3034            NaN             NaN\n83   иджыри            2896            NaN             NaN\n85   нэхърэ            2810            NaN             NaN\n88   псалъэ            2697            NaN             NaN\n90   цIыкIу            2602            NaN             NaN\n92      игу            2496            NaN             NaN\n94   фIэкIа            2376            NaN             NaN\n95       Зы            2358            NaN             NaN\n96   гуэрым            2349            NaN             NaN\n97     псэр            2341            NaN             NaN\n98     фIэщ            2312            NaN             NaN",
      "text/html": "<div>\n<style scoped>\n    .dataframe tbody tr th:only-of-type {\n        vertical-align: middle;\n    }\n\n    .dataframe tbody tr th {\n        vertical-align: top;\n    }\n\n    .dataframe thead th {\n        text-align: right;\n    }\n</style>\n<table border=\"1\" class=\"dataframe\">\n  <thead>\n    <tr style=\"text-align: right;\">\n      <th></th>\n      <th>word</th>\n      <th>freq_oshhamaho</th>\n      <th>freq_apkbr_ru</th>\n      <th>freq_elgkbr_ru</th>\n    </tr>\n  </thead>\n  <tbody>\n    <tr>\n      <th>34</th>\n      <td>уэ</td>\n      <td>6351</td>\n      <td>NaN</td>\n      <td>NaN</td>\n    </tr>\n    <tr>\n      <th>41</th>\n      <td>Сыт</td>\n      <td>4938</td>\n      <td>NaN</td>\n      <td>NaN</td>\n    </tr>\n    <tr>\n      <th>42</th>\n      <td>Уи</td>\n      <td>4894</td>\n      <td>NaN</td>\n      <td>NaN</td>\n    </tr>\n    <tr>\n      <th>45</th>\n      <td>..</td>\n      <td>4488</td>\n      <td>NaN</td>\n      <td>NaN</td>\n    </tr>\n    <tr>\n      <th>51</th>\n      <td>*</td>\n      <td>3947</td>\n      <td>NaN</td>\n      <td>NaN</td>\n    </tr>\n    <tr>\n      <th>54</th>\n      <td>щхьэр</td>\n      <td>3828</td>\n      <td>NaN</td>\n      <td>NaN</td>\n    </tr>\n    <tr>\n      <th>56</th>\n      <td>Уэ</td>\n      <td>3809</td>\n      <td>NaN</td>\n      <td>NaN</td>\n    </tr>\n    <tr>\n      <th>57</th>\n      <td>щIалэ</td>\n      <td>3724</td>\n      <td>NaN</td>\n      <td>NaN</td>\n    </tr>\n    <tr>\n      <th>63</th>\n      <td>щхьэ</td>\n      <td>3599</td>\n      <td>NaN</td>\n      <td>NaN</td>\n    </tr>\n    <tr>\n      <th>66</th>\n      <td>зыри</td>\n      <td>3502</td>\n      <td>NaN</td>\n      <td>NaN</td>\n    </tr>\n    <tr>\n      <th>67</th>\n      <td>дэ</td>\n      <td>3466</td>\n      <td>NaN</td>\n      <td>NaN</td>\n    </tr>\n    <tr>\n      <th>71</th>\n      <td>гум</td>\n      <td>3341</td>\n      <td>NaN</td>\n      <td>NaN</td>\n    </tr>\n    <tr>\n      <th>72</th>\n      <td>гур</td>\n      <td>3277</td>\n      <td>NaN</td>\n      <td>NaN</td>\n    </tr>\n    <tr>\n      <th>73</th>\n      <td>гуэр</td>\n      <td>3267</td>\n      <td>NaN</td>\n      <td>NaN</td>\n    </tr>\n    <tr>\n      <th>74</th>\n      <td>иджы</td>\n      <td>3233</td>\n      <td>NaN</td>\n      <td>NaN</td>\n    </tr>\n    <tr>\n      <th>76</th>\n      <td>гу</td>\n      <td>3165</td>\n      <td>NaN</td>\n      <td>NaN</td>\n    </tr>\n    <tr>\n      <th>78</th>\n      <td>хэт</td>\n      <td>3069</td>\n      <td>NaN</td>\n      <td>NaN</td>\n    </tr>\n    <tr>\n      <th>80</th>\n      <td>гъащIэм</td>\n      <td>3034</td>\n      <td>NaN</td>\n      <td>NaN</td>\n    </tr>\n    <tr>\n      <th>83</th>\n      <td>иджыри</td>\n      <td>2896</td>\n      <td>NaN</td>\n      <td>NaN</td>\n    </tr>\n    <tr>\n      <th>85</th>\n      <td>нэхърэ</td>\n      <td>2810</td>\n      <td>NaN</td>\n      <td>NaN</td>\n    </tr>\n    <tr>\n      <th>88</th>\n      <td>псалъэ</td>\n      <td>2697</td>\n      <td>NaN</td>\n      <td>NaN</td>\n    </tr>\n    <tr>\n      <th>90</th>\n      <td>цIыкIу</td>\n      <td>2602</td>\n      <td>NaN</td>\n      <td>NaN</td>\n    </tr>\n    <tr>\n      <th>92</th>\n      <td>игу</td>\n      <td>2496</td>\n      <td>NaN</td>\n      <td>NaN</td>\n    </tr>\n    <tr>\n      <th>94</th>\n      <td>фIэкIа</td>\n      <td>2376</td>\n      <td>NaN</td>\n      <td>NaN</td>\n    </tr>\n    <tr>\n      <th>95</th>\n      <td>Зы</td>\n      <td>2358</td>\n      <td>NaN</td>\n      <td>NaN</td>\n    </tr>\n    <tr>\n      <th>96</th>\n      <td>гуэрым</td>\n      <td>2349</td>\n      <td>NaN</td>\n      <td>NaN</td>\n    </tr>\n    <tr>\n      <th>97</th>\n      <td>псэр</td>\n      <td>2341</td>\n      <td>NaN</td>\n      <td>NaN</td>\n    </tr>\n    <tr>\n      <th>98</th>\n      <td>фIэщ</td>\n      <td>2312</td>\n      <td>NaN</td>\n      <td>NaN</td>\n    </tr>\n  </tbody>\n</table>\n</div>"
     },
     "execution_count": 53,
     "metadata": {},
     "output_type": "execute_result"
    }
   ],
   "source": [
    "oshhamaho = df_freq_oshhamaho_top.merge(\n",
    "    df_freq_apkbr_ru_top, \n",
    "    how='left', \n",
    "    left_on='word', \n",
    "    right_on='word', \n",
    "    suffixes=('_oshhamaho', '_apkbr_ru')\n",
    ").merge(\n",
    "    df_freq_elgkbr_ru_top, \n",
    "    how='left', \n",
    "    left_on='word', \n",
    "    right_on='word', \n",
    ")\n",
    "oshhamaho.rename(columns={'freq': 'freq_elgkbr_ru'}, inplace=True)\n",
    "oshhamaho_uniq = oshhamaho[\n",
    "    (oshhamaho.freq_apkbr_ru.isna()) & \n",
    "    (oshhamaho.freq_elgkbr_ru.isna())\n",
    "]\n",
    "oshhamaho_uniq"
   ],
   "metadata": {
    "collapsed": false,
    "ExecuteTime": {
     "end_time": "2023-12-26T00:41:06.775230Z",
     "start_time": "2023-12-26T00:41:06.743883Z"
    }
   },
   "id": "b42ac14f3fbb154c"
  },
  {
   "cell_type": "markdown",
   "source": [
    "Когда топ уникальных слов из oshhamaho (по сравнению с топами apkbr_ru и elgkbr_ru) более сбалансирован, и правдивее отражает реальную популярность слов без перекосов:\n",
    "\n",
    "\"уэ\"\n",
    "\"Сыт\"\n",
    "\"Уи\"\n",
    "\"..\"\n",
    "\"*\"\n",
    "\"щхьэр\"\n",
    "\"Уэ\"\n",
    "\"щIалэ\"\n",
    "\"щхьэ\"\n",
    "\"зыри\"\n",
    "\"дэ\"\n",
    "\"гум\"\n",
    "\"гур\"\n",
    "\"гуэр\"\n",
    "\"иджы\"\n",
    "\"гу\"\n",
    "\"хэт\"\n",
    "\"гъащIэм\"\n",
    "\"иджыри\"\n",
    "\"нэхърэ\"\n",
    "\"псалъэ\"\n",
    "\"цIыкIу\"\n",
    "\"игу\"\n",
    "\"фIэкIа\"\n",
    "\"Зы\"\n",
    "\"гуэрым\"\n",
    "\"псэр\"\n",
    "\"фIэщ\"\n"
   ],
   "metadata": {
    "collapsed": false
   },
   "id": "6b5e619fc16031c8"
  },
  {
   "cell_type": "markdown",
   "source": [
    "Видим что популярность слов из новостных источников идут с тематическими перекосами.\n",
    "\n",
    "То есть, популярные слова из источников в целом пересекаются, но если посмотреть уникальные слова из топа которых нет в топах из соседних источников - то можем увидеть \"выбросы\" для кажого источника. \n",
    "\n",
    "Поэтому для анализа \"среднего\" текста, нам больше подойдут результаты из источника oshhamaho, так как там нет таких явных перекосов в тематике. "
   ],
   "metadata": {
    "collapsed": false
   },
   "id": "e0c8290f76e1d049"
  }
 ],
 "metadata": {
  "kernelspec": {
   "display_name": "Python 3",
   "language": "python",
   "name": "python3"
  },
  "language_info": {
   "codemirror_mode": {
    "name": "ipython",
    "version": 2
   },
   "file_extension": ".py",
   "mimetype": "text/x-python",
   "name": "python",
   "nbconvert_exporter": "python",
   "pygments_lexer": "ipython2",
   "version": "2.7.6"
  }
 },
 "nbformat": 4,
 "nbformat_minor": 5
}
