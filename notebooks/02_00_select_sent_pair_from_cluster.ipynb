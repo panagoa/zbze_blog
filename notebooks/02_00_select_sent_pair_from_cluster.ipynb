{
 "cells": [
  {
   "cell_type": "code",
   "outputs": [],
   "source": [
    "from collections import defaultdict\n",
    "\n",
    "from sentence_transformers import SentenceTransformer\n",
    "from sklearn.cluster import KMeans\n",
    "from tqdm import tqdm\n",
    "\n",
    "model_index = '7_3'\n",
    "model = SentenceTransformer(f'./sbert_from_mlm_bert_{model_index}')\n",
    "\n",
    "\n",
    "def split_sent_by_cluster(sentences, model):\n",
    "    if len(sentences) < 8:\n",
    "        return {0: sentences}\n",
    "    \n",
    "    embeddings = model.encode(sentences)\n",
    "    \n",
    "    clustering_model = KMeans(n_clusters=4, n_init=20, max_iter=1000)\n",
    "    clustering_model.fit(embeddings)\n",
    "    cluster_assignment = clustering_model.labels_\n",
    "\n",
    "    clusters = defaultdict(list)\n",
    "    for sentence, cluster_id in zip(sentences, cluster_assignment):\n",
    "        clusters[cluster_id].append(sentence)\n",
    "\n",
    "    return clusters"
   ],
   "metadata": {
    "collapsed": false,
    "ExecuteTime": {
     "end_time": "2024-03-03T02:01:32.483982Z",
     "start_time": "2024-03-03T02:01:29.817570Z"
    }
   },
   "execution_count": 1
  },
  {
   "cell_type": "code",
   "outputs": [
    {
     "name": "stderr",
     "output_type": "stream",
     "text": [
      "  0%|          | 0/3000 [00:00<?, ?it/s]huggingface/tokenizers: The current process just got forked, after parallelism has already been used. Disabling parallelism to avoid deadlocks...\n",
      "To disable this warning, you can either:\n",
      "\t- Avoid using `tokenizers` before the fork if possible\n",
      "\t- Explicitly set the environment variable TOKENIZERS_PARALLELISM=(true | false)\n",
      "100%|██████████| 3000/3000 [01:08<00:00, 43.76it/s]\n"
     ]
    }
   ],
   "source": [
    "import os\n",
    "import random\n",
    "\n",
    "clusters_index = 9\n",
    "clusters_path = f'../data/processed/sent_clusters_v{clusters_index}/20_30'\n",
    "\n",
    "sent_pairs = []\n",
    "for seed_dir in os.listdir(clusters_path):\n",
    "    seed_path = f'{clusters_path}/{seed_dir}'\n",
    "    if not os.path.isdir(seed_path):\n",
    "        continue\n",
    "\n",
    "    for cluster_dir in os.listdir(seed_path):\n",
    "        clusters_path = f'{clusters_path}/{seed_dir}/{cluster_dir}'\n",
    "        if not os.path.isdir(clusters_path):\n",
    "            continue\n",
    "\n",
    "        anti_pairs = []\n",
    "        for cluster_file in tqdm(os.listdir(clusters_path)):\n",
    "            if not cluster_file.endswith('.txt'):\n",
    "                continue\n",
    "\n",
    "            cluster_file_path = f'{clusters_path}/{cluster_file}'\n",
    "            with open(cluster_file_path, 'r') as f:\n",
    "                sents = f.read().split('\\n')\n",
    "\n",
    "            if len(sents) < 2:\n",
    "                continue\n",
    "\n",
    "            for group, sentences in split_sent_by_cluster(\n",
    "                    sents, model\n",
    "            ).items():\n",
    "                for s1 in sentences:\n",
    "                    for s2 in sentences:\n",
    "                        if s1 == s2:\n",
    "                            continue\n",
    "                        sent_pairs.append(('pos', s1, s2)\n",
    "                                          )\n",
    "\n",
    "            if len(sent_pairs) < 1000:\n",
    "                continue\n",
    "\n",
    "            for sent in sents:\n",
    "                for _ in range(len(sents)):\n",
    "                    anti_pairs.append(('neg', sent, random.choice(sent_pairs)[2]))\n",
    "\n",
    "        sent_pairs.extend(anti_pairs)"
   ],
   "metadata": {
    "collapsed": false,
    "ExecuteTime": {
     "end_time": "2024-03-03T02:02:42.075021Z",
     "start_time": "2024-03-03T02:01:33.492818Z"
    }
   },
   "execution_count": 2
  },
  {
   "cell_type": "code",
   "outputs": [],
   "source": [
    "import pandas as pd\n",
    "\n",
    "sent_pairs_df = pd.DataFrame(sent_pairs, columns=['type', 'sent1', 'sent2'])\n",
    "sent_pairs_df.drop_duplicates(subset=['sent1', 'sent2'], inplace=True)"
   ],
   "metadata": {
    "collapsed": false,
    "ExecuteTime": {
     "end_time": "2024-03-03T02:02:42.533628Z",
     "start_time": "2024-03-03T02:02:42.074648Z"
    }
   },
   "execution_count": 3
  },
  {
   "cell_type": "code",
   "outputs": [],
   "source": [
    "sent_pairs_df['final_score'] = sent_pairs_df['type'].apply(lambda x: 1 if x == 'pos' else 0)"
   ],
   "metadata": {
    "collapsed": false,
    "ExecuteTime": {
     "end_time": "2024-03-03T02:02:42.665321Z",
     "start_time": "2024-03-03T02:02:42.534872Z"
    }
   },
   "execution_count": 4
  },
  {
   "cell_type": "code",
   "outputs": [
    {
     "data": {
      "text/plain": "       type                       sent1                       sent2  \\\n0       pos     СлъэкIыу сыхъуа мыгъуэ?     Псапэ сщIэ хъунукъэ сэ?   \n1       pos     СлъэкIыу сыхъуа мыгъуэ?  Арами, дэуэгъу сыхъуркъым.   \n2       pos     СлъэкIыу сыхъуа мыгъуэ?       куэдрэ сызэбгъэжьа!..   \n3       pos     Псапэ сщIэ хъунукъэ сэ?     СлъэкIыу сыхъуа мыгъуэ?   \n4       pos     Псапэ сщIэ хъунукъэ сэ?  Арами, дэуэгъу сыхъуркъым.   \n...     ...                         ...                         ...   \n473361  neg  Си нэгум къыщIэвмыгъахуэт!   Тхьэм гущIэгъу къыпхуищI!   \n473362  neg  Си нэгум къыщIэвмыгъахуэт!     Апхуэдэщ Вындыжь Марие.   \n473363  neg  Си нэгум къыщIэвмыгъахуэт!     Сыкъэзылъхуахэр адыгэщ.   \n473364  neg  Си нэгум къыщIэвмыгъахуэт!  Гуэдзыр дэнэ къыщагъуэтат?   \n473365  neg  Си нэгум къыщIэвмыгъахуэт!  – и щхьэр егъэсыс Мыстыкъ.   \n\n        final_score  \n0                 1  \n1                 1  \n2                 1  \n3                 1  \n4                 1  \n...             ...  \n473361            0  \n473362            0  \n473363            0  \n473364            0  \n473365            0  \n\n[472139 rows x 4 columns]",
      "text/html": "<div>\n<style scoped>\n    .dataframe tbody tr th:only-of-type {\n        vertical-align: middle;\n    }\n\n    .dataframe tbody tr th {\n        vertical-align: top;\n    }\n\n    .dataframe thead th {\n        text-align: right;\n    }\n</style>\n<table border=\"1\" class=\"dataframe\">\n  <thead>\n    <tr style=\"text-align: right;\">\n      <th></th>\n      <th>type</th>\n      <th>sent1</th>\n      <th>sent2</th>\n      <th>final_score</th>\n    </tr>\n  </thead>\n  <tbody>\n    <tr>\n      <th>0</th>\n      <td>pos</td>\n      <td>СлъэкIыу сыхъуа мыгъуэ?</td>\n      <td>Псапэ сщIэ хъунукъэ сэ?</td>\n      <td>1</td>\n    </tr>\n    <tr>\n      <th>1</th>\n      <td>pos</td>\n      <td>СлъэкIыу сыхъуа мыгъуэ?</td>\n      <td>Арами, дэуэгъу сыхъуркъым.</td>\n      <td>1</td>\n    </tr>\n    <tr>\n      <th>2</th>\n      <td>pos</td>\n      <td>СлъэкIыу сыхъуа мыгъуэ?</td>\n      <td>куэдрэ сызэбгъэжьа!..</td>\n      <td>1</td>\n    </tr>\n    <tr>\n      <th>3</th>\n      <td>pos</td>\n      <td>Псапэ сщIэ хъунукъэ сэ?</td>\n      <td>СлъэкIыу сыхъуа мыгъуэ?</td>\n      <td>1</td>\n    </tr>\n    <tr>\n      <th>4</th>\n      <td>pos</td>\n      <td>Псапэ сщIэ хъунукъэ сэ?</td>\n      <td>Арами, дэуэгъу сыхъуркъым.</td>\n      <td>1</td>\n    </tr>\n    <tr>\n      <th>...</th>\n      <td>...</td>\n      <td>...</td>\n      <td>...</td>\n      <td>...</td>\n    </tr>\n    <tr>\n      <th>473361</th>\n      <td>neg</td>\n      <td>Си нэгум къыщIэвмыгъахуэт!</td>\n      <td>Тхьэм гущIэгъу къыпхуищI!</td>\n      <td>0</td>\n    </tr>\n    <tr>\n      <th>473362</th>\n      <td>neg</td>\n      <td>Си нэгум къыщIэвмыгъахуэт!</td>\n      <td>Апхуэдэщ Вындыжь Марие.</td>\n      <td>0</td>\n    </tr>\n    <tr>\n      <th>473363</th>\n      <td>neg</td>\n      <td>Си нэгум къыщIэвмыгъахуэт!</td>\n      <td>Сыкъэзылъхуахэр адыгэщ.</td>\n      <td>0</td>\n    </tr>\n    <tr>\n      <th>473364</th>\n      <td>neg</td>\n      <td>Си нэгум къыщIэвмыгъахуэт!</td>\n      <td>Гуэдзыр дэнэ къыщагъуэтат?</td>\n      <td>0</td>\n    </tr>\n    <tr>\n      <th>473365</th>\n      <td>neg</td>\n      <td>Си нэгум къыщIэвмыгъахуэт!</td>\n      <td>– и щхьэр егъэсыс Мыстыкъ.</td>\n      <td>0</td>\n    </tr>\n  </tbody>\n</table>\n<p>472139 rows × 4 columns</p>\n</div>"
     },
     "execution_count": 5,
     "metadata": {},
     "output_type": "execute_result"
    }
   ],
   "source": [
    "sent_pairs_df"
   ],
   "metadata": {
    "collapsed": false,
    "ExecuteTime": {
     "end_time": "2024-03-03T02:02:42.681212Z",
     "start_time": "2024-03-03T02:02:42.670371Z"
    }
   },
   "execution_count": 5
  },
  {
   "cell_type": "code",
   "outputs": [
    {
     "data": {
      "text/plain": "       type                     sent1                          sent2  \\\n0       pos    !..» Зыри къэхъуакъым.        Сэ згъэпщкIуркъым зыри.   \n1       pos    !..» Зыри къэхъуакъым.      – Ей, сэ зыри сыхуейкъым.   \n2       pos    !..» Зыри къэхъуакъым.       Мыдрейр хуейтэкъым зыри.   \n3       neg    !..» Зыри къэхъуакъым.     Ауэ зыми зыкъригъэщIакъым.   \n4       pos    !..» Зыри къэхъуакъым.      – СлIо, зыри жыфIэркъыми?   \n...     ...                       ...                            ...   \n256728  neg  …Щимыгъэтауэ уэсыр къос.        Къыстосэ ар си закъуэу.   \n256729  neg  …Щимыгъэтауэ уэсыр къос.      Апхуэдэуи узэрагъэкIуэнт!   \n256730  neg  …Щимыгъэтауэ уэсыр къос.        Си щIалэ цIыкIури щыIи!   \n256731  pos  …Щимыгъэтауэ уэсыр къос.  Хыр мэпапщэ, зэхэпх къудейуэ.   \n256732  neg  …Щимыгъэтауэ уэсыр къос.   ЩIалэ цIыкIур и адэм еплъащ.   \n\n        final_score  \n0                 1  \n1                 1  \n2                 1  \n3                 0  \n4                 1  \n...             ...  \n256728            0  \n256729            0  \n256730            0  \n256731            1  \n256732            0  \n\n[256733 rows x 4 columns]",
      "text/html": "<div>\n<style scoped>\n    .dataframe tbody tr th:only-of-type {\n        vertical-align: middle;\n    }\n\n    .dataframe tbody tr th {\n        vertical-align: top;\n    }\n\n    .dataframe thead th {\n        text-align: right;\n    }\n</style>\n<table border=\"1\" class=\"dataframe\">\n  <thead>\n    <tr style=\"text-align: right;\">\n      <th></th>\n      <th>type</th>\n      <th>sent1</th>\n      <th>sent2</th>\n      <th>final_score</th>\n    </tr>\n  </thead>\n  <tbody>\n    <tr>\n      <th>0</th>\n      <td>pos</td>\n      <td>!..» Зыри къэхъуакъым.</td>\n      <td>Сэ згъэпщкIуркъым зыри.</td>\n      <td>1</td>\n    </tr>\n    <tr>\n      <th>1</th>\n      <td>pos</td>\n      <td>!..» Зыри къэхъуакъым.</td>\n      <td>– Ей, сэ зыри сыхуейкъым.</td>\n      <td>1</td>\n    </tr>\n    <tr>\n      <th>2</th>\n      <td>pos</td>\n      <td>!..» Зыри къэхъуакъым.</td>\n      <td>Мыдрейр хуейтэкъым зыри.</td>\n      <td>1</td>\n    </tr>\n    <tr>\n      <th>3</th>\n      <td>neg</td>\n      <td>!..» Зыри къэхъуакъым.</td>\n      <td>Ауэ зыми зыкъригъэщIакъым.</td>\n      <td>0</td>\n    </tr>\n    <tr>\n      <th>4</th>\n      <td>pos</td>\n      <td>!..» Зыри къэхъуакъым.</td>\n      <td>– СлIо, зыри жыфIэркъыми?</td>\n      <td>1</td>\n    </tr>\n    <tr>\n      <th>...</th>\n      <td>...</td>\n      <td>...</td>\n      <td>...</td>\n      <td>...</td>\n    </tr>\n    <tr>\n      <th>256728</th>\n      <td>neg</td>\n      <td>…Щимыгъэтауэ уэсыр къос.</td>\n      <td>Къыстосэ ар си закъуэу.</td>\n      <td>0</td>\n    </tr>\n    <tr>\n      <th>256729</th>\n      <td>neg</td>\n      <td>…Щимыгъэтауэ уэсыр къос.</td>\n      <td>Апхуэдэуи узэрагъэкIуэнт!</td>\n      <td>0</td>\n    </tr>\n    <tr>\n      <th>256730</th>\n      <td>neg</td>\n      <td>…Щимыгъэтауэ уэсыр къос.</td>\n      <td>Си щIалэ цIыкIури щыIи!</td>\n      <td>0</td>\n    </tr>\n    <tr>\n      <th>256731</th>\n      <td>pos</td>\n      <td>…Щимыгъэтауэ уэсыр къос.</td>\n      <td>Хыр мэпапщэ, зэхэпх къудейуэ.</td>\n      <td>1</td>\n    </tr>\n    <tr>\n      <th>256732</th>\n      <td>neg</td>\n      <td>…Щимыгъэтауэ уэсыр къос.</td>\n      <td>ЩIалэ цIыкIур и адэм еплъащ.</td>\n      <td>0</td>\n    </tr>\n  </tbody>\n</table>\n<p>256733 rows × 4 columns</p>\n</div>"
     },
     "execution_count": 6,
     "metadata": {},
     "output_type": "execute_result"
    }
   ],
   "source": [
    "slice_df = pd.DataFrame(\n",
    "    sent_pairs_df.groupby('sent1').apply(lambda x: x.sample(n=min(len(x), 10), random_state=1)).reset_index(drop=True)\n",
    ")\n",
    "slice_df"
   ],
   "metadata": {
    "collapsed": false,
    "ExecuteTime": {
     "end_time": "2024-03-03T02:03:39.204966Z",
     "start_time": "2024-03-03T02:02:42.692292Z"
    }
   },
   "execution_count": 6
  },
  {
   "cell_type": "code",
   "outputs": [],
   "source": [
    "slice_df.to_csv(f'../data/processed/{model_index}_{clusters_index}_sent_pairs_20_30.csv', index=False)"
   ],
   "metadata": {
    "collapsed": false,
    "ExecuteTime": {
     "end_time": "2024-03-03T02:03:39.697892Z",
     "start_time": "2024-03-03T02:03:39.199534Z"
    }
   },
   "execution_count": 7
  },
  {
   "cell_type": "code",
   "outputs": [],
   "source": [],
   "metadata": {
    "collapsed": false
   }
  }
 ],
 "metadata": {
  "kernelspec": {
   "display_name": "Python 3",
   "language": "python",
   "name": "python3"
  },
  "language_info": {
   "codemirror_mode": {
    "name": "ipython",
    "version": 2
   },
   "file_extension": ".py",
   "mimetype": "text/x-python",
   "name": "python",
   "nbconvert_exporter": "python",
   "pygments_lexer": "ipython2",
   "version": "2.7.6"
  }
 },
 "nbformat": 4,
 "nbformat_minor": 0
}
