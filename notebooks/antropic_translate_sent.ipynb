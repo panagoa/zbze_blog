{
 "cells": [
  {
   "metadata": {
    "ExecuteTime": {
     "end_time": "2024-07-30T20:43:50.001802Z",
     "start_time": "2024-07-30T20:43:49.773405Z"
    }
   },
   "cell_type": "code",
   "source": [
    "import pandas as pd\n",
    "\n",
    "with open('../data/processed/oshhamaho.txt', 'r') as f:\n",
    "    kbd_sentences = f.read().split('\\n')\n",
    "\n",
    "kbd_sentences = sorted(set([sent for sent in kbd_sentences if 20 <= len(sent) <= 30]))\n",
    "\n",
    "df = pd.DataFrame(kbd_sentences, columns=['sent'])"
   ],
   "id": "68cdd46de57712d5",
   "outputs": [],
   "execution_count": 46
  },
  {
   "metadata": {
    "ExecuteTime": {
     "end_time": "2024-07-30T20:43:51.292751Z",
     "start_time": "2024-07-30T20:43:51.287978Z"
    }
   },
   "cell_type": "code",
   "source": [
    "# df = df[df['sent'].str.startswith('– ')]\n",
    "df"
   ],
   "id": "ba26219e58a67c4d",
   "outputs": [
    {
     "data": {
      "text/plain": [
       "                                sent\n",
       "0              ( бгъэдохьэри, щэхуу)\n",
       "1              ( и псалъэр зэпеудри)\n",
       "2        ( и псалъэр зэпеудри) 85 86\n",
       "3        ( и хъуреягъыр къакIухьурэ)\n",
       "4          ( и хьэдэм къыхуэIэбэурэ)\n",
       "...                              ...\n",
       "29906       … ущымысхьу, си бгъэм из\n",
       "29907    …Псым уитхьэлэу уэ зэгуэрым\n",
       "29908    …СыкъимыкIуэту хэт и пащхьи\n",
       "29909  …СыкъыщIокIри, мазэм соплъыр,\n",
       "29910       …Щимыгъэтауэ уэсыр къос.\n",
       "\n",
       "[29911 rows x 1 columns]"
      ],
      "text/html": [
       "<div>\n",
       "<style scoped>\n",
       "    .dataframe tbody tr th:only-of-type {\n",
       "        vertical-align: middle;\n",
       "    }\n",
       "\n",
       "    .dataframe tbody tr th {\n",
       "        vertical-align: top;\n",
       "    }\n",
       "\n",
       "    .dataframe thead th {\n",
       "        text-align: right;\n",
       "    }\n",
       "</style>\n",
       "<table border=\"1\" class=\"dataframe\">\n",
       "  <thead>\n",
       "    <tr style=\"text-align: right;\">\n",
       "      <th></th>\n",
       "      <th>sent</th>\n",
       "    </tr>\n",
       "  </thead>\n",
       "  <tbody>\n",
       "    <tr>\n",
       "      <th>0</th>\n",
       "      <td>( бгъэдохьэри, щэхуу)</td>\n",
       "    </tr>\n",
       "    <tr>\n",
       "      <th>1</th>\n",
       "      <td>( и псалъэр зэпеудри)</td>\n",
       "    </tr>\n",
       "    <tr>\n",
       "      <th>2</th>\n",
       "      <td>( и псалъэр зэпеудри) 85 86</td>\n",
       "    </tr>\n",
       "    <tr>\n",
       "      <th>3</th>\n",
       "      <td>( и хъуреягъыр къакIухьурэ)</td>\n",
       "    </tr>\n",
       "    <tr>\n",
       "      <th>4</th>\n",
       "      <td>( и хьэдэм къыхуэIэбэурэ)</td>\n",
       "    </tr>\n",
       "    <tr>\n",
       "      <th>...</th>\n",
       "      <td>...</td>\n",
       "    </tr>\n",
       "    <tr>\n",
       "      <th>29906</th>\n",
       "      <td>… ущымысхьу, си бгъэм из</td>\n",
       "    </tr>\n",
       "    <tr>\n",
       "      <th>29907</th>\n",
       "      <td>…Псым уитхьэлэу уэ зэгуэрым</td>\n",
       "    </tr>\n",
       "    <tr>\n",
       "      <th>29908</th>\n",
       "      <td>…СыкъимыкIуэту хэт и пащхьи</td>\n",
       "    </tr>\n",
       "    <tr>\n",
       "      <th>29909</th>\n",
       "      <td>…СыкъыщIокIри, мазэм соплъыр,</td>\n",
       "    </tr>\n",
       "    <tr>\n",
       "      <th>29910</th>\n",
       "      <td>…Щимыгъэтауэ уэсыр къос.</td>\n",
       "    </tr>\n",
       "  </tbody>\n",
       "</table>\n",
       "<p>29911 rows × 1 columns</p>\n",
       "</div>"
      ]
     },
     "execution_count": 47,
     "metadata": {},
     "output_type": "execute_result"
    }
   ],
   "execution_count": 47
  },
  {
   "metadata": {
    "ExecuteTime": {
     "end_time": "2024-07-30T20:43:52.138060Z",
     "start_time": "2024-07-30T20:43:52.115666Z"
    }
   },
   "cell_type": "code",
   "source": [
    "import os\n",
    "import anthropic\n",
    "\n",
    "\n",
    "client = anthropic.Anthropic(\n",
    "    api_key=os.getenv('ANTHROPIC_API_KEY'),\n",
    ")\n",
    "\n",
    "model_name = \"claude-3-5-sonnet-20240620\"\n",
    "\n",
    "def batch_translate(bigrams):\n",
    "    message = client.messages.create(\n",
    "        # model=\"claude-3-opus-20240229\",\n",
    "        model=model_name,\n",
    "        max_tokens=2000,\n",
    "        temperature=0,\n",
    "        system=\"Выступи в роли знатока кабардинского языка и помоги мне перевести строки на русский язык. \\n\",\n",
    "        messages=[\n",
    "            {\n",
    "                \"role\": \"user\",\n",
    "                \"content\": [\n",
    "                    {\n",
    "                        \"type\": \"text\",\n",
    "                        \"text\": \"Результат ожидаю без лишних объяснений, строго перевод на русском языке. \\n\\nСтроки для перевода будут разделены знаком \\\\n (переноса строки), в ответе перевод должен быть так же разделен \\\\n.  \\n\\nКаждая новая строка, это отдельное по смыслу предложение - соединять их и тем более пытатся их переводить вместе не стоит. \\n\\nНа выходе переведенных строк должно быть строго как и входных. \\n\\nЕсли не можешь перевести строку, ставь пустую строку \\\"\\\" чтобы остальные переведы остались под тем же индексом, это супер важно. \\n\\nНе пиши в ответе вводную информацию \\\"Перевод на русский язык:\\\" - только результат перевода. \\n\\n\\nпокажу пример данных чтобы ты понимал формат. \\n- на вход:\\nнэхърэ нэхъ\\nсыт хуэдэ\\n\\n- на выходе хочу получить:\\nчем больше\\nкакой, какая, какое\\n\\nследующим сообщением пришлю входные данные которые нужно будет тебе перевести. \"\n",
    "                    }\n",
    "                ]\n",
    "            },\n",
    "            {\n",
    "                \"role\": \"assistant\",\n",
    "                \"content\": [\n",
    "                    {\n",
    "                        \"type\": \"text\",\n",
    "                        \"text\": \"Понял, жду строки для перевода. \"\n",
    "                    }\n",
    "                ]\n",
    "            },\n",
    "            {\n",
    "                \"role\": \"user\",\n",
    "                \"content\": [\n",
    "                    {\n",
    "                        \"type\": \"text\",\n",
    "                        \"text\": \"\\n\".join(bigrams)\n",
    "                    }\n",
    "                ]\n",
    "            }\n",
    "        ]\n",
    "    )\n",
    "\n",
    "    result = message.content[0].text.split('\\n')\n",
    "    return result"
   ],
   "id": "initial_id",
   "outputs": [],
   "execution_count": 48
  },
  {
   "cell_type": "code",
   "source": [
    "from tqdm import tqdm\n",
    "\n",
    "batches = df.groupby(df.index // 100)\n",
    "\n",
    "result_df = pd.DataFrame()\n",
    "\n",
    "for i, (name, group) in tqdm(enumerate(batches), total=len(batches)):\n",
    "    if i < 49:\n",
    "        continue\n",
    "\n",
    "    group_result = batch_translate(group['sent'].tolist())\n",
    "    try:\n",
    "        group_result_df = pd.DataFrame({\n",
    "            'source': group['sent'].tolist(),\n",
    "            'translated': group_result\n",
    "        })\n",
    "        group_result_df.to_csv(f'../data/processed/translated/sentences/translation_rus_{model_name}_{i}.csv', index=False)\n",
    "    except Exception:\n",
    "        continue"
   ],
   "metadata": {
    "collapsed": false,
    "ExecuteTime": {
     "end_time": "2024-07-31T10:11:47.265800Z",
     "start_time": "2024-07-31T07:23:31.190873Z"
    }
   },
   "id": "47c13673018c48a9",
   "outputs": [
    {
     "name": "stderr",
     "output_type": "stream",
     "text": [
      "100%|██████████| 300/300 [2:48:16<00:00, 33.65s/it]   \n"
     ]
    }
   ],
   "execution_count": 50
  },
  {
   "metadata": {},
   "cell_type": "code",
   "outputs": [],
   "execution_count": null,
   "source": "",
   "id": "e6a6631073b81c9a"
  }
 ],
 "metadata": {
  "kernelspec": {
   "display_name": "Python 3",
   "language": "python",
   "name": "python3"
  },
  "language_info": {
   "codemirror_mode": {
    "name": "ipython",
    "version": 2
   },
   "file_extension": ".py",
   "mimetype": "text/x-python",
   "name": "python",
   "nbconvert_exporter": "python",
   "pygments_lexer": "ipython2",
   "version": "2.7.6"
  }
 },
 "nbformat": 4,
 "nbformat_minor": 5
}
