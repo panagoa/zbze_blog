{
 "cells": [
  {
   "cell_type": "code",
   "execution_count": 152,
   "outputs": [],
   "source": [
    "import os\n",
    "import nltk\n",
    "\n",
    "import marisa_trie\n",
    "\n",
    "with open('../data/processed/word_freqs/freq_1000000_oshhamaho.txt') as f:\n",
    "    words = f.read().split('\\n')\n",
    "\n",
    "word_index_map = {word: id for id, word in enumerate(sorted(words))}\n",
    "\n",
    "word2word_id_trie = marisa_trie.RecordTrie(\n",
    "    \"I\", [(word, (word_id,)) for word, word_id in word_index_map.items()]\n",
    ")\n",
    "\n",
    "os.makedirs('../data/processed/spell_checker', exist_ok=True)\n",
    "word2word_id_trie.save('../data/processed/spell_checker/word2word_id_trie.marisa')"
   ],
   "metadata": {
    "collapsed": false,
    "ExecuteTime": {
     "end_time": "2024-01-05T02:31:31.649407Z",
     "start_time": "2024-01-05T02:31:29.179352Z"
    }
   }
  },
  {
   "cell_type": "code",
   "execution_count": 153,
   "outputs": [
    {
     "name": "stdout",
     "output_type": "stream",
     "text": [
      "True\n",
      "False\n"
     ]
    }
   ],
   "source": [
    "def word_exists(word, trie):\n",
    "    return word in trie\n",
    "\n",
    "\n",
    "print(word_exists('пщэдджыжь', word2word_id_trie))\n",
    "print(word_exists('пщэджыжь', word2word_id_trie))"
   ],
   "metadata": {
    "collapsed": false,
    "ExecuteTime": {
     "end_time": "2024-01-05T02:31:32.725715Z",
     "start_time": "2024-01-05T02:31:32.644703Z"
    }
   }
  },
  {
   "cell_type": "code",
   "execution_count": 156,
   "outputs": [],
   "source": [
    "import pandas as pd\n",
    "\n",
    "df_stem_templates = pd.read_csv('../data/processed/token_distribution/stem_templates.csv')\n",
    "\n",
    "df_stem_templates['prefix'] = df_stem_templates['template'].apply(\n",
    "    lambda x: x.split('*')[0] if len(x.split('*')) == 2 else ''\n",
    ")\n",
    "\n",
    "df_stem_templates['suffix'] = df_stem_templates['template'].apply(\n",
    "    lambda x: x.split('*')[1] if len(x.split('*')) == 2 else ''\n",
    ")\n",
    "\n",
    "prefix_cfd = nltk.ConditionalFreqDist()\n",
    "suffix_cfd = nltk.ConditionalFreqDist()\n",
    "\n",
    "for prefix, suffix in df_stem_templates[['prefix', 'suffix']].values:\n",
    "    prefix_cfd[len(prefix)][prefix] += 1\n",
    "    suffix_cfd[len(suffix)][suffix] += 1\n",
    "\n",
    "\n",
    "def prefix_freq(word, prefix_cfd, n=3):\n",
    "    prefix = word[:n]\n",
    "    return prefix_cfd.get(n, {}).get(prefix, 0)\n",
    "\n",
    "def suffix_freq(word, suffix_cfd, n=3):\n",
    "    suffix = word[-n:]\n",
    "    return suffix_cfd.get(n, {}).get(suffix, 0)"
   ],
   "metadata": {
    "collapsed": false,
    "ExecuteTime": {
     "end_time": "2024-01-05T02:31:36.599367Z",
     "start_time": "2024-01-05T02:31:36.524756Z"
    }
   }
  },
  {
   "cell_type": "code",
   "execution_count": 157,
   "outputs": [
    {
     "data": {
      "text/plain": "149"
     },
     "execution_count": 157,
     "metadata": {},
     "output_type": "execute_result"
    }
   ],
   "source": [
    "print(prefix_cfd[1].most_common(10))\n",
    "\n",
    "print(prefix_freq('сызэ', prefix_cfd, n=4))\n",
    "print(suffix_freq('къым', suffix_cfd, n=4))"
   ],
   "metadata": {
    "collapsed": false,
    "ExecuteTime": {
     "end_time": "2024-01-05T02:31:37.644596Z",
     "start_time": "2024-01-05T02:31:37.618580Z"
    }
   }
  },
  {
   "cell_type": "code",
   "execution_count": 158,
   "outputs": [],
   "source": [
    "prefixes = set(df_stem_templates['prefix'].to_list())\n",
    "suffixes = set(df_stem_templates['suffix'].to_list())"
   ],
   "metadata": {
    "collapsed": false,
    "ExecuteTime": {
     "end_time": "2024-01-05T02:31:39.194183Z",
     "start_time": "2024-01-05T02:31:39.058650Z"
    }
   }
  },
  {
   "cell_type": "code",
   "execution_count": 159,
   "outputs": [],
   "source": [
    "prefixes = sorted([prefix for prefix in prefixes if prefix != ''])\n",
    "suffixes = sorted([suffix for suffix in suffixes if suffix != ''])\n",
    "\n",
    "prefix_trie = marisa_trie.Trie(prefixes)\n",
    "suffix_trie = marisa_trie.Trie(suffixes)"
   ],
   "metadata": {
    "collapsed": false,
    "ExecuteTime": {
     "end_time": "2024-01-05T02:31:40.338871Z",
     "start_time": "2024-01-05T02:31:40.327511Z"
    }
   }
  },
  {
   "cell_type": "code",
   "execution_count": 160,
   "outputs": [
    {
     "name": "stdout",
     "output_type": "stream",
     "text": [
      "True\n",
      "False\n",
      "True\n",
      "False\n"
     ]
    }
   ],
   "source": [
    "def prefix_exists(prefix, prefix_trie):\n",
    "    return prefix in prefix_trie\n",
    "\n",
    "\n",
    "def suffix_exists(suffix, suffix_trie):\n",
    "    return suffix in suffix_trie\n",
    "\n",
    "\n",
    "print(prefix_exists('къыздэ', prefix_trie))\n",
    "print(prefix_exists('къысдэ', prefix_trie))\n",
    "\n",
    "print(suffix_exists('еин', suffix_trie))\n",
    "print(suffix_exists('син', suffix_trie))"
   ],
   "metadata": {
    "collapsed": false,
    "ExecuteTime": {
     "end_time": "2024-01-05T02:31:41.092052Z",
     "start_time": "2024-01-05T02:31:40.930209Z"
    }
   }
  },
  {
   "cell_type": "code",
   "execution_count": 161,
   "outputs": [],
   "source": [
    "from tokenizers import Tokenizer\n",
    "\n",
    "tokenizer_uni = Tokenizer.from_file('../data/processed/tokenizer/words_unigram_5000.tokenizer.json')\n",
    "tokenizer_bpe = Tokenizer.from_file('../data/processed/tokenizer/bpe_5000.tokenizer.json')\n",
    "\n",
    "\n",
    "def char_len_tokens(word, tokenizer):\n",
    "    toke_len_hash = ''.join([\n",
    "        str(len(token))\n",
    "        for token in tokenizer.encode(word).tokens\n",
    "    ])\n",
    "    return toke_len_hash\n",
    "\n",
    "\n",
    "def has_one_char_token_consecutively(word, tokenizer):\n",
    "    return '11' in char_len_tokens(word, tokenizer)\n",
    "\n",
    "\n",
    "def has_many_one_char_tokens(word, tokenizer, n=1):\n",
    "    return char_len_tokens(word, tokenizer).count('1') >= n\n",
    "\n",
    "\n",
    "def token_ids(word, tokenizer):\n",
    "    return tokenizer.encode(word).ids\n",
    "\n"
   ],
   "metadata": {
    "collapsed": false,
    "ExecuteTime": {
     "end_time": "2024-01-05T02:31:42.204463Z",
     "start_time": "2024-01-05T02:31:42.033125Z"
    }
   }
  },
  {
   "cell_type": "code",
   "execution_count": 162,
   "outputs": [
    {
     "name": "stdout",
     "output_type": "stream",
     "text": [
      "[278, 46, 451, 125]\n",
      "[1824, 127]\n",
      "3132\n",
      "72\n"
     ]
    }
   ],
   "source": [
    "word = 'пщэдджыжь'\n",
    "\n",
    "print(token_ids(word, tokenizer_uni))\n",
    "print(token_ids(word, tokenizer_bpe))\n",
    "print(char_len_tokens(word, tokenizer_uni))\n",
    "print(char_len_tokens(word, tokenizer_bpe))"
   ],
   "metadata": {
    "collapsed": false,
    "ExecuteTime": {
     "end_time": "2024-01-05T02:31:42.838204Z",
     "start_time": "2024-01-05T02:31:42.678469Z"
    }
   }
  },
  {
   "cell_type": "code",
   "execution_count": 163,
   "outputs": [
    {
     "name": "stderr",
     "output_type": "stream",
     "text": [
      "100%|██████████| 483338/483338 [00:03<00:00, 123915.99it/s]\n"
     ]
    }
   ],
   "source": [
    "from tqdm import tqdm\n",
    "\n",
    "bigram_fd = nltk.FreqDist()\n",
    "trigram_fd = nltk.FreqDist()\n",
    "\n",
    "for word in tqdm(words):\n",
    "    bigram_fd.update([''.join(bigram) for bigram in nltk.ngrams(word, 2)])\n",
    "    trigram_fd.update([''.join(trigram) for trigram in nltk.ngrams(word, 3)])\n",
    "\n",
    "\n",
    "def ngram_freq_treshold(trigram, treshold):\n",
    "    return trigram_fd.get(trigram, 0) <= treshold\n",
    "\n",
    "\n",
    "def treshold_ngram(word, treshold, n=3):\n",
    "    return sum([\n",
    "        int(ngram_freq_treshold(''.join(trigram), treshold))\n",
    "        for trigram in nltk.ngrams(word, n)\n",
    "    ])"
   ],
   "metadata": {
    "collapsed": false,
    "ExecuteTime": {
     "end_time": "2024-01-05T02:31:47.675728Z",
     "start_time": "2024-01-05T02:31:43.768469Z"
    }
   }
  },
  {
   "cell_type": "code",
   "execution_count": 218,
   "outputs": [],
   "source": [
    "df_oshhamaho_freqs = pd.read_csv('../data/processed/word_freqs/freq_1000000_oshhamaho.csv', sep=',')\n",
    "df_elgkbr_freqs = pd.read_csv('../data/processed/word_freqs/freq_1000000_elgkbr_ru.csv', sep=',')\n",
    "df_apkbr_freqs = pd.read_csv('../data/processed/word_freqs/freq_1000000_apkbr_ru.csv', sep=',')\n",
    "\n",
    "# df to count word frequency\n",
    "oshhamaho_counter = df_oshhamaho_freqs.set_index('word')['freq'].to_dict()\n",
    "elgkbr_counter = df_elgkbr_freqs.set_index('word')['freq'].to_dict()\n",
    "apkbr_counter = df_apkbr_freqs.set_index('word')['freq'].to_dict()\n",
    "\n",
    "def word_freq(word, counter):\n",
    "    return counter.get(word, 0)"
   ],
   "metadata": {
    "collapsed": false,
    "ExecuteTime": {
     "end_time": "2024-01-05T04:39:18.165463Z",
     "start_time": "2024-01-05T04:39:16.776451Z"
    }
   }
  },
  {
   "cell_type": "code",
   "execution_count": 219,
   "outputs": [],
   "source": [
    "exist_df = pd.read_csv('../data/processed/word_freqs/freq_1000000_oshhamaho.txt', header=None, sep=' ')\n",
    "exist_df.columns = ['word']\n",
    "exist_df['target'] = 1\n",
    "spelling_errors = pd.read_csv('../data/processed/spell_checker/synthetic_spelling_errors.txt', header=None, sep=' ')\n",
    "spelling_errors.columns = ['word']\n",
    "spelling_errors['target'] = 0\n",
    "\n",
    "exist_df['word'] = exist_df['word'].astype(str)\n",
    "spelling_errors['word'] = spelling_errors['word'].astype(str)\n",
    "\n",
    "df = pd.concat([exist_df, spelling_errors])"
   ],
   "metadata": {
    "collapsed": false,
    "ExecuteTime": {
     "end_time": "2024-01-05T04:39:21.285606Z",
     "start_time": "2024-01-05T04:39:20.461901Z"
    }
   }
  },
  {
   "cell_type": "code",
   "execution_count": 230,
   "outputs": [],
   "source": [
    "import numpy as np\n",
    "\n",
    "\n",
    "def fill_predictors(df):\n",
    "    df['word_len'] = df['word'].apply(lambda x: len(x))\n",
    "\n",
    "    df['token_len_uni'] = df['word'].apply(lambda x: len(tokenizer_uni.encode(x).tokens))\n",
    "    df['token_len_bpe'] = df['word'].apply(lambda x: len(tokenizer_bpe.encode(x).tokens))\n",
    "\n",
    "    df['word_line/char_len_uni'] = df['word_len'] / df['token_len_uni']\n",
    "    df['word_line/char_len_bpe'] = df['word_len'] / df['token_len_bpe']\n",
    "\n",
    "    df['2gram_treshold_10'] = df['word'].apply(lambda x: treshold_ngram(x, 10, n=2))\n",
    "    df['2gram_treshold_100'] = df['word'].apply(lambda x: treshold_ngram(x, 100, n=2))\n",
    "\n",
    "    df['3gram_treshold_10'] = df['word'].apply(lambda x: treshold_ngram(x, 10, n=3))\n",
    "    df['3gram_treshold_100'] = df['word'].apply(lambda x: treshold_ngram(x, 100, n=3))\n",
    "    df['3gram_treshold_500'] = df['word'].apply(lambda x: treshold_ngram(x, 500, n=3))\n",
    "    df['3gram_treshold_1000'] = df['word'].apply(lambda x: treshold_ngram(x, 1000, n=3))\n",
    "\n",
    "    df['4prefix_freq'] = df['word'].apply(lambda x: prefix_freq(x, prefix_cfd, n=4))\n",
    "    df['3prefix_freq'] = df['word'].apply(lambda x: prefix_freq(x, prefix_cfd, n=3))\n",
    "    df['2prefix_freq'] = df['word'].apply(lambda x: prefix_freq(x, prefix_cfd, n=2))\n",
    "    df['1prefix_freq'] = df['word'].apply(lambda x: prefix_freq(x, prefix_cfd, n=1))\n",
    "\n",
    "    df['4suffix_freq'] = df['word'].apply(lambda x: suffix_freq(x, suffix_cfd, n=4))\n",
    "    df['3suffix_freq'] = df['word'].apply(lambda x: suffix_freq(x, suffix_cfd, n=3))\n",
    "    df['2suffix_freq'] = df['word'].apply(lambda x: suffix_freq(x, suffix_cfd, n=2))\n",
    "    df['1suffix_freq'] = df['word'].apply(lambda x: suffix_freq(x, suffix_cfd, n=1))\n",
    "\n",
    "    df = df[df['token_len_bpe'] > 0]\n",
    "    df = df[df['token_len_uni'] > 0]\n",
    "\n",
    "    df['one_char_token_consecutively_uni'] = df['word'].apply(lambda x: has_one_char_token_consecutively(x, tokenizer_uni))\n",
    "    df['one_char_token_consecutively_bpe'] = df['word'].apply(lambda x: has_one_char_token_consecutively(x, tokenizer_bpe))\n",
    "\n",
    "    df['many_one_char_tokens_uni'] = df['word'].apply(lambda x: has_many_one_char_tokens(x, tokenizer_uni))\n",
    "    df['many_one_char_tokens_bpe'] = df['word'].apply(lambda x: has_many_one_char_tokens(x, tokenizer_bpe))\n",
    "\n",
    "    df['prefix_uni'] = df['word'].apply(lambda x: tokenizer_uni.encode(x).tokens[0])\n",
    "    df['prefix_len_uni'] = df['prefix_uni'].apply(lambda x: len(x))\n",
    "    df['prefix_id_uni'] = df['prefix_uni'].apply(lambda x: tokenizer_uni.token_to_id(x))\n",
    "\n",
    "    df['prefix_bpe'] = df['word'].apply(lambda x: tokenizer_bpe.encode(x).tokens[0])\n",
    "    df['prefix_len_bpe'] = df['prefix_bpe'].apply(lambda x: len(x))\n",
    "    df['prefix_id_bpe'] = df['prefix_bpe'].apply(lambda x: tokenizer_bpe.token_to_id(x))\n",
    "\n",
    "    df['suffix_uni'] = df['word'].apply(lambda x: tokenizer_uni.encode(x).tokens[-1])\n",
    "    df['suffix_len_uni'] = df['suffix_uni'].apply(lambda x: len(x))\n",
    "    df['suffix_id_uni'] = df['suffix_uni'].apply(lambda x: tokenizer_uni.token_to_id(x))\n",
    "\n",
    "    df['suffix_bpe'] = df['word'].apply(lambda x: tokenizer_bpe.encode(x).tokens[-1])\n",
    "    df['suffix_len_bpe'] = df['suffix_bpe'].apply(lambda x: len(x))\n",
    "    df['suffix_id_bpe'] = df['suffix_bpe'].apply(lambda x: tokenizer_bpe.token_to_id(x))\n",
    "\n",
    "    return df\n",
    "\n",
    "df = fill_predictors(df)"
   ],
   "metadata": {
    "collapsed": false,
    "ExecuteTime": {
     "end_time": "2024-01-05T04:45:48.727542Z",
     "start_time": "2024-01-05T04:44:17.063625Z"
    }
   }
  },
  {
   "cell_type": "code",
   "execution_count": 231,
   "outputs": [
    {
     "data": {
      "text/plain": "      word  target  word_len  word_freq_oshhamaho  word_freq_elgkbr  \\\n0        ,       1         1               428272            180340   \n1        .       1         1               297212            137571   \n2        и       1         1               133661            100305   \n3        –       1         1                92993              2613   \n4        «       1         1                38086             27235   \n..     ...     ...       ...                  ...               ...   \n95      Зы       1         2                 2358               488   \n96  гуэрым       1         6                 2349               539   \n97    псэр       1         4                 2341               394   \n98    фIэщ       1         4                 2312               563   \n99  Абыхэм       1         6                 2291              2275   \n\n    word_freq_apkbr  token_len_uni  token_len_bpe  word_line/char_len_uni  \\\n0            417242              1              1                1.000000   \n1            323922              1              1                1.000000   \n2            214308              1              1                1.000000   \n3              9004              1              1                1.000000   \n4             61171              1              1                1.000000   \n..              ...            ...            ...                     ...   \n95             1618              1              1                2.000000   \n96             1962              2              1                3.000000   \n97             1264              2              1                2.000000   \n98             1325              3              3                1.333333   \n99             4455              2              1                3.000000   \n\n    word_line/char_len_bpe  ...  prefix_id_uni  prefix_bpe  prefix_len_bpe  \\\n0                 1.000000  ...           4991           ,               1   \n1                 1.000000  ...            161           .               1   \n2                 1.000000  ...             10           и               1   \n3                 1.000000  ...            399           –               1   \n4                 1.000000  ...           4994           «               1   \n..                     ...  ...            ...         ...             ...   \n95                2.000000  ...            119          Зы               2   \n96                6.000000  ...           1052      гуэрым               6   \n97                4.000000  ...            253        псэр               4   \n98                1.333333  ...            170          фI               2   \n99                6.000000  ...           3451      Абыхэм               6   \n\n    prefix_id_bpe  suffix_uni  suffix_len_uni  suffix_id_uni  suffix_bpe  \\\n0               9           ,               1           4991           ,   \n1              11           .               1            161           .   \n2              71           и               1             10           и   \n3              96           –               1            399           –   \n4              27           «               1           4994           «   \n..            ...         ...             ...            ...         ...   \n95            433          Зы               2            119          Зы   \n96            706          ым               2             34      гуэрым   \n97            714           р               1             11        псэр   \n98            225           щ               1              9           щ   \n99            878         хэм               3             27      Абыхэм   \n\n    suffix_len_bpe  suffix_id_bpe  \n0                1              9  \n1                1             11  \n2                1             71  \n3                1             96  \n4                1             27  \n..             ...            ...  \n95               2            433  \n96               6            706  \n97               4            714  \n98               1             88  \n99               6            878  \n\n[100 rows x 40 columns]",
      "text/html": "<div>\n<style scoped>\n    .dataframe tbody tr th:only-of-type {\n        vertical-align: middle;\n    }\n\n    .dataframe tbody tr th {\n        vertical-align: top;\n    }\n\n    .dataframe thead th {\n        text-align: right;\n    }\n</style>\n<table border=\"1\" class=\"dataframe\">\n  <thead>\n    <tr style=\"text-align: right;\">\n      <th></th>\n      <th>word</th>\n      <th>target</th>\n      <th>word_len</th>\n      <th>word_freq_oshhamaho</th>\n      <th>word_freq_elgkbr</th>\n      <th>word_freq_apkbr</th>\n      <th>token_len_uni</th>\n      <th>token_len_bpe</th>\n      <th>word_line/char_len_uni</th>\n      <th>word_line/char_len_bpe</th>\n      <th>...</th>\n      <th>prefix_id_uni</th>\n      <th>prefix_bpe</th>\n      <th>prefix_len_bpe</th>\n      <th>prefix_id_bpe</th>\n      <th>suffix_uni</th>\n      <th>suffix_len_uni</th>\n      <th>suffix_id_uni</th>\n      <th>suffix_bpe</th>\n      <th>suffix_len_bpe</th>\n      <th>suffix_id_bpe</th>\n    </tr>\n  </thead>\n  <tbody>\n    <tr>\n      <th>0</th>\n      <td>,</td>\n      <td>1</td>\n      <td>1</td>\n      <td>428272</td>\n      <td>180340</td>\n      <td>417242</td>\n      <td>1</td>\n      <td>1</td>\n      <td>1.000000</td>\n      <td>1.000000</td>\n      <td>...</td>\n      <td>4991</td>\n      <td>,</td>\n      <td>1</td>\n      <td>9</td>\n      <td>,</td>\n      <td>1</td>\n      <td>4991</td>\n      <td>,</td>\n      <td>1</td>\n      <td>9</td>\n    </tr>\n    <tr>\n      <th>1</th>\n      <td>.</td>\n      <td>1</td>\n      <td>1</td>\n      <td>297212</td>\n      <td>137571</td>\n      <td>323922</td>\n      <td>1</td>\n      <td>1</td>\n      <td>1.000000</td>\n      <td>1.000000</td>\n      <td>...</td>\n      <td>161</td>\n      <td>.</td>\n      <td>1</td>\n      <td>11</td>\n      <td>.</td>\n      <td>1</td>\n      <td>161</td>\n      <td>.</td>\n      <td>1</td>\n      <td>11</td>\n    </tr>\n    <tr>\n      <th>2</th>\n      <td>и</td>\n      <td>1</td>\n      <td>1</td>\n      <td>133661</td>\n      <td>100305</td>\n      <td>214308</td>\n      <td>1</td>\n      <td>1</td>\n      <td>1.000000</td>\n      <td>1.000000</td>\n      <td>...</td>\n      <td>10</td>\n      <td>и</td>\n      <td>1</td>\n      <td>71</td>\n      <td>и</td>\n      <td>1</td>\n      <td>10</td>\n      <td>и</td>\n      <td>1</td>\n      <td>71</td>\n    </tr>\n    <tr>\n      <th>3</th>\n      <td>–</td>\n      <td>1</td>\n      <td>1</td>\n      <td>92993</td>\n      <td>2613</td>\n      <td>9004</td>\n      <td>1</td>\n      <td>1</td>\n      <td>1.000000</td>\n      <td>1.000000</td>\n      <td>...</td>\n      <td>399</td>\n      <td>–</td>\n      <td>1</td>\n      <td>96</td>\n      <td>–</td>\n      <td>1</td>\n      <td>399</td>\n      <td>–</td>\n      <td>1</td>\n      <td>96</td>\n    </tr>\n    <tr>\n      <th>4</th>\n      <td>«</td>\n      <td>1</td>\n      <td>1</td>\n      <td>38086</td>\n      <td>27235</td>\n      <td>61171</td>\n      <td>1</td>\n      <td>1</td>\n      <td>1.000000</td>\n      <td>1.000000</td>\n      <td>...</td>\n      <td>4994</td>\n      <td>«</td>\n      <td>1</td>\n      <td>27</td>\n      <td>«</td>\n      <td>1</td>\n      <td>4994</td>\n      <td>«</td>\n      <td>1</td>\n      <td>27</td>\n    </tr>\n    <tr>\n      <th>...</th>\n      <td>...</td>\n      <td>...</td>\n      <td>...</td>\n      <td>...</td>\n      <td>...</td>\n      <td>...</td>\n      <td>...</td>\n      <td>...</td>\n      <td>...</td>\n      <td>...</td>\n      <td>...</td>\n      <td>...</td>\n      <td>...</td>\n      <td>...</td>\n      <td>...</td>\n      <td>...</td>\n      <td>...</td>\n      <td>...</td>\n      <td>...</td>\n      <td>...</td>\n      <td>...</td>\n    </tr>\n    <tr>\n      <th>95</th>\n      <td>Зы</td>\n      <td>1</td>\n      <td>2</td>\n      <td>2358</td>\n      <td>488</td>\n      <td>1618</td>\n      <td>1</td>\n      <td>1</td>\n      <td>2.000000</td>\n      <td>2.000000</td>\n      <td>...</td>\n      <td>119</td>\n      <td>Зы</td>\n      <td>2</td>\n      <td>433</td>\n      <td>Зы</td>\n      <td>2</td>\n      <td>119</td>\n      <td>Зы</td>\n      <td>2</td>\n      <td>433</td>\n    </tr>\n    <tr>\n      <th>96</th>\n      <td>гуэрым</td>\n      <td>1</td>\n      <td>6</td>\n      <td>2349</td>\n      <td>539</td>\n      <td>1962</td>\n      <td>2</td>\n      <td>1</td>\n      <td>3.000000</td>\n      <td>6.000000</td>\n      <td>...</td>\n      <td>1052</td>\n      <td>гуэрым</td>\n      <td>6</td>\n      <td>706</td>\n      <td>ым</td>\n      <td>2</td>\n      <td>34</td>\n      <td>гуэрым</td>\n      <td>6</td>\n      <td>706</td>\n    </tr>\n    <tr>\n      <th>97</th>\n      <td>псэр</td>\n      <td>1</td>\n      <td>4</td>\n      <td>2341</td>\n      <td>394</td>\n      <td>1264</td>\n      <td>2</td>\n      <td>1</td>\n      <td>2.000000</td>\n      <td>4.000000</td>\n      <td>...</td>\n      <td>253</td>\n      <td>псэр</td>\n      <td>4</td>\n      <td>714</td>\n      <td>р</td>\n      <td>1</td>\n      <td>11</td>\n      <td>псэр</td>\n      <td>4</td>\n      <td>714</td>\n    </tr>\n    <tr>\n      <th>98</th>\n      <td>фIэщ</td>\n      <td>1</td>\n      <td>4</td>\n      <td>2312</td>\n      <td>563</td>\n      <td>1325</td>\n      <td>3</td>\n      <td>3</td>\n      <td>1.333333</td>\n      <td>1.333333</td>\n      <td>...</td>\n      <td>170</td>\n      <td>фI</td>\n      <td>2</td>\n      <td>225</td>\n      <td>щ</td>\n      <td>1</td>\n      <td>9</td>\n      <td>щ</td>\n      <td>1</td>\n      <td>88</td>\n    </tr>\n    <tr>\n      <th>99</th>\n      <td>Абыхэм</td>\n      <td>1</td>\n      <td>6</td>\n      <td>2291</td>\n      <td>2275</td>\n      <td>4455</td>\n      <td>2</td>\n      <td>1</td>\n      <td>3.000000</td>\n      <td>6.000000</td>\n      <td>...</td>\n      <td>3451</td>\n      <td>Абыхэм</td>\n      <td>6</td>\n      <td>878</td>\n      <td>хэм</td>\n      <td>3</td>\n      <td>27</td>\n      <td>Абыхэм</td>\n      <td>6</td>\n      <td>878</td>\n    </tr>\n  </tbody>\n</table>\n<p>100 rows × 40 columns</p>\n</div>"
     },
     "execution_count": 231,
     "metadata": {},
     "output_type": "execute_result"
    }
   ],
   "source": [
    "df.head(n=100)"
   ],
   "metadata": {
    "collapsed": false,
    "ExecuteTime": {
     "end_time": "2024-01-05T04:45:48.763852Z",
     "start_time": "2024-01-05T04:45:48.735612Z"
    }
   }
  },
  {
   "cell_type": "code",
   "execution_count": 232,
   "outputs": [],
   "source": [
    "from sklearn.model_selection import train_test_split"
   ],
   "metadata": {
    "collapsed": false,
    "ExecuteTime": {
     "end_time": "2024-01-05T04:45:48.764239Z",
     "start_time": "2024-01-05T04:45:48.739308Z"
    }
   }
  },
  {
   "cell_type": "code",
   "execution_count": 233,
   "outputs": [],
   "source": [
    "predictor_columns = [\n",
    "    # 'word',\n",
    "    # 'word_exists',\n",
    "    'word_len',\n",
    "\n",
    "    '2gram_treshold_10',\n",
    "    '2gram_treshold_100',\n",
    "    '3gram_treshold_10',\n",
    "    '3gram_treshold_100',\n",
    "    '3gram_treshold_500',\n",
    "    '3gram_treshold_1000',\n",
    "\n",
    "    '4prefix_freq',\n",
    "    '3prefix_freq',\n",
    "    '2prefix_freq',\n",
    "    '1prefix_freq',\n",
    "\n",
    "    '4suffix_freq',\n",
    "    '3suffix_freq',\n",
    "    '2suffix_freq',\n",
    "    '1suffix_freq',\n",
    "\n",
    "    'token_len_uni',\n",
    "    'token_len_bpe',\n",
    "    'word_line/char_len_uni',\n",
    "    'word_line/char_len_bpe',\n",
    "    'one_char_token_consecutively_uni',\n",
    "    'one_char_token_consecutively_bpe',\n",
    "    'many_one_char_tokens_uni',\n",
    "    'many_one_char_tokens_bpe',\n",
    "    # 'tokens_uni',\n",
    "    # 'token_ids_uni',\n",
    "    # 'tokens_bpe',\n",
    "    # 'token_ids_bpe',\n",
    "    # 'prefix_uni',\n",
    "    'prefix_len_uni',\n",
    "    'prefix_id_uni',\n",
    "    # 'prefix_bpe',\n",
    "    'prefix_len_bpe',\n",
    "    'prefix_id_bpe',\n",
    "    # 'suffix_uni',\n",
    "    'suffix_len_uni',\n",
    "    'suffix_id_uni',\n",
    "    # 'suffix_bpe',\n",
    "    'suffix_len_bpe',\n",
    "    'suffix_id_bpe',\n",
    "]\n",
    "\n",
    "df.dropna(inplace=True)\n",
    "x = df[predictor_columns]\n",
    "\n",
    "y = df['target']\n",
    "\n",
    "x_train, x_test, y_train, y_test = train_test_split(x, y, test_size=0.3, random_state=42)"
   ],
   "metadata": {
    "collapsed": false,
    "ExecuteTime": {
     "end_time": "2024-01-05T04:45:50.031770Z",
     "start_time": "2024-01-05T04:45:48.744921Z"
    }
   }
  },
  {
   "cell_type": "code",
   "execution_count": 234,
   "outputs": [
    {
     "data": {
      "text/plain": "RandomForestClassifier(max_depth=16, random_state=42)",
      "text/html": "<style>#sk-container-id-10 {color: black;}#sk-container-id-10 pre{padding: 0;}#sk-container-id-10 div.sk-toggleable {background-color: white;}#sk-container-id-10 label.sk-toggleable__label {cursor: pointer;display: block;width: 100%;margin-bottom: 0;padding: 0.3em;box-sizing: border-box;text-align: center;}#sk-container-id-10 label.sk-toggleable__label-arrow:before {content: \"▸\";float: left;margin-right: 0.25em;color: #696969;}#sk-container-id-10 label.sk-toggleable__label-arrow:hover:before {color: black;}#sk-container-id-10 div.sk-estimator:hover label.sk-toggleable__label-arrow:before {color: black;}#sk-container-id-10 div.sk-toggleable__content {max-height: 0;max-width: 0;overflow: hidden;text-align: left;background-color: #f0f8ff;}#sk-container-id-10 div.sk-toggleable__content pre {margin: 0.2em;color: black;border-radius: 0.25em;background-color: #f0f8ff;}#sk-container-id-10 input.sk-toggleable__control:checked~div.sk-toggleable__content {max-height: 200px;max-width: 100%;overflow: auto;}#sk-container-id-10 input.sk-toggleable__control:checked~label.sk-toggleable__label-arrow:before {content: \"▾\";}#sk-container-id-10 div.sk-estimator input.sk-toggleable__control:checked~label.sk-toggleable__label {background-color: #d4ebff;}#sk-container-id-10 div.sk-label input.sk-toggleable__control:checked~label.sk-toggleable__label {background-color: #d4ebff;}#sk-container-id-10 input.sk-hidden--visually {border: 0;clip: rect(1px 1px 1px 1px);clip: rect(1px, 1px, 1px, 1px);height: 1px;margin: -1px;overflow: hidden;padding: 0;position: absolute;width: 1px;}#sk-container-id-10 div.sk-estimator {font-family: monospace;background-color: #f0f8ff;border: 1px dotted black;border-radius: 0.25em;box-sizing: border-box;margin-bottom: 0.5em;}#sk-container-id-10 div.sk-estimator:hover {background-color: #d4ebff;}#sk-container-id-10 div.sk-parallel-item::after {content: \"\";width: 100%;border-bottom: 1px solid gray;flex-grow: 1;}#sk-container-id-10 div.sk-label:hover label.sk-toggleable__label {background-color: #d4ebff;}#sk-container-id-10 div.sk-serial::before {content: \"\";position: absolute;border-left: 1px solid gray;box-sizing: border-box;top: 0;bottom: 0;left: 50%;z-index: 0;}#sk-container-id-10 div.sk-serial {display: flex;flex-direction: column;align-items: center;background-color: white;padding-right: 0.2em;padding-left: 0.2em;position: relative;}#sk-container-id-10 div.sk-item {position: relative;z-index: 1;}#sk-container-id-10 div.sk-parallel {display: flex;align-items: stretch;justify-content: center;background-color: white;position: relative;}#sk-container-id-10 div.sk-item::before, #sk-container-id-10 div.sk-parallel-item::before {content: \"\";position: absolute;border-left: 1px solid gray;box-sizing: border-box;top: 0;bottom: 0;left: 50%;z-index: -1;}#sk-container-id-10 div.sk-parallel-item {display: flex;flex-direction: column;z-index: 1;position: relative;background-color: white;}#sk-container-id-10 div.sk-parallel-item:first-child::after {align-self: flex-end;width: 50%;}#sk-container-id-10 div.sk-parallel-item:last-child::after {align-self: flex-start;width: 50%;}#sk-container-id-10 div.sk-parallel-item:only-child::after {width: 0;}#sk-container-id-10 div.sk-dashed-wrapped {border: 1px dashed gray;margin: 0 0.4em 0.5em 0.4em;box-sizing: border-box;padding-bottom: 0.4em;background-color: white;}#sk-container-id-10 div.sk-label label {font-family: monospace;font-weight: bold;display: inline-block;line-height: 1.2em;}#sk-container-id-10 div.sk-label-container {text-align: center;}#sk-container-id-10 div.sk-container {/* jupyter's `normalize.less` sets `[hidden] { display: none; }` but bootstrap.min.css set `[hidden] { display: none !important; }` so we also need the `!important` here to be able to override the default hidden behavior on the sphinx rendered scikit-learn.org. See: https://github.com/scikit-learn/scikit-learn/issues/21755 */display: inline-block !important;position: relative;}#sk-container-id-10 div.sk-text-repr-fallback {display: none;}</style><div id=\"sk-container-id-10\" class=\"sk-top-container\"><div class=\"sk-text-repr-fallback\"><pre>RandomForestClassifier(max_depth=16, random_state=42)</pre><b>In a Jupyter environment, please rerun this cell to show the HTML representation or trust the notebook. <br />On GitHub, the HTML representation is unable to render, please try loading this page with nbviewer.org.</b></div><div class=\"sk-container\" hidden><div class=\"sk-item\"><div class=\"sk-estimator sk-toggleable\"><input class=\"sk-toggleable__control sk-hidden--visually\" id=\"sk-estimator-id-10\" type=\"checkbox\" checked><label for=\"sk-estimator-id-10\" class=\"sk-toggleable__label sk-toggleable__label-arrow\">RandomForestClassifier</label><div class=\"sk-toggleable__content\"><pre>RandomForestClassifier(max_depth=16, random_state=42)</pre></div></div></div></div></div>"
     },
     "execution_count": 234,
     "metadata": {},
     "output_type": "execute_result"
    }
   ],
   "source": [
    "from sklearn.ensemble import RandomForestClassifier\n",
    "\n",
    "rf_classifier = RandomForestClassifier(n_estimators=100, random_state=42, max_depth=16, min_samples_split=2)\n",
    "\n",
    "rf_classifier.fit(x_train, y_train)"
   ],
   "metadata": {
    "collapsed": false,
    "ExecuteTime": {
     "end_time": "2024-01-05T04:47:03.939143Z",
     "start_time": "2024-01-05T04:45:50.033609Z"
    }
   }
  },
  {
   "cell_type": "code",
   "execution_count": 225,
   "outputs": [
    {
     "name": "stdout",
     "output_type": "stream",
     "text": [
      "Accuracy: 0.9928399964027035\n"
     ]
    }
   ],
   "source": [
    "from sklearn.metrics import accuracy_score\n",
    "\n",
    "y_pred = rf_classifier.predict(x_test)\n",
    "print(\"Accuracy:\", accuracy_score(y_test, y_pred))"
   ],
   "metadata": {
    "collapsed": false,
    "ExecuteTime": {
     "end_time": "2024-01-05T04:41:52.497051Z",
     "start_time": "2024-01-05T04:41:50.589923Z"
    }
   }
  },
  {
   "cell_type": "code",
   "execution_count": 235,
   "outputs": [
    {
     "data": {
      "text/plain": "<Figure size 640x480 with 1 Axes>",
      "image/png": "[encoded data removed]"
     },
     "metadata": {},
     "output_type": "display_data"
    }
   ],
   "source": [
    "import matplotlib.pyplot as plt\n",
    "\n",
    "importances = rf_classifier.feature_importances_\n",
    "indices = np.argsort(importances)[::-1]\n",
    "\n",
    "plt.figure()\n",
    "plt.title(\"Важность признаков\")\n",
    "plt.bar(\n",
    "    x=range(x_train.shape[1]),\n",
    "    height=importances[indices],\n",
    "    color=\"r\",\n",
    "    align=\"center\"\n",
    ")\n",
    "plt.xticks(range(x_train.shape[1]), x_train.columns[indices], rotation=90)\n",
    "plt.xlim([-1, x_train.shape[1]])\n",
    "plt.show()"
   ],
   "metadata": {
    "collapsed": false,
    "ExecuteTime": {
     "end_time": "2024-01-05T04:47:04.164742Z",
     "start_time": "2024-01-05T04:47:03.940110Z"
    }
   }
  },
  {
   "cell_type": "code",
   "execution_count": 149,
   "outputs": [
    {
     "name": "stdout",
     "output_type": "stream",
     "text": [
      "Лучшие параметры: {'max_depth': 16, 'min_samples_split': 2, 'n_estimators': 100}\n",
      "Лучшая оценка: 0.8859203952475918\n"
     ]
    }
   ],
   "source": [
    "from sklearn.model_selection import GridSearchCV\n",
    "\n",
    "parameters = {\n",
    "    'n_estimators': [100],\n",
    "    'max_depth': [16, 32],\n",
    "    'min_samples_split': [2]\n",
    "}\n",
    "\n",
    "grid_search = GridSearchCV(estimator=rf_classifier, param_grid=parameters, cv=5)\n",
    "grid_search.fit(x_train, y_train)\n",
    "\n",
    "print(\"Лучшие параметры:\", grid_search.best_params_)\n",
    "print(\"Лучшая оценка:\", grid_search.best_score_)"
   ],
   "metadata": {
    "collapsed": false,
    "ExecuteTime": {
     "end_time": "2024-01-04T11:53:06.686389Z",
     "start_time": "2024-01-04T11:45:50.470524Z"
    }
   }
  },
  {
   "cell_type": "code",
   "execution_count": 150,
   "outputs": [
    {
     "name": "stdout",
     "output_type": "stream",
     "text": [
      "Средняя точность кросс-валидации: 0.8813607494625298\n"
     ]
    }
   ],
   "source": [
    "from sklearn.model_selection import cross_val_score\n",
    "\n",
    "cv_scores = cross_val_score(grid_search.best_estimator_, x, y, cv=5)\n",
    "\n",
    "print(\"Средняя точность кросс-валидации:\", cv_scores.mean())"
   ],
   "metadata": {
    "collapsed": false,
    "ExecuteTime": {
     "end_time": "2024-01-04T11:56:55.394273Z",
     "start_time": "2024-01-04T11:53:06.688201Z"
    }
   }
  },
  {
   "cell_type": "code",
   "execution_count": 151,
   "outputs": [
    {
     "name": "stdout",
     "output_type": "stream",
     "text": [
      "              precision    recall  f1-score   support\n",
      "\n",
      "           0       0.84      0.17      0.29     22241\n",
      "           1       0.89      1.00      0.94    145057\n",
      "\n",
      "    accuracy                           0.89    167298\n",
      "   macro avg       0.87      0.59      0.61    167298\n",
      "weighted avg       0.88      0.89      0.85    167298\n"
     ]
    }
   ],
   "source": [
    "from sklearn.metrics import classification_report\n",
    "\n",
    "y_pred = grid_search.predict(x_test)\n",
    "\n",
    "print(classification_report(y_test, y_pred))"
   ],
   "metadata": {
    "collapsed": false,
    "ExecuteTime": {
     "end_time": "2024-01-04T11:56:57.213720Z",
     "start_time": "2024-01-04T11:56:55.393191Z"
    }
   }
  },
  {
   "cell_type": "code",
   "execution_count": 249,
   "outputs": [],
   "source": [
    "from src.logic.text_cleaner import clean_text\n",
    "\n",
    "with open('../data/external/all_book.txt') as f:\n",
    "    text = f.read()\n",
    "    clean_text = clean_text(text)\n",
    "    book_words = nltk.word_tokenize(text)\n",
    "    book_words = sorted(set(book_words))\n",
    "\n",
    "with open('../data/processed/word_freqs/freq_1000000_apkbr_ru.txt') as f:\n",
    "    words = f.read().split('\\n')\n",
    "\n",
    "test_df = pd.DataFrame({\n",
    "    'word': words,\n",
    "})\n",
    "\n",
    "test_df = fill_predictors(test_df)\n",
    "test_df.dropna(inplace=True)"
   ],
   "metadata": {
    "collapsed": false,
    "ExecuteTime": {
     "end_time": "2024-01-06T16:59:19.099599Z",
     "start_time": "2024-01-06T16:58:28.712056Z"
    }
   }
  },
  {
   "cell_type": "code",
   "execution_count": 250,
   "outputs": [
    {
     "data": {
      "text/plain": "                     word  word_len  token_len_uni  token_len_bpe  \\\n0                       ,         1              1              1   \n1                       .         1              1              1   \n2                       и         1              1              1   \n3                       я         1              1              1   \n4                       «         1              1              1   \n...                   ...       ...            ...            ...   \n453528           сыщытыху         8              3              3   \n453529  сакъыхэтIысхьэнущ        17              9             10   \n453530        хуэарэзыхэм        11              3              3   \n453531      сызыхунэмысар        13              4              4   \n453532        сагъэгумэщI        11              4              3   \n\n        word_line/char_len_uni  word_line/char_len_bpe  2gram_treshold_10  \\\n0                     1.000000                1.000000                  0   \n1                     1.000000                1.000000                  0   \n2                     1.000000                1.000000                  0   \n3                     1.000000                1.000000                  0   \n4                     1.000000                1.000000                  0   \n...                        ...                     ...                ...   \n453528                2.666667                2.666667                  7   \n453529                1.888889                1.700000                 16   \n453530                3.666667                3.666667                 10   \n453531                3.250000                3.250000                 12   \n453532                2.750000                3.666667                 10   \n\n        2gram_treshold_100  3gram_treshold_10  3gram_treshold_100  ...  \\\n0                        0                  0                   0  ...   \n1                        0                  0                   0  ...   \n2                        0                  0                   0  ...   \n3                        0                  0                   0  ...   \n4                        0                  0                   0  ...   \n...                    ...                ...                 ...  ...   \n453528                   7                  0                   0  ...   \n453529                  16                  0                   0  ...   \n453530                  10                  0                   0  ...   \n453531                  12                  0                   0  ...   \n453532                  10                  0                   0  ...   \n\n        prefix_id_uni  prefix_bpe  prefix_len_bpe  prefix_id_bpe  suffix_uni  \\\n0                4991           ,               1              9           ,   \n1                 161           .               1             11           .   \n2                  10           и               1             71           и   \n3                  24           я               1             94           я   \n4                4994           «               1             27           «   \n...               ...         ...             ...            ...         ...   \n453528            301          сы               2            148          ху   \n453529             75          са               2            337        энущ   \n453530             51         хуэ               3            120         хэм   \n453531            496        сызы               4           1620          ар   \n453532           1850       сагъэ               5           4829          щI   \n\n        suffix_len_uni  suffix_id_uni  suffix_bpe  suffix_len_bpe  \\\n0                    1           4991           ,               1   \n1                    1            161           .               1   \n2                    1             10           и               1   \n3                    1             24           я               1   \n4                    1           4994           «               1   \n...                ...            ...         ...             ...   \n453528               2             39          ху               2   \n453529               4           1333         нущ               3   \n453530               3             27         хэм               3   \n453531               2             57         сар               3   \n453532               2            132          щI               2   \n\n        suffix_id_bpe  \n0                   9  \n1                  11  \n2                  71  \n3                  94  \n4                  27  \n...               ...  \n453528            112  \n453529            671  \n453530            129  \n453531           2663  \n453532            113  \n\n[453533 rows x 36 columns]",
      "text/html": "<div>\n<style scoped>\n    .dataframe tbody tr th:only-of-type {\n        vertical-align: middle;\n    }\n\n    .dataframe tbody tr th {\n        vertical-align: top;\n    }\n\n    .dataframe thead th {\n        text-align: right;\n    }\n</style>\n<table border=\"1\" class=\"dataframe\">\n  <thead>\n    <tr style=\"text-align: right;\">\n      <th></th>\n      <th>word</th>\n      <th>word_len</th>\n      <th>token_len_uni</th>\n      <th>token_len_bpe</th>\n      <th>word_line/char_len_uni</th>\n      <th>word_line/char_len_bpe</th>\n      <th>2gram_treshold_10</th>\n      <th>2gram_treshold_100</th>\n      <th>3gram_treshold_10</th>\n      <th>3gram_treshold_100</th>\n      <th>...</th>\n      <th>prefix_id_uni</th>\n      <th>prefix_bpe</th>\n      <th>prefix_len_bpe</th>\n      <th>prefix_id_bpe</th>\n      <th>suffix_uni</th>\n      <th>suffix_len_uni</th>\n      <th>suffix_id_uni</th>\n      <th>suffix_bpe</th>\n      <th>suffix_len_bpe</th>\n      <th>suffix_id_bpe</th>\n    </tr>\n  </thead>\n  <tbody>\n    <tr>\n      <th>0</th>\n      <td>,</td>\n      <td>1</td>\n      <td>1</td>\n      <td>1</td>\n      <td>1.000000</td>\n      <td>1.000000</td>\n      <td>0</td>\n      <td>0</td>\n      <td>0</td>\n      <td>0</td>\n      <td>...</td>\n      <td>4991</td>\n      <td>,</td>\n      <td>1</td>\n      <td>9</td>\n      <td>,</td>\n      <td>1</td>\n      <td>4991</td>\n      <td>,</td>\n      <td>1</td>\n      <td>9</td>\n    </tr>\n    <tr>\n      <th>1</th>\n      <td>.</td>\n      <td>1</td>\n      <td>1</td>\n      <td>1</td>\n      <td>1.000000</td>\n      <td>1.000000</td>\n      <td>0</td>\n      <td>0</td>\n      <td>0</td>\n      <td>0</td>\n      <td>...</td>\n      <td>161</td>\n      <td>.</td>\n      <td>1</td>\n      <td>11</td>\n      <td>.</td>\n      <td>1</td>\n      <td>161</td>\n      <td>.</td>\n      <td>1</td>\n      <td>11</td>\n    </tr>\n    <tr>\n      <th>2</th>\n      <td>и</td>\n      <td>1</td>\n      <td>1</td>\n      <td>1</td>\n      <td>1.000000</td>\n      <td>1.000000</td>\n      <td>0</td>\n      <td>0</td>\n      <td>0</td>\n      <td>0</td>\n      <td>...</td>\n      <td>10</td>\n      <td>и</td>\n      <td>1</td>\n      <td>71</td>\n      <td>и</td>\n      <td>1</td>\n      <td>10</td>\n      <td>и</td>\n      <td>1</td>\n      <td>71</td>\n    </tr>\n    <tr>\n      <th>3</th>\n      <td>я</td>\n      <td>1</td>\n      <td>1</td>\n      <td>1</td>\n      <td>1.000000</td>\n      <td>1.000000</td>\n      <td>0</td>\n      <td>0</td>\n      <td>0</td>\n      <td>0</td>\n      <td>...</td>\n      <td>24</td>\n      <td>я</td>\n      <td>1</td>\n      <td>94</td>\n      <td>я</td>\n      <td>1</td>\n      <td>24</td>\n      <td>я</td>\n      <td>1</td>\n      <td>94</td>\n    </tr>\n    <tr>\n      <th>4</th>\n      <td>«</td>\n      <td>1</td>\n      <td>1</td>\n      <td>1</td>\n      <td>1.000000</td>\n      <td>1.000000</td>\n      <td>0</td>\n      <td>0</td>\n      <td>0</td>\n      <td>0</td>\n      <td>...</td>\n      <td>4994</td>\n      <td>«</td>\n      <td>1</td>\n      <td>27</td>\n      <td>«</td>\n      <td>1</td>\n      <td>4994</td>\n      <td>«</td>\n      <td>1</td>\n      <td>27</td>\n    </tr>\n    <tr>\n      <th>...</th>\n      <td>...</td>\n      <td>...</td>\n      <td>...</td>\n      <td>...</td>\n      <td>...</td>\n      <td>...</td>\n      <td>...</td>\n      <td>...</td>\n      <td>...</td>\n      <td>...</td>\n      <td>...</td>\n      <td>...</td>\n      <td>...</td>\n      <td>...</td>\n      <td>...</td>\n      <td>...</td>\n      <td>...</td>\n      <td>...</td>\n      <td>...</td>\n      <td>...</td>\n      <td>...</td>\n    </tr>\n    <tr>\n      <th>453528</th>\n      <td>сыщытыху</td>\n      <td>8</td>\n      <td>3</td>\n      <td>3</td>\n      <td>2.666667</td>\n      <td>2.666667</td>\n      <td>7</td>\n      <td>7</td>\n      <td>0</td>\n      <td>0</td>\n      <td>...</td>\n      <td>301</td>\n      <td>сы</td>\n      <td>2</td>\n      <td>148</td>\n      <td>ху</td>\n      <td>2</td>\n      <td>39</td>\n      <td>ху</td>\n      <td>2</td>\n      <td>112</td>\n    </tr>\n    <tr>\n      <th>453529</th>\n      <td>сакъыхэтIысхьэнущ</td>\n      <td>17</td>\n      <td>9</td>\n      <td>10</td>\n      <td>1.888889</td>\n      <td>1.700000</td>\n      <td>16</td>\n      <td>16</td>\n      <td>0</td>\n      <td>0</td>\n      <td>...</td>\n      <td>75</td>\n      <td>са</td>\n      <td>2</td>\n      <td>337</td>\n      <td>энущ</td>\n      <td>4</td>\n      <td>1333</td>\n      <td>нущ</td>\n      <td>3</td>\n      <td>671</td>\n    </tr>\n    <tr>\n      <th>453530</th>\n      <td>хуэарэзыхэм</td>\n      <td>11</td>\n      <td>3</td>\n      <td>3</td>\n      <td>3.666667</td>\n      <td>3.666667</td>\n      <td>10</td>\n      <td>10</td>\n      <td>0</td>\n      <td>0</td>\n      <td>...</td>\n      <td>51</td>\n      <td>хуэ</td>\n      <td>3</td>\n      <td>120</td>\n      <td>хэм</td>\n      <td>3</td>\n      <td>27</td>\n      <td>хэм</td>\n      <td>3</td>\n      <td>129</td>\n    </tr>\n    <tr>\n      <th>453531</th>\n      <td>сызыхунэмысар</td>\n      <td>13</td>\n      <td>4</td>\n      <td>4</td>\n      <td>3.250000</td>\n      <td>3.250000</td>\n      <td>12</td>\n      <td>12</td>\n      <td>0</td>\n      <td>0</td>\n      <td>...</td>\n      <td>496</td>\n      <td>сызы</td>\n      <td>4</td>\n      <td>1620</td>\n      <td>ар</td>\n      <td>2</td>\n      <td>57</td>\n      <td>сар</td>\n      <td>3</td>\n      <td>2663</td>\n    </tr>\n    <tr>\n      <th>453532</th>\n      <td>сагъэгумэщI</td>\n      <td>11</td>\n      <td>4</td>\n      <td>3</td>\n      <td>2.750000</td>\n      <td>3.666667</td>\n      <td>10</td>\n      <td>10</td>\n      <td>0</td>\n      <td>0</td>\n      <td>...</td>\n      <td>1850</td>\n      <td>сагъэ</td>\n      <td>5</td>\n      <td>4829</td>\n      <td>щI</td>\n      <td>2</td>\n      <td>132</td>\n      <td>щI</td>\n      <td>2</td>\n      <td>113</td>\n    </tr>\n  </tbody>\n</table>\n<p>453533 rows × 36 columns</p>\n</div>"
     },
     "execution_count": 250,
     "metadata": {},
     "output_type": "execute_result"
    }
   ],
   "source": [
    "test_df"
   ],
   "metadata": {
    "collapsed": false,
    "ExecuteTime": {
     "end_time": "2024-01-06T16:59:19.280236Z",
     "start_time": "2024-01-06T16:59:19.113791Z"
    }
   }
  },
  {
   "cell_type": "code",
   "execution_count": 251,
   "outputs": [
    {
     "data": {
      "text/plain": "                     word  calc\n0                       ,     1\n1                       .     1\n2                       и     0\n3                       я     1\n4                       «     1\n...                   ...   ...\n453528           сыщытыху     1\n453529  сакъыхэтIысхьэнущ     1\n453530        хуэарэзыхэм     1\n453531      сызыхунэмысар     1\n453532        сагъэгумэщI     1\n\n[453533 rows x 2 columns]",
      "text/html": "<div>\n<style scoped>\n    .dataframe tbody tr th:only-of-type {\n        vertical-align: middle;\n    }\n\n    .dataframe tbody tr th {\n        vertical-align: top;\n    }\n\n    .dataframe thead th {\n        text-align: right;\n    }\n</style>\n<table border=\"1\" class=\"dataframe\">\n  <thead>\n    <tr style=\"text-align: right;\">\n      <th></th>\n      <th>word</th>\n      <th>calc</th>\n    </tr>\n  </thead>\n  <tbody>\n    <tr>\n      <th>0</th>\n      <td>,</td>\n      <td>1</td>\n    </tr>\n    <tr>\n      <th>1</th>\n      <td>.</td>\n      <td>1</td>\n    </tr>\n    <tr>\n      <th>2</th>\n      <td>и</td>\n      <td>0</td>\n    </tr>\n    <tr>\n      <th>3</th>\n      <td>я</td>\n      <td>1</td>\n    </tr>\n    <tr>\n      <th>4</th>\n      <td>«</td>\n      <td>1</td>\n    </tr>\n    <tr>\n      <th>...</th>\n      <td>...</td>\n      <td>...</td>\n    </tr>\n    <tr>\n      <th>453528</th>\n      <td>сыщытыху</td>\n      <td>1</td>\n    </tr>\n    <tr>\n      <th>453529</th>\n      <td>сакъыхэтIысхьэнущ</td>\n      <td>1</td>\n    </tr>\n    <tr>\n      <th>453530</th>\n      <td>хуэарэзыхэм</td>\n      <td>1</td>\n    </tr>\n    <tr>\n      <th>453531</th>\n      <td>сызыхунэмысар</td>\n      <td>1</td>\n    </tr>\n    <tr>\n      <th>453532</th>\n      <td>сагъэгумэщI</td>\n      <td>1</td>\n    </tr>\n  </tbody>\n</table>\n<p>453533 rows × 2 columns</p>\n</div>"
     },
     "execution_count": 251,
     "metadata": {},
     "output_type": "execute_result"
    }
   ],
   "source": [
    "calculated_df = rf_classifier.predict(test_df[predictor_columns])\n",
    "test_df['calc'] = calculated_df\n",
    "\n",
    "word_calc = test_df[['word', 'calc']]\n",
    "# word_calc = word_calc[word_calc['calc'] == 0]\n",
    "word_calc"
   ],
   "metadata": {
    "collapsed": false,
    "ExecuteTime": {
     "end_time": "2024-01-06T16:59:25.440487Z",
     "start_time": "2024-01-06T16:59:19.286623Z"
    }
   }
  },
  {
   "cell_type": "code",
   "execution_count": 252,
   "outputs": [
    {
     "name": "stderr",
     "output_type": "stream",
     "text": [
      "/Users/panagoa/PycharmProjects/zbze_blog/venv/lib/python3.11/site-packages/argilla/client/client.py:157: UserWarning: Default user was detected and no workspace configuration was provided, so the default 'argilla' workspace will be used. If you want to setup another workspace, use the `rg.set_workspace` function or provide a different one on `rg.init`\n",
      "  warnings.warn(\n",
      "100%|██████████| 453533/453533 [00:29<00:00, 15244.83it/s]\n"
     ]
    },
    {
     "data": {
      "text/plain": "Output()",
      "application/vnd.jupyter.widget-view+json": {
       "version_major": 2,
       "version_minor": 0,
       "model_id": "674d60d0a27e4792844733d901f8cf85"
      }
     },
     "metadata": {},
     "output_type": "display_data"
    },
    {
     "data": {
      "text/plain": "",
      "text/html": "<pre style=\"white-space:pre;overflow-x:auto;line-height:normal;font-family:Menlo,'DejaVu Sans Mono',consolas,'Courier New',monospace\"></pre>\n"
     },
     "metadata": {},
     "output_type": "display_data"
    },
    {
     "data": {
      "text/plain": "\n",
      "text/html": "<pre style=\"white-space:pre;overflow-x:auto;line-height:normal;font-family:Menlo,'DejaVu Sans Mono',consolas,'Courier New',monospace\">\n</pre>\n"
     },
     "metadata": {},
     "output_type": "display_data"
    },
    {
     "data": {
      "text/plain": "\u001B[1;36m453533\u001B[0m records logged to \u001B]8;id=359423;http://localhost:6900/datasets/argilla/kbd_words\u001B\\\u001B[4;94mhttp://localhost:6900/datasets/argilla/kbd_words\u001B[0m\u001B]8;;\u001B\\\n",
      "text/html": "<pre style=\"white-space:pre;overflow-x:auto;line-height:normal;font-family:Menlo,'DejaVu Sans Mono',consolas,'Courier New',monospace\"><span style=\"color: #008080; text-decoration-color: #008080; font-weight: bold\">453533</span> records logged to <a href=\"http://localhost:6900/datasets/argilla/kbd_words\" target=\"_blank\"><span style=\"color: #0000ff; text-decoration-color: #0000ff; text-decoration: underline\">http://localhost:6900/datasets/argilla/kbd_words</span></a>\n</pre>\n"
     },
     "metadata": {},
     "output_type": "display_data"
    },
    {
     "data": {
      "text/plain": "BulkResponse(dataset='kbd_words', processed=453533, failed=0)"
     },
     "execution_count": 252,
     "metadata": {},
     "output_type": "execute_result"
    }
   ],
   "source": [
    "import argilla as rg\n",
    "from argilla import TextClassificationRecord\n",
    "\n",
    "rg.init(api_url=\"http://localhost:6900\", api_key=\"argilla.apikey\")\n",
    "\n",
    "records = []\n",
    "for word, calc in tqdm(word_calc.values):\n",
    "    records.append(\n",
    "        TextClassificationRecord(\n",
    "            text=word,\n",
    "            prediction=[('valid' if calc == 1 else 'invalid', calc)],\n",
    "            metadata={\n",
    "                'source': 'freq_1000000_apkbr_ru',\n",
    "                'freq': word_freq(word, elgkbr_counter),\n",
    "                'tokens_uni': tokenizer_uni.encode(word).tokens,\n",
    "                'tokens_bpe': tokenizer_bpe.encode(word).tokens,\n",
    "            },\n",
    "        )\n",
    "    )\n",
    "\n",
    "dataset_rg = rg.DatasetForTextClassification(records)\n",
    "rg.log(dataset_rg, name=\"kbd_words\")"
   ],
   "metadata": {
    "collapsed": false,
    "ExecuteTime": {
     "end_time": "2024-01-06T18:20:22.954348Z",
     "start_time": "2024-01-06T16:59:25.457934Z"
    }
   }
  },
  {
   "cell_type": "code",
   "execution_count": null,
   "outputs": [],
   "source": [],
   "metadata": {
    "collapsed": false
   }
  }
 ],
 "metadata": {
  "kernelspec": {
   "display_name": "Python 3",
   "language": "python",
   "name": "python3"
  },
  "language_info": {
   "codemirror_mode": {
    "name": "ipython",
    "version": 2
   },
   "file_extension": ".py",
   "mimetype": "text/x-python",
   "name": "python",
   "nbconvert_exporter": "python",
   "pygments_lexer": "ipython2",
   "version": "2.7.6"
  }
 },
 "nbformat": 4,
 "nbformat_minor": 0
}
