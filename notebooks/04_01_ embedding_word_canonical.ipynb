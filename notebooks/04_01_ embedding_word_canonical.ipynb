{
 "cells": [
  {
   "cell_type": "code",
   "execution_count": 2,
   "outputs": [
    {
     "name": "stderr",
     "output_type": "stream",
     "text": [
      "Warning : `load_model` does not return WordVectorModel or SupervisedModel any more, but a `FastText` object which is very similar.\n"
     ]
    }
   ],
   "source": [
    "import os\n",
    "\n",
    "import fasttext\n",
    "\n",
    "embeddings_dir = '../data/processed/embeddings/'\n",
    "kbd_model = fasttext.load_model(os.path.join(embeddings_dir, 'fasttext_skipgram_kbd_100.bin'))"
   ],
   "metadata": {
    "collapsed": false,
    "ExecuteTime": {
     "end_time": "2024-03-15T01:34:04.848290Z",
     "start_time": "2024-03-15T01:34:04.846824Z"
    }
   }
  },
  {
   "cell_type": "code",
   "execution_count": 3,
   "outputs": [],
   "source": [
    "from gensim.models import KeyedVectors\n",
    "\n",
    "kbd_restricted_glossary_kv = KeyedVectors.load(\n",
    "    os.path.join(embeddings_dir, 'fasttext_skipgram_kbd_100_restricted_glossary.kv'))"
   ],
   "metadata": {
    "collapsed": false,
    "ExecuteTime": {
     "end_time": "2024-03-15T01:34:06.490432Z",
     "start_time": "2024-03-15T01:34:05.829800Z"
    }
   }
  },
  {
   "cell_type": "code",
   "execution_count": 4,
   "outputs": [
    {
     "data": {
      "text/plain": "     stem_ng_len     stem  word_ng_len          word      template  \\\n1              1  -Джэрий            2  Кърым-Джэрий  Кърым???????   \n2              1    Кърым            2  Кърым-Джэрий  ?????-Джэрий   \n3              1  -Джэрий            2   Хъан-Джэрий   Хъан???????   \n4              1     Хъан            2   Хъан-Джэрий   ????-Джэрий   \n7              1  -Джэрий            3   Адэл-Джэрий   Адэл???????   \n..           ...      ...          ...           ...           ...   \n371            4   Муртаз            6  Муртаз-пэщэр  ??????-пэщэр   \n558            1     0-рэ            2        110-рэ        11????   \n559            1     0-рэ            2        120-рэ        12????   \n562            1     0-рэ            2        150-рэ        15????   \n572            1     0-рэ            2        250-рэ        25????   \n\n                tokens  stem_is_full_word  freq  \n1        Кърым|-Джэрий              False    11  \n2        Кърым|-Джэрий              False    11  \n3         Хъан|-Джэрий              False    97  \n4         Хъан|-Джэрий              False    97  \n7        Адэ|л|-Джэрий              False     7  \n..                 ...                ...   ...  \n371  Му|рт|а|з|-пэщэ|р              False     8  \n558            11|0-рэ              False     6  \n559            12|0-рэ              False    10  \n562            15|0-рэ              False    34  \n572            25|0-рэ              False     7  \n\n[100 rows x 8 columns]",
      "text/html": "<div>\n<style scoped>\n    .dataframe tbody tr th:only-of-type {\n        vertical-align: middle;\n    }\n\n    .dataframe tbody tr th {\n        vertical-align: top;\n    }\n\n    .dataframe thead th {\n        text-align: right;\n    }\n</style>\n<table border=\"1\" class=\"dataframe\">\n  <thead>\n    <tr style=\"text-align: right;\">\n      <th></th>\n      <th>stem_ng_len</th>\n      <th>stem</th>\n      <th>word_ng_len</th>\n      <th>word</th>\n      <th>template</th>\n      <th>tokens</th>\n      <th>stem_is_full_word</th>\n      <th>freq</th>\n    </tr>\n  </thead>\n  <tbody>\n    <tr>\n      <th>1</th>\n      <td>1</td>\n      <td>-Джэрий</td>\n      <td>2</td>\n      <td>Кърым-Джэрий</td>\n      <td>Кърым???????</td>\n      <td>Кърым|-Джэрий</td>\n      <td>False</td>\n      <td>11</td>\n    </tr>\n    <tr>\n      <th>2</th>\n      <td>1</td>\n      <td>Кърым</td>\n      <td>2</td>\n      <td>Кърым-Джэрий</td>\n      <td>?????-Джэрий</td>\n      <td>Кърым|-Джэрий</td>\n      <td>False</td>\n      <td>11</td>\n    </tr>\n    <tr>\n      <th>3</th>\n      <td>1</td>\n      <td>-Джэрий</td>\n      <td>2</td>\n      <td>Хъан-Джэрий</td>\n      <td>Хъан???????</td>\n      <td>Хъан|-Джэрий</td>\n      <td>False</td>\n      <td>97</td>\n    </tr>\n    <tr>\n      <th>4</th>\n      <td>1</td>\n      <td>Хъан</td>\n      <td>2</td>\n      <td>Хъан-Джэрий</td>\n      <td>????-Джэрий</td>\n      <td>Хъан|-Джэрий</td>\n      <td>False</td>\n      <td>97</td>\n    </tr>\n    <tr>\n      <th>7</th>\n      <td>1</td>\n      <td>-Джэрий</td>\n      <td>3</td>\n      <td>Адэл-Джэрий</td>\n      <td>Адэл???????</td>\n      <td>Адэ|л|-Джэрий</td>\n      <td>False</td>\n      <td>7</td>\n    </tr>\n    <tr>\n      <th>...</th>\n      <td>...</td>\n      <td>...</td>\n      <td>...</td>\n      <td>...</td>\n      <td>...</td>\n      <td>...</td>\n      <td>...</td>\n      <td>...</td>\n    </tr>\n    <tr>\n      <th>371</th>\n      <td>4</td>\n      <td>Муртаз</td>\n      <td>6</td>\n      <td>Муртаз-пэщэр</td>\n      <td>??????-пэщэр</td>\n      <td>Му|рт|а|з|-пэщэ|р</td>\n      <td>False</td>\n      <td>8</td>\n    </tr>\n    <tr>\n      <th>558</th>\n      <td>1</td>\n      <td>0-рэ</td>\n      <td>2</td>\n      <td>110-рэ</td>\n      <td>11????</td>\n      <td>11|0-рэ</td>\n      <td>False</td>\n      <td>6</td>\n    </tr>\n    <tr>\n      <th>559</th>\n      <td>1</td>\n      <td>0-рэ</td>\n      <td>2</td>\n      <td>120-рэ</td>\n      <td>12????</td>\n      <td>12|0-рэ</td>\n      <td>False</td>\n      <td>10</td>\n    </tr>\n    <tr>\n      <th>562</th>\n      <td>1</td>\n      <td>0-рэ</td>\n      <td>2</td>\n      <td>150-рэ</td>\n      <td>15????</td>\n      <td>15|0-рэ</td>\n      <td>False</td>\n      <td>34</td>\n    </tr>\n    <tr>\n      <th>572</th>\n      <td>1</td>\n      <td>0-рэ</td>\n      <td>2</td>\n      <td>250-рэ</td>\n      <td>25????</td>\n      <td>25|0-рэ</td>\n      <td>False</td>\n      <td>7</td>\n    </tr>\n  </tbody>\n</table>\n<p>100 rows × 8 columns</p>\n</div>"
     },
     "execution_count": 4,
     "metadata": {},
     "output_type": "execute_result"
    }
   ],
   "source": [
    "from tqdm import tqdm\n",
    "import pandas as pd\n",
    "\n",
    "token_dist_dir = '../data/processed/token_distribution/'\n",
    "stem_df = pd.read_csv(os.path.join(token_dist_dir, 'stem_candidates.csv.gz'), compression='gzip')\n",
    "stem_df.head(n=100)\n",
    "\n",
    "word_freq = pd.read_csv('../data/processed/word_freqs/freq_1000000_oshhamaho.csv')\n",
    "word_freq.head(n=100)\n",
    "\n",
    "df = pd.merge(stem_df, word_freq, on='word', how='inner')\n",
    "df = df[df['freq'] > 5]\n",
    "df.head(n=100)"
   ],
   "metadata": {
    "collapsed": false,
    "ExecuteTime": {
     "end_time": "2024-03-15T01:34:13.134695Z",
     "start_time": "2024-03-15T01:34:08.660496Z"
    }
   }
  },
  {
   "cell_type": "code",
   "execution_count": 5,
   "outputs": [],
   "source": [
    "import ahocorasick\n",
    "\n",
    "words = df['word'].tolist()\n",
    "\n",
    "trie = ahocorasick.Automaton(key_type=\"str\", value_type=\"int\")\n",
    "for id, word in enumerate(sorted(words)):\n",
    "    trie.add_word(word, id)\n",
    "\n",
    "trie.make_automaton()"
   ],
   "metadata": {
    "collapsed": false,
    "ExecuteTime": {
     "end_time": "2024-03-15T01:34:17.489883Z",
     "start_time": "2024-03-15T01:34:17.405129Z"
    }
   }
  },
  {
   "cell_type": "code",
   "execution_count": 6,
   "outputs": [
    {
     "name": "stdout",
     "output_type": "stream",
     "text": [
      "цIыхубзхэр\n"
     ]
    }
   ],
   "source": [
    "def slice_word_suffix(word, suffix_n=1):\n",
    "    most_prefix_match = list(trie.keys(word, '?', ahocorasick.MATCH_AT_MOST_PREFIX))\n",
    "    try:\n",
    "        return most_prefix_match[-suffix_n - 1]\n",
    "    except IndexError:\n",
    "        return None\n",
    "\n",
    "\n",
    "print(slice_word_suffix('цIыхубзхэри'))"
   ],
   "metadata": {
    "collapsed": false,
    "ExecuteTime": {
     "end_time": "2024-03-15T01:34:18.084702Z",
     "start_time": "2024-03-15T01:34:18.074670Z"
    }
   }
  },
  {
   "cell_type": "code",
   "execution_count": 7,
   "outputs": [
    {
     "name": "stderr",
     "output_type": "stream",
     "text": [
      "  0%|          | 0/33571 [00:00<?, ?it/s]/Users/panagoa/PycharmProjects/zbze_blog/venv/lib/python3.11/site-packages/gensim/models/keyedvectors.py:849: RuntimeWarning: invalid value encountered in divide\n",
      "  dists = dot(self.vectors[clip_start:clip_end], mean) / self.norms[clip_start:clip_end]\n",
      "100%|██████████| 33571/33571 [00:36<00:00, 913.39it/s] \n"
     ]
    }
   ],
   "source": [
    "stem_list = set(df['stem'].tolist())\n",
    "\n",
    "\n",
    "def choose_canonical_by_vector(word):\n",
    "    word_vector = kbd_model.get_word_vector(word)\n",
    "    canonical, similarity = kbd_restricted_glossary_kv.similar_by_vector(word_vector, topn=1)[0]\n",
    "    return canonical, similarity\n",
    "\n",
    "\n",
    "stem_canonicals = []\n",
    "for stem in tqdm(stem_list):\n",
    "    stem_canonicals.append((stem, choose_canonical_by_vector(stem)))\n",
    "\n",
    "stem_canonicals = dict(stem_canonicals)"
   ],
   "metadata": {
    "collapsed": false,
    "ExecuteTime": {
     "end_time": "2024-03-15T01:34:55.600445Z",
     "start_time": "2024-03-15T01:34:18.802645Z"
    }
   }
  },
  {
   "cell_type": "code",
   "execution_count": 8,
   "outputs": [
    {
     "name": "stderr",
     "output_type": "stream",
     "text": [
      "100%|██████████| 27268/27268 [00:00<00:00, 232059.95it/s]\n"
     ]
    }
   ],
   "source": [
    "from collections import defaultdict\n",
    "import nltk\n",
    "\n",
    "trigram_index = defaultdict(list)\n",
    "\n",
    "restricted_glossary = set(kbd_restricted_glossary_kv.index_to_key)\n",
    "for glossary_word in tqdm(restricted_glossary):\n",
    "    for trigram in nltk.ngrams(glossary_word, 3):\n",
    "        trigram_index[''.join(trigram)].append(glossary_word)"
   ],
   "metadata": {
    "collapsed": false,
    "ExecuteTime": {
     "end_time": "2024-03-15T01:37:41.302217Z",
     "start_time": "2024-03-15T01:37:40.812521Z"
    }
   }
  },
  {
   "cell_type": "code",
   "execution_count": 9,
   "outputs": [
    {
     "name": "stdout",
     "output_type": "stream",
     "text": [
      "('цIыхубз', 0.82)\n"
     ]
    }
   ],
   "source": [
    "from fuzzywuzzy import fuzz\n",
    "\n",
    "\n",
    "def get_candidates_by_trigram(word):\n",
    "    candidates = set()\n",
    "    for trigram in nltk.ngrams(word, 3):\n",
    "        candidates.update(trigram_index[''.join(trigram)])\n",
    "\n",
    "    # print(len(candidates))\n",
    "    return candidates\n",
    "\n",
    "\n",
    "def choose_canonical_by_distance(word):\n",
    "    if word is None:\n",
    "        return None, 0\n",
    "\n",
    "    canonical = None\n",
    "    max_dist = 0\n",
    "    for candidate in get_candidates_by_trigram(word):\n",
    "        dist = fuzz.ratio(word, candidate)\n",
    "        if dist > max_dist:\n",
    "            max_dist = dist\n",
    "            canonical = candidate\n",
    "\n",
    "    score = max_dist / 100\n",
    "    return canonical, score\n",
    "\n",
    "\n",
    "print(choose_canonical_by_distance('цIыхубзхэр'))"
   ],
   "metadata": {
    "collapsed": false,
    "ExecuteTime": {
     "end_time": "2024-03-15T01:37:42.863477Z",
     "start_time": "2024-03-15T01:37:42.812772Z"
    }
   }
  },
  {
   "cell_type": "code",
   "execution_count": 10,
   "outputs": [
    {
     "name": "stderr",
     "output_type": "stream",
     "text": [
      "100%|██████████| 33571/33571 [01:00<00:00, 552.05it/s]\n"
     ]
    }
   ],
   "source": [
    "stem_canonicals_by_distance = {}\n",
    "\n",
    "for stem in tqdm(stem_list):\n",
    "    canonical, score = choose_canonical_by_distance(stem)\n",
    "    stem_canonicals_by_distance[stem] = (canonical, score)"
   ],
   "metadata": {
    "collapsed": false,
    "ExecuteTime": {
     "end_time": "2024-03-15T01:38:46.146065Z",
     "start_time": "2024-03-15T01:37:45.329459Z"
    }
   }
  },
  {
   "cell_type": "code",
   "execution_count": 11,
   "outputs": [
    {
     "name": "stderr",
     "output_type": "stream",
     "text": [
      "  0%|          | 0/45159 [00:00<?, ?it/s]/Users/panagoa/PycharmProjects/zbze_blog/venv/lib/python3.11/site-packages/gensim/models/keyedvectors.py:849: RuntimeWarning: invalid value encountered in divide\n",
      "  dists = dot(self.vectors[clip_start:clip_end], mean) / self.norms[clip_start:clip_end]\n",
      "100%|██████████| 45159/45159 [06:23<00:00, 117.64it/s]\n"
     ]
    }
   ],
   "source": [
    "canonicals = []\n",
    "\n",
    "word_stem = df.set_index('word')['stem'].to_dict()\n",
    "\n",
    "for word, stem in tqdm(word_stem.items()):\n",
    "    canonical_by_similar_stem, by_similar_stem_score = stem_canonicals[stem]\n",
    "    canonical_by_similar_word, by_similar_word_score = choose_canonical_by_vector(word)\n",
    "    canonical_by_stem_distance, by_stem_distance_score = stem_canonicals_by_distance[stem]\n",
    "    canonical_by_word_distance, by_word_distance_score = choose_canonical_by_distance(word)\n",
    "\n",
    "    slice_suffix_1 = slice_word_suffix(word, 1)\n",
    "    canonical_by_slice_suffix_1, by_slice_suffix_1_score = choose_canonical_by_distance(slice_suffix_1)\n",
    "\n",
    "    slice_suffix_2 = slice_word_suffix(word, 2)\n",
    "    canonical_by_slice_suffix_2, by_slice_suffix_2_score = choose_canonical_by_distance(slice_suffix_2)\n",
    "\n",
    "    slice_suffix_3 = slice_word_suffix(word, 3)\n",
    "    canonical_by_slice_suffix_3, by_slice_suffix_3_score = choose_canonical_by_distance(slice_suffix_3)\n",
    "\n",
    "    canonicals.append({\n",
    "        'word': word,\n",
    "        'canonical_by_similar_word': canonical_by_similar_word,\n",
    "        'canonical_by_similar_word_score': by_similar_word_score,\n",
    "        'canonical_by_word_distance': canonical_by_word_distance,\n",
    "        'canonical_by_word_distance_score': by_word_distance_score,\n",
    "\n",
    "        'stem': stem,\n",
    "        'canonical_by_similar_stem': canonical_by_similar_stem,\n",
    "        'canonical_by_similar_stem_score': by_similar_stem_score,\n",
    "        'canonical_by_stem_distance': canonical_by_stem_distance,\n",
    "        'canonical_by_stem_distance_score': by_stem_distance_score,\n",
    "\n",
    "        'slice_suffix_1': slice_suffix_1,\n",
    "        'canonical_by_slice_suffix_1': canonical_by_slice_suffix_1,\n",
    "        'by_slice_suffix_1_score': by_slice_suffix_1_score,\n",
    "\n",
    "        'slice_suffix_2': slice_suffix_2,\n",
    "        'canonical_by_slice_suffix_2': canonical_by_slice_suffix_2,\n",
    "        'by_slice_suffix_2_score': by_slice_suffix_2_score,\n",
    "\n",
    "        'slice_suffix_3': slice_suffix_3,\n",
    "        'canonical_by_slice_suffix_3': canonical_by_slice_suffix_3,\n",
    "        'by_slice_suffix_3_score': by_slice_suffix_3_score,\n",
    "    })\n",
    "\n",
    "canonicals_df = pd.DataFrame(canonicals)"
   ],
   "metadata": {
    "collapsed": false,
    "ExecuteTime": {
     "end_time": "2024-03-15T01:45:12.693743Z",
     "start_time": "2024-03-15T01:38:48.531591Z"
    }
   }
  },
  {
   "cell_type": "code",
   "execution_count": 12,
   "outputs": [
    {
     "data": {
      "text/plain": "               word canonical_by_similar_word  \\\n0      Кърым-Джэрий                   дзэзешэ   \n1       Хъан-Джэрий                    хъаний   \n2       Адэл-Джэрий                    хъаний   \n3        Дал-Джэрий                    хъаний   \n4       Къаз-Джэрий                     очерк   \n...             ...                       ...   \n45154   къызэщIэващ               къызэщIэвэн   \n45155        Ноябрь                    ноябрь   \n45156        ноябрь                    ноябрь   \n45157       октябрь                   октябрь   \n45158       Октябрь                   октябрь   \n\n       canonical_by_similar_word_score canonical_by_word_distance  \\\n0                             0.684770                 сымаджэрей   \n1                             0.612499                     къанжэ   \n2                             0.653761                   пыджэрей   \n3                             0.649661                      дарий   \n4                             0.584734                      дарий   \n...                                ...                        ...   \n45154                         0.893544                къызэщIэвэн   \n45155                         0.937793                     ноябрь   \n45156                         1.000000                     ноябрь   \n45157                         1.000000                    октябрь   \n45158                         0.831989                    октябрь   \n\n       canonical_by_word_distance_score      stem canonical_by_similar_stem  \\\n0                                  0.55     Кърым                 хъаныгъуэ   \n1                                  0.59      Хъан                    хъаний   \n2                                  0.53      Адэл                   ажокъуэ   \n3                                  0.53   -Джэрий                   дзэзешэ   \n4                                  0.50      Къаз                  шэмпIаул   \n...                                 ...       ...                       ...   \n45154                              0.82  къызэщIэ               къызэщIэчын   \n45155                              0.83      ябрь                   октябрь   \n45156                              1.00      ябрь                   октябрь   \n45157                              1.00      ябрь                   октябрь   \n45158                              0.86      ябрь                   октябрь   \n\n       canonical_by_similar_stem_score canonical_by_stem_distance  \\\n0                             0.757596                      гурым   \n1                             0.719508                       къан   \n2                             0.622523                      дэлэн   \n3                             0.680924                        жэр   \n4                             0.628964                       къаз   \n...                                ...                        ...   \n45154                         0.900754                къызэщIэчын   \n45155                         0.899754                     ноябрь   \n45156                         0.899754                     ноябрь   \n45157                         0.899754                     ноябрь   \n45158                         0.899754                     ноябрь   \n\n       canonical_by_stem_distance_score slice_suffix_1  \\\n0                                  0.60          Кърым   \n1                                  0.75           Хъан   \n2                                  0.67           None   \n3                                  0.60           None   \n4                                  0.75           Къаз   \n...                                 ...            ...   \n45154                              0.84           None   \n45155                              0.80           None   \n45156                              0.80           None   \n45157                              0.80           None   \n45158                              0.80           None   \n\n      canonical_by_slice_suffix_1  by_slice_suffix_1_score slice_suffix_2  \\\n0                           гурым                     0.60           None   \n1                            къан                     0.75           None   \n2                            None                     0.00           None   \n3                            None                     0.00           None   \n4                            къаз                     0.75           None   \n...                           ...                      ...            ...   \n45154                        None                     0.00           None   \n45155                        None                     0.00           None   \n45156                        None                     0.00           None   \n45157                        None                     0.00           None   \n45158                        None                     0.00           None   \n\n      canonical_by_slice_suffix_2  by_slice_suffix_2_score slice_suffix_3  \\\n0                            None                      0.0           None   \n1                            None                      0.0           None   \n2                            None                      0.0           None   \n3                            None                      0.0           None   \n4                            None                      0.0           None   \n...                           ...                      ...            ...   \n45154                        None                      0.0           None   \n45155                        None                      0.0           None   \n45156                        None                      0.0           None   \n45157                        None                      0.0           None   \n45158                        None                      0.0           None   \n\n      canonical_by_slice_suffix_3  by_slice_suffix_3_score  \n0                            None                      0.0  \n1                            None                      0.0  \n2                            None                      0.0  \n3                            None                      0.0  \n4                            None                      0.0  \n...                           ...                      ...  \n45154                        None                      0.0  \n45155                        None                      0.0  \n45156                        None                      0.0  \n45157                        None                      0.0  \n45158                        None                      0.0  \n\n[45159 rows x 19 columns]",
      "text/html": "<div>\n<style scoped>\n    .dataframe tbody tr th:only-of-type {\n        vertical-align: middle;\n    }\n\n    .dataframe tbody tr th {\n        vertical-align: top;\n    }\n\n    .dataframe thead th {\n        text-align: right;\n    }\n</style>\n<table border=\"1\" class=\"dataframe\">\n  <thead>\n    <tr style=\"text-align: right;\">\n      <th></th>\n      <th>word</th>\n      <th>canonical_by_similar_word</th>\n      <th>canonical_by_similar_word_score</th>\n      <th>canonical_by_word_distance</th>\n      <th>canonical_by_word_distance_score</th>\n      <th>stem</th>\n      <th>canonical_by_similar_stem</th>\n      <th>canonical_by_similar_stem_score</th>\n      <th>canonical_by_stem_distance</th>\n      <th>canonical_by_stem_distance_score</th>\n      <th>slice_suffix_1</th>\n      <th>canonical_by_slice_suffix_1</th>\n      <th>by_slice_suffix_1_score</th>\n      <th>slice_suffix_2</th>\n      <th>canonical_by_slice_suffix_2</th>\n      <th>by_slice_suffix_2_score</th>\n      <th>slice_suffix_3</th>\n      <th>canonical_by_slice_suffix_3</th>\n      <th>by_slice_suffix_3_score</th>\n    </tr>\n  </thead>\n  <tbody>\n    <tr>\n      <th>0</th>\n      <td>Кърым-Джэрий</td>\n      <td>дзэзешэ</td>\n      <td>0.684770</td>\n      <td>сымаджэрей</td>\n      <td>0.55</td>\n      <td>Кърым</td>\n      <td>хъаныгъуэ</td>\n      <td>0.757596</td>\n      <td>гурым</td>\n      <td>0.60</td>\n      <td>Кърым</td>\n      <td>гурым</td>\n      <td>0.60</td>\n      <td>None</td>\n      <td>None</td>\n      <td>0.0</td>\n      <td>None</td>\n      <td>None</td>\n      <td>0.0</td>\n    </tr>\n    <tr>\n      <th>1</th>\n      <td>Хъан-Джэрий</td>\n      <td>хъаний</td>\n      <td>0.612499</td>\n      <td>къанжэ</td>\n      <td>0.59</td>\n      <td>Хъан</td>\n      <td>хъаний</td>\n      <td>0.719508</td>\n      <td>къан</td>\n      <td>0.75</td>\n      <td>Хъан</td>\n      <td>къан</td>\n      <td>0.75</td>\n      <td>None</td>\n      <td>None</td>\n      <td>0.0</td>\n      <td>None</td>\n      <td>None</td>\n      <td>0.0</td>\n    </tr>\n    <tr>\n      <th>2</th>\n      <td>Адэл-Джэрий</td>\n      <td>хъаний</td>\n      <td>0.653761</td>\n      <td>пыджэрей</td>\n      <td>0.53</td>\n      <td>Адэл</td>\n      <td>ажокъуэ</td>\n      <td>0.622523</td>\n      <td>дэлэн</td>\n      <td>0.67</td>\n      <td>None</td>\n      <td>None</td>\n      <td>0.00</td>\n      <td>None</td>\n      <td>None</td>\n      <td>0.0</td>\n      <td>None</td>\n      <td>None</td>\n      <td>0.0</td>\n    </tr>\n    <tr>\n      <th>3</th>\n      <td>Дал-Джэрий</td>\n      <td>хъаний</td>\n      <td>0.649661</td>\n      <td>дарий</td>\n      <td>0.53</td>\n      <td>-Джэрий</td>\n      <td>дзэзешэ</td>\n      <td>0.680924</td>\n      <td>жэр</td>\n      <td>0.60</td>\n      <td>None</td>\n      <td>None</td>\n      <td>0.00</td>\n      <td>None</td>\n      <td>None</td>\n      <td>0.0</td>\n      <td>None</td>\n      <td>None</td>\n      <td>0.0</td>\n    </tr>\n    <tr>\n      <th>4</th>\n      <td>Къаз-Джэрий</td>\n      <td>очерк</td>\n      <td>0.584734</td>\n      <td>дарий</td>\n      <td>0.50</td>\n      <td>Къаз</td>\n      <td>шэмпIаул</td>\n      <td>0.628964</td>\n      <td>къаз</td>\n      <td>0.75</td>\n      <td>Къаз</td>\n      <td>къаз</td>\n      <td>0.75</td>\n      <td>None</td>\n      <td>None</td>\n      <td>0.0</td>\n      <td>None</td>\n      <td>None</td>\n      <td>0.0</td>\n    </tr>\n    <tr>\n      <th>...</th>\n      <td>...</td>\n      <td>...</td>\n      <td>...</td>\n      <td>...</td>\n      <td>...</td>\n      <td>...</td>\n      <td>...</td>\n      <td>...</td>\n      <td>...</td>\n      <td>...</td>\n      <td>...</td>\n      <td>...</td>\n      <td>...</td>\n      <td>...</td>\n      <td>...</td>\n      <td>...</td>\n      <td>...</td>\n      <td>...</td>\n      <td>...</td>\n    </tr>\n    <tr>\n      <th>45154</th>\n      <td>къызэщIэващ</td>\n      <td>къызэщIэвэн</td>\n      <td>0.893544</td>\n      <td>къызэщIэвэн</td>\n      <td>0.82</td>\n      <td>къызэщIэ</td>\n      <td>къызэщIэчын</td>\n      <td>0.900754</td>\n      <td>къызэщIэчын</td>\n      <td>0.84</td>\n      <td>None</td>\n      <td>None</td>\n      <td>0.00</td>\n      <td>None</td>\n      <td>None</td>\n      <td>0.0</td>\n      <td>None</td>\n      <td>None</td>\n      <td>0.0</td>\n    </tr>\n    <tr>\n      <th>45155</th>\n      <td>Ноябрь</td>\n      <td>ноябрь</td>\n      <td>0.937793</td>\n      <td>ноябрь</td>\n      <td>0.83</td>\n      <td>ябрь</td>\n      <td>октябрь</td>\n      <td>0.899754</td>\n      <td>ноябрь</td>\n      <td>0.80</td>\n      <td>None</td>\n      <td>None</td>\n      <td>0.00</td>\n      <td>None</td>\n      <td>None</td>\n      <td>0.0</td>\n      <td>None</td>\n      <td>None</td>\n      <td>0.0</td>\n    </tr>\n    <tr>\n      <th>45156</th>\n      <td>ноябрь</td>\n      <td>ноябрь</td>\n      <td>1.000000</td>\n      <td>ноябрь</td>\n      <td>1.00</td>\n      <td>ябрь</td>\n      <td>октябрь</td>\n      <td>0.899754</td>\n      <td>ноябрь</td>\n      <td>0.80</td>\n      <td>None</td>\n      <td>None</td>\n      <td>0.00</td>\n      <td>None</td>\n      <td>None</td>\n      <td>0.0</td>\n      <td>None</td>\n      <td>None</td>\n      <td>0.0</td>\n    </tr>\n    <tr>\n      <th>45157</th>\n      <td>октябрь</td>\n      <td>октябрь</td>\n      <td>1.000000</td>\n      <td>октябрь</td>\n      <td>1.00</td>\n      <td>ябрь</td>\n      <td>октябрь</td>\n      <td>0.899754</td>\n      <td>ноябрь</td>\n      <td>0.80</td>\n      <td>None</td>\n      <td>None</td>\n      <td>0.00</td>\n      <td>None</td>\n      <td>None</td>\n      <td>0.0</td>\n      <td>None</td>\n      <td>None</td>\n      <td>0.0</td>\n    </tr>\n    <tr>\n      <th>45158</th>\n      <td>Октябрь</td>\n      <td>октябрь</td>\n      <td>0.831989</td>\n      <td>октябрь</td>\n      <td>0.86</td>\n      <td>ябрь</td>\n      <td>октябрь</td>\n      <td>0.899754</td>\n      <td>ноябрь</td>\n      <td>0.80</td>\n      <td>None</td>\n      <td>None</td>\n      <td>0.00</td>\n      <td>None</td>\n      <td>None</td>\n      <td>0.0</td>\n      <td>None</td>\n      <td>None</td>\n      <td>0.0</td>\n    </tr>\n  </tbody>\n</table>\n<p>45159 rows × 19 columns</p>\n</div>"
     },
     "execution_count": 12,
     "metadata": {},
     "output_type": "execute_result"
    }
   ],
   "source": [
    "canonicals_df"
   ],
   "metadata": {
    "collapsed": false,
    "ExecuteTime": {
     "end_time": "2024-03-15T01:45:24.092774Z",
     "start_time": "2024-03-15T01:45:24.059558Z"
    }
   }
  },
  {
   "cell_type": "code",
   "execution_count": 13,
   "outputs": [
    {
     "data": {
      "text/plain": "['canonical_by_similar_word_score',\n 'canonical_by_word_distance_score',\n 'canonical_by_similar_stem_score',\n 'canonical_by_stem_distance_score',\n 'by_slice_suffix_1_score',\n 'by_slice_suffix_2_score',\n 'by_slice_suffix_3_score']"
     },
     "execution_count": 13,
     "metadata": {},
     "output_type": "execute_result"
    }
   ],
   "source": [
    "similarity_columns = canonicals_df.filter(like='score').columns.tolist()\n",
    "similarity_columns"
   ],
   "metadata": {
    "collapsed": false,
    "ExecuteTime": {
     "end_time": "2024-03-15T01:48:11.935311Z",
     "start_time": "2024-03-15T01:48:11.916968Z"
    }
   }
  },
  {
   "cell_type": "code",
   "execution_count": 14,
   "outputs": [
    {
     "data": {
      "text/plain": "              word canonical_by_similar_word  canonical_by_similar_word_score  \\\n61     къикIынIауэ               къикIиикIын                         0.742450   \n103     IуащхьэкIэ                   Iуащхьэ                         0.887017   \n104       Iуащхьэм                   Iуащхьэ                         0.935691   \n105       Iуащхьэр                   Iуащхьэ                         0.920755   \n109        къэIуащ                      макъ                         0.747449   \n...            ...                       ...                              ...   \n45061       ящIэну                    пщIэну                         0.731455   \n45074     гъащIэрэ                    гъащIэ                         0.720500   \n45134      хьэлъэу                   хьэлъэу                         1.000000   \n45135      хьэлъэщ                    хьэлъэ                         0.840050   \n45145  къыщIыхьэри              къыщIыхьэпIэ                         0.798036   \n\n      canonical_by_word_distance  canonical_by_word_distance_score       stem  \\\n61                     къикIыкIа                              0.80    къикIын   \n103                  Iуащхьэкхъэ                              0.86     хьэкIэ   \n104                      Iуащхьэ                              0.93   Iуащхьэм   \n105                      Iуащхьэ                              0.93     Iуащхь   \n109                       къэуал                              0.77      эIуащ   \n...                          ...                               ...        ...   \n45061                     пщIэну                              0.83     ящIэну   \n45074                     гъащIэ                              0.86   гъащIэрэ   \n45134                    хьэлъэу                              1.00    хьэлъэу   \n45135                     хьэлъэ                              0.92     хьэлъэ   \n45145                 къыщIыхьэн                              0.86  къыщIыхьэ   \n\n      canonical_by_similar_stem  canonical_by_similar_stem_score  \\\n61                      къикIын                         1.000000   \n103                      хьэкIэ                         1.000000   \n104                     Iуащхьэ                         0.935691   \n105                     Iуащхьэ                         0.933379   \n109                          ащ                         0.763757   \n...                         ...                              ...   \n45061                    пщIэну                         0.731455   \n45074                    гъащIэ                         0.720500   \n45134                   хьэлъэу                         1.000000   \n45135                    хьэлъэ                         1.000000   \n45145              къыщIыхьэпIэ                         0.901679   \n\n      canonical_by_stem_distance  canonical_by_stem_distance_score  \\\n61                       къикIын                              1.00   \n103                       хьэкIэ                              1.00   \n104                      Iуащхьэ                              0.93   \n105                      Iуащхьэ                              0.92   \n109                       хэIуба                              0.73   \n...                          ...                               ...   \n45061                     пщIэну                              0.83   \n45074                     гъащIэ                              0.86   \n45134                    хьэлъэу                              1.00   \n45135                     хьэлъэ                              1.00   \n45145                 къыщIыхьэн                              0.95   \n\n      slice_suffix_1 canonical_by_slice_suffix_1  by_slice_suffix_1_score  \\\n61           къикIын                     къикIын                     1.00   \n103          Iуащхьэ                     Iуащхьэ                     1.00   \n104          Iуащхьэ                     Iуащхьэ                     1.00   \n105          Iуащхьэ                     Iуащхьэ                     1.00   \n109           къэIуа                      къэуал                     0.83   \n...              ...                         ...                      ...   \n45061          ящIэн                        щIэн                     0.89   \n45074        гъащIэр                      гъащIэ                     0.92   \n45134         хьэлъэ                      хьэлъэ                     1.00   \n45135         хьэлъэ                      хьэлъэ                     1.00   \n45145     къыщIыхьэр                  къыщIыхьэн                     0.90   \n\n      slice_suffix_2 canonical_by_slice_suffix_2  by_slice_suffix_2_score  \\\n61             къикI                     къикIэн                     0.83   \n103             Iуащ                     тIуащIэ                     0.73   \n104             Iуащ                     тIуащIэ                     0.73   \n105             Iуащ                     тIуащIэ                     0.73   \n109            къэIу                      къэIун                     0.91   \n...              ...                         ...                      ...   \n45061           ящIэ                         щIэ                     0.86   \n45074           гъащ                      гъащIэ                     0.80   \n45134           хьэл                        хьэл                     1.00   \n45135           хьэл                        хьэл                     1.00   \n45145      къыщIыхьэ                  къыщIыхьэн                     0.95   \n\n      slice_suffix_3 canonical_by_slice_suffix_3  by_slice_suffix_3_score  \n61              None                        None                      0.0  \n103             None                        None                      0.0  \n104             None                        None                      0.0  \n105             None                        None                      0.0  \n109             None                        None                      0.0  \n...              ...                         ...                      ...  \n45061           None                        None                      0.0  \n45074           None                        None                      0.0  \n45134           None                        None                      0.0  \n45135           None                        None                      0.0  \n45145           None                        None                      0.0  \n\n[5068 rows x 19 columns]",
      "text/html": "<div>\n<style scoped>\n    .dataframe tbody tr th:only-of-type {\n        vertical-align: middle;\n    }\n\n    .dataframe tbody tr th {\n        vertical-align: top;\n    }\n\n    .dataframe thead th {\n        text-align: right;\n    }\n</style>\n<table border=\"1\" class=\"dataframe\">\n  <thead>\n    <tr style=\"text-align: right;\">\n      <th></th>\n      <th>word</th>\n      <th>canonical_by_similar_word</th>\n      <th>canonical_by_similar_word_score</th>\n      <th>canonical_by_word_distance</th>\n      <th>canonical_by_word_distance_score</th>\n      <th>stem</th>\n      <th>canonical_by_similar_stem</th>\n      <th>canonical_by_similar_stem_score</th>\n      <th>canonical_by_stem_distance</th>\n      <th>canonical_by_stem_distance_score</th>\n      <th>slice_suffix_1</th>\n      <th>canonical_by_slice_suffix_1</th>\n      <th>by_slice_suffix_1_score</th>\n      <th>slice_suffix_2</th>\n      <th>canonical_by_slice_suffix_2</th>\n      <th>by_slice_suffix_2_score</th>\n      <th>slice_suffix_3</th>\n      <th>canonical_by_slice_suffix_3</th>\n      <th>by_slice_suffix_3_score</th>\n    </tr>\n  </thead>\n  <tbody>\n    <tr>\n      <th>61</th>\n      <td>къикIынIауэ</td>\n      <td>къикIиикIын</td>\n      <td>0.742450</td>\n      <td>къикIыкIа</td>\n      <td>0.80</td>\n      <td>къикIын</td>\n      <td>къикIын</td>\n      <td>1.000000</td>\n      <td>къикIын</td>\n      <td>1.00</td>\n      <td>къикIын</td>\n      <td>къикIын</td>\n      <td>1.00</td>\n      <td>къикI</td>\n      <td>къикIэн</td>\n      <td>0.83</td>\n      <td>None</td>\n      <td>None</td>\n      <td>0.0</td>\n    </tr>\n    <tr>\n      <th>103</th>\n      <td>IуащхьэкIэ</td>\n      <td>Iуащхьэ</td>\n      <td>0.887017</td>\n      <td>Iуащхьэкхъэ</td>\n      <td>0.86</td>\n      <td>хьэкIэ</td>\n      <td>хьэкIэ</td>\n      <td>1.000000</td>\n      <td>хьэкIэ</td>\n      <td>1.00</td>\n      <td>Iуащхьэ</td>\n      <td>Iуащхьэ</td>\n      <td>1.00</td>\n      <td>Iуащ</td>\n      <td>тIуащIэ</td>\n      <td>0.73</td>\n      <td>None</td>\n      <td>None</td>\n      <td>0.0</td>\n    </tr>\n    <tr>\n      <th>104</th>\n      <td>Iуащхьэм</td>\n      <td>Iуащхьэ</td>\n      <td>0.935691</td>\n      <td>Iуащхьэ</td>\n      <td>0.93</td>\n      <td>Iуащхьэм</td>\n      <td>Iуащхьэ</td>\n      <td>0.935691</td>\n      <td>Iуащхьэ</td>\n      <td>0.93</td>\n      <td>Iуащхьэ</td>\n      <td>Iуащхьэ</td>\n      <td>1.00</td>\n      <td>Iуащ</td>\n      <td>тIуащIэ</td>\n      <td>0.73</td>\n      <td>None</td>\n      <td>None</td>\n      <td>0.0</td>\n    </tr>\n    <tr>\n      <th>105</th>\n      <td>Iуащхьэр</td>\n      <td>Iуащхьэ</td>\n      <td>0.920755</td>\n      <td>Iуащхьэ</td>\n      <td>0.93</td>\n      <td>Iуащхь</td>\n      <td>Iуащхьэ</td>\n      <td>0.933379</td>\n      <td>Iуащхьэ</td>\n      <td>0.92</td>\n      <td>Iуащхьэ</td>\n      <td>Iуащхьэ</td>\n      <td>1.00</td>\n      <td>Iуащ</td>\n      <td>тIуащIэ</td>\n      <td>0.73</td>\n      <td>None</td>\n      <td>None</td>\n      <td>0.0</td>\n    </tr>\n    <tr>\n      <th>109</th>\n      <td>къэIуащ</td>\n      <td>макъ</td>\n      <td>0.747449</td>\n      <td>къэуал</td>\n      <td>0.77</td>\n      <td>эIуащ</td>\n      <td>ащ</td>\n      <td>0.763757</td>\n      <td>хэIуба</td>\n      <td>0.73</td>\n      <td>къэIуа</td>\n      <td>къэуал</td>\n      <td>0.83</td>\n      <td>къэIу</td>\n      <td>къэIун</td>\n      <td>0.91</td>\n      <td>None</td>\n      <td>None</td>\n      <td>0.0</td>\n    </tr>\n    <tr>\n      <th>...</th>\n      <td>...</td>\n      <td>...</td>\n      <td>...</td>\n      <td>...</td>\n      <td>...</td>\n      <td>...</td>\n      <td>...</td>\n      <td>...</td>\n      <td>...</td>\n      <td>...</td>\n      <td>...</td>\n      <td>...</td>\n      <td>...</td>\n      <td>...</td>\n      <td>...</td>\n      <td>...</td>\n      <td>...</td>\n      <td>...</td>\n      <td>...</td>\n    </tr>\n    <tr>\n      <th>45061</th>\n      <td>ящIэну</td>\n      <td>пщIэну</td>\n      <td>0.731455</td>\n      <td>пщIэну</td>\n      <td>0.83</td>\n      <td>ящIэну</td>\n      <td>пщIэну</td>\n      <td>0.731455</td>\n      <td>пщIэну</td>\n      <td>0.83</td>\n      <td>ящIэн</td>\n      <td>щIэн</td>\n      <td>0.89</td>\n      <td>ящIэ</td>\n      <td>щIэ</td>\n      <td>0.86</td>\n      <td>None</td>\n      <td>None</td>\n      <td>0.0</td>\n    </tr>\n    <tr>\n      <th>45074</th>\n      <td>гъащIэрэ</td>\n      <td>гъащIэ</td>\n      <td>0.720500</td>\n      <td>гъащIэ</td>\n      <td>0.86</td>\n      <td>гъащIэрэ</td>\n      <td>гъащIэ</td>\n      <td>0.720500</td>\n      <td>гъащIэ</td>\n      <td>0.86</td>\n      <td>гъащIэр</td>\n      <td>гъащIэ</td>\n      <td>0.92</td>\n      <td>гъащ</td>\n      <td>гъащIэ</td>\n      <td>0.80</td>\n      <td>None</td>\n      <td>None</td>\n      <td>0.0</td>\n    </tr>\n    <tr>\n      <th>45134</th>\n      <td>хьэлъэу</td>\n      <td>хьэлъэу</td>\n      <td>1.000000</td>\n      <td>хьэлъэу</td>\n      <td>1.00</td>\n      <td>хьэлъэу</td>\n      <td>хьэлъэу</td>\n      <td>1.000000</td>\n      <td>хьэлъэу</td>\n      <td>1.00</td>\n      <td>хьэлъэ</td>\n      <td>хьэлъэ</td>\n      <td>1.00</td>\n      <td>хьэл</td>\n      <td>хьэл</td>\n      <td>1.00</td>\n      <td>None</td>\n      <td>None</td>\n      <td>0.0</td>\n    </tr>\n    <tr>\n      <th>45135</th>\n      <td>хьэлъэщ</td>\n      <td>хьэлъэ</td>\n      <td>0.840050</td>\n      <td>хьэлъэ</td>\n      <td>0.92</td>\n      <td>хьэлъэ</td>\n      <td>хьэлъэ</td>\n      <td>1.000000</td>\n      <td>хьэлъэ</td>\n      <td>1.00</td>\n      <td>хьэлъэ</td>\n      <td>хьэлъэ</td>\n      <td>1.00</td>\n      <td>хьэл</td>\n      <td>хьэл</td>\n      <td>1.00</td>\n      <td>None</td>\n      <td>None</td>\n      <td>0.0</td>\n    </tr>\n    <tr>\n      <th>45145</th>\n      <td>къыщIыхьэри</td>\n      <td>къыщIыхьэпIэ</td>\n      <td>0.798036</td>\n      <td>къыщIыхьэн</td>\n      <td>0.86</td>\n      <td>къыщIыхьэ</td>\n      <td>къыщIыхьэпIэ</td>\n      <td>0.901679</td>\n      <td>къыщIыхьэн</td>\n      <td>0.95</td>\n      <td>къыщIыхьэр</td>\n      <td>къыщIыхьэн</td>\n      <td>0.90</td>\n      <td>къыщIыхьэ</td>\n      <td>къыщIыхьэн</td>\n      <td>0.95</td>\n      <td>None</td>\n      <td>None</td>\n      <td>0.0</td>\n    </tr>\n  </tbody>\n</table>\n<p>5068 rows × 19 columns</p>\n</div>"
     },
     "execution_count": 14,
     "metadata": {},
     "output_type": "execute_result"
    }
   ],
   "source": [
    "score_columns = [\n",
    "    'canonical_by_similar_word_score',\n",
    "    'canonical_by_word_distance_score',\n",
    "    'canonical_by_similar_stem_score',\n",
    "    'canonical_by_stem_distance_score',\n",
    "    'by_slice_suffix_1_score',\n",
    "    'by_slice_suffix_2_score',\n",
    "    # 'by_slice_suffix_3_score'\n",
    "]\n",
    "\n",
    "filtered_df = canonicals_df[canonicals_df[score_columns].gt(0.7).all(axis=1)]\n",
    "filtered_df"
   ],
   "metadata": {
    "collapsed": false,
    "ExecuteTime": {
     "end_time": "2024-03-15T01:48:12.809809Z",
     "start_time": "2024-03-15T01:48:12.758532Z"
    }
   }
  },
  {
   "cell_type": "code",
   "outputs": [
    {
     "data": {
      "text/plain": "               word canonical_by_similar_word  \\\n18       Рашид-пэщэ                    зипэщэ   \n25      Рашид-пэщэр                    зипэщэ   \n27     Муртаз-пэщэм                    зипэщэ   \n28     Муртаз-пэщэр                    зипэщэ   \n45            иIамэ                    пижамэ   \n...             ...                       ...   \n45154   къызэщIэващ               къызэщIэвэн   \n45155        Ноябрь                    ноябрь   \n45156        ноябрь                    ноябрь   \n45157       октябрь                   октябрь   \n45158       Октябрь                   октябрь   \n\n       canonical_by_similar_word_score canonical_by_word_distance  \\\n18                            0.807602                     зипэщэ   \n25                            0.770130                     зипэщэ   \n27                            0.771052                     зипэщэ   \n28                            0.790668                     зипэщэ   \n45                            0.722205                     пижамэ   \n...                                ...                        ...   \n45154                         0.893544                къызэщIэвэн   \n45155                         0.937793                     ноябрь   \n45156                         1.000000                     ноябрь   \n45157                         1.000000                    октябрь   \n45158                         0.831989                    октябрь   \n\n       canonical_by_word_distance_score      stem canonical_by_similar_stem  \\\n18                                 0.62     Рашид                     мурид   \n25                                 0.59     Рашид                     мурид   \n27                                 0.56    Муртаз                  Iушэнашэ   \n28                                 0.56    Муртаз                  Iушэнашэ   \n45                                 0.73      Iамэ                    пижамэ   \n...                                 ...       ...                       ...   \n45154                              0.82  къызэщIэ               къызэщIэчын   \n45155                              0.83      ябрь                   октябрь   \n45156                              1.00      ябрь                   октябрь   \n45157                              1.00      ябрь                   октябрь   \n45158                              0.86      ябрь                   октябрь   \n\n       canonical_by_similar_stem_score canonical_by_stem_distance  \\\n18                            0.624938                     машинэ   \n25                            0.624938                     машинэ   \n27                            0.625758                     Iустаз   \n28                            0.625758                     Iустаз   \n45                            0.827825                     Iэрамэ   \n...                                ...                        ...   \n45154                         0.900754                къызэщIэчын   \n45155                         0.899754                     ноябрь   \n45156                         0.899754                     ноябрь   \n45157                         0.899754                     ноябрь   \n45158                         0.899754                     ноябрь   \n\n       canonical_by_stem_distance_score  ... by_slice_suffix_1_score  \\\n18                                 0.55  ...                    0.55   \n25                                 0.55  ...                    0.62   \n27                                 0.67  ...                    0.67   \n28                                 0.67  ...                    0.67   \n45                                 0.80  ...                    0.00   \n...                                 ...  ...                     ...   \n45154                              0.84  ...                    0.00   \n45155                              0.80  ...                    0.00   \n45156                              0.80  ...                    0.00   \n45157                              0.80  ...                    0.00   \n45158                              0.80  ...                    0.00   \n\n      slice_suffix_2  canonical_by_slice_suffix_2 by_slice_suffix_2_score  \\\n18              None                         None                    0.00   \n25             Рашид                       машинэ                    0.55   \n27              None                         None                    0.00   \n28              None                         None                    0.00   \n45              None                         None                    0.00   \n...              ...                          ...                     ...   \n45154           None                         None                    0.00   \n45155           None                         None                    0.00   \n45156           None                         None                    0.00   \n45157           None                         None                    0.00   \n45158           None                         None                    0.00   \n\n      slice_suffix_3  canonical_by_slice_suffix_3 by_slice_suffix_3_score  \\\n18              None                         None                     0.0   \n25              None                         None                     0.0   \n27              None                         None                     0.0   \n28              None                         None                     0.0   \n45              None                         None                     0.0   \n...              ...                          ...                     ...   \n45154           None                         None                     0.0   \n45155           None                         None                     0.0   \n45156           None                         None                     0.0   \n45157           None                         None                     0.0   \n45158           None                         None                     0.0   \n\n            most_common  most_common_value most_common_count  \n18          (зипэщэ, 2)             зипэщэ                 2  \n25          (зипэщэ, 3)             зипэщэ                 3  \n27          (зипэщэ, 2)             зипэщэ                 2  \n28          (зипэщэ, 2)             зипэщэ                 2  \n45          (пижамэ, 3)             пижамэ                 3  \n...                 ...                ...               ...  \n45154  (къызэщIэвэн, 2)        къызэщIэвэн                 2  \n45155       (ноябрь, 3)             ноябрь                 3  \n45156       (ноябрь, 3)             ноябрь                 3  \n45157      (октябрь, 3)            октябрь                 3  \n45158      (октябрь, 3)            октябрь                 3  \n\n[19379 rows x 22 columns]",
      "text/html": "<div>\n<style scoped>\n    .dataframe tbody tr th:only-of-type {\n        vertical-align: middle;\n    }\n\n    .dataframe tbody tr th {\n        vertical-align: top;\n    }\n\n    .dataframe thead th {\n        text-align: right;\n    }\n</style>\n<table border=\"1\" class=\"dataframe\">\n  <thead>\n    <tr style=\"text-align: right;\">\n      <th></th>\n      <th>word</th>\n      <th>canonical_by_similar_word</th>\n      <th>canonical_by_similar_word_score</th>\n      <th>canonical_by_word_distance</th>\n      <th>canonical_by_word_distance_score</th>\n      <th>stem</th>\n      <th>canonical_by_similar_stem</th>\n      <th>canonical_by_similar_stem_score</th>\n      <th>canonical_by_stem_distance</th>\n      <th>canonical_by_stem_distance_score</th>\n      <th>...</th>\n      <th>by_slice_suffix_1_score</th>\n      <th>slice_suffix_2</th>\n      <th>canonical_by_slice_suffix_2</th>\n      <th>by_slice_suffix_2_score</th>\n      <th>slice_suffix_3</th>\n      <th>canonical_by_slice_suffix_3</th>\n      <th>by_slice_suffix_3_score</th>\n      <th>most_common</th>\n      <th>most_common_value</th>\n      <th>most_common_count</th>\n    </tr>\n  </thead>\n  <tbody>\n    <tr>\n      <th>18</th>\n      <td>Рашид-пэщэ</td>\n      <td>зипэщэ</td>\n      <td>0.807602</td>\n      <td>зипэщэ</td>\n      <td>0.62</td>\n      <td>Рашид</td>\n      <td>мурид</td>\n      <td>0.624938</td>\n      <td>машинэ</td>\n      <td>0.55</td>\n      <td>...</td>\n      <td>0.55</td>\n      <td>None</td>\n      <td>None</td>\n      <td>0.00</td>\n      <td>None</td>\n      <td>None</td>\n      <td>0.0</td>\n      <td>(зипэщэ, 2)</td>\n      <td>зипэщэ</td>\n      <td>2</td>\n    </tr>\n    <tr>\n      <th>25</th>\n      <td>Рашид-пэщэр</td>\n      <td>зипэщэ</td>\n      <td>0.770130</td>\n      <td>зипэщэ</td>\n      <td>0.59</td>\n      <td>Рашид</td>\n      <td>мурид</td>\n      <td>0.624938</td>\n      <td>машинэ</td>\n      <td>0.55</td>\n      <td>...</td>\n      <td>0.62</td>\n      <td>Рашид</td>\n      <td>машинэ</td>\n      <td>0.55</td>\n      <td>None</td>\n      <td>None</td>\n      <td>0.0</td>\n      <td>(зипэщэ, 3)</td>\n      <td>зипэщэ</td>\n      <td>3</td>\n    </tr>\n    <tr>\n      <th>27</th>\n      <td>Муртаз-пэщэм</td>\n      <td>зипэщэ</td>\n      <td>0.771052</td>\n      <td>зипэщэ</td>\n      <td>0.56</td>\n      <td>Муртаз</td>\n      <td>Iушэнашэ</td>\n      <td>0.625758</td>\n      <td>Iустаз</td>\n      <td>0.67</td>\n      <td>...</td>\n      <td>0.67</td>\n      <td>None</td>\n      <td>None</td>\n      <td>0.00</td>\n      <td>None</td>\n      <td>None</td>\n      <td>0.0</td>\n      <td>(зипэщэ, 2)</td>\n      <td>зипэщэ</td>\n      <td>2</td>\n    </tr>\n    <tr>\n      <th>28</th>\n      <td>Муртаз-пэщэр</td>\n      <td>зипэщэ</td>\n      <td>0.790668</td>\n      <td>зипэщэ</td>\n      <td>0.56</td>\n      <td>Муртаз</td>\n      <td>Iушэнашэ</td>\n      <td>0.625758</td>\n      <td>Iустаз</td>\n      <td>0.67</td>\n      <td>...</td>\n      <td>0.67</td>\n      <td>None</td>\n      <td>None</td>\n      <td>0.00</td>\n      <td>None</td>\n      <td>None</td>\n      <td>0.0</td>\n      <td>(зипэщэ, 2)</td>\n      <td>зипэщэ</td>\n      <td>2</td>\n    </tr>\n    <tr>\n      <th>45</th>\n      <td>иIамэ</td>\n      <td>пижамэ</td>\n      <td>0.722205</td>\n      <td>пижамэ</td>\n      <td>0.73</td>\n      <td>Iамэ</td>\n      <td>пижамэ</td>\n      <td>0.827825</td>\n      <td>Iэрамэ</td>\n      <td>0.80</td>\n      <td>...</td>\n      <td>0.00</td>\n      <td>None</td>\n      <td>None</td>\n      <td>0.00</td>\n      <td>None</td>\n      <td>None</td>\n      <td>0.0</td>\n      <td>(пижамэ, 3)</td>\n      <td>пижамэ</td>\n      <td>3</td>\n    </tr>\n    <tr>\n      <th>...</th>\n      <td>...</td>\n      <td>...</td>\n      <td>...</td>\n      <td>...</td>\n      <td>...</td>\n      <td>...</td>\n      <td>...</td>\n      <td>...</td>\n      <td>...</td>\n      <td>...</td>\n      <td>...</td>\n      <td>...</td>\n      <td>...</td>\n      <td>...</td>\n      <td>...</td>\n      <td>...</td>\n      <td>...</td>\n      <td>...</td>\n      <td>...</td>\n      <td>...</td>\n      <td>...</td>\n    </tr>\n    <tr>\n      <th>45154</th>\n      <td>къызэщIэващ</td>\n      <td>къызэщIэвэн</td>\n      <td>0.893544</td>\n      <td>къызэщIэвэн</td>\n      <td>0.82</td>\n      <td>къызэщIэ</td>\n      <td>къызэщIэчын</td>\n      <td>0.900754</td>\n      <td>къызэщIэчын</td>\n      <td>0.84</td>\n      <td>...</td>\n      <td>0.00</td>\n      <td>None</td>\n      <td>None</td>\n      <td>0.00</td>\n      <td>None</td>\n      <td>None</td>\n      <td>0.0</td>\n      <td>(къызэщIэвэн, 2)</td>\n      <td>къызэщIэвэн</td>\n      <td>2</td>\n    </tr>\n    <tr>\n      <th>45155</th>\n      <td>Ноябрь</td>\n      <td>ноябрь</td>\n      <td>0.937793</td>\n      <td>ноябрь</td>\n      <td>0.83</td>\n      <td>ябрь</td>\n      <td>октябрь</td>\n      <td>0.899754</td>\n      <td>ноябрь</td>\n      <td>0.80</td>\n      <td>...</td>\n      <td>0.00</td>\n      <td>None</td>\n      <td>None</td>\n      <td>0.00</td>\n      <td>None</td>\n      <td>None</td>\n      <td>0.0</td>\n      <td>(ноябрь, 3)</td>\n      <td>ноябрь</td>\n      <td>3</td>\n    </tr>\n    <tr>\n      <th>45156</th>\n      <td>ноябрь</td>\n      <td>ноябрь</td>\n      <td>1.000000</td>\n      <td>ноябрь</td>\n      <td>1.00</td>\n      <td>ябрь</td>\n      <td>октябрь</td>\n      <td>0.899754</td>\n      <td>ноябрь</td>\n      <td>0.80</td>\n      <td>...</td>\n      <td>0.00</td>\n      <td>None</td>\n      <td>None</td>\n      <td>0.00</td>\n      <td>None</td>\n      <td>None</td>\n      <td>0.0</td>\n      <td>(ноябрь, 3)</td>\n      <td>ноябрь</td>\n      <td>3</td>\n    </tr>\n    <tr>\n      <th>45157</th>\n      <td>октябрь</td>\n      <td>октябрь</td>\n      <td>1.000000</td>\n      <td>октябрь</td>\n      <td>1.00</td>\n      <td>ябрь</td>\n      <td>октябрь</td>\n      <td>0.899754</td>\n      <td>ноябрь</td>\n      <td>0.80</td>\n      <td>...</td>\n      <td>0.00</td>\n      <td>None</td>\n      <td>None</td>\n      <td>0.00</td>\n      <td>None</td>\n      <td>None</td>\n      <td>0.0</td>\n      <td>(октябрь, 3)</td>\n      <td>октябрь</td>\n      <td>3</td>\n    </tr>\n    <tr>\n      <th>45158</th>\n      <td>Октябрь</td>\n      <td>октябрь</td>\n      <td>0.831989</td>\n      <td>октябрь</td>\n      <td>0.86</td>\n      <td>ябрь</td>\n      <td>октябрь</td>\n      <td>0.899754</td>\n      <td>ноябрь</td>\n      <td>0.80</td>\n      <td>...</td>\n      <td>0.00</td>\n      <td>None</td>\n      <td>None</td>\n      <td>0.00</td>\n      <td>None</td>\n      <td>None</td>\n      <td>0.0</td>\n      <td>(октябрь, 3)</td>\n      <td>октябрь</td>\n      <td>3</td>\n    </tr>\n  </tbody>\n</table>\n<p>19379 rows × 22 columns</p>\n</div>"
     },
     "execution_count": 18,
     "metadata": {},
     "output_type": "execute_result"
    }
   ],
   "source": [
    "canonicals_df[(canonicals_df['canonical_by_similar_word'] == canonicals_df['canonical_by_word_distance'])]"
   ],
   "metadata": {
    "collapsed": false,
    "ExecuteTime": {
     "end_time": "2024-03-15T01:51:54.186988Z",
     "start_time": "2024-03-15T01:51:54.138286Z"
    }
   },
   "execution_count": 18
  },
  {
   "cell_type": "code",
   "execution_count": 15,
   "outputs": [
    {
     "data": {
      "text/plain": "               word canonical_by_similar_word  \\\n10949      ягъэуващ                   гъэувын   \n10927     ягъэувауэ                   гъэувын   \n4305       ягъэуват                   гъэувын   \n37906   ящыщтэкъыми                хьэрткъурт   \n10750  щыуагъэшхуэщ                  пIэигъэщ   \n...             ...                       ...   \n45154   къызэщIэващ               къызэщIэвэн   \n45155        Ноябрь                    ноябрь   \n45156        ноябрь                    ноябрь   \n45157       октябрь                   октябрь   \n45158       Октябрь                   октябрь   \n\n       canonical_by_similar_word_score canonical_by_word_distance  \\\n10949                         0.664529                  ягъэмащIэ   \n10927                         0.646868                   гъэхуауэ   \n4305                          0.667262                     къэуат   \n37906                         0.573268                    сыткъым   \n10750                         0.656307                 щыуагъэншэ   \n...                                ...                        ...   \n45154                         0.893544                къызэщIэвэн   \n45155                         0.937793                     ноябрь   \n45156                         1.000000                     ноябрь   \n45157                         1.000000                    октябрь   \n45158                         0.831989                    октябрь   \n\n       canonical_by_word_distance_score      stem canonical_by_similar_stem  \\\n10949                              0.71      уващ                        ащ   \n10927                              0.82     увауэ                 шауэ-вауэ   \n4305                               0.71   ягъэува                   гъэувын   \n37906                              0.67   щыщтэкъ                хьэрткъурт   \n10750                              0.82     шхуэщ                       уэщ   \n...                                 ...       ...                       ...   \n45154                              0.82  къызэщIэ               къызэщIэчын   \n45155                              0.83      ябрь                   октябрь   \n45156                              1.00      ябрь                   октябрь   \n45157                              1.00      ябрь                   октябрь   \n45158                              0.86      ябрь                   октябрь   \n\n       canonical_by_similar_stem_score canonical_by_stem_distance  \\\n10949                         0.729255                      ващIэ   \n10927                         0.830079                     гувауэ   \n4305                          0.664366                     гъэхуа   \n37906                         0.689346                     щыщтэн   \n10750                         0.799335                       шхуэ   \n...                                ...                        ...   \n45154                         0.900754                къызэщIэчын   \n45155                         0.899754                     ноябрь   \n45156                         0.899754                     ноябрь   \n45157                         0.899754                     ноябрь   \n45158                         0.899754                     ноябрь   \n\n       canonical_by_stem_distance_score slice_suffix_1  \\\n10949                              0.67        ягъэува   \n10927                              0.91        ягъэува   \n4305                               0.77        ягъэува   \n37906                              0.77     ящыщтэкъым   \n10750                              0.89    щыуагъэшхуэ   \n...                                 ...            ...   \n45154                              0.84           None   \n45155                              0.80           None   \n45156                              0.80           None   \n45157                              0.80           None   \n45158                              0.80           None   \n\n      canonical_by_slice_suffix_1  by_slice_suffix_1_score slice_suffix_2  \\\n10949                      гъэхуа                     0.77         ягъэув   \n10927                      гъэхуа                     0.77         ягъэув   \n4305                       гъэхуа                     0.77         ягъэув   \n37906                     сыткъым                     0.71          ящыщт   \n10750                  щыуагъэншэ                     0.86        щыуагъэ   \n...                           ...                      ...            ...   \n45154                        None                     0.00           None   \n45155                        None                     0.00           None   \n45156                        None                     0.00           None   \n45157                        None                     0.00           None   \n45158                        None                     0.00           None   \n\n      canonical_by_slice_suffix_2  by_slice_suffix_2_score slice_suffix_3  \\\n10949                        ягъэ                     0.80          ягъэу   \n10927                        ягъэ                     0.80          ягъэу   \n4305                         ягъэ                     0.80          ягъэу   \n37906                         щыщ                     0.75           ящыщ   \n10750                     щыуагъэ                     1.00           щыуа   \n...                           ...                      ...            ...   \n45154                        None                     0.00           None   \n45155                        None                     0.00           None   \n45156                        None                     0.00           None   \n45157                        None                     0.00           None   \n45158                        None                     0.00           None   \n\n      canonical_by_slice_suffix_3  by_slice_suffix_3_score  \n10949                        ягъэ                     0.89  \n10927                        ягъэ                     0.89  \n4305                         ягъэ                     0.89  \n37906                         щыщ                     0.86  \n10750                         щыу                     0.86  \n...                           ...                      ...  \n45154                        None                     0.00  \n45155                        None                     0.00  \n45156                        None                     0.00  \n45157                        None                     0.00  \n45158                        None                     0.00  \n\n[45159 rows x 19 columns]",
      "text/html": "<div>\n<style scoped>\n    .dataframe tbody tr th:only-of-type {\n        vertical-align: middle;\n    }\n\n    .dataframe tbody tr th {\n        vertical-align: top;\n    }\n\n    .dataframe thead th {\n        text-align: right;\n    }\n</style>\n<table border=\"1\" class=\"dataframe\">\n  <thead>\n    <tr style=\"text-align: right;\">\n      <th></th>\n      <th>word</th>\n      <th>canonical_by_similar_word</th>\n      <th>canonical_by_similar_word_score</th>\n      <th>canonical_by_word_distance</th>\n      <th>canonical_by_word_distance_score</th>\n      <th>stem</th>\n      <th>canonical_by_similar_stem</th>\n      <th>canonical_by_similar_stem_score</th>\n      <th>canonical_by_stem_distance</th>\n      <th>canonical_by_stem_distance_score</th>\n      <th>slice_suffix_1</th>\n      <th>canonical_by_slice_suffix_1</th>\n      <th>by_slice_suffix_1_score</th>\n      <th>slice_suffix_2</th>\n      <th>canonical_by_slice_suffix_2</th>\n      <th>by_slice_suffix_2_score</th>\n      <th>slice_suffix_3</th>\n      <th>canonical_by_slice_suffix_3</th>\n      <th>by_slice_suffix_3_score</th>\n    </tr>\n  </thead>\n  <tbody>\n    <tr>\n      <th>10949</th>\n      <td>ягъэуващ</td>\n      <td>гъэувын</td>\n      <td>0.664529</td>\n      <td>ягъэмащIэ</td>\n      <td>0.71</td>\n      <td>уващ</td>\n      <td>ащ</td>\n      <td>0.729255</td>\n      <td>ващIэ</td>\n      <td>0.67</td>\n      <td>ягъэува</td>\n      <td>гъэхуа</td>\n      <td>0.77</td>\n      <td>ягъэув</td>\n      <td>ягъэ</td>\n      <td>0.80</td>\n      <td>ягъэу</td>\n      <td>ягъэ</td>\n      <td>0.89</td>\n    </tr>\n    <tr>\n      <th>10927</th>\n      <td>ягъэувауэ</td>\n      <td>гъэувын</td>\n      <td>0.646868</td>\n      <td>гъэхуауэ</td>\n      <td>0.82</td>\n      <td>увауэ</td>\n      <td>шауэ-вауэ</td>\n      <td>0.830079</td>\n      <td>гувауэ</td>\n      <td>0.91</td>\n      <td>ягъэува</td>\n      <td>гъэхуа</td>\n      <td>0.77</td>\n      <td>ягъэув</td>\n      <td>ягъэ</td>\n      <td>0.80</td>\n      <td>ягъэу</td>\n      <td>ягъэ</td>\n      <td>0.89</td>\n    </tr>\n    <tr>\n      <th>4305</th>\n      <td>ягъэуват</td>\n      <td>гъэувын</td>\n      <td>0.667262</td>\n      <td>къэуат</td>\n      <td>0.71</td>\n      <td>ягъэува</td>\n      <td>гъэувын</td>\n      <td>0.664366</td>\n      <td>гъэхуа</td>\n      <td>0.77</td>\n      <td>ягъэува</td>\n      <td>гъэхуа</td>\n      <td>0.77</td>\n      <td>ягъэув</td>\n      <td>ягъэ</td>\n      <td>0.80</td>\n      <td>ягъэу</td>\n      <td>ягъэ</td>\n      <td>0.89</td>\n    </tr>\n    <tr>\n      <th>37906</th>\n      <td>ящыщтэкъыми</td>\n      <td>хьэрткъурт</td>\n      <td>0.573268</td>\n      <td>сыткъым</td>\n      <td>0.67</td>\n      <td>щыщтэкъ</td>\n      <td>хьэрткъурт</td>\n      <td>0.689346</td>\n      <td>щыщтэн</td>\n      <td>0.77</td>\n      <td>ящыщтэкъым</td>\n      <td>сыткъым</td>\n      <td>0.71</td>\n      <td>ящыщт</td>\n      <td>щыщ</td>\n      <td>0.75</td>\n      <td>ящыщ</td>\n      <td>щыщ</td>\n      <td>0.86</td>\n    </tr>\n    <tr>\n      <th>10750</th>\n      <td>щыуагъэшхуэщ</td>\n      <td>пIэигъэщ</td>\n      <td>0.656307</td>\n      <td>щыуагъэншэ</td>\n      <td>0.82</td>\n      <td>шхуэщ</td>\n      <td>уэщ</td>\n      <td>0.799335</td>\n      <td>шхуэ</td>\n      <td>0.89</td>\n      <td>щыуагъэшхуэ</td>\n      <td>щыуагъэншэ</td>\n      <td>0.86</td>\n      <td>щыуагъэ</td>\n      <td>щыуагъэ</td>\n      <td>1.00</td>\n      <td>щыуа</td>\n      <td>щыу</td>\n      <td>0.86</td>\n    </tr>\n    <tr>\n      <th>...</th>\n      <td>...</td>\n      <td>...</td>\n      <td>...</td>\n      <td>...</td>\n      <td>...</td>\n      <td>...</td>\n      <td>...</td>\n      <td>...</td>\n      <td>...</td>\n      <td>...</td>\n      <td>...</td>\n      <td>...</td>\n      <td>...</td>\n      <td>...</td>\n      <td>...</td>\n      <td>...</td>\n      <td>...</td>\n      <td>...</td>\n      <td>...</td>\n    </tr>\n    <tr>\n      <th>45154</th>\n      <td>къызэщIэващ</td>\n      <td>къызэщIэвэн</td>\n      <td>0.893544</td>\n      <td>къызэщIэвэн</td>\n      <td>0.82</td>\n      <td>къызэщIэ</td>\n      <td>къызэщIэчын</td>\n      <td>0.900754</td>\n      <td>къызэщIэчын</td>\n      <td>0.84</td>\n      <td>None</td>\n      <td>None</td>\n      <td>0.00</td>\n      <td>None</td>\n      <td>None</td>\n      <td>0.00</td>\n      <td>None</td>\n      <td>None</td>\n      <td>0.00</td>\n    </tr>\n    <tr>\n      <th>45155</th>\n      <td>Ноябрь</td>\n      <td>ноябрь</td>\n      <td>0.937793</td>\n      <td>ноябрь</td>\n      <td>0.83</td>\n      <td>ябрь</td>\n      <td>октябрь</td>\n      <td>0.899754</td>\n      <td>ноябрь</td>\n      <td>0.80</td>\n      <td>None</td>\n      <td>None</td>\n      <td>0.00</td>\n      <td>None</td>\n      <td>None</td>\n      <td>0.00</td>\n      <td>None</td>\n      <td>None</td>\n      <td>0.00</td>\n    </tr>\n    <tr>\n      <th>45156</th>\n      <td>ноябрь</td>\n      <td>ноябрь</td>\n      <td>1.000000</td>\n      <td>ноябрь</td>\n      <td>1.00</td>\n      <td>ябрь</td>\n      <td>октябрь</td>\n      <td>0.899754</td>\n      <td>ноябрь</td>\n      <td>0.80</td>\n      <td>None</td>\n      <td>None</td>\n      <td>0.00</td>\n      <td>None</td>\n      <td>None</td>\n      <td>0.00</td>\n      <td>None</td>\n      <td>None</td>\n      <td>0.00</td>\n    </tr>\n    <tr>\n      <th>45157</th>\n      <td>октябрь</td>\n      <td>октябрь</td>\n      <td>1.000000</td>\n      <td>октябрь</td>\n      <td>1.00</td>\n      <td>ябрь</td>\n      <td>октябрь</td>\n      <td>0.899754</td>\n      <td>ноябрь</td>\n      <td>0.80</td>\n      <td>None</td>\n      <td>None</td>\n      <td>0.00</td>\n      <td>None</td>\n      <td>None</td>\n      <td>0.00</td>\n      <td>None</td>\n      <td>None</td>\n      <td>0.00</td>\n    </tr>\n    <tr>\n      <th>45158</th>\n      <td>Октябрь</td>\n      <td>октябрь</td>\n      <td>0.831989</td>\n      <td>октябрь</td>\n      <td>0.86</td>\n      <td>ябрь</td>\n      <td>октябрь</td>\n      <td>0.899754</td>\n      <td>ноябрь</td>\n      <td>0.80</td>\n      <td>None</td>\n      <td>None</td>\n      <td>0.00</td>\n      <td>None</td>\n      <td>None</td>\n      <td>0.00</td>\n      <td>None</td>\n      <td>None</td>\n      <td>0.00</td>\n    </tr>\n  </tbody>\n</table>\n<p>45159 rows × 19 columns</p>\n</div>"
     },
     "execution_count": 15,
     "metadata": {},
     "output_type": "execute_result"
    }
   ],
   "source": [
    "canonicals_df.sort_values(by='canonical_by_slice_suffix_3', ascending=False)"
   ],
   "metadata": {
    "collapsed": false,
    "ExecuteTime": {
     "end_time": "2024-03-15T01:48:31.195898Z",
     "start_time": "2024-03-15T01:48:31.157805Z"
    }
   }
  },
  {
   "cell_type": "code",
   "execution_count": 16,
   "outputs": [
    {
     "data": {
      "text/plain": "               word canonical_by_similar_word  \\\n39490      ящхьэщыт               щхьэщыIууду   \n34347      яхэуэурэ                 загъуэурэ   \n36724  яхэслъэгъуащ                щыпэлъагъу   \n29273     яхэлъкъым                       шэч   \n36528     яхыхьэжащ                        ащ   \n...             ...                       ...   \n13584         Iейуэ                     Iейуэ   \n13581         Iеижщ                     Iеижь   \n40910        фIеижь                     Iеижь   \n59            яIауэ                      пауэ   \n5588           жаIа                       Iау   \n\n       canonical_by_similar_word_score canonical_by_word_distance  \\\n39490                         0.742097                  щхьэщытын   \n34347                         0.785432                    хьэуэрэ   \n36724                         0.610907                 хэлъэгъуэн   \n29273                         0.719612                    хьэлъкъ   \n36528                         0.641398                   хыхьэжын   \n...                                ...                        ...   \n13584                         1.000000                      Iейуэ   \n13581                         0.702886                      Iеижь   \n40910                         0.856398                      Iеижь   \n59                            0.769622                        Iау   \n5588                          0.543988                  зэрыжаIэу   \n\n       canonical_by_word_distance_score    stem canonical_by_similar_stem  \\\n39490                              0.82   ящхьэ                ужьгъащхьэ   \n34347                              0.80   яхэуэ                    цыхэуэ   \n36724                              0.73  яхэслъ                    Iэслъы   \n29273                              0.75  лъкъым                  ныIэкъым   \n36528                              0.71   яхыхь                      яхтэ   \n...                                 ...     ...                       ...   \n13584                              1.00   Iейуэ                     Iейуэ   \n13581                              0.80    Iеиж                   нэхъеиж   \n40910                              0.91    фIеи                    фIеипс   \n59                                 0.75    Iауэ                    шкIауэ   \n5588                               0.46    жаIа                       Iау   \n\n       canonical_by_similar_stem_score canonical_by_stem_distance  \\\n39490                         0.647958                       щхьэ   \n34347                         0.652864                      хьэуэ   \n36724                         0.676150                      яслъэ   \n29273                         0.771846                    жылъкъы   \n36528                         0.702230                      тхыхь   \n...                                ...                        ...   \n13584                         1.000000                      Iейуэ   \n13581                         0.727500                      Iеижь   \n40910                         0.789010                     уфIеин   \n59                            0.822226                        Iау   \n5588                          0.543988                  зэрыжаIэу   \n\n       canonical_by_stem_distance_score  ... by_slice_suffix_1_score  \\\n39490                              0.89  ...                    0.91   \n34347                              0.80  ...                    0.73   \n36724                              0.73  ...                    0.86   \n29273                              0.77  ...                    0.73   \n36528                              0.80  ...                    0.83   \n...                                 ...  ...                     ...   \n13584                              1.00  ...                    0.00   \n13581                              0.89  ...                    0.89   \n40910                              0.80  ...                    0.00   \n59                                 0.86  ...                    0.00   \n5588                               0.46  ...                    0.00   \n\n      slice_suffix_2  canonical_by_slice_suffix_2 by_slice_suffix_2_score  \\\n39490           None                         None                     0.0   \n34347           None                         None                     0.0   \n36724           None                         None                     0.0   \n29273           None                         None                     0.0   \n36528           None                         None                     0.0   \n...              ...                          ...                     ...   \n13584           None                         None                     0.0   \n13581           None                         None                     0.0   \n40910           None                         None                     0.0   \n59              None                         None                     0.0   \n5588            None                         None                     0.0   \n\n      slice_suffix_3  canonical_by_slice_suffix_3 by_slice_suffix_3_score  \\\n39490           None                         None                     0.0   \n34347           None                         None                     0.0   \n36724           None                         None                     0.0   \n29273           None                         None                     0.0   \n36528           None                         None                     0.0   \n...              ...                          ...                     ...   \n13584           None                         None                     0.0   \n13581           None                         None                     0.0   \n40910           None                         None                     0.0   \n59              None                         None                     0.0   \n5588            None                         None                     0.0   \n\n       most_common  most_common_value most_common_count  \n39490  (ящхьэщ, 1)             ящхьэщ                 1  \n34347  (яхэуэу, 1)             яхэуэу                 1  \n36724    (яхэс, 1)               яхэс                 1  \n29273   (яхэлъ, 1)              яхэлъ                 1  \n36528  (яхыхьэ, 1)             яхыхьэ                 1  \n...            ...                ...               ...  \n13584   (Iейуэ, 4)              Iейуэ                 4  \n13581   (Iеижь, 4)              Iеижь                 4  \n40910   (Iеижь, 2)              Iеижь                 2  \n59        (Iау, 2)                Iау                 2  \n5588      (Iау, 2)                Iау                 2  \n\n[45159 rows x 22 columns]",
      "text/html": "<div>\n<style scoped>\n    .dataframe tbody tr th:only-of-type {\n        vertical-align: middle;\n    }\n\n    .dataframe tbody tr th {\n        vertical-align: top;\n    }\n\n    .dataframe thead th {\n        text-align: right;\n    }\n</style>\n<table border=\"1\" class=\"dataframe\">\n  <thead>\n    <tr style=\"text-align: right;\">\n      <th></th>\n      <th>word</th>\n      <th>canonical_by_similar_word</th>\n      <th>canonical_by_similar_word_score</th>\n      <th>canonical_by_word_distance</th>\n      <th>canonical_by_word_distance_score</th>\n      <th>stem</th>\n      <th>canonical_by_similar_stem</th>\n      <th>canonical_by_similar_stem_score</th>\n      <th>canonical_by_stem_distance</th>\n      <th>canonical_by_stem_distance_score</th>\n      <th>...</th>\n      <th>by_slice_suffix_1_score</th>\n      <th>slice_suffix_2</th>\n      <th>canonical_by_slice_suffix_2</th>\n      <th>by_slice_suffix_2_score</th>\n      <th>slice_suffix_3</th>\n      <th>canonical_by_slice_suffix_3</th>\n      <th>by_slice_suffix_3_score</th>\n      <th>most_common</th>\n      <th>most_common_value</th>\n      <th>most_common_count</th>\n    </tr>\n  </thead>\n  <tbody>\n    <tr>\n      <th>39490</th>\n      <td>ящхьэщыт</td>\n      <td>щхьэщыIууду</td>\n      <td>0.742097</td>\n      <td>щхьэщытын</td>\n      <td>0.82</td>\n      <td>ящхьэ</td>\n      <td>ужьгъащхьэ</td>\n      <td>0.647958</td>\n      <td>щхьэ</td>\n      <td>0.89</td>\n      <td>...</td>\n      <td>0.91</td>\n      <td>None</td>\n      <td>None</td>\n      <td>0.0</td>\n      <td>None</td>\n      <td>None</td>\n      <td>0.0</td>\n      <td>(ящхьэщ, 1)</td>\n      <td>ящхьэщ</td>\n      <td>1</td>\n    </tr>\n    <tr>\n      <th>34347</th>\n      <td>яхэуэурэ</td>\n      <td>загъуэурэ</td>\n      <td>0.785432</td>\n      <td>хьэуэрэ</td>\n      <td>0.80</td>\n      <td>яхэуэ</td>\n      <td>цыхэуэ</td>\n      <td>0.652864</td>\n      <td>хьэуэ</td>\n      <td>0.80</td>\n      <td>...</td>\n      <td>0.73</td>\n      <td>None</td>\n      <td>None</td>\n      <td>0.0</td>\n      <td>None</td>\n      <td>None</td>\n      <td>0.0</td>\n      <td>(яхэуэу, 1)</td>\n      <td>яхэуэу</td>\n      <td>1</td>\n    </tr>\n    <tr>\n      <th>36724</th>\n      <td>яхэслъэгъуащ</td>\n      <td>щыпэлъагъу</td>\n      <td>0.610907</td>\n      <td>хэлъэгъуэн</td>\n      <td>0.73</td>\n      <td>яхэслъ</td>\n      <td>Iэслъы</td>\n      <td>0.676150</td>\n      <td>яслъэ</td>\n      <td>0.73</td>\n      <td>...</td>\n      <td>0.86</td>\n      <td>None</td>\n      <td>None</td>\n      <td>0.0</td>\n      <td>None</td>\n      <td>None</td>\n      <td>0.0</td>\n      <td>(яхэс, 1)</td>\n      <td>яхэс</td>\n      <td>1</td>\n    </tr>\n    <tr>\n      <th>29273</th>\n      <td>яхэлъкъым</td>\n      <td>шэч</td>\n      <td>0.719612</td>\n      <td>хьэлъкъ</td>\n      <td>0.75</td>\n      <td>лъкъым</td>\n      <td>ныIэкъым</td>\n      <td>0.771846</td>\n      <td>жылъкъы</td>\n      <td>0.77</td>\n      <td>...</td>\n      <td>0.73</td>\n      <td>None</td>\n      <td>None</td>\n      <td>0.0</td>\n      <td>None</td>\n      <td>None</td>\n      <td>0.0</td>\n      <td>(яхэлъ, 1)</td>\n      <td>яхэлъ</td>\n      <td>1</td>\n    </tr>\n    <tr>\n      <th>36528</th>\n      <td>яхыхьэжащ</td>\n      <td>ащ</td>\n      <td>0.641398</td>\n      <td>хыхьэжын</td>\n      <td>0.71</td>\n      <td>яхыхь</td>\n      <td>яхтэ</td>\n      <td>0.702230</td>\n      <td>тхыхь</td>\n      <td>0.80</td>\n      <td>...</td>\n      <td>0.83</td>\n      <td>None</td>\n      <td>None</td>\n      <td>0.0</td>\n      <td>None</td>\n      <td>None</td>\n      <td>0.0</td>\n      <td>(яхыхьэ, 1)</td>\n      <td>яхыхьэ</td>\n      <td>1</td>\n    </tr>\n    <tr>\n      <th>...</th>\n      <td>...</td>\n      <td>...</td>\n      <td>...</td>\n      <td>...</td>\n      <td>...</td>\n      <td>...</td>\n      <td>...</td>\n      <td>...</td>\n      <td>...</td>\n      <td>...</td>\n      <td>...</td>\n      <td>...</td>\n      <td>...</td>\n      <td>...</td>\n      <td>...</td>\n      <td>...</td>\n      <td>...</td>\n      <td>...</td>\n      <td>...</td>\n      <td>...</td>\n      <td>...</td>\n    </tr>\n    <tr>\n      <th>13584</th>\n      <td>Iейуэ</td>\n      <td>Iейуэ</td>\n      <td>1.000000</td>\n      <td>Iейуэ</td>\n      <td>1.00</td>\n      <td>Iейуэ</td>\n      <td>Iейуэ</td>\n      <td>1.000000</td>\n      <td>Iейуэ</td>\n      <td>1.00</td>\n      <td>...</td>\n      <td>0.00</td>\n      <td>None</td>\n      <td>None</td>\n      <td>0.0</td>\n      <td>None</td>\n      <td>None</td>\n      <td>0.0</td>\n      <td>(Iейуэ, 4)</td>\n      <td>Iейуэ</td>\n      <td>4</td>\n    </tr>\n    <tr>\n      <th>13581</th>\n      <td>Iеижщ</td>\n      <td>Iеижь</td>\n      <td>0.702886</td>\n      <td>Iеижь</td>\n      <td>0.80</td>\n      <td>Iеиж</td>\n      <td>нэхъеиж</td>\n      <td>0.727500</td>\n      <td>Iеижь</td>\n      <td>0.89</td>\n      <td>...</td>\n      <td>0.89</td>\n      <td>None</td>\n      <td>None</td>\n      <td>0.0</td>\n      <td>None</td>\n      <td>None</td>\n      <td>0.0</td>\n      <td>(Iеижь, 4)</td>\n      <td>Iеижь</td>\n      <td>4</td>\n    </tr>\n    <tr>\n      <th>40910</th>\n      <td>фIеижь</td>\n      <td>Iеижь</td>\n      <td>0.856398</td>\n      <td>Iеижь</td>\n      <td>0.91</td>\n      <td>фIеи</td>\n      <td>фIеипс</td>\n      <td>0.789010</td>\n      <td>уфIеин</td>\n      <td>0.80</td>\n      <td>...</td>\n      <td>0.00</td>\n      <td>None</td>\n      <td>None</td>\n      <td>0.0</td>\n      <td>None</td>\n      <td>None</td>\n      <td>0.0</td>\n      <td>(Iеижь, 2)</td>\n      <td>Iеижь</td>\n      <td>2</td>\n    </tr>\n    <tr>\n      <th>59</th>\n      <td>яIауэ</td>\n      <td>пауэ</td>\n      <td>0.769622</td>\n      <td>Iау</td>\n      <td>0.75</td>\n      <td>Iауэ</td>\n      <td>шкIауэ</td>\n      <td>0.822226</td>\n      <td>Iау</td>\n      <td>0.86</td>\n      <td>...</td>\n      <td>0.00</td>\n      <td>None</td>\n      <td>None</td>\n      <td>0.0</td>\n      <td>None</td>\n      <td>None</td>\n      <td>0.0</td>\n      <td>(Iау, 2)</td>\n      <td>Iау</td>\n      <td>2</td>\n    </tr>\n    <tr>\n      <th>5588</th>\n      <td>жаIа</td>\n      <td>Iау</td>\n      <td>0.543988</td>\n      <td>зэрыжаIэу</td>\n      <td>0.46</td>\n      <td>жаIа</td>\n      <td>Iау</td>\n      <td>0.543988</td>\n      <td>зэрыжаIэу</td>\n      <td>0.46</td>\n      <td>...</td>\n      <td>0.00</td>\n      <td>None</td>\n      <td>None</td>\n      <td>0.0</td>\n      <td>None</td>\n      <td>None</td>\n      <td>0.0</td>\n      <td>(Iау, 2)</td>\n      <td>Iау</td>\n      <td>2</td>\n    </tr>\n  </tbody>\n</table>\n<p>45159 rows × 22 columns</p>\n</div>"
     },
     "execution_count": 16,
     "metadata": {},
     "output_type": "execute_result"
    }
   ],
   "source": [
    "from collections import Counter\n",
    "\n",
    "\n",
    "text_columns = [\n",
    "    'slice_suffix_1',\n",
    "    'slice_suffix_2',\n",
    "    'slice_suffix_3',\n",
    "\n",
    "    'canonical_by_similar_word',\n",
    "    'canonical_by_word_distance',\n",
    "    'canonical_by_similar_stem',\n",
    "    'canonical_by_stem_distance',\n",
    "    'canonical_by_slice_suffix_1',\n",
    "    'canonical_by_slice_suffix_2',\n",
    "    'canonical_by_slice_suffix_3',\n",
    "]\n",
    "\n",
    "def most_common(row):\n",
    "    most_common_value = max(Counter(row).items(), key=lambda x: x[1] if x[0] is not None else 0)\n",
    "    return most_common_value\n",
    "\n",
    "canonicals_df['most_common'] = canonicals_df[text_columns].apply(most_common, axis=1)\n",
    "canonicals_df['most_common_value'] = canonicals_df['most_common'].apply(lambda x: x[0])\n",
    "canonicals_df['most_common_count'] = canonicals_df['most_common'].apply(lambda x: x[1])\n",
    "canonicals_df.sort_values(by=['most_common_value', 'most_common_count'], ascending=False)"
   ],
   "metadata": {
    "collapsed": false,
    "ExecuteTime": {
     "end_time": "2024-03-15T01:48:32.471753Z",
     "start_time": "2024-03-15T01:48:32.276093Z"
    }
   }
  },
  {
   "cell_type": "code",
   "execution_count": null,
   "outputs": [],
   "source": [],
   "metadata": {
    "collapsed": false
   }
  }
 ],
 "metadata": {
  "kernelspec": {
   "display_name": "Python 3",
   "language": "python",
   "name": "python3"
  },
  "language_info": {
   "codemirror_mode": {
    "name": "ipython",
    "version": 2
   },
   "file_extension": ".py",
   "mimetype": "text/x-python",
   "name": "python",
   "nbconvert_exporter": "python",
   "pygments_lexer": "ipython2",
   "version": "2.7.6"
  }
 },
 "nbformat": 4,
 "nbformat_minor": 0
}
