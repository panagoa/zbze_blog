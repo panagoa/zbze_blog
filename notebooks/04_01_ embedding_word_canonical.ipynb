{
 "cells": [
  {
   "cell_type": "code",
   "execution_count": 2,
   "outputs": [
    {
     "name": "stderr",
     "output_type": "stream",
     "text": [
      "Warning : `load_model` does not return WordVectorModel or SupervisedModel any more, but a `FastText` object which is very similar.\n"
     ]
    }
   ],
   "source": [
    "import os\n",
    "\n",
    "import fasttext\n",
    "\n",
    "embeddings_dir = '../data/processed/embeddings/'\n",
    "kbd_model = fasttext.load_model(os.path.join(embeddings_dir, 'fasttext_skipgram_kbd_300.bin'))"
   ],
   "metadata": {
    "collapsed": false,
    "ExecuteTime": {
     "end_time": "2024-01-07T21:43:43.853075Z",
     "start_time": "2024-01-07T21:43:39.104443Z"
    }
   }
  },
  {
   "cell_type": "code",
   "execution_count": 3,
   "outputs": [],
   "source": [
    "from gensim.models import KeyedVectors\n",
    "\n",
    "kbd_restricted_glossary_kv = KeyedVectors.load(\n",
    "    os.path.join(embeddings_dir, 'fasttext_skipgram_kbd_300_restricted_glossary.kv'))"
   ],
   "metadata": {
    "collapsed": false,
    "ExecuteTime": {
     "end_time": "2024-01-07T21:43:46.811106Z",
     "start_time": "2024-01-07T21:43:46.099071Z"
    }
   }
  },
  {
   "cell_type": "code",
   "execution_count": 16,
   "outputs": [
    {
     "data": {
      "text/plain": "     stem_ng_len     stem  word_ng_len          word      template  \\\n2              1  -Джэрий            2  Кърым-Джэрий  Кърым???????   \n3              1    Кърым            2  Кърым-Джэрий  ?????-Джэрий   \n4              1  -Джэрий            2   Хъан-Джэрий   Хъан???????   \n5              1     Хъан            2   Хъан-Джэрий   ????-Джэрий   \n8              1  -Джэрий            3   Адэл-Джэрий   Адэл???????   \n..           ...      ...          ...           ...           ...   \n401            2      рта            6  Муртаз-пэщэм  Му???з-пэщэм   \n402            3    Мурта            6  Муртаз-пэщэм  ?????з-пэщэм   \n403            3     ртаз            6  Муртаз-пэщэм  Му????-пэщэм   \n404            4   Муртаз            6  Муртаз-пэщэм  ??????-пэщэм   \n417            1    -пэщэ            6  Муртаз-пэщэр  Муртаз?????р   \n\n                tokens  stem_is_full_word  freq  \n2        Кърым|-Джэрий              False    11  \n3        Кърым|-Джэрий              False    11  \n4         Хъан|-Джэрий              False    97  \n5         Хъан|-Джэрий              False    97  \n8        Адэ|л|-Джэрий              False     7  \n..                 ...                ...   ...  \n401  Му|рт|а|з|-пэщэ|м              False    14  \n402  Му|рт|а|з|-пэщэ|м              False    14  \n403  Му|рт|а|з|-пэщэ|м              False    14  \n404  Му|рт|а|з|-пэщэ|м              False    14  \n417  Му|рт|а|з|-пэщэ|р              False     8  \n\n[100 rows x 8 columns]",
      "text/html": "<div>\n<style scoped>\n    .dataframe tbody tr th:only-of-type {\n        vertical-align: middle;\n    }\n\n    .dataframe tbody tr th {\n        vertical-align: top;\n    }\n\n    .dataframe thead th {\n        text-align: right;\n    }\n</style>\n<table border=\"1\" class=\"dataframe\">\n  <thead>\n    <tr style=\"text-align: right;\">\n      <th></th>\n      <th>stem_ng_len</th>\n      <th>stem</th>\n      <th>word_ng_len</th>\n      <th>word</th>\n      <th>template</th>\n      <th>tokens</th>\n      <th>stem_is_full_word</th>\n      <th>freq</th>\n    </tr>\n  </thead>\n  <tbody>\n    <tr>\n      <th>2</th>\n      <td>1</td>\n      <td>-Джэрий</td>\n      <td>2</td>\n      <td>Кърым-Джэрий</td>\n      <td>Кърым???????</td>\n      <td>Кърым|-Джэрий</td>\n      <td>False</td>\n      <td>11</td>\n    </tr>\n    <tr>\n      <th>3</th>\n      <td>1</td>\n      <td>Кърым</td>\n      <td>2</td>\n      <td>Кърым-Джэрий</td>\n      <td>?????-Джэрий</td>\n      <td>Кърым|-Джэрий</td>\n      <td>False</td>\n      <td>11</td>\n    </tr>\n    <tr>\n      <th>4</th>\n      <td>1</td>\n      <td>-Джэрий</td>\n      <td>2</td>\n      <td>Хъан-Джэрий</td>\n      <td>Хъан???????</td>\n      <td>Хъан|-Джэрий</td>\n      <td>False</td>\n      <td>97</td>\n    </tr>\n    <tr>\n      <th>5</th>\n      <td>1</td>\n      <td>Хъан</td>\n      <td>2</td>\n      <td>Хъан-Джэрий</td>\n      <td>????-Джэрий</td>\n      <td>Хъан|-Джэрий</td>\n      <td>False</td>\n      <td>97</td>\n    </tr>\n    <tr>\n      <th>8</th>\n      <td>1</td>\n      <td>-Джэрий</td>\n      <td>3</td>\n      <td>Адэл-Джэрий</td>\n      <td>Адэл???????</td>\n      <td>Адэ|л|-Джэрий</td>\n      <td>False</td>\n      <td>7</td>\n    </tr>\n    <tr>\n      <th>...</th>\n      <td>...</td>\n      <td>...</td>\n      <td>...</td>\n      <td>...</td>\n      <td>...</td>\n      <td>...</td>\n      <td>...</td>\n      <td>...</td>\n    </tr>\n    <tr>\n      <th>401</th>\n      <td>2</td>\n      <td>рта</td>\n      <td>6</td>\n      <td>Муртаз-пэщэм</td>\n      <td>Му???з-пэщэм</td>\n      <td>Му|рт|а|з|-пэщэ|м</td>\n      <td>False</td>\n      <td>14</td>\n    </tr>\n    <tr>\n      <th>402</th>\n      <td>3</td>\n      <td>Мурта</td>\n      <td>6</td>\n      <td>Муртаз-пэщэм</td>\n      <td>?????з-пэщэм</td>\n      <td>Му|рт|а|з|-пэщэ|м</td>\n      <td>False</td>\n      <td>14</td>\n    </tr>\n    <tr>\n      <th>403</th>\n      <td>3</td>\n      <td>ртаз</td>\n      <td>6</td>\n      <td>Муртаз-пэщэм</td>\n      <td>Му????-пэщэм</td>\n      <td>Му|рт|а|з|-пэщэ|м</td>\n      <td>False</td>\n      <td>14</td>\n    </tr>\n    <tr>\n      <th>404</th>\n      <td>4</td>\n      <td>Муртаз</td>\n      <td>6</td>\n      <td>Муртаз-пэщэм</td>\n      <td>??????-пэщэм</td>\n      <td>Му|рт|а|з|-пэщэ|м</td>\n      <td>False</td>\n      <td>14</td>\n    </tr>\n    <tr>\n      <th>417</th>\n      <td>1</td>\n      <td>-пэщэ</td>\n      <td>6</td>\n      <td>Муртаз-пэщэр</td>\n      <td>Муртаз?????р</td>\n      <td>Му|рт|а|з|-пэщэ|р</td>\n      <td>False</td>\n      <td>8</td>\n    </tr>\n  </tbody>\n</table>\n<p>100 rows × 8 columns</p>\n</div>"
     },
     "execution_count": 16,
     "metadata": {},
     "output_type": "execute_result"
    }
   ],
   "source": [
    "from tqdm import tqdm\n",
    "import pandas as pd\n",
    "\n",
    "token_dist_dir = '../data/processed/token_distribution/'\n",
    "stem_df = pd.read_csv(os.path.join(token_dist_dir, 'stem_candidates.csv.gz'), compression='gzip')\n",
    "stem_df.head(n=100)\n",
    "\n",
    "word_freq = pd.read_csv('../data/processed/word_freqs/freq_1000000_oshhamaho.csv')\n",
    "word_freq.head(n=100)\n",
    "\n",
    "df = pd.merge(stem_df, word_freq, on='word', how='inner')\n",
    "df = df[df['freq'] > 5]\n",
    "df.head(n=100)"
   ],
   "metadata": {
    "collapsed": false,
    "ExecuteTime": {
     "end_time": "2024-01-07T22:06:24.351016Z",
     "start_time": "2024-01-07T22:06:21.023729Z"
    }
   }
  },
  {
   "cell_type": "code",
   "execution_count": 55,
   "outputs": [],
   "source": [
    "import ahocorasick\n",
    "\n",
    "words = df['word'].tolist()\n",
    "\n",
    "trie = ahocorasick.Automaton(key_type=\"str\", value_type=\"int\")\n",
    "for id, word in enumerate(sorted(words)):\n",
    "    trie.add_word(word, id)\n",
    "\n",
    "trie.make_automaton()"
   ],
   "metadata": {
    "collapsed": false,
    "ExecuteTime": {
     "end_time": "2024-01-07T23:11:52.211806Z",
     "start_time": "2024-01-07T23:11:52.080109Z"
    }
   }
  },
  {
   "cell_type": "code",
   "execution_count": 70,
   "outputs": [
    {
     "name": "stdout",
     "output_type": "stream",
     "text": [
      "цIыхубзхэр\n"
     ]
    }
   ],
   "source": [
    "def slice_word_suffix(word, suffix_n=1):\n",
    "    most_prefix_match = list(trie.keys(word, '?', ahocorasick.MATCH_AT_MOST_PREFIX))\n",
    "    try:\n",
    "        return most_prefix_match[-suffix_n - 1]\n",
    "    except IndexError:\n",
    "        return None\n",
    "\n",
    "\n",
    "print(slice_word_suffix('цIыхубзхэри'))"
   ],
   "metadata": {
    "collapsed": false,
    "ExecuteTime": {
     "end_time": "2024-01-08T18:22:02.487401Z",
     "start_time": "2024-01-08T18:22:02.475857Z"
    }
   }
  },
  {
   "cell_type": "code",
   "execution_count": 49,
   "outputs": [
    {
     "name": "stderr",
     "output_type": "stream",
     "text": [
      "100%|██████████| 33252/33252 [01:15<00:00, 440.87it/s]\n"
     ]
    }
   ],
   "source": [
    "stem_list = set(df['stem'].tolist())\n",
    "\n",
    "\n",
    "def choose_canonical_by_vector(word):\n",
    "    word_vector = kbd_model.get_word_vector(word)\n",
    "    canonical, similarity = kbd_restricted_glossary_kv.similar_by_vector(word_vector, topn=1)[0]\n",
    "    return canonical, similarity\n",
    "\n",
    "\n",
    "stem_canonicals = []\n",
    "for stem in tqdm(stem_list):\n",
    "    stem_canonicals.append((stem, choose_canonical_by_vector(stem)))\n",
    "\n",
    "stem_canonicals = dict(stem_canonicals)"
   ],
   "metadata": {
    "collapsed": false,
    "ExecuteTime": {
     "end_time": "2024-01-07T22:56:12.845578Z",
     "start_time": "2024-01-07T22:54:57.402885Z"
    }
   }
  },
  {
   "cell_type": "code",
   "execution_count": 50,
   "outputs": [
    {
     "name": "stderr",
     "output_type": "stream",
     "text": [
      "100%|██████████| 27268/27268 [00:00<00:00, 230719.21it/s]\n"
     ]
    }
   ],
   "source": [
    "from collections import defaultdict\n",
    "import nltk\n",
    "\n",
    "trigram_index = defaultdict(list)\n",
    "\n",
    "restricted_glossary = set(kbd_restricted_glossary_kv.index_to_key)\n",
    "for glossary_word in tqdm(restricted_glossary):\n",
    "    for trigram in nltk.ngrams(glossary_word, 3):\n",
    "        trigram_index[''.join(trigram)].append(glossary_word)"
   ],
   "metadata": {
    "collapsed": false,
    "ExecuteTime": {
     "end_time": "2024-01-07T22:56:12.994293Z",
     "start_time": "2024-01-07T22:56:12.857222Z"
    }
   }
  },
  {
   "cell_type": "code",
   "execution_count": 72,
   "outputs": [
    {
     "name": "stdout",
     "output_type": "stream",
     "text": [
      "('цIыхубэ', 0.82)\n"
     ]
    }
   ],
   "source": [
    "from fuzzywuzzy import fuzz\n",
    "\n",
    "\n",
    "def get_candidates_by_trigram(word):\n",
    "    candidates = set()\n",
    "    for trigram in nltk.ngrams(word, 3):\n",
    "        candidates.update(trigram_index[''.join(trigram)])\n",
    "\n",
    "    # print(len(candidates))\n",
    "    return candidates\n",
    "\n",
    "\n",
    "def choose_canonical_by_distance(word):\n",
    "    if word is None:\n",
    "        return None, 0\n",
    "\n",
    "    canonical = None\n",
    "    max_dist = 0\n",
    "    for candidate in get_candidates_by_trigram(word):\n",
    "        dist = fuzz.ratio(word, candidate)\n",
    "        if dist > max_dist:\n",
    "            max_dist = dist\n",
    "            canonical = candidate\n",
    "\n",
    "    score = max_dist / 100\n",
    "    return canonical, score\n",
    "\n",
    "\n",
    "print(choose_canonical_by_distance('цIыхубзхэр'))"
   ],
   "metadata": {
    "collapsed": false,
    "ExecuteTime": {
     "end_time": "2024-01-08T18:29:20.681162Z",
     "start_time": "2024-01-08T18:29:20.653330Z"
    }
   }
  },
  {
   "cell_type": "code",
   "execution_count": 73,
   "outputs": [
    {
     "name": "stderr",
     "output_type": "stream",
     "text": [
      "100%|██████████| 33252/33252 [00:53<00:00, 618.25it/s]\n"
     ]
    }
   ],
   "source": [
    "stem_canonicals_by_distance = {}\n",
    "\n",
    "for stem in tqdm(stem_list):\n",
    "    canonical, score = choose_canonical_by_distance(stem)\n",
    "    stem_canonicals_by_distance[stem] = (canonical, score)"
   ],
   "metadata": {
    "collapsed": false,
    "ExecuteTime": {
     "end_time": "2024-01-08T18:30:17.467122Z",
     "start_time": "2024-01-08T18:29:23.680152Z"
    }
   }
  },
  {
   "cell_type": "code",
   "execution_count": 83,
   "outputs": [
    {
     "name": "stderr",
     "output_type": "stream",
     "text": [
      "100%|██████████| 42388/42388 [05:58<00:00, 118.29it/s]\n"
     ]
    }
   ],
   "source": [
    "canonicals = []\n",
    "\n",
    "word_stem = df.set_index('word')['stem'].to_dict()\n",
    "\n",
    "for word, stem in tqdm(word_stem.items()):\n",
    "    canonical_by_similar_stem, by_similar_stem_score = stem_canonicals[stem]\n",
    "    canonical_by_similar_word, by_similar_word_score = choose_canonical_by_vector(word)\n",
    "    canonical_by_stem_distance, by_stem_distance_score = stem_canonicals_by_distance[stem]\n",
    "    canonical_by_word_distance, by_word_distance_score = choose_canonical_by_distance(word)\n",
    "\n",
    "    slice_suffix_1 = slice_word_suffix(word, 1)\n",
    "    canonical_by_slice_suffix_1, by_slice_suffix_1_score = choose_canonical_by_distance(slice_suffix_1)\n",
    "\n",
    "    slice_suffix_2 = slice_word_suffix(word, 2)\n",
    "    canonical_by_slice_suffix_2, by_slice_suffix_2_score = choose_canonical_by_distance(slice_suffix_2)\n",
    "\n",
    "    slice_suffix_3 = slice_word_suffix(word, 3)\n",
    "    canonical_by_slice_suffix_3, by_slice_suffix_3_score = choose_canonical_by_distance(slice_suffix_3)\n",
    "\n",
    "    canonicals.append({\n",
    "        'word': word,\n",
    "        'canonical_by_similar_word': canonical_by_similar_word,\n",
    "        'canonical_by_similar_word_score': by_similar_word_score,\n",
    "        'canonical_by_word_distance': canonical_by_word_distance,\n",
    "        'canonical_by_word_distance_score': by_word_distance_score,\n",
    "\n",
    "        'stem': stem,\n",
    "        'canonical_by_similar_stem': canonical_by_similar_stem,\n",
    "        'canonical_by_similar_stem_score': by_similar_stem_score,\n",
    "        'canonical_by_stem_distance': canonical_by_stem_distance,\n",
    "        'canonical_by_stem_distance_score': by_stem_distance_score,\n",
    "\n",
    "        'slice_suffix_1': slice_suffix_1,\n",
    "        'canonical_by_slice_suffix_1': canonical_by_slice_suffix_1,\n",
    "        'by_slice_suffix_1_score': by_slice_suffix_1_score,\n",
    "\n",
    "        'slice_suffix_2': slice_suffix_2,\n",
    "        'canonical_by_slice_suffix_2': canonical_by_slice_suffix_2,\n",
    "        'by_slice_suffix_2_score': by_slice_suffix_2_score,\n",
    "\n",
    "        'slice_suffix_3': slice_suffix_3,\n",
    "        'canonical_by_slice_suffix_3': canonical_by_slice_suffix_3,\n",
    "        'by_slice_suffix_3_score': by_slice_suffix_3_score,\n",
    "    })\n",
    "\n",
    "canonicals_df = pd.DataFrame(canonicals)"
   ],
   "metadata": {
    "collapsed": false,
    "ExecuteTime": {
     "end_time": "2024-01-08T18:55:40.634103Z",
     "start_time": "2024-01-08T18:49:42.007532Z"
    }
   }
  },
  {
   "cell_type": "code",
   "execution_count": 94,
   "outputs": [
    {
     "data": {
      "text/plain": "                word canonical_by_similar_word  \\\n0       Кърым-Джэрий                    хъаний   \n1        Хъан-Джэрий                    хъаний   \n2        Адэл-Джэрий               хьэрийкурий   \n3         Дал-Джэрий                     уэлий   \n4        Къаз-Джэрий                  гербарий   \n...              ...                       ...   \n42383   тхьэмыщкIэри                тхьэмыщкIэ   \n42384    тхьэмыщкIэ…                тхьэмыщкIэ   \n42385    щIэтIысхьащ               щIэтIысхьэн   \n42386  дыщIэтIысхьащ               щIэтIысхьэн   \n42387   щIэтIысхьэри               щIэтIысхьэн   \n\n       canonical_by_similar_word_score canonical_by_word_distance  \\\n0                             0.593987                 сымаджэрей   \n1                             0.621087                     къанжэ   \n2                             0.611483                   дэлэжьэн   \n3                             0.606554                      парий   \n4                             0.518124                      парий   \n...                                ...                        ...   \n42383                         0.844754                 тхьэмыщкIэ   \n42384                         0.955718                 тхьэмыщкIэ   \n42385                         0.813814                щIэтIысхьэн   \n42386                         0.735218                щIэтIысхьэн   \n42387                         0.843820                щIэтIысхьэн   \n\n       canonical_by_word_distance_score        stem canonical_by_similar_stem  \\\n0                                  0.55       Кърым                  хъанцэгу   \n1                                  0.59        Хъан                      хъан   \n2                                  0.53        Адэл                   жонглёр   \n3                                  0.53     -Джэрий               хьэрийкурий   \n4                                  0.50        Къаз                 мэтэлыуан   \n...                                 ...         ...                       ...   \n42383                              0.91  тхьэмыщкIэ                тхьэмыщкIэ   \n42384                              0.95  тхьэмыщкIэ                тхьэмыщкIэ   \n42385                              0.82   этIысхьащ                дэтIысхьэн   \n42386                              0.75   этIысхьащ                дэтIысхьэн   \n42387                              0.87    этIысхьэ               гъуэтIысхьэ   \n\n       canonical_by_similar_stem_score canonical_by_stem_distance  \\\n0                             0.560486                      гурым   \n1                             0.720560                       хъан   \n2                             0.524843                      дэлэл   \n3                             0.606495                        жэр   \n4                             0.497766                       къаз   \n...                                ...                        ...   \n42383                         1.000000                 тхьэмыщкIэ   \n42384                         1.000000                 тхьэмыщкIэ   \n42385                         0.727135                 дэтIысхьэн   \n42386                         0.727135                 дэтIысхьэн   \n42387                         0.870142                 дэтIысхьэн   \n\n       canonical_by_stem_distance_score slice_suffix_1  \\\n0                                  0.60          Кърым   \n1                                  0.75           Хъан   \n2                                  0.67           None   \n3                                  0.60           None   \n4                                  0.75           Къаз   \n...                                 ...            ...   \n42383                              1.00    тхьэмыщкIэр   \n42384                              1.00     тхьэмыщкIэ   \n42385                              0.74     щIэтIысхьа   \n42386                              0.74         дыщIэт   \n42387                              0.89           None   \n\n      canonical_by_slice_suffix_1  by_slice_suffix_1_score slice_suffix_2  \\\n0                           гурым                     0.60           None   \n1                            хъан                     0.75           None   \n2                            None                     0.00           None   \n3                            None                     0.00           None   \n4                            къаз                     0.75           None   \n...                           ...                      ...            ...   \n42383                  тхьэмыщкIэ                     0.95     тхьэмыщкIэ   \n42384                  тхьэмыщкIэ                     1.00           None   \n42385                 щIэтIысхьэн                     0.86           None   \n42386                        щIэт                     0.80           None   \n42387                        None                     0.00           None   \n\n      canonical_by_slice_suffix_2  by_slice_suffix_2_score slice_suffix_3  \\\n0                            None                      0.0           None   \n1                            None                      0.0           None   \n2                            None                      0.0           None   \n3                            None                      0.0           None   \n4                            None                      0.0           None   \n...                           ...                      ...            ...   \n42383                  тхьэмыщкIэ                      1.0           None   \n42384                        None                      0.0           None   \n42385                        None                      0.0           None   \n42386                        None                      0.0           None   \n42387                        None                      0.0           None   \n\n      canonical_by_slice_suffix_3  by_slice_suffix_3_score  \n0                            None                      0.0  \n1                            None                      0.0  \n2                            None                      0.0  \n3                            None                      0.0  \n4                            None                      0.0  \n...                           ...                      ...  \n42383                        None                      0.0  \n42384                        None                      0.0  \n42385                        None                      0.0  \n42386                        None                      0.0  \n42387                        None                      0.0  \n\n[42388 rows x 19 columns]",
      "text/html": "<div>\n<style scoped>\n    .dataframe tbody tr th:only-of-type {\n        vertical-align: middle;\n    }\n\n    .dataframe tbody tr th {\n        vertical-align: top;\n    }\n\n    .dataframe thead th {\n        text-align: right;\n    }\n</style>\n<table border=\"1\" class=\"dataframe\">\n  <thead>\n    <tr style=\"text-align: right;\">\n      <th></th>\n      <th>word</th>\n      <th>canonical_by_similar_word</th>\n      <th>canonical_by_similar_word_score</th>\n      <th>canonical_by_word_distance</th>\n      <th>canonical_by_word_distance_score</th>\n      <th>stem</th>\n      <th>canonical_by_similar_stem</th>\n      <th>canonical_by_similar_stem_score</th>\n      <th>canonical_by_stem_distance</th>\n      <th>canonical_by_stem_distance_score</th>\n      <th>slice_suffix_1</th>\n      <th>canonical_by_slice_suffix_1</th>\n      <th>by_slice_suffix_1_score</th>\n      <th>slice_suffix_2</th>\n      <th>canonical_by_slice_suffix_2</th>\n      <th>by_slice_suffix_2_score</th>\n      <th>slice_suffix_3</th>\n      <th>canonical_by_slice_suffix_3</th>\n      <th>by_slice_suffix_3_score</th>\n    </tr>\n  </thead>\n  <tbody>\n    <tr>\n      <th>0</th>\n      <td>Кърым-Джэрий</td>\n      <td>хъаний</td>\n      <td>0.593987</td>\n      <td>сымаджэрей</td>\n      <td>0.55</td>\n      <td>Кърым</td>\n      <td>хъанцэгу</td>\n      <td>0.560486</td>\n      <td>гурым</td>\n      <td>0.60</td>\n      <td>Кърым</td>\n      <td>гурым</td>\n      <td>0.60</td>\n      <td>None</td>\n      <td>None</td>\n      <td>0.0</td>\n      <td>None</td>\n      <td>None</td>\n      <td>0.0</td>\n    </tr>\n    <tr>\n      <th>1</th>\n      <td>Хъан-Джэрий</td>\n      <td>хъаний</td>\n      <td>0.621087</td>\n      <td>къанжэ</td>\n      <td>0.59</td>\n      <td>Хъан</td>\n      <td>хъан</td>\n      <td>0.720560</td>\n      <td>хъан</td>\n      <td>0.75</td>\n      <td>Хъан</td>\n      <td>хъан</td>\n      <td>0.75</td>\n      <td>None</td>\n      <td>None</td>\n      <td>0.0</td>\n      <td>None</td>\n      <td>None</td>\n      <td>0.0</td>\n    </tr>\n    <tr>\n      <th>2</th>\n      <td>Адэл-Джэрий</td>\n      <td>хьэрийкурий</td>\n      <td>0.611483</td>\n      <td>дэлэжьэн</td>\n      <td>0.53</td>\n      <td>Адэл</td>\n      <td>жонглёр</td>\n      <td>0.524843</td>\n      <td>дэлэл</td>\n      <td>0.67</td>\n      <td>None</td>\n      <td>None</td>\n      <td>0.00</td>\n      <td>None</td>\n      <td>None</td>\n      <td>0.0</td>\n      <td>None</td>\n      <td>None</td>\n      <td>0.0</td>\n    </tr>\n    <tr>\n      <th>3</th>\n      <td>Дал-Джэрий</td>\n      <td>уэлий</td>\n      <td>0.606554</td>\n      <td>парий</td>\n      <td>0.53</td>\n      <td>-Джэрий</td>\n      <td>хьэрийкурий</td>\n      <td>0.606495</td>\n      <td>жэр</td>\n      <td>0.60</td>\n      <td>None</td>\n      <td>None</td>\n      <td>0.00</td>\n      <td>None</td>\n      <td>None</td>\n      <td>0.0</td>\n      <td>None</td>\n      <td>None</td>\n      <td>0.0</td>\n    </tr>\n    <tr>\n      <th>4</th>\n      <td>Къаз-Джэрий</td>\n      <td>гербарий</td>\n      <td>0.518124</td>\n      <td>парий</td>\n      <td>0.50</td>\n      <td>Къаз</td>\n      <td>мэтэлыуан</td>\n      <td>0.497766</td>\n      <td>къаз</td>\n      <td>0.75</td>\n      <td>Къаз</td>\n      <td>къаз</td>\n      <td>0.75</td>\n      <td>None</td>\n      <td>None</td>\n      <td>0.0</td>\n      <td>None</td>\n      <td>None</td>\n      <td>0.0</td>\n    </tr>\n    <tr>\n      <th>...</th>\n      <td>...</td>\n      <td>...</td>\n      <td>...</td>\n      <td>...</td>\n      <td>...</td>\n      <td>...</td>\n      <td>...</td>\n      <td>...</td>\n      <td>...</td>\n      <td>...</td>\n      <td>...</td>\n      <td>...</td>\n      <td>...</td>\n      <td>...</td>\n      <td>...</td>\n      <td>...</td>\n      <td>...</td>\n      <td>...</td>\n      <td>...</td>\n    </tr>\n    <tr>\n      <th>42383</th>\n      <td>тхьэмыщкIэри</td>\n      <td>тхьэмыщкIэ</td>\n      <td>0.844754</td>\n      <td>тхьэмыщкIэ</td>\n      <td>0.91</td>\n      <td>тхьэмыщкIэ</td>\n      <td>тхьэмыщкIэ</td>\n      <td>1.000000</td>\n      <td>тхьэмыщкIэ</td>\n      <td>1.00</td>\n      <td>тхьэмыщкIэр</td>\n      <td>тхьэмыщкIэ</td>\n      <td>0.95</td>\n      <td>тхьэмыщкIэ</td>\n      <td>тхьэмыщкIэ</td>\n      <td>1.0</td>\n      <td>None</td>\n      <td>None</td>\n      <td>0.0</td>\n    </tr>\n    <tr>\n      <th>42384</th>\n      <td>тхьэмыщкIэ…</td>\n      <td>тхьэмыщкIэ</td>\n      <td>0.955718</td>\n      <td>тхьэмыщкIэ</td>\n      <td>0.95</td>\n      <td>тхьэмыщкIэ</td>\n      <td>тхьэмыщкIэ</td>\n      <td>1.000000</td>\n      <td>тхьэмыщкIэ</td>\n      <td>1.00</td>\n      <td>тхьэмыщкIэ</td>\n      <td>тхьэмыщкIэ</td>\n      <td>1.00</td>\n      <td>None</td>\n      <td>None</td>\n      <td>0.0</td>\n      <td>None</td>\n      <td>None</td>\n      <td>0.0</td>\n    </tr>\n    <tr>\n      <th>42385</th>\n      <td>щIэтIысхьащ</td>\n      <td>щIэтIысхьэн</td>\n      <td>0.813814</td>\n      <td>щIэтIысхьэн</td>\n      <td>0.82</td>\n      <td>этIысхьащ</td>\n      <td>дэтIысхьэн</td>\n      <td>0.727135</td>\n      <td>дэтIысхьэн</td>\n      <td>0.74</td>\n      <td>щIэтIысхьа</td>\n      <td>щIэтIысхьэн</td>\n      <td>0.86</td>\n      <td>None</td>\n      <td>None</td>\n      <td>0.0</td>\n      <td>None</td>\n      <td>None</td>\n      <td>0.0</td>\n    </tr>\n    <tr>\n      <th>42386</th>\n      <td>дыщIэтIысхьащ</td>\n      <td>щIэтIысхьэн</td>\n      <td>0.735218</td>\n      <td>щIэтIысхьэн</td>\n      <td>0.75</td>\n      <td>этIысхьащ</td>\n      <td>дэтIысхьэн</td>\n      <td>0.727135</td>\n      <td>дэтIысхьэн</td>\n      <td>0.74</td>\n      <td>дыщIэт</td>\n      <td>щIэт</td>\n      <td>0.80</td>\n      <td>None</td>\n      <td>None</td>\n      <td>0.0</td>\n      <td>None</td>\n      <td>None</td>\n      <td>0.0</td>\n    </tr>\n    <tr>\n      <th>42387</th>\n      <td>щIэтIысхьэри</td>\n      <td>щIэтIысхьэн</td>\n      <td>0.843820</td>\n      <td>щIэтIысхьэн</td>\n      <td>0.87</td>\n      <td>этIысхьэ</td>\n      <td>гъуэтIысхьэ</td>\n      <td>0.870142</td>\n      <td>дэтIысхьэн</td>\n      <td>0.89</td>\n      <td>None</td>\n      <td>None</td>\n      <td>0.00</td>\n      <td>None</td>\n      <td>None</td>\n      <td>0.0</td>\n      <td>None</td>\n      <td>None</td>\n      <td>0.0</td>\n    </tr>\n  </tbody>\n</table>\n<p>42388 rows × 19 columns</p>\n</div>"
     },
     "execution_count": 94,
     "metadata": {},
     "output_type": "execute_result"
    }
   ],
   "source": [
    "canonicals_df"
   ],
   "metadata": {
    "collapsed": false,
    "ExecuteTime": {
     "end_time": "2024-01-08T19:02:57.622438Z",
     "start_time": "2024-01-08T19:02:57.611349Z"
    }
   }
  },
  {
   "cell_type": "code",
   "execution_count": 95,
   "outputs": [
    {
     "data": {
      "text/plain": "['canonical_by_similar_word_score',\n 'canonical_by_word_distance_score',\n 'canonical_by_similar_stem_score',\n 'canonical_by_stem_distance_score',\n 'by_slice_suffix_1_score',\n 'by_slice_suffix_2_score',\n 'by_slice_suffix_3_score']"
     },
     "execution_count": 95,
     "metadata": {},
     "output_type": "execute_result"
    }
   ],
   "source": [
    "similarity_columns = canonicals_df.filter(like='score').columns.tolist()\n",
    "similarity_columns"
   ],
   "metadata": {
    "collapsed": false,
    "ExecuteTime": {
     "end_time": "2024-01-08T19:02:59.665053Z",
     "start_time": "2024-01-08T19:02:59.656586Z"
    }
   }
  },
  {
   "cell_type": "code",
   "execution_count": 109,
   "outputs": [
    {
     "data": {
      "text/plain": "               word canonical_by_similar_word  \\\n71            Iеижщ                     Iеижь   \n84            Iувти                      Iуву   \n89            Iувщи                       Iуб   \n113        Iущащэрт                бабыщкъурт   \n115       Iущащэурэ              небэкъебэурэ   \n...             ...                       ...   \n42296   къыщIыхьэри                къыщIыхьэн   \n42299   къыщIыхьэрт                къыщIыхьэн   \n42346     илъагъуну             лъагъунлъагъу   \n42373  къыщIыхьэурэ                къыщIыхьэн   \n42383  тхьэмыщкIэри                тхьэмыщкIэ   \n\n       canonical_by_similar_word_score canonical_by_word_distance  \\\n71                            0.752251                      Iеижь   \n84                            0.756283                        Iув   \n89                            0.718909                        Iув   \n113                           0.722349                     Iущащэ   \n115                           0.823464                    Iущащэу   \n...                                ...                        ...   \n42296                         0.800958                 къыщIыхьэн   \n42299                         0.791699                 къыщIыхьэн   \n42346                         0.785294                    лъагъун   \n42373                         0.773184               къыщIыхьэпIэ   \n42383                         0.844754                 тхьэмыщкIэ   \n\n       canonical_by_word_distance_score        stem canonical_by_similar_stem  \\\n71                                 0.80        Iеиж                     Iеижь   \n84                                 0.75         Iув                       Iув   \n89                                 0.75         Iув                       Iув   \n113                                0.86      Iущащэ                    Iущащэ   \n115                                0.88      Iущащэ                    Iущащэ   \n...                                 ...         ...                       ...   \n42296                              0.86   къыщIыхьэ                къыщIыхьэн   \n42299                              0.86   къыщIыхьэ                къыщIыхьэн   \n42346                              0.88   илъагъуну             лъагъунлъагъу   \n42373                              0.83   къыщIыхьэ                къыщIыхьэн   \n42383                              0.91  тхьэмыщкIэ                тхьэмыщкIэ   \n\n       canonical_by_similar_stem_score canonical_by_stem_distance  \\\n71                            0.750832                      Iеижь   \n84                            1.000000                        Iув   \n89                            1.000000                        Iув   \n113                           1.000000                     Iущащэ   \n115                           1.000000                     Iущащэ   \n...                                ...                        ...   \n42296                         0.894893                 къыщIыхьэн   \n42299                         0.894893                 къыщIыхьэн   \n42346                         0.785294                    лъагъун   \n42373                         0.894893                 къыщIыхьэн   \n42383                         1.000000                 тхьэмыщкIэ   \n\n       canonical_by_stem_distance_score slice_suffix_1  \\\n71                                 0.89           Iеиж   \n84                                 1.00           Iувт   \n89                                 1.00           Iувщ   \n113                                1.00        Iущащэр   \n115                                1.00        Iущащэу   \n...                                 ...            ...   \n42296                              0.95     къыщIыхьэр   \n42299                              0.95     къыщIыхьэр   \n42346                              0.88       илъагъун   \n42373                              0.95     къыщIыхьэу   \n42383                              1.00    тхьэмыщкIэр   \n\n      canonical_by_slice_suffix_1  by_slice_suffix_1_score slice_suffix_2  \\\n71                          Iеижь                     0.89            Iеи   \n84                            Iув                     0.86            Iув   \n89                            Iув                     0.86            Iув   \n113                        Iущащэ                     0.92         Iущащэ   \n115                       Iущащэу                     1.00         Iущащэ   \n...                           ...                      ...            ...   \n42296                  къыщIыхьэн                     0.90      къыщIыхьэ   \n42299                  къыщIыхьэн                     0.90      къыщIыхьэ   \n42346                     лъагъун                     0.93           илъа   \n42373                  къыщIыхьэн                     0.90      къыщIыхьэ   \n42383                  тхьэмыщкIэ                     0.95     тхьэмыщкIэ   \n\n      canonical_by_slice_suffix_2  by_slice_suffix_2_score slice_suffix_3  \\\n71                           Iеин                     0.86           None   \n84                            Iув                     1.00           None   \n89                            Iув                     1.00           None   \n113                        Iущащэ                     1.00           None   \n115                        Iущащэ                     1.00           None   \n...                           ...                      ...            ...   \n42296                  къыщIыхьэн                     0.95           None   \n42299                  къыщIыхьэн                     0.95           None   \n42346                      ислъам                     0.80           None   \n42373                  къыщIыхьэн                     0.95           None   \n42383                  тхьэмыщкIэ                     1.00           None   \n\n      canonical_by_slice_suffix_3  by_slice_suffix_3_score most_common  \n71                           None                      0.0       Iеижь  \n84                           None                      0.0         Iув  \n89                           None                      0.0         Iув  \n113                          None                      0.0      Iущащэ  \n115                          None                      0.0      Iущащэ  \n...                           ...                      ...         ...  \n42296                        None                      0.0  къыщIыхьэн  \n42299                        None                      0.0  къыщIыхьэн  \n42346                        None                      0.0     лъагъун  \n42373                        None                      0.0  къыщIыхьэн  \n42383                        None                      0.0  тхьэмыщкIэ  \n\n[2833 rows x 20 columns]",
      "text/html": "<div>\n<style scoped>\n    .dataframe tbody tr th:only-of-type {\n        vertical-align: middle;\n    }\n\n    .dataframe tbody tr th {\n        vertical-align: top;\n    }\n\n    .dataframe thead th {\n        text-align: right;\n    }\n</style>\n<table border=\"1\" class=\"dataframe\">\n  <thead>\n    <tr style=\"text-align: right;\">\n      <th></th>\n      <th>word</th>\n      <th>canonical_by_similar_word</th>\n      <th>canonical_by_similar_word_score</th>\n      <th>canonical_by_word_distance</th>\n      <th>canonical_by_word_distance_score</th>\n      <th>stem</th>\n      <th>canonical_by_similar_stem</th>\n      <th>canonical_by_similar_stem_score</th>\n      <th>canonical_by_stem_distance</th>\n      <th>canonical_by_stem_distance_score</th>\n      <th>slice_suffix_1</th>\n      <th>canonical_by_slice_suffix_1</th>\n      <th>by_slice_suffix_1_score</th>\n      <th>slice_suffix_2</th>\n      <th>canonical_by_slice_suffix_2</th>\n      <th>by_slice_suffix_2_score</th>\n      <th>slice_suffix_3</th>\n      <th>canonical_by_slice_suffix_3</th>\n      <th>by_slice_suffix_3_score</th>\n      <th>most_common</th>\n    </tr>\n  </thead>\n  <tbody>\n    <tr>\n      <th>71</th>\n      <td>Iеижщ</td>\n      <td>Iеижь</td>\n      <td>0.752251</td>\n      <td>Iеижь</td>\n      <td>0.80</td>\n      <td>Iеиж</td>\n      <td>Iеижь</td>\n      <td>0.750832</td>\n      <td>Iеижь</td>\n      <td>0.89</td>\n      <td>Iеиж</td>\n      <td>Iеижь</td>\n      <td>0.89</td>\n      <td>Iеи</td>\n      <td>Iеин</td>\n      <td>0.86</td>\n      <td>None</td>\n      <td>None</td>\n      <td>0.0</td>\n      <td>Iеижь</td>\n    </tr>\n    <tr>\n      <th>84</th>\n      <td>Iувти</td>\n      <td>Iуву</td>\n      <td>0.756283</td>\n      <td>Iув</td>\n      <td>0.75</td>\n      <td>Iув</td>\n      <td>Iув</td>\n      <td>1.000000</td>\n      <td>Iув</td>\n      <td>1.00</td>\n      <td>Iувт</td>\n      <td>Iув</td>\n      <td>0.86</td>\n      <td>Iув</td>\n      <td>Iув</td>\n      <td>1.00</td>\n      <td>None</td>\n      <td>None</td>\n      <td>0.0</td>\n      <td>Iув</td>\n    </tr>\n    <tr>\n      <th>89</th>\n      <td>Iувщи</td>\n      <td>Iуб</td>\n      <td>0.718909</td>\n      <td>Iув</td>\n      <td>0.75</td>\n      <td>Iув</td>\n      <td>Iув</td>\n      <td>1.000000</td>\n      <td>Iув</td>\n      <td>1.00</td>\n      <td>Iувщ</td>\n      <td>Iув</td>\n      <td>0.86</td>\n      <td>Iув</td>\n      <td>Iув</td>\n      <td>1.00</td>\n      <td>None</td>\n      <td>None</td>\n      <td>0.0</td>\n      <td>Iув</td>\n    </tr>\n    <tr>\n      <th>113</th>\n      <td>Iущащэрт</td>\n      <td>бабыщкъурт</td>\n      <td>0.722349</td>\n      <td>Iущащэ</td>\n      <td>0.86</td>\n      <td>Iущащэ</td>\n      <td>Iущащэ</td>\n      <td>1.000000</td>\n      <td>Iущащэ</td>\n      <td>1.00</td>\n      <td>Iущащэр</td>\n      <td>Iущащэ</td>\n      <td>0.92</td>\n      <td>Iущащэ</td>\n      <td>Iущащэ</td>\n      <td>1.00</td>\n      <td>None</td>\n      <td>None</td>\n      <td>0.0</td>\n      <td>Iущащэ</td>\n    </tr>\n    <tr>\n      <th>115</th>\n      <td>Iущащэурэ</td>\n      <td>небэкъебэурэ</td>\n      <td>0.823464</td>\n      <td>Iущащэу</td>\n      <td>0.88</td>\n      <td>Iущащэ</td>\n      <td>Iущащэ</td>\n      <td>1.000000</td>\n      <td>Iущащэ</td>\n      <td>1.00</td>\n      <td>Iущащэу</td>\n      <td>Iущащэу</td>\n      <td>1.00</td>\n      <td>Iущащэ</td>\n      <td>Iущащэ</td>\n      <td>1.00</td>\n      <td>None</td>\n      <td>None</td>\n      <td>0.0</td>\n      <td>Iущащэ</td>\n    </tr>\n    <tr>\n      <th>...</th>\n      <td>...</td>\n      <td>...</td>\n      <td>...</td>\n      <td>...</td>\n      <td>...</td>\n      <td>...</td>\n      <td>...</td>\n      <td>...</td>\n      <td>...</td>\n      <td>...</td>\n      <td>...</td>\n      <td>...</td>\n      <td>...</td>\n      <td>...</td>\n      <td>...</td>\n      <td>...</td>\n      <td>...</td>\n      <td>...</td>\n      <td>...</td>\n      <td>...</td>\n    </tr>\n    <tr>\n      <th>42296</th>\n      <td>къыщIыхьэри</td>\n      <td>къыщIыхьэн</td>\n      <td>0.800958</td>\n      <td>къыщIыхьэн</td>\n      <td>0.86</td>\n      <td>къыщIыхьэ</td>\n      <td>къыщIыхьэн</td>\n      <td>0.894893</td>\n      <td>къыщIыхьэн</td>\n      <td>0.95</td>\n      <td>къыщIыхьэр</td>\n      <td>къыщIыхьэн</td>\n      <td>0.90</td>\n      <td>къыщIыхьэ</td>\n      <td>къыщIыхьэн</td>\n      <td>0.95</td>\n      <td>None</td>\n      <td>None</td>\n      <td>0.0</td>\n      <td>къыщIыхьэн</td>\n    </tr>\n    <tr>\n      <th>42299</th>\n      <td>къыщIыхьэрт</td>\n      <td>къыщIыхьэн</td>\n      <td>0.791699</td>\n      <td>къыщIыхьэн</td>\n      <td>0.86</td>\n      <td>къыщIыхьэ</td>\n      <td>къыщIыхьэн</td>\n      <td>0.894893</td>\n      <td>къыщIыхьэн</td>\n      <td>0.95</td>\n      <td>къыщIыхьэр</td>\n      <td>къыщIыхьэн</td>\n      <td>0.90</td>\n      <td>къыщIыхьэ</td>\n      <td>къыщIыхьэн</td>\n      <td>0.95</td>\n      <td>None</td>\n      <td>None</td>\n      <td>0.0</td>\n      <td>къыщIыхьэн</td>\n    </tr>\n    <tr>\n      <th>42346</th>\n      <td>илъагъуну</td>\n      <td>лъагъунлъагъу</td>\n      <td>0.785294</td>\n      <td>лъагъун</td>\n      <td>0.88</td>\n      <td>илъагъуну</td>\n      <td>лъагъунлъагъу</td>\n      <td>0.785294</td>\n      <td>лъагъун</td>\n      <td>0.88</td>\n      <td>илъагъун</td>\n      <td>лъагъун</td>\n      <td>0.93</td>\n      <td>илъа</td>\n      <td>ислъам</td>\n      <td>0.80</td>\n      <td>None</td>\n      <td>None</td>\n      <td>0.0</td>\n      <td>лъагъун</td>\n    </tr>\n    <tr>\n      <th>42373</th>\n      <td>къыщIыхьэурэ</td>\n      <td>къыщIыхьэн</td>\n      <td>0.773184</td>\n      <td>къыщIыхьэпIэ</td>\n      <td>0.83</td>\n      <td>къыщIыхьэ</td>\n      <td>къыщIыхьэн</td>\n      <td>0.894893</td>\n      <td>къыщIыхьэн</td>\n      <td>0.95</td>\n      <td>къыщIыхьэу</td>\n      <td>къыщIыхьэн</td>\n      <td>0.90</td>\n      <td>къыщIыхьэ</td>\n      <td>къыщIыхьэн</td>\n      <td>0.95</td>\n      <td>None</td>\n      <td>None</td>\n      <td>0.0</td>\n      <td>къыщIыхьэн</td>\n    </tr>\n    <tr>\n      <th>42383</th>\n      <td>тхьэмыщкIэри</td>\n      <td>тхьэмыщкIэ</td>\n      <td>0.844754</td>\n      <td>тхьэмыщкIэ</td>\n      <td>0.91</td>\n      <td>тхьэмыщкIэ</td>\n      <td>тхьэмыщкIэ</td>\n      <td>1.000000</td>\n      <td>тхьэмыщкIэ</td>\n      <td>1.00</td>\n      <td>тхьэмыщкIэр</td>\n      <td>тхьэмыщкIэ</td>\n      <td>0.95</td>\n      <td>тхьэмыщкIэ</td>\n      <td>тхьэмыщкIэ</td>\n      <td>1.00</td>\n      <td>None</td>\n      <td>None</td>\n      <td>0.0</td>\n      <td>тхьэмыщкIэ</td>\n    </tr>\n  </tbody>\n</table>\n<p>2833 rows × 20 columns</p>\n</div>"
     },
     "execution_count": 109,
     "metadata": {},
     "output_type": "execute_result"
    }
   ],
   "source": [
    "score_columns = [\n",
    "    'canonical_by_similar_word_score',\n",
    "    'canonical_by_word_distance_score',\n",
    "    'canonical_by_similar_stem_score',\n",
    "    'canonical_by_stem_distance_score',\n",
    "    'by_slice_suffix_1_score',\n",
    "    'by_slice_suffix_2_score',\n",
    "    # 'by_slice_suffix_3_score'\n",
    "]\n",
    "\n",
    "filtered_df = canonicals_df[canonicals_df[score_columns].gt(0.7).all(axis=1)]\n",
    "filtered_df"
   ],
   "metadata": {
    "collapsed": false,
    "ExecuteTime": {
     "end_time": "2024-01-08T19:30:54.926141Z",
     "start_time": "2024-01-08T19:30:54.863099Z"
    }
   }
  },
  {
   "cell_type": "code",
   "execution_count": 110,
   "outputs": [
    {
     "data": {
      "text/plain": "                word canonical_by_similar_word  \\\n15153       ягъэуват                   гъэувын   \n31339    ящыщтэкъыми                  ныIэкъым   \n31827   щыуагъэшхуэщ                   щыуагъэ   \n5723      щыгъынымрэ                 щыгъыныжь   \n5722     щыгъынымкIэ                щыгъыныкIэ   \n...              ...                       ...   \n42383   тхьэмыщкIэри                тхьэмыщкIэ   \n42384    тхьэмыщкIэ…                тхьэмыщкIэ   \n42385    щIэтIысхьащ               щIэтIысхьэн   \n42386  дыщIэтIысхьащ               щIэтIысхьэн   \n42387   щIэтIысхьэри               щIэтIысхьэн   \n\n       canonical_by_similar_word_score canonical_by_word_distance  \\\n15153                         0.693881                     гъэхуа   \n31339                         0.620658                    сыткъым   \n31827                         0.589525                 щыуагъэншэ   \n5723                          0.617490                 щыгъыныкIэ   \n5722                          0.650964                 щыгъыныкIэ   \n...                                ...                        ...   \n42383                         0.844754                 тхьэмыщкIэ   \n42384                         0.955718                 тхьэмыщкIэ   \n42385                         0.813814                щIэтIысхьэн   \n42386                         0.735218                щIэтIысхьэн   \n42387                         0.843820                щIэтIысхьэн   \n\n       canonical_by_word_distance_score        stem canonical_by_similar_stem  \\\n15153                              0.71     ягъэува                   гъэувын   \n31339                              0.67     щыщтэкъ                    щыщтэн   \n31827                              0.82     щыуагъэ                   щыуагъэ   \n5723                               0.80      щыгъын                    щыгъын   \n5722                               0.95      щыгъын                    щыгъын   \n...                                 ...         ...                       ...   \n42383                              0.91  тхьэмыщкIэ                тхьэмыщкIэ   \n42384                              0.95  тхьэмыщкIэ                тхьэмыщкIэ   \n42385                              0.82   этIысхьащ                дэтIысхьэн   \n42386                              0.75   этIысхьащ                дэтIысхьэн   \n42387                              0.87    этIысхьэ               гъуэтIысхьэ   \n\n       canonical_by_similar_stem_score canonical_by_stem_distance  \\\n15153                         0.695505                     гъэхуа   \n31339                         0.578903                     щыщтэн   \n31827                         1.000000                    щыуагъэ   \n5723                          1.000000                     щыгъын   \n5722                          1.000000                     щыгъын   \n...                                ...                        ...   \n42383                         1.000000                 тхьэмыщкIэ   \n42384                         1.000000                 тхьэмыщкIэ   \n42385                         0.727135                 дэтIысхьэн   \n42386                         0.727135                 дэтIысхьэн   \n42387                         0.870142                 дэтIысхьэн   \n\n       canonical_by_stem_distance_score slice_suffix_1  \\\n15153                              0.77        ягъэува   \n31339                              0.77     ящыщтэкъым   \n31827                              1.00    щыуагъэшхуэ   \n5723                               1.00       щыгъыным   \n5722                               1.00       щыгъыным   \n...                                 ...            ...   \n42383                              1.00    тхьэмыщкIэр   \n42384                              1.00     тхьэмыщкIэ   \n42385                              0.74     щIэтIысхьа   \n42386                              0.74         дыщIэт   \n42387                              0.89           None   \n\n      canonical_by_slice_suffix_1  by_slice_suffix_1_score slice_suffix_2  \\\n15153                      гъэхуа                     0.77         ягъэув   \n31339                     сыткъым                     0.71          ящыщт   \n31827                  щыуагъэншэ                     0.86        щыуагъэ   \n5723                       щыгъын                     0.86         щыгъын   \n5722                       щыгъын                     0.86         щыгъын   \n...                           ...                      ...            ...   \n42383                  тхьэмыщкIэ                     0.95     тхьэмыщкIэ   \n42384                  тхьэмыщкIэ                     1.00           None   \n42385                 щIэтIысхьэн                     0.86           None   \n42386                        щIэт                     0.80           None   \n42387                        None                     0.00           None   \n\n      canonical_by_slice_suffix_2  by_slice_suffix_2_score slice_suffix_3  \\\n15153                        ягъэ                     0.80          ягъэу   \n31339                         щыщ                     0.75           ящыщ   \n31827                     щыуагъэ                     1.00           щыуа   \n5723                       щыгъын                     1.00           щыгъ   \n5722                       щыгъын                     1.00           щыгъ   \n...                           ...                      ...            ...   \n42383                  тхьэмыщкIэ                     1.00           None   \n42384                        None                     0.00           None   \n42385                        None                     0.00           None   \n42386                        None                     0.00           None   \n42387                        None                     0.00           None   \n\n      canonical_by_slice_suffix_3  by_slice_suffix_3_score most_common  \n15153                        ягъэ                     0.89      гъэхуа  \n31339                         щыщ                     0.86     сыткъым  \n31827                         щыу                     0.86     щыуагъэ  \n5723                        щыгъэ                     0.89      щыгъын  \n5722                        щыгъэ                     0.89      щыгъын  \n...                           ...                      ...         ...  \n42383                        None                     0.00  тхьэмыщкIэ  \n42384                        None                     0.00  тхьэмыщкIэ  \n42385                        None                     0.00        None  \n42386                        None                     0.00        None  \n42387                        None                     0.00        None  \n\n[42388 rows x 20 columns]",
      "text/html": "<div>\n<style scoped>\n    .dataframe tbody tr th:only-of-type {\n        vertical-align: middle;\n    }\n\n    .dataframe tbody tr th {\n        vertical-align: top;\n    }\n\n    .dataframe thead th {\n        text-align: right;\n    }\n</style>\n<table border=\"1\" class=\"dataframe\">\n  <thead>\n    <tr style=\"text-align: right;\">\n      <th></th>\n      <th>word</th>\n      <th>canonical_by_similar_word</th>\n      <th>canonical_by_similar_word_score</th>\n      <th>canonical_by_word_distance</th>\n      <th>canonical_by_word_distance_score</th>\n      <th>stem</th>\n      <th>canonical_by_similar_stem</th>\n      <th>canonical_by_similar_stem_score</th>\n      <th>canonical_by_stem_distance</th>\n      <th>canonical_by_stem_distance_score</th>\n      <th>slice_suffix_1</th>\n      <th>canonical_by_slice_suffix_1</th>\n      <th>by_slice_suffix_1_score</th>\n      <th>slice_suffix_2</th>\n      <th>canonical_by_slice_suffix_2</th>\n      <th>by_slice_suffix_2_score</th>\n      <th>slice_suffix_3</th>\n      <th>canonical_by_slice_suffix_3</th>\n      <th>by_slice_suffix_3_score</th>\n      <th>most_common</th>\n    </tr>\n  </thead>\n  <tbody>\n    <tr>\n      <th>15153</th>\n      <td>ягъэуват</td>\n      <td>гъэувын</td>\n      <td>0.693881</td>\n      <td>гъэхуа</td>\n      <td>0.71</td>\n      <td>ягъэува</td>\n      <td>гъэувын</td>\n      <td>0.695505</td>\n      <td>гъэхуа</td>\n      <td>0.77</td>\n      <td>ягъэува</td>\n      <td>гъэхуа</td>\n      <td>0.77</td>\n      <td>ягъэув</td>\n      <td>ягъэ</td>\n      <td>0.80</td>\n      <td>ягъэу</td>\n      <td>ягъэ</td>\n      <td>0.89</td>\n      <td>гъэхуа</td>\n    </tr>\n    <tr>\n      <th>31339</th>\n      <td>ящыщтэкъыми</td>\n      <td>ныIэкъым</td>\n      <td>0.620658</td>\n      <td>сыткъым</td>\n      <td>0.67</td>\n      <td>щыщтэкъ</td>\n      <td>щыщтэн</td>\n      <td>0.578903</td>\n      <td>щыщтэн</td>\n      <td>0.77</td>\n      <td>ящыщтэкъым</td>\n      <td>сыткъым</td>\n      <td>0.71</td>\n      <td>ящыщт</td>\n      <td>щыщ</td>\n      <td>0.75</td>\n      <td>ящыщ</td>\n      <td>щыщ</td>\n      <td>0.86</td>\n      <td>сыткъым</td>\n    </tr>\n    <tr>\n      <th>31827</th>\n      <td>щыуагъэшхуэщ</td>\n      <td>щыуагъэ</td>\n      <td>0.589525</td>\n      <td>щыуагъэншэ</td>\n      <td>0.82</td>\n      <td>щыуагъэ</td>\n      <td>щыуагъэ</td>\n      <td>1.000000</td>\n      <td>щыуагъэ</td>\n      <td>1.00</td>\n      <td>щыуагъэшхуэ</td>\n      <td>щыуагъэншэ</td>\n      <td>0.86</td>\n      <td>щыуагъэ</td>\n      <td>щыуагъэ</td>\n      <td>1.00</td>\n      <td>щыуа</td>\n      <td>щыу</td>\n      <td>0.86</td>\n      <td>щыуагъэ</td>\n    </tr>\n    <tr>\n      <th>5723</th>\n      <td>щыгъынымрэ</td>\n      <td>щыгъыныжь</td>\n      <td>0.617490</td>\n      <td>щыгъыныкIэ</td>\n      <td>0.80</td>\n      <td>щыгъын</td>\n      <td>щыгъын</td>\n      <td>1.000000</td>\n      <td>щыгъын</td>\n      <td>1.00</td>\n      <td>щыгъыным</td>\n      <td>щыгъын</td>\n      <td>0.86</td>\n      <td>щыгъын</td>\n      <td>щыгъын</td>\n      <td>1.00</td>\n      <td>щыгъ</td>\n      <td>щыгъэ</td>\n      <td>0.89</td>\n      <td>щыгъын</td>\n    </tr>\n    <tr>\n      <th>5722</th>\n      <td>щыгъынымкIэ</td>\n      <td>щыгъыныкIэ</td>\n      <td>0.650964</td>\n      <td>щыгъыныкIэ</td>\n      <td>0.95</td>\n      <td>щыгъын</td>\n      <td>щыгъын</td>\n      <td>1.000000</td>\n      <td>щыгъын</td>\n      <td>1.00</td>\n      <td>щыгъыным</td>\n      <td>щыгъын</td>\n      <td>0.86</td>\n      <td>щыгъын</td>\n      <td>щыгъын</td>\n      <td>1.00</td>\n      <td>щыгъ</td>\n      <td>щыгъэ</td>\n      <td>0.89</td>\n      <td>щыгъын</td>\n    </tr>\n    <tr>\n      <th>...</th>\n      <td>...</td>\n      <td>...</td>\n      <td>...</td>\n      <td>...</td>\n      <td>...</td>\n      <td>...</td>\n      <td>...</td>\n      <td>...</td>\n      <td>...</td>\n      <td>...</td>\n      <td>...</td>\n      <td>...</td>\n      <td>...</td>\n      <td>...</td>\n      <td>...</td>\n      <td>...</td>\n      <td>...</td>\n      <td>...</td>\n      <td>...</td>\n      <td>...</td>\n    </tr>\n    <tr>\n      <th>42383</th>\n      <td>тхьэмыщкIэри</td>\n      <td>тхьэмыщкIэ</td>\n      <td>0.844754</td>\n      <td>тхьэмыщкIэ</td>\n      <td>0.91</td>\n      <td>тхьэмыщкIэ</td>\n      <td>тхьэмыщкIэ</td>\n      <td>1.000000</td>\n      <td>тхьэмыщкIэ</td>\n      <td>1.00</td>\n      <td>тхьэмыщкIэр</td>\n      <td>тхьэмыщкIэ</td>\n      <td>0.95</td>\n      <td>тхьэмыщкIэ</td>\n      <td>тхьэмыщкIэ</td>\n      <td>1.00</td>\n      <td>None</td>\n      <td>None</td>\n      <td>0.00</td>\n      <td>тхьэмыщкIэ</td>\n    </tr>\n    <tr>\n      <th>42384</th>\n      <td>тхьэмыщкIэ…</td>\n      <td>тхьэмыщкIэ</td>\n      <td>0.955718</td>\n      <td>тхьэмыщкIэ</td>\n      <td>0.95</td>\n      <td>тхьэмыщкIэ</td>\n      <td>тхьэмыщкIэ</td>\n      <td>1.000000</td>\n      <td>тхьэмыщкIэ</td>\n      <td>1.00</td>\n      <td>тхьэмыщкIэ</td>\n      <td>тхьэмыщкIэ</td>\n      <td>1.00</td>\n      <td>None</td>\n      <td>None</td>\n      <td>0.00</td>\n      <td>None</td>\n      <td>None</td>\n      <td>0.00</td>\n      <td>тхьэмыщкIэ</td>\n    </tr>\n    <tr>\n      <th>42385</th>\n      <td>щIэтIысхьащ</td>\n      <td>щIэтIысхьэн</td>\n      <td>0.813814</td>\n      <td>щIэтIысхьэн</td>\n      <td>0.82</td>\n      <td>этIысхьащ</td>\n      <td>дэтIысхьэн</td>\n      <td>0.727135</td>\n      <td>дэтIысхьэн</td>\n      <td>0.74</td>\n      <td>щIэтIысхьа</td>\n      <td>щIэтIысхьэн</td>\n      <td>0.86</td>\n      <td>None</td>\n      <td>None</td>\n      <td>0.00</td>\n      <td>None</td>\n      <td>None</td>\n      <td>0.00</td>\n      <td>None</td>\n    </tr>\n    <tr>\n      <th>42386</th>\n      <td>дыщIэтIысхьащ</td>\n      <td>щIэтIысхьэн</td>\n      <td>0.735218</td>\n      <td>щIэтIысхьэн</td>\n      <td>0.75</td>\n      <td>этIысхьащ</td>\n      <td>дэтIысхьэн</td>\n      <td>0.727135</td>\n      <td>дэтIысхьэн</td>\n      <td>0.74</td>\n      <td>дыщIэт</td>\n      <td>щIэт</td>\n      <td>0.80</td>\n      <td>None</td>\n      <td>None</td>\n      <td>0.00</td>\n      <td>None</td>\n      <td>None</td>\n      <td>0.00</td>\n      <td>None</td>\n    </tr>\n    <tr>\n      <th>42387</th>\n      <td>щIэтIысхьэри</td>\n      <td>щIэтIысхьэн</td>\n      <td>0.843820</td>\n      <td>щIэтIысхьэн</td>\n      <td>0.87</td>\n      <td>этIысхьэ</td>\n      <td>гъуэтIысхьэ</td>\n      <td>0.870142</td>\n      <td>дэтIысхьэн</td>\n      <td>0.89</td>\n      <td>None</td>\n      <td>None</td>\n      <td>0.00</td>\n      <td>None</td>\n      <td>None</td>\n      <td>0.00</td>\n      <td>None</td>\n      <td>None</td>\n      <td>0.00</td>\n      <td>None</td>\n    </tr>\n  </tbody>\n</table>\n<p>42388 rows × 20 columns</p>\n</div>"
     },
     "execution_count": 110,
     "metadata": {},
     "output_type": "execute_result"
    }
   ],
   "source": [
    "canonicals_df.sort_values(by='canonical_by_slice_suffix_3', ascending=False)"
   ],
   "metadata": {
    "collapsed": false,
    "ExecuteTime": {
     "end_time": "2024-01-08T19:30:59.457033Z",
     "start_time": "2024-01-08T19:30:59.431907Z"
    }
   }
  },
  {
   "cell_type": "code",
   "execution_count": 119,
   "outputs": [
    {
     "data": {
      "text/plain": "         word canonical_by_similar_word  canonical_by_similar_word_score  \\\n30783  яшэжащ                        ащ                         0.702411   \n30811   яшэрт                хьэрткъурт                         0.758513   \n30839  яшэурэ                   дэрэурэ                         0.865715   \n30592  яшхауэ                      шауэ                         0.866231   \n30602   яшхри                      жюри                         0.827310   \n...       ...                       ...                              ...   \n6146     1557                    август                         0.690190   \n6147     1558                    август                         0.789203   \n30     120-рэ                   центнер                         0.636866   \n6138    120-м                  нэблагъэ                         0.700637   \n6121    100-м               щIигъу(кIэ)                         0.702050   \n\n      canonical_by_word_distance  canonical_by_word_distance_score  stem  \\\n30783                     шэуэжа                              0.67   яшэ   \n30811                       пшэр                              0.67   яшэ   \n30839                     шэуэжа                              0.67   яшэ   \n30592                     шхахуэ                              0.83   яшх   \n30602                дыхьэшхрилэ                              0.50   яшх   \n...                          ...                               ...   ...   \n6146                        None                              0.00   155   \n6147                        None                              0.00   155   \n30                          None                              0.00  0-рэ   \n6138                        None                              0.00   120   \n6121                        None                              0.00   100   \n\n      canonical_by_similar_stem  canonical_by_similar_stem_score  \\\n30783                     блашэ                         0.622380   \n30811                     блашэ                         0.622380   \n30839                     блашэ                         0.622380   \n30592                       лыц                         0.719494   \n30602                       лыц                         0.719494   \n...                         ...                              ...   \n6146                       июнь                         0.681028   \n6147                       июнь                         0.681028   \n30                         тонн                         0.648594   \n6138                        пэ-                         0.589752   \n6121                  экземпляр                         0.520385   \n\n      canonical_by_stem_distance  canonical_by_stem_distance_score  ...  \\\n30783                       None                               0.0  ...   \n30811                       None                               0.0  ...   \n30839                       None                               0.0  ...   \n30592                       None                               0.0  ...   \n30602                       None                               0.0  ...   \n...                          ...                               ...  ...   \n6146                        None                               0.0  ...   \n6147                        None                               0.0  ...   \n30                          None                               0.0  ...   \n6138                        None                               0.0  ...   \n6121                        None                               0.0  ...   \n\n      by_slice_suffix_1_score slice_suffix_2  canonical_by_slice_suffix_2  \\\n30783                     0.0           None                         None   \n30811                     0.0           None                         None   \n30839                     0.0           None                         None   \n30592                     0.0           None                         None   \n30602                     0.0           None                         None   \n...                       ...            ...                          ...   \n6146                      0.0           None                         None   \n6147                      0.0           None                         None   \n30                        0.0           None                         None   \n6138                      0.0           None                         None   \n6121                      0.0           None                         None   \n\n      by_slice_suffix_2_score slice_suffix_3  canonical_by_slice_suffix_3  \\\n30783                     0.0           None                         None   \n30811                     0.0           None                         None   \n30839                     0.0           None                         None   \n30592                     0.0           None                         None   \n30602                     0.0           None                         None   \n...                       ...            ...                          ...   \n6146                      0.0           None                         None   \n6147                      0.0           None                         None   \n30                        0.0           None                         None   \n6138                      0.0           None                         None   \n6121                      0.0           None                         None   \n\n      by_slice_suffix_3_score most_common  most_common_value most_common_count  \n30783                     0.0    (яшэ, 1)                яшэ                 1  \n30811                     0.0    (яшэ, 1)                яшэ                 1  \n30839                     0.0    (яшэ, 1)                яшэ                 1  \n30592                     0.0    (яшх, 1)                яшх                 1  \n30602                     0.0    (яшх, 1)                яшх                 1  \n...                       ...         ...                ...               ...  \n6146                      0.0    (155, 1)                155                 1  \n6147                      0.0    (155, 1)                155                 1  \n30                        0.0    (120, 1)                120                 1  \n6138                      0.0    (120, 1)                120                 1  \n6121                      0.0    (100, 1)                100                 1  \n\n[42388 rows x 22 columns]",
      "text/html": "<div>\n<style scoped>\n    .dataframe tbody tr th:only-of-type {\n        vertical-align: middle;\n    }\n\n    .dataframe tbody tr th {\n        vertical-align: top;\n    }\n\n    .dataframe thead th {\n        text-align: right;\n    }\n</style>\n<table border=\"1\" class=\"dataframe\">\n  <thead>\n    <tr style=\"text-align: right;\">\n      <th></th>\n      <th>word</th>\n      <th>canonical_by_similar_word</th>\n      <th>canonical_by_similar_word_score</th>\n      <th>canonical_by_word_distance</th>\n      <th>canonical_by_word_distance_score</th>\n      <th>stem</th>\n      <th>canonical_by_similar_stem</th>\n      <th>canonical_by_similar_stem_score</th>\n      <th>canonical_by_stem_distance</th>\n      <th>canonical_by_stem_distance_score</th>\n      <th>...</th>\n      <th>by_slice_suffix_1_score</th>\n      <th>slice_suffix_2</th>\n      <th>canonical_by_slice_suffix_2</th>\n      <th>by_slice_suffix_2_score</th>\n      <th>slice_suffix_3</th>\n      <th>canonical_by_slice_suffix_3</th>\n      <th>by_slice_suffix_3_score</th>\n      <th>most_common</th>\n      <th>most_common_value</th>\n      <th>most_common_count</th>\n    </tr>\n  </thead>\n  <tbody>\n    <tr>\n      <th>30783</th>\n      <td>яшэжащ</td>\n      <td>ащ</td>\n      <td>0.702411</td>\n      <td>шэуэжа</td>\n      <td>0.67</td>\n      <td>яшэ</td>\n      <td>блашэ</td>\n      <td>0.622380</td>\n      <td>None</td>\n      <td>0.0</td>\n      <td>...</td>\n      <td>0.0</td>\n      <td>None</td>\n      <td>None</td>\n      <td>0.0</td>\n      <td>None</td>\n      <td>None</td>\n      <td>0.0</td>\n      <td>(яшэ, 1)</td>\n      <td>яшэ</td>\n      <td>1</td>\n    </tr>\n    <tr>\n      <th>30811</th>\n      <td>яшэрт</td>\n      <td>хьэрткъурт</td>\n      <td>0.758513</td>\n      <td>пшэр</td>\n      <td>0.67</td>\n      <td>яшэ</td>\n      <td>блашэ</td>\n      <td>0.622380</td>\n      <td>None</td>\n      <td>0.0</td>\n      <td>...</td>\n      <td>0.0</td>\n      <td>None</td>\n      <td>None</td>\n      <td>0.0</td>\n      <td>None</td>\n      <td>None</td>\n      <td>0.0</td>\n      <td>(яшэ, 1)</td>\n      <td>яшэ</td>\n      <td>1</td>\n    </tr>\n    <tr>\n      <th>30839</th>\n      <td>яшэурэ</td>\n      <td>дэрэурэ</td>\n      <td>0.865715</td>\n      <td>шэуэжа</td>\n      <td>0.67</td>\n      <td>яшэ</td>\n      <td>блашэ</td>\n      <td>0.622380</td>\n      <td>None</td>\n      <td>0.0</td>\n      <td>...</td>\n      <td>0.0</td>\n      <td>None</td>\n      <td>None</td>\n      <td>0.0</td>\n      <td>None</td>\n      <td>None</td>\n      <td>0.0</td>\n      <td>(яшэ, 1)</td>\n      <td>яшэ</td>\n      <td>1</td>\n    </tr>\n    <tr>\n      <th>30592</th>\n      <td>яшхауэ</td>\n      <td>шауэ</td>\n      <td>0.866231</td>\n      <td>шхахуэ</td>\n      <td>0.83</td>\n      <td>яшх</td>\n      <td>лыц</td>\n      <td>0.719494</td>\n      <td>None</td>\n      <td>0.0</td>\n      <td>...</td>\n      <td>0.0</td>\n      <td>None</td>\n      <td>None</td>\n      <td>0.0</td>\n      <td>None</td>\n      <td>None</td>\n      <td>0.0</td>\n      <td>(яшх, 1)</td>\n      <td>яшх</td>\n      <td>1</td>\n    </tr>\n    <tr>\n      <th>30602</th>\n      <td>яшхри</td>\n      <td>жюри</td>\n      <td>0.827310</td>\n      <td>дыхьэшхрилэ</td>\n      <td>0.50</td>\n      <td>яшх</td>\n      <td>лыц</td>\n      <td>0.719494</td>\n      <td>None</td>\n      <td>0.0</td>\n      <td>...</td>\n      <td>0.0</td>\n      <td>None</td>\n      <td>None</td>\n      <td>0.0</td>\n      <td>None</td>\n      <td>None</td>\n      <td>0.0</td>\n      <td>(яшх, 1)</td>\n      <td>яшх</td>\n      <td>1</td>\n    </tr>\n    <tr>\n      <th>...</th>\n      <td>...</td>\n      <td>...</td>\n      <td>...</td>\n      <td>...</td>\n      <td>...</td>\n      <td>...</td>\n      <td>...</td>\n      <td>...</td>\n      <td>...</td>\n      <td>...</td>\n      <td>...</td>\n      <td>...</td>\n      <td>...</td>\n      <td>...</td>\n      <td>...</td>\n      <td>...</td>\n      <td>...</td>\n      <td>...</td>\n      <td>...</td>\n      <td>...</td>\n      <td>...</td>\n    </tr>\n    <tr>\n      <th>6146</th>\n      <td>1557</td>\n      <td>август</td>\n      <td>0.690190</td>\n      <td>None</td>\n      <td>0.00</td>\n      <td>155</td>\n      <td>июнь</td>\n      <td>0.681028</td>\n      <td>None</td>\n      <td>0.0</td>\n      <td>...</td>\n      <td>0.0</td>\n      <td>None</td>\n      <td>None</td>\n      <td>0.0</td>\n      <td>None</td>\n      <td>None</td>\n      <td>0.0</td>\n      <td>(155, 1)</td>\n      <td>155</td>\n      <td>1</td>\n    </tr>\n    <tr>\n      <th>6147</th>\n      <td>1558</td>\n      <td>август</td>\n      <td>0.789203</td>\n      <td>None</td>\n      <td>0.00</td>\n      <td>155</td>\n      <td>июнь</td>\n      <td>0.681028</td>\n      <td>None</td>\n      <td>0.0</td>\n      <td>...</td>\n      <td>0.0</td>\n      <td>None</td>\n      <td>None</td>\n      <td>0.0</td>\n      <td>None</td>\n      <td>None</td>\n      <td>0.0</td>\n      <td>(155, 1)</td>\n      <td>155</td>\n      <td>1</td>\n    </tr>\n    <tr>\n      <th>30</th>\n      <td>120-рэ</td>\n      <td>центнер</td>\n      <td>0.636866</td>\n      <td>None</td>\n      <td>0.00</td>\n      <td>0-рэ</td>\n      <td>тонн</td>\n      <td>0.648594</td>\n      <td>None</td>\n      <td>0.0</td>\n      <td>...</td>\n      <td>0.0</td>\n      <td>None</td>\n      <td>None</td>\n      <td>0.0</td>\n      <td>None</td>\n      <td>None</td>\n      <td>0.0</td>\n      <td>(120, 1)</td>\n      <td>120</td>\n      <td>1</td>\n    </tr>\n    <tr>\n      <th>6138</th>\n      <td>120-м</td>\n      <td>нэблагъэ</td>\n      <td>0.700637</td>\n      <td>None</td>\n      <td>0.00</td>\n      <td>120</td>\n      <td>пэ-</td>\n      <td>0.589752</td>\n      <td>None</td>\n      <td>0.0</td>\n      <td>...</td>\n      <td>0.0</td>\n      <td>None</td>\n      <td>None</td>\n      <td>0.0</td>\n      <td>None</td>\n      <td>None</td>\n      <td>0.0</td>\n      <td>(120, 1)</td>\n      <td>120</td>\n      <td>1</td>\n    </tr>\n    <tr>\n      <th>6121</th>\n      <td>100-м</td>\n      <td>щIигъу(кIэ)</td>\n      <td>0.702050</td>\n      <td>None</td>\n      <td>0.00</td>\n      <td>100</td>\n      <td>экземпляр</td>\n      <td>0.520385</td>\n      <td>None</td>\n      <td>0.0</td>\n      <td>...</td>\n      <td>0.0</td>\n      <td>None</td>\n      <td>None</td>\n      <td>0.0</td>\n      <td>None</td>\n      <td>None</td>\n      <td>0.0</td>\n      <td>(100, 1)</td>\n      <td>100</td>\n      <td>1</td>\n    </tr>\n  </tbody>\n</table>\n<p>42388 rows × 22 columns</p>\n</div>"
     },
     "execution_count": 119,
     "metadata": {},
     "output_type": "execute_result"
    }
   ],
   "source": [
    "from collections import Counter\n",
    "\n",
    "\n",
    "text_columns = [\n",
    "    'slice_suffix_1',\n",
    "    'slice_suffix_2',\n",
    "    'slice_suffix_3',\n",
    "\n",
    "    'canonical_by_similar_word',\n",
    "    'canonical_by_word_distance',\n",
    "    'canonical_by_similar_stem',\n",
    "    'canonical_by_stem_distance',\n",
    "    'canonical_by_slice_suffix_1',\n",
    "    'canonical_by_slice_suffix_2',\n",
    "    'canonical_by_slice_suffix_3',\n",
    "]\n",
    "\n",
    "def most_common(row):\n",
    "    most_common_value = max(Counter(row).items(), key=lambda x: x[1] if x[0] is not None else 0)\n",
    "    return most_common_value\n",
    "\n",
    "canonicals_df['most_common'] = canonicals_df[text_columns].apply(most_common, axis=1)\n",
    "canonicals_df['most_common_value'] = canonicals_df['most_common'].apply(lambda x: x[0])\n",
    "canonicals_df['most_common_count'] = canonicals_df['most_common'].apply(lambda x: x[1])\n",
    "canonicals_df.sort_values(by=['most_common_value', 'most_common_count'], ascending=False)"
   ],
   "metadata": {
    "collapsed": false,
    "ExecuteTime": {
     "end_time": "2024-01-08T19:46:26.456969Z",
     "start_time": "2024-01-08T19:46:26.182472Z"
    }
   }
  },
  {
   "cell_type": "code",
   "execution_count": null,
   "outputs": [],
   "source": [],
   "metadata": {
    "collapsed": false
   }
  }
 ],
 "metadata": {
  "kernelspec": {
   "display_name": "Python 3",
   "language": "python",
   "name": "python3"
  },
  "language_info": {
   "codemirror_mode": {
    "name": "ipython",
    "version": 2
   },
   "file_extension": ".py",
   "mimetype": "text/x-python",
   "name": "python",
   "nbconvert_exporter": "python",
   "pygments_lexer": "ipython2",
   "version": "2.7.6"
  }
 },
 "nbformat": 4,
 "nbformat_minor": 0
}
