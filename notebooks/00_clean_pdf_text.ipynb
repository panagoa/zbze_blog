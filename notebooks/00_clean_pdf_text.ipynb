{
 "cells": [
  {
   "cell_type": "code",
   "id": "initial_id",
   "metadata": {
    "collapsed": true,
    "ExecuteTime": {
     "end_time": "2024-08-03T11:31:34.675463Z",
     "start_time": "2024-08-03T11:31:34.659357Z"
    }
   },
   "source": [
    "import os\n",
    "from src.logic.text_cleaner import clean_text\n"
   ],
   "outputs": [],
   "execution_count": 1
  },
  {
   "cell_type": "code",
   "source": [
    "from tqdm import tqdm\n",
    "\n",
    "txt_dir = '../data/interim/smikbr_ru_txt'\n",
    "output_dir = '../data/processed/smikbr_ru_txt'\n",
    "os.makedirs(output_dir, exist_ok=True)\n",
    "\n",
    "for file in tqdm(os.listdir(txt_dir)):\n",
    "    if file.endswith(\".txt\"):\n",
    "        with open(f\"{txt_dir}/{file}\", \"r\") as f:\n",
    "            text = f.read()\n",
    "        \n",
    "        text = clean_text(text)\n",
    "        with open(f\"{output_dir}/{file}\", \"w\") as f:\n",
    "            f.write(text)"
   ],
   "metadata": {
    "collapsed": false,
    "ExecuteTime": {
     "end_time": "2024-08-03T11:54:43.397392Z",
     "start_time": "2024-08-03T11:50:52.017579Z"
    }
   },
   "id": "9bd6c345a9b67489",
   "outputs": [
    {
     "name": "stderr",
     "output_type": "stream",
     "text": [
      "100%|██████████| 7003/7003 [03:51<00:00, 30.27it/s]\n"
     ]
    }
   ],
   "execution_count": 4
  },
  {
   "metadata": {
    "ExecuteTime": {
     "end_time": "2024-08-03T12:28:12.047708Z",
     "start_time": "2024-08-03T12:28:11.777807Z"
    }
   },
   "cell_type": "code",
   "source": [
    "groups = [\n",
    "    'goryanka',\n",
    "    'oshamaho',\n",
    "    'mingit',\n",
    "    'litkb',\n",
    "    'kbp',\n",
    "    'zaman',\n",
    "    'adigps',\n",
    "    'sm'\n",
    "]\n",
    "\n",
    "for group in groups:\n",
    "    os.makedirs(os.path.join(output_dir, group), exist_ok=True)\n",
    "\n",
    "for file in tqdm(os.listdir(output_dir)):\n",
    "    if os.path.isdir(file):\n",
    "        continue\n",
    "\n",
    "    for group in groups:\n",
    "        if group in file.replace('smikbr.ru_arhiv', ''):\n",
    "            try:\n",
    "                os.rename(f\"{output_dir}/{file}\", f\"{output_dir}/{group}/{file}\")\n",
    "                break\n",
    "            except:\n",
    "                pass"
   ],
   "id": "37f4e4fb63d4f3f1",
   "outputs": [
    {
     "name": "stderr",
     "output_type": "stream",
     "text": [
      "100%|██████████| 2924/2924 [00:00<00:00, 12295.62it/s]\n"
     ]
    }
   ],
   "execution_count": 9
  },
  {
   "metadata": {},
   "cell_type": "code",
   "outputs": [],
   "execution_count": null,
   "source": "",
   "id": "a95b2309e36155c4"
  }
 ],
 "metadata": {
  "kernelspec": {
   "display_name": "Python 3",
   "language": "python",
   "name": "python3"
  },
  "language_info": {
   "codemirror_mode": {
    "name": "ipython",
    "version": 2
   },
   "file_extension": ".py",
   "mimetype": "text/x-python",
   "name": "python",
   "nbconvert_exporter": "python",
   "pygments_lexer": "ipython2",
   "version": "2.7.6"
  }
 },
 "nbformat": 4,
 "nbformat_minor": 5
}
