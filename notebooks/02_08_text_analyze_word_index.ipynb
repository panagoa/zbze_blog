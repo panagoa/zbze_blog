{
 "cells": [
  {
   "cell_type": "code",
   "execution_count": 1,
   "outputs": [],
   "source": [
    "import os\n",
    "from tokenizers import Tokenizer\n",
    "\n",
    "tokenizer_uni = Tokenizer.from_file('../data/processed/tokenizer/words_unigram_5000.tokenizer.json')\n",
    "with open('../data/processed/word_freqs/freq_1000000_oshhamaho.txt') as f:\n",
    "    words = f.read().split('\\n')\n",
    "\n",
    "\n",
    "word_groups_dir = '../data/processed/word_groups'\n",
    "os.makedirs(word_groups_dir, exist_ok=True)"
   ],
   "metadata": {
    "collapsed": false,
    "ExecuteTime": {
     "end_time": "2024-01-04T01:21:04.851826Z",
     "start_time": "2024-01-04T01:21:04.790213Z"
    }
   }
  },
  {
   "cell_type": "code",
   "execution_count": 2,
   "outputs": [],
   "source": [
    "from collections import defaultdict\n",
    "\n",
    "tokenized_index = defaultdict(set)\n",
    "\n",
    "for word in words:\n",
    "    for token in tokenizer_uni.encode(word).tokens:\n",
    "        tokenized_index[token].add(word)"
   ],
   "metadata": {
    "collapsed": false,
    "ExecuteTime": {
     "end_time": "2024-01-04T01:21:08.470591Z",
     "start_time": "2024-01-04T01:21:04.903180Z"
    }
   }
  },
  {
   "cell_type": "code",
   "execution_count": 3,
   "outputs": [],
   "source": [
    "from fuzzywuzzy import fuzz\n",
    "\n",
    "def search_in_tokenized_index(\n",
    "    word_q, min_ratio=80, token_limit=0, word_limit_by_step=1000, tokenizer=tokenizer_uni\n",
    "):\n",
    "    results = {}\n",
    "    result_words = None\n",
    "    \n",
    "    tokens = zip(\n",
    "        tokenizer.encode(word_q).ids,\n",
    "        tokenizer.encode(word_q).tokens\n",
    "    )\n",
    "    sorted_tokens = sorted(tokens, key=lambda x: x[0])\n",
    "    if token_limit:\n",
    "        sorted_tokens = sorted_tokens[-token_limit:]\n",
    "\n",
    "    for step, (token_id, token) in enumerate(sorted_tokens):\n",
    "        if step == 0:\n",
    "            result_words = tokenized_index[token]\n",
    "        else:\n",
    "            result_words = result_words.intersection(\n",
    "                tokenized_index[token]\n",
    "            )\n",
    "\n",
    "        if len(result_words) < word_limit_by_step:\n",
    "            step_results = {\n",
    "                word: fuzz.ratio(word, word_q)\n",
    "                for word in result_words\n",
    "            }\n",
    "            results.update(\n",
    "                {\n",
    "                    word: ratio\n",
    "                    for word, ratio in step_results.items()\n",
    "                    if ratio >= min_ratio\n",
    "                }\n",
    "            )\n",
    "\n",
    "    return sorted(results.items(), key=lambda x: x[1], reverse=True)"
   ],
   "metadata": {
    "collapsed": false,
    "ExecuteTime": {
     "end_time": "2024-01-04T01:21:08.997367Z",
     "start_time": "2024-01-04T01:21:08.472502Z"
    }
   }
  },
  {
   "cell_type": "code",
   "execution_count": 9,
   "outputs": [
    {
     "data": {
      "text/plain": "[('нэхъыбапIэм', 100),\n ('нэхъыбапэм', 95),\n ('нэхъыбапIэмрэ', 92),\n ('нэхъыбапIэр', 91)]"
     },
     "execution_count": 9,
     "metadata": {},
     "output_type": "execute_result"
    }
   ],
   "source": [
    "search_in_tokenized_index('нэхъыбапIэм', tokenizer=tokenizer_uni, min_ratio=90)"
   ],
   "metadata": {
    "collapsed": false,
    "ExecuteTime": {
     "end_time": "2024-01-04T01:21:17.795507Z",
     "start_time": "2024-01-04T01:21:17.779483Z"
    }
   }
  },
  {
   "cell_type": "code",
   "execution_count": 73,
   "outputs": [],
   "source": [
    "import json\n",
    "import nltk\n",
    "trigram_index = defaultdict(list)\n",
    "\n",
    "for word in words:\n",
    "    for trigram in nltk.ngrams(word, 3):\n",
    "        trigram_index[''.join(trigram)].append(word)\n",
    "\n",
    "with open(f'{word_groups_dir}/trigram_index.json', 'w') as f:\n",
    "    json.dump(trigram_index, f, ensure_ascii=False, indent=4)"
   ],
   "metadata": {
    "collapsed": false,
    "ExecuteTime": {
     "end_time": "2024-01-02T01:59:15.590441Z",
     "start_time": "2024-01-02T01:59:13.063758Z"
    }
   }
  },
  {
   "cell_type": "markdown",
   "source": [
    "Такие индексы получаются гигантского размера. \n",
    "Надо сделать map word_id -> word, а потом уже в индексе хранить word_id.\n",
    "А для еще большей компактности можно хранить в префиксном дереве."
   ],
   "metadata": {
    "collapsed": false
   }
  }
 ],
 "metadata": {
  "kernelspec": {
   "display_name": "Python 3",
   "language": "python",
   "name": "python3"
  },
  "language_info": {
   "codemirror_mode": {
    "name": "ipython",
    "version": 2
   },
   "file_extension": ".py",
   "mimetype": "text/x-python",
   "name": "python",
   "nbconvert_exporter": "python",
   "pygments_lexer": "ipython2",
   "version": "2.7.6"
  }
 },
 "nbformat": 4,
 "nbformat_minor": 0
}
