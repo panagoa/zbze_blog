{
 "cells": [
  {
   "cell_type": "code",
   "execution_count": 1,
   "outputs": [],
   "source": [
    "import os\n",
    "import pandas as pd\n",
    "import csv\n",
    "\n",
    "token_dist_dir = '../data/processed/token_distribution'\n",
    "word_groups_dir = '../data/processed/word_groups'\n",
    "os.makedirs(word_groups_dir, exist_ok=True)\n",
    "\n",
    "stem_df = pd.read_csv(f'{token_dist_dir}/stem_candidates.csv.gz', sep=',', quoting=csv.QUOTE_MINIMAL, header=0, compression='gzip')"
   ],
   "metadata": {
    "collapsed": false,
    "ExecuteTime": {
     "end_time": "2024-01-04T02:03:52.096048Z",
     "start_time": "2024-01-04T02:03:49.702098Z"
    }
   }
  },
  {
   "cell_type": "code",
   "execution_count": 2,
   "outputs": [],
   "source": [
    "import json\n",
    "word_groups_by_template = dict()\n",
    "for group_name, group_df in stem_df.groupby('template'):\n",
    "    if len(group_df) > 2:\n",
    "        word_groups_by_template[group_name] = sorted(set(group_df['word'].to_list()))\n",
    "\n",
    "with open(f'{word_groups_dir}/word_groups_by_template.json', 'w') as f:\n",
    "    json.dump(word_groups_by_template, f, ensure_ascii=False, indent=4) "
   ],
   "metadata": {
    "collapsed": false,
    "ExecuteTime": {
     "end_time": "2024-01-04T02:03:58.298814Z",
     "start_time": "2024-01-04T02:03:53.048214Z"
    }
   }
  },
  {
   "cell_type": "code",
   "execution_count": 3,
   "outputs": [],
   "source": [
    "import re\n",
    "\n",
    "stem_df['short_template'] = stem_df['template'].apply(lambda x: re.sub(r'\\?{1,}', '*', x))"
   ],
   "metadata": {
    "collapsed": false,
    "ExecuteTime": {
     "end_time": "2024-01-04T02:04:02.097244Z",
     "start_time": "2024-01-04T02:04:01.322386Z"
    }
   }
  },
  {
   "cell_type": "code",
   "execution_count": 4,
   "outputs": [],
   "source": [
    "word_groups_by_short_template = dict()\n",
    "for group_name, group_df in stem_df.groupby('short_template'):\n",
    "    if group_name == '*':\n",
    "        continue\n",
    "\n",
    "    if len(group_df) > 10:\n",
    "        word_groups_by_short_template[group_name] = sorted(set(group_df['word'].to_list()))\n",
    "\n",
    "with open(f'{word_groups_dir}/word_groups_by_short_template.json', 'w') as f:\n",
    "    json.dump(word_groups_by_short_template, f, ensure_ascii=False, indent=4)"
   ],
   "metadata": {
    "collapsed": false,
    "ExecuteTime": {
     "end_time": "2024-01-04T02:04:07.323090Z",
     "start_time": "2024-01-04T02:04:02.622423Z"
    }
   }
  },
  {
   "cell_type": "code",
   "execution_count": 5,
   "outputs": [],
   "source": [
    "word_groups_by_stem = dict()\n",
    "\n",
    "for group_name, group_df in stem_df.groupby('stem'):\n",
    "    if len(group_df) > 10:\n",
    "        word_groups_by_stem[group_name] = sorted(set(group_df['word'].to_list()))\n",
    "\n",
    "with open(f'{word_groups_dir}/word_groups_by_stem.json', 'w') as f:\n",
    "    json.dump(word_groups_by_stem, f, ensure_ascii=False, indent=4)"
   ],
   "metadata": {
    "collapsed": false,
    "ExecuteTime": {
     "end_time": "2024-01-04T02:04:08.846003Z",
     "start_time": "2024-01-04T02:04:07.339503Z"
    }
   }
  },
  {
   "cell_type": "code",
   "execution_count": null,
   "outputs": [],
   "source": [],
   "metadata": {
    "collapsed": false
   }
  }
 ],
 "metadata": {
  "kernelspec": {
   "display_name": "Python 3",
   "language": "python",
   "name": "python3"
  },
  "language_info": {
   "codemirror_mode": {
    "name": "ipython",
    "version": 2
   },
   "file_extension": ".py",
   "mimetype": "text/x-python",
   "name": "python",
   "nbconvert_exporter": "python",
   "pygments_lexer": "ipython2",
   "version": "2.7.6"
  }
 },
 "nbformat": 4,
 "nbformat_minor": 0
}
