{
 "cells": [
  {
   "cell_type": "code",
   "execution_count": 1,
   "metadata": {
    "collapsed": false,
    "ExecuteTime": {
     "end_time": "2024-03-23T18:04:29.291622Z",
     "start_time": "2024-03-23T18:01:24.096193Z"
    }
   },
   "outputs": [
    {
     "name": "stderr",
     "output_type": "stream",
     "text": [
      "100%|██████████| 2945/2945 [00:09<00:00, 320.60it/s]\n",
      "100%|██████████| 2945/2945 [00:15<00:00, 186.34it/s]\n",
      "100%|██████████| 2945/2945 [00:18<00:00, 161.71it/s]\n",
      "100%|██████████| 2945/2945 [00:18<00:00, 156.02it/s]\n",
      "100%|██████████| 2945/2945 [00:20<00:00, 145.74it/s]\n",
      "100%|██████████| 2945/2945 [00:20<00:00, 145.35it/s]\n",
      "100%|██████████| 2945/2945 [00:18<00:00, 160.54it/s]\n",
      "100%|██████████| 2945/2945 [00:15<00:00, 196.09it/s]\n",
      "100%|██████████| 2945/2945 [00:12<00:00, 232.16it/s]\n"
     ]
    }
   ],
   "source": [
    "import json\n",
    "import os\n",
    "from collections import defaultdict\n",
    "\n",
    "import nltk\n",
    "import pandas as pd\n",
    "from tqdm import tqdm\n",
    "\n",
    "bigram_df = pd.read_csv('../data/processed/word_bigrams/oshhamaho.csv')\n",
    "\n",
    "with open('../data/processed/oshhamaho.txt', 'r') as f:\n",
    "    text = f.read()\n",
    "\n",
    "output_path = '../data/processed/bigrams_sent/'\n",
    "os.makedirs(output_path, exist_ok=True)\n",
    "\n",
    "for i in range(1, 10):\n",
    "    len_min = 10 * i\n",
    "    len_max = 10 * i + 10\n",
    "\n",
    "    short_sents = set([sent.replace('\\n', ' ') for sent in nltk.sent_tokenize(text) if len_min < len(sent) < len_max])\n",
    "\n",
    "    bigrams_sent = defaultdict(list)\n",
    "    for bigram in tqdm(bigram_df['w_bigram']):\n",
    "        for sent in short_sents:\n",
    "            if bigram in sent:\n",
    "                bigrams_sent[bigram].append(sent)\n",
    "            if len(bigrams_sent[bigram]) > 10:\n",
    "                break\n",
    "\n",
    "    with open(f'../data/processed/bigrams_sent/{len_min}_{len_max}.json', 'w') as f:\n",
    "        json.dump(bigrams_sent, f, ensure_ascii=False, indent=4)"
   ]
  },
  {
   "cell_type": "code",
   "outputs": [],
   "source": [
    "import random\n",
    "\n",
    "sent_pairs = []\n",
    "for bg_sent_file in os.listdir('../data/processed/bigrams_sent/'):\n",
    "    with open(f'../data/processed/bigrams_sent/{bg_sent_file}', 'r') as f:\n",
    "        bigrams_sent = json.load(f)\n",
    "    \n",
    "    anti_pairs = []\n",
    "    for bigram, sents in bigrams_sent.items():\n",
    "        if len(sents) < 2:\n",
    "            continue\n",
    "\n",
    "        sent_product = [(bigram, s1, s2) for s1 in sents for s2 in sents if s1 != s2]\n",
    "        sent_pairs.extend(sent_product)\n",
    "        \n",
    "        if len(sent_pairs) < 1000:\n",
    "            continue\n",
    "\n",
    "        for sent in sents:\n",
    "            for _ in range(5):\n",
    "                anti_pairs.append(('random', sent, random.choice(sent_pairs)[2]))\n",
    "\n",
    "    sent_pairs.extend(anti_pairs)"
   ],
   "metadata": {
    "collapsed": false,
    "ExecuteTime": {
     "end_time": "2024-03-23T18:04:29.559452Z",
     "start_time": "2024-03-23T18:04:29.285825Z"
    }
   },
   "execution_count": 2
  },
  {
   "cell_type": "code",
   "outputs": [],
   "source": [
    "sent_pairs_df = pd.DataFrame(sent_pairs, columns=['bigram', 'sent1', 'sent2'])\n",
    "sent_pairs_df.sort_values('bigram', inplace=True)\n",
    "sent_pairs_df['sent1'] = sent_pairs_df['sent1'].str.replace('\\n', ' ')\n",
    "sent_pairs_df['sent2'] = sent_pairs_df['sent2'].str.replace('\\n', ' ')"
   ],
   "metadata": {
    "collapsed": false,
    "ExecuteTime": {
     "end_time": "2024-03-23T18:04:30.035455Z",
     "start_time": "2024-03-23T18:04:29.601094Z"
    }
   },
   "execution_count": 3
  },
  {
   "cell_type": "code",
   "outputs": [
    {
     "name": "stderr",
     "output_type": "stream",
     "text": [
      "Warning : `load_model` does not return WordVectorModel or SupervisedModel any more, but a `FastText` object which is very similar.\n"
     ]
    }
   ],
   "source": [
    "import fasttext\n",
    "from scipy import spatial\n",
    "\n",
    "kbd_model = fasttext.load_model('../data/processed/embeddings/fasttext_skipgram_kbd_100.bin')\n",
    "\n",
    "\n",
    "def get_sent_distance(sent_1, sent_2):\n",
    "    vec_1 = kbd_model.get_sentence_vector(sent_1)\n",
    "    vec_2 = kbd_model.get_sentence_vector(sent_2)\n",
    "\n",
    "    # cosine similarity by sklearn\n",
    "    return 1 - spatial.distance.cosine(vec_1, vec_2)"
   ],
   "metadata": {
    "collapsed": false,
    "ExecuteTime": {
     "end_time": "2024-03-23T18:04:33.114344Z",
     "start_time": "2024-03-23T18:04:30.036566Z"
    }
   },
   "execution_count": 4
  },
  {
   "cell_type": "code",
   "outputs": [],
   "source": [
    "sent_pairs_df['vec_similarity'] = sent_pairs_df.apply(lambda row: get_sent_distance(row['sent1'], row['sent2']), axis=1)"
   ],
   "metadata": {
    "collapsed": false,
    "ExecuteTime": {
     "end_time": "2024-03-23T18:05:14.234232Z",
     "start_time": "2024-03-23T18:04:33.117028Z"
    }
   },
   "execution_count": 5
  },
  {
   "cell_type": "code",
   "outputs": [],
   "source": [
    "mean_bigram_len = sent_pairs_df[sent_pairs_df['bigram'] != 'random']['bigram'].apply(lambda x: len(x)).mean()\n",
    "sent_pairs_df['bigram_len'] = sent_pairs_df['bigram'].apply(lambda x: float(mean_bigram_len) * 0.8 if x == 'random' else len(x))\n",
    "\n",
    "sent_pairs_df['sent1_len'] = sent_pairs_df['sent1'].apply(lambda x: len(x))\n",
    "sent_pairs_df['sent2_len'] = sent_pairs_df['sent2'].apply(lambda x: len(x))\n",
    "\n",
    "# calculate the score for each pair based on the length of the bigram and sentence length (from 0 to 1)\n",
    "sent_pairs_df['correction_score'] = sent_pairs_df.apply(\n",
    "    lambda row: 1 - (abs(row['bigram_len'] - mean_bigram_len) / mean_bigram_len + abs(row['sent1_len'] - row['sent2_len']) / (row['sent1_len'] + row['sent2_len'])), axis=1)\n",
    "\n",
    "sent_pairs_df['final_score'] = sent_pairs_df['vec_similarity'] * sent_pairs_df['correction_score']"
   ],
   "metadata": {
    "collapsed": false,
    "ExecuteTime": {
     "end_time": "2024-03-23T18:05:23.591673Z",
     "start_time": "2024-03-23T18:05:14.233300Z"
    }
   },
   "execution_count": 6
  },
  {
   "cell_type": "code",
   "outputs": [],
   "source": [
    "# drop random bigram pairs if vec_similarity is too high\n",
    "sent_pairs_df = sent_pairs_df[~((sent_pairs_df['bigram'] == 'random') & (sent_pairs_df['vec_similarity'] > 0.8))]\n",
    "sent_pairs_df.drop_duplicates(subset=['bigram', 'sent1', 'sent2'], inplace=True)"
   ],
   "metadata": {
    "collapsed": false,
    "ExecuteTime": {
     "end_time": "2024-03-23T18:05:24.039380Z",
     "start_time": "2024-03-23T18:05:23.614422Z"
    }
   },
   "execution_count": 7
  },
  {
   "cell_type": "code",
   "outputs": [
    {
     "data": {
      "text/plain": "        bigram                                              sent1  \\\n316882  random  НэгъуэщI къэралхэм щыпсэу адыгэхэм папщIэ респ...   \n316881  random  НэгъуэщI къэралхэм щыпсэу адыгэхэм папщIэ респ...   \n316880  random  Я адэжь лъахэм щыпсэу адыгэхэм ятеухуа пэжри д...   \n316879  random  Я адэжь лъахэм щыпсэу адыгэхэм ятеухуа пэжри д...   \n316878  random  Я адэжь лъахэм щыпсэу адыгэхэм ятеухуа пэжри д...   \n...        ...                                                ...   \n167488  random  КIэщIу жыпIэмэ, абы теухуауэ мифологием зэхидж...   \n167489  random  КъБАССР-м и къэрал архивым абы теухуауэ щIэлъы...   \n71531   random  – Иджыри къэс бэлыхьу стелъар пщIэншэ щыхъуакI...   \n62457   random  Зы сыхьэт дэкIатэкъым, Джабий-ефэнды Хьэрамэ к...   \n71532   random  – Иджыри къэс бэлыхьу стелъар пщIэншэ щыхъуакI...   \n\n                                                    sent2  vec_similarity  \\\n316882  ЩоджэнцIыкIу Алий и тхыгъэхэм кIуэцIрыкIыу къы...        0.700045   \n316881  ИужькIэ десэжащ: къуажэм дэс псори зэроцIыху, ...        0.665268   \n316880  1946 гъэм алыдж-урым бэнэкIэмкIэ Европэм и чем...        0.563241   \n316879  Бгырыс хабзэм ипкъ иткIэ, псалъэмакъыр къыхэзы...        0.634261   \n316878  Нэхъ IэнатIэ лъагэ ягъэкIуэнуми блэкIа щыIэтэк...        0.630854   \n...                                                   ...             ...   \n167488  1965-1970 гъэхэм ЩоджэнцIыкIу Iэдэм «Iуащхьэма...        0.515844   \n167489  Къызэрысхуэмейри къызэсэн мурад зэримыIэри япэ...        0.646413   \n71531   Къэбэрдей литературэм нобэ бжьыпэр щызыIыгъыр ...        0.597313   \n62457   Рамзес шордакъым къытехьэрти, еш имыщIэу, маху...        0.738766   \n71532   Уигу къимынэжынкIэ Iэмал иIэкъым абы «Травиата...        0.598010   \n\n        bigram_len  sent1_len  sent2_len  correction_score  final_score  \n316882    9.056288         99         96          0.784615     0.549266  \n316881    9.056288         99         89          0.746809     0.496828  \n316880    9.056288         98         88          0.746237     0.420311  \n316879    9.056288         98         62          0.575000     0.364700  \n316878    9.056288         98         84          0.723077     0.456156  \n...            ...        ...        ...               ...          ...  \n167488    9.056288         69         88          0.678981     0.350248  \n167489    9.056288         62         81          0.667133     0.431243  \n71531     9.056288         86         89          0.782857     0.467610  \n62457     9.056288         89         88          0.794350     0.586839  \n71532     9.056288         86         88          0.788506     0.471535  \n\n[248206 rows x 9 columns]",
      "text/html": "<div>\n<style scoped>\n    .dataframe tbody tr th:only-of-type {\n        vertical-align: middle;\n    }\n\n    .dataframe tbody tr th {\n        vertical-align: top;\n    }\n\n    .dataframe thead th {\n        text-align: right;\n    }\n</style>\n<table border=\"1\" class=\"dataframe\">\n  <thead>\n    <tr style=\"text-align: right;\">\n      <th></th>\n      <th>bigram</th>\n      <th>sent1</th>\n      <th>sent2</th>\n      <th>vec_similarity</th>\n      <th>bigram_len</th>\n      <th>sent1_len</th>\n      <th>sent2_len</th>\n      <th>correction_score</th>\n      <th>final_score</th>\n    </tr>\n  </thead>\n  <tbody>\n    <tr>\n      <th>316882</th>\n      <td>random</td>\n      <td>НэгъуэщI къэралхэм щыпсэу адыгэхэм папщIэ респ...</td>\n      <td>ЩоджэнцIыкIу Алий и тхыгъэхэм кIуэцIрыкIыу къы...</td>\n      <td>0.700045</td>\n      <td>9.056288</td>\n      <td>99</td>\n      <td>96</td>\n      <td>0.784615</td>\n      <td>0.549266</td>\n    </tr>\n    <tr>\n      <th>316881</th>\n      <td>random</td>\n      <td>НэгъуэщI къэралхэм щыпсэу адыгэхэм папщIэ респ...</td>\n      <td>ИужькIэ десэжащ: къуажэм дэс псори зэроцIыху, ...</td>\n      <td>0.665268</td>\n      <td>9.056288</td>\n      <td>99</td>\n      <td>89</td>\n      <td>0.746809</td>\n      <td>0.496828</td>\n    </tr>\n    <tr>\n      <th>316880</th>\n      <td>random</td>\n      <td>Я адэжь лъахэм щыпсэу адыгэхэм ятеухуа пэжри д...</td>\n      <td>1946 гъэм алыдж-урым бэнэкIэмкIэ Европэм и чем...</td>\n      <td>0.563241</td>\n      <td>9.056288</td>\n      <td>98</td>\n      <td>88</td>\n      <td>0.746237</td>\n      <td>0.420311</td>\n    </tr>\n    <tr>\n      <th>316879</th>\n      <td>random</td>\n      <td>Я адэжь лъахэм щыпсэу адыгэхэм ятеухуа пэжри д...</td>\n      <td>Бгырыс хабзэм ипкъ иткIэ, псалъэмакъыр къыхэзы...</td>\n      <td>0.634261</td>\n      <td>9.056288</td>\n      <td>98</td>\n      <td>62</td>\n      <td>0.575000</td>\n      <td>0.364700</td>\n    </tr>\n    <tr>\n      <th>316878</th>\n      <td>random</td>\n      <td>Я адэжь лъахэм щыпсэу адыгэхэм ятеухуа пэжри д...</td>\n      <td>Нэхъ IэнатIэ лъагэ ягъэкIуэнуми блэкIа щыIэтэк...</td>\n      <td>0.630854</td>\n      <td>9.056288</td>\n      <td>98</td>\n      <td>84</td>\n      <td>0.723077</td>\n      <td>0.456156</td>\n    </tr>\n    <tr>\n      <th>...</th>\n      <td>...</td>\n      <td>...</td>\n      <td>...</td>\n      <td>...</td>\n      <td>...</td>\n      <td>...</td>\n      <td>...</td>\n      <td>...</td>\n      <td>...</td>\n    </tr>\n    <tr>\n      <th>167488</th>\n      <td>random</td>\n      <td>КIэщIу жыпIэмэ, абы теухуауэ мифологием зэхидж...</td>\n      <td>1965-1970 гъэхэм ЩоджэнцIыкIу Iэдэм «Iуащхьэма...</td>\n      <td>0.515844</td>\n      <td>9.056288</td>\n      <td>69</td>\n      <td>88</td>\n      <td>0.678981</td>\n      <td>0.350248</td>\n    </tr>\n    <tr>\n      <th>167489</th>\n      <td>random</td>\n      <td>КъБАССР-м и къэрал архивым абы теухуауэ щIэлъы...</td>\n      <td>Къызэрысхуэмейри къызэсэн мурад зэримыIэри япэ...</td>\n      <td>0.646413</td>\n      <td>9.056288</td>\n      <td>62</td>\n      <td>81</td>\n      <td>0.667133</td>\n      <td>0.431243</td>\n    </tr>\n    <tr>\n      <th>71531</th>\n      <td>random</td>\n      <td>– Иджыри къэс бэлыхьу стелъар пщIэншэ щыхъуакI...</td>\n      <td>Къэбэрдей литературэм нобэ бжьыпэр щызыIыгъыр ...</td>\n      <td>0.597313</td>\n      <td>9.056288</td>\n      <td>86</td>\n      <td>89</td>\n      <td>0.782857</td>\n      <td>0.467610</td>\n    </tr>\n    <tr>\n      <th>62457</th>\n      <td>random</td>\n      <td>Зы сыхьэт дэкIатэкъым, Джабий-ефэнды Хьэрамэ к...</td>\n      <td>Рамзес шордакъым къытехьэрти, еш имыщIэу, маху...</td>\n      <td>0.738766</td>\n      <td>9.056288</td>\n      <td>89</td>\n      <td>88</td>\n      <td>0.794350</td>\n      <td>0.586839</td>\n    </tr>\n    <tr>\n      <th>71532</th>\n      <td>random</td>\n      <td>– Иджыри къэс бэлыхьу стелъар пщIэншэ щыхъуакI...</td>\n      <td>Уигу къимынэжынкIэ Iэмал иIэкъым абы «Травиата...</td>\n      <td>0.598010</td>\n      <td>9.056288</td>\n      <td>86</td>\n      <td>88</td>\n      <td>0.788506</td>\n      <td>0.471535</td>\n    </tr>\n  </tbody>\n</table>\n<p>248206 rows × 9 columns</p>\n</div>"
     },
     "execution_count": 8,
     "metadata": {},
     "output_type": "execute_result"
    }
   ],
   "source": [
    "sent_pairs_df_anti = sent_pairs_df[sent_pairs_df['bigram'] == 'random']\n",
    "sent_pairs_df_anti"
   ],
   "metadata": {
    "collapsed": false,
    "ExecuteTime": {
     "end_time": "2024-03-23T18:05:24.087273Z",
     "start_time": "2024-03-23T18:05:24.036699Z"
    }
   },
   "execution_count": 8
  },
  {
   "cell_type": "code",
   "outputs": [],
   "source": [
    "sent_pairs_df.to_csv('../data/processed/sent_pairs.csv', index=False)"
   ],
   "metadata": {
    "collapsed": false,
    "ExecuteTime": {
     "end_time": "2024-03-23T18:05:28.516340Z",
     "start_time": "2024-03-23T18:05:24.087967Z"
    }
   },
   "execution_count": 9
  },
  {
   "cell_type": "code",
   "outputs": [],
   "source": [],
   "metadata": {
    "collapsed": false
   }
  }
 ],
 "metadata": {
  "kernelspec": {
   "display_name": "Python 3",
   "language": "python",
   "name": "python3"
  },
  "language_info": {
   "codemirror_mode": {
    "name": "ipython",
    "version": 2
   },
   "file_extension": ".py",
   "mimetype": "text/x-python",
   "name": "python",
   "nbconvert_exporter": "python",
   "pygments_lexer": "ipython2",
   "version": "2.7.6"
  }
 },
 "nbformat": 4,
 "nbformat_minor": 0
}
