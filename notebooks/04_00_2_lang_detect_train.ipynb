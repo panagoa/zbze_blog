{
 "cells": [
  {
   "cell_type": "code",
   "outputs": [],
   "source": [
    "import os\n",
    "\n",
    "train_path = '../data/processed/lang_detect/'\n"
   ],
   "metadata": {
    "collapsed": false,
    "ExecuteTime": {
     "end_time": "2024-02-10T18:32:57.725581Z",
     "start_time": "2024-02-10T18:32:57.718273Z"
    }
   },
   "execution_count": 93
  },
  {
   "cell_type": "code",
   "outputs": [],
   "source": [
    "with open(os.path.join(train_path, 'collect.words.rus.txt'), 'r') as f:\n",
    "    rus_words = f.read().split('\\n')\n",
    "\n",
    "with open(os.path.join(train_path, 'collect.words.kbd.txt'), 'r') as f:\n",
    "    kbd_words = f.read().split('\\n')\n",
    "\n",
    "with open(os.path.join(train_path, 'collect.words.ady.txt'), 'r') as f:\n",
    "    ady_words = f.read().split('\\n')\n",
    "\n",
    "\n",
    "with open(os.path.join(train_path, 'collect.sentences.rus.txt'), 'r') as f:\n",
    "    rus_sentences = f.read().split('\\n')\n",
    "\n",
    "with open(os.path.join(train_path, 'collect.sentences.kbd.txt'), 'r') as f:\n",
    "    kbd_sentences = f.read().split('\\n')\n",
    "\n",
    "with open(os.path.join(train_path, 'collect.sentences.ady.txt'), 'r') as f:\n",
    "    ady_sentences = f.read().split('\\n')\n",
    "\n",
    "rus_sentences = [sent for sent in rus_sentences if 20 <= len(sent) <= 100]\n",
    "ady_sentences = [sent for sent in ady_sentences if 20 <= len(sent) <= 100]\n",
    "kbd_sentences = [sent for sent in kbd_sentences if 20 <= len(sent) <= 100]\n"
   ],
   "metadata": {
    "collapsed": false,
    "ExecuteTime": {
     "end_time": "2024-02-10T18:32:59.561388Z",
     "start_time": "2024-02-10T18:32:58.367113Z"
    }
   },
   "execution_count": 94
  },
  {
   "cell_type": "code",
   "outputs": [],
   "source": [
    "import random\n",
    "\n",
    "for seq in [\n",
    "    rus_sentences,\n",
    "    rus_words,\n",
    "    kbd_sentences,\n",
    "    kbd_words,\n",
    "    ady_sentences,\n",
    "    ady_words\n",
    "]:\n",
    "    random.shuffle(rus_sentences)"
   ],
   "metadata": {
    "collapsed": false,
    "ExecuteTime": {
     "end_time": "2024-02-10T18:33:00.684354Z",
     "start_time": "2024-02-10T18:33:00.116407Z"
    }
   },
   "execution_count": 95
  },
  {
   "cell_type": "code",
   "outputs": [],
   "source": [
    "sent_n = 50000\n",
    "\n",
    "rus_words_with_label = [f'__label__rus {word}' for word in rus_words]\n",
    "kbd_words_with_label = [f'__label__kbd {word}' for word in kbd_words]\n",
    "ady_words_with_label = [f'__label__ady {word}' for word in ady_words]\n",
    "\n",
    "rus_sentences_with_label = [f'__label__rus {sent}' for sent in rus_sentences[:int(sent_n * 3.0)]]\n",
    "kbd_sentences_with_label = [f'__label__kbd {sent}' for sent in kbd_sentences[:int(sent_n * 2.5)]]\n",
    "ady_sentences_with_label = [f'__label__ady {sent}' for sent in ady_sentences[:int(sent_n * 2.0)]]\n",
    "\n",
    "sentence_with_label = (\n",
    "        rus_sentences_with_label + rus_words_with_label +\n",
    "        kbd_sentences_with_label + kbd_words_with_label +\n",
    "        ady_sentences_with_label + ady_words_with_label\n",
    ")\n",
    "random.shuffle(sentence_with_label)\n",
    "\n",
    "train_sent = sentence_with_label[:int(len(sentence_with_label) * 0.8)]\n",
    "test_sent = sentence_with_label[int(len(sentence_with_label) * 0.8):]\n",
    "\n",
    "train_file_path = os.path.join(train_path, 'data.train.txt')\n",
    "test_file_path = os.path.join(train_path, 'data.test.txt')\n",
    "\n",
    "with open(train_file_path, 'w') as f:\n",
    "    f.write('\\n'.join(train_sent))\n",
    "\n",
    "with open(test_file_path, 'w') as f:\n",
    "    f.write('\\n'.join(test_sent))"
   ],
   "metadata": {
    "collapsed": false,
    "pycharm": {
     "name": "#%%\n"
    },
    "ExecuteTime": {
     "end_time": "2024-02-10T18:33:02.031612Z",
     "start_time": "2024-02-10T18:33:01.303956Z"
    }
   },
   "execution_count": 96
  },
  {
   "cell_type": "code",
   "outputs": [
    {
     "name": "stderr",
     "output_type": "stream",
     "text": [
      "Read 2M words\n",
      "Number of words:  471189\n",
      "Number of labels: 3\n",
      "Progress: 100.0% words/sec/thread: 1551353 lr:  0.000000 avg.loss:  0.001156 ETA:   0h 0m 0s\n"
     ]
    }
   ],
   "source": [
    "import fasttext\n",
    "\n",
    "model = fasttext.train_supervised(input=train_file_path, epoch=100)"
   ],
   "metadata": {
    "collapsed": false,
    "pycharm": {
     "name": "#%%\n"
    },
    "ExecuteTime": {
     "end_time": "2024-02-10T18:37:09.957297Z",
     "start_time": "2024-02-10T18:33:03.079834Z"
    }
   },
   "execution_count": 97
  },
  {
   "cell_type": "code",
   "outputs": [
    {
     "data": {
      "text/plain": "{'__label__ady': {'precision': 0.9713499979477076,\n  'recall': nan,\n  'f1score': 1.9426999958954152},\n '__label__kbd': {'precision': 0.9799635701275046,\n  'recall': nan,\n  'f1score': 1.9599271402550091},\n '__label__rus': {'precision': 0.8597429693916054,\n  'recall': nan,\n  'f1score': 1.7194859387832109}}"
     },
     "execution_count": 98,
     "metadata": {},
     "output_type": "execute_result"
    }
   ],
   "source": [
    "score = model.test_label(test_file_path)\n",
    "score"
   ],
   "metadata": {
    "collapsed": false,
    "pycharm": {
     "name": "#%%\n"
    },
    "ExecuteTime": {
     "end_time": "2024-02-10T18:38:25.039659Z",
     "start_time": "2024-02-10T18:38:24.922703Z"
    }
   },
   "execution_count": 98
  },
  {
   "cell_type": "code",
   "outputs": [],
   "source": [
    "rus_precision = score['__label__rus']['precision']\n",
    "kbd_precision = score['__label__kbd']['precision']\n",
    "ady_precision = score['__label__ady']['precision']"
   ],
   "metadata": {
    "collapsed": false,
    "ExecuteTime": {
     "end_time": "2024-02-10T18:38:56.407838Z",
     "start_time": "2024-02-10T18:38:56.396047Z"
    }
   },
   "execution_count": 99
  },
  {
   "cell_type": "code",
   "outputs": [],
   "source": [
    "model.save_model(f'../data/processed/lang_detect/models/rus_{rus_precision:.2f}__kbd_{kbd_precision:.2f}__ady_{ady_precision:.2f}.model')"
   ],
   "metadata": {
    "collapsed": false,
    "ExecuteTime": {
     "end_time": "2024-02-10T18:38:59.494447Z",
     "start_time": "2024-02-10T18:38:59.490593Z"
    }
   },
   "execution_count": 100
  },
  {
   "cell_type": "code",
   "outputs": [],
   "source": [
    "model.quantize()"
   ],
   "metadata": {
    "collapsed": false,
    "ExecuteTime": {
     "end_time": "2024-02-10T18:41:39.208987Z",
     "start_time": "2024-02-10T18:41:39.203061Z"
    }
   },
   "execution_count": 101
  },
  {
   "cell_type": "code",
   "outputs": [],
   "source": [
    "model.save_model(f'../data/processed/lang_detect/models/rus_{rus_precision:.2f}__kbd_{kbd_precision:.2f}__ady_{ady_precision:.2f}.quant.model')"
   ],
   "metadata": {
    "collapsed": false,
    "ExecuteTime": {
     "end_time": "2024-02-10T18:42:16.538059Z",
     "start_time": "2024-02-10T18:42:16.534232Z"
    }
   },
   "execution_count": 102
  },
  {
   "cell_type": "code",
   "outputs": [],
   "source": [],
   "metadata": {
    "collapsed": false
   }
  }
 ],
 "metadata": {
  "kernelspec": {
   "display_name": "Python 3",
   "language": "python",
   "name": "python3"
  },
  "language_info": {
   "codemirror_mode": {
    "name": "ipython",
    "version": 2
   },
   "file_extension": ".py",
   "mimetype": "text/x-python",
   "name": "python",
   "nbconvert_exporter": "python",
   "pygments_lexer": "ipython2",
   "version": "2.7.6"
  }
 },
 "nbformat": 4,
 "nbformat_minor": 0
}
