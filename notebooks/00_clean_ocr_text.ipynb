{
 "cells": [
  {
   "cell_type": "code",
   "execution_count": 1,
   "id": "initial_id",
   "metadata": {
    "collapsed": true,
    "ExecuteTime": {
     "end_time": "2024-02-08T21:50:11.371184Z",
     "start_time": "2024-02-08T21:50:11.356636Z"
    }
   },
   "outputs": [],
   "source": [
    "import os\n",
    "\n",
    "from src.logic.text_cleaner import clean_text"
   ]
  },
  {
   "cell_type": "code",
   "execution_count": 2,
   "outputs": [],
   "source": [
    "external_dir = '../data/external/book'\n",
    "interim_dir = '../data/interim/book'\n",
    "os.makedirs(interim_dir, exist_ok=True)\n",
    "\n",
    "processed_dir = '../data/processed/book'\n",
    "os.makedirs(processed_dir, exist_ok=True)\n",
    "\n",
    "for file_name in os.listdir(external_dir):\n",
    "    with open(os.path.join(external_dir, file_name), 'r') as f:\n",
    "        text = f.read()\n",
    "    \n",
    "    text = clean_text(text)\n",
    "    \n",
    "    with open(os.path.join(processed_dir, file_name), 'w') as f:\n",
    "        f.write(text)"
   ],
   "metadata": {
    "collapsed": false,
    "ExecuteTime": {
     "end_time": "2024-02-08T21:50:32.342659Z",
     "start_time": "2024-02-08T21:50:12.224413Z"
    }
   },
   "id": "9bd6c345a9b67489"
  },
  {
   "cell_type": "code",
   "outputs": [],
   "source": [],
   "metadata": {
    "collapsed": false
   },
   "id": "2e35bfc15fd041d"
  }
 ],
 "metadata": {
  "kernelspec": {
   "display_name": "Python 3",
   "language": "python",
   "name": "python3"
  },
  "language_info": {
   "codemirror_mode": {
    "name": "ipython",
    "version": 2
   },
   "file_extension": ".py",
   "mimetype": "text/x-python",
   "name": "python",
   "nbconvert_exporter": "python",
   "pygments_lexer": "ipython2",
   "version": "2.7.6"
  }
 },
 "nbformat": 4,
 "nbformat_minor": 5
}
