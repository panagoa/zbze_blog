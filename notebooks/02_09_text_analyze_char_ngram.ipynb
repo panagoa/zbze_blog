{
 "cells": [
  {
   "cell_type": "code",
   "execution_count": 1,
   "outputs": [],
   "source": [
    "from tokenizers import Tokenizer\n",
    "\n",
    "tokenizer_uni = Tokenizer.from_file('../data/processed/tokenizer/words_unigram_5000.tokenizer.json')\n",
    "with open('../data/processed/word_freqs/freq_1000000_oshhamaho.txt') as f:\n",
    "    words = f.read().split('\\n')\n"
   ],
   "metadata": {
    "collapsed": false,
    "ExecuteTime": {
     "end_time": "2024-01-04T10:05:58.526452Z",
     "start_time": "2024-01-04T10:05:58.465408Z"
    }
   }
  },
  {
   "cell_type": "code",
   "execution_count": 63,
   "outputs": [],
   "source": [
    "import nltk\n",
    "\n",
    "trigram_fd = nltk.FreqDist()\n",
    "\n",
    "for word in words:\n",
    "    trigram_fd.update([''.join(trigram) for trigram in nltk.ngrams(word, 2)])"
   ],
   "metadata": {
    "collapsed": false,
    "ExecuteTime": {
     "end_time": "2024-01-04T11:06:46.380340Z",
     "start_time": "2024-01-04T11:06:44.472166Z"
    }
   }
  },
  {
   "cell_type": "code",
   "execution_count": 64,
   "outputs": [],
   "source": [
    "sorted_trigram = sorted(trigram_fd.items(), key=lambda x: x[1])"
   ],
   "metadata": {
    "collapsed": false,
    "ExecuteTime": {
     "end_time": "2024-01-04T11:06:46.884958Z",
     "start_time": "2024-01-04T11:06:46.879438Z"
    }
   }
  },
  {
   "cell_type": "code",
   "execution_count": 73,
   "outputs": [
    {
     "name": "stdout",
     "output_type": "stream",
     "text": [
      "2291\n"
     ]
    }
   ],
   "source": [
    "filtered = sorted([[tgrm, freq] for tgrm, freq in sorted_trigram if 0 <= freq <= 100])\n",
    "print(len(filtered))"
   ],
   "metadata": {
    "collapsed": false,
    "ExecuteTime": {
     "end_time": "2024-01-04T11:08:40.028506Z",
     "start_time": "2024-01-04T11:08:40.022916Z"
    }
   }
  },
  {
   "cell_type": "code",
   "execution_count": 74,
   "outputs": [
    {
     "name": "stdout",
     "output_type": "stream",
     "text": [
      "count    2291.000000\n",
      "mean       14.515932\n",
      "std        21.309163\n",
      "min         1.000000\n",
      "25%         2.000000\n",
      "50%         4.000000\n",
      "75%        17.000000\n",
      "max       100.000000\n",
      "Name: 1, dtype: float64\n"
     ]
    },
    {
     "data": {
      "text/plain": "<Figure size 1000x600 with 1 Axes>",
      "image/png": "[encoded data removed]"
     },
     "metadata": {},
     "output_type": "display_data"
    }
   ],
   "source": [
    "import matplotlib.pyplot as plt\n",
    "import pandas as pd\n",
    "import seaborn as sns\n",
    "\n",
    "df = pd.DataFrame(filtered)\n",
    "\n",
    "print(df[1].describe())\n",
    "\n",
    "plt.figure(figsize=(10, 6))\n",
    "sns.histplot(df, x=1, bins=100)\n",
    "plt.show()"
   ],
   "metadata": {
    "collapsed": false,
    "ExecuteTime": {
     "end_time": "2024-01-04T11:08:41.493263Z",
     "start_time": "2024-01-04T11:08:41.346255Z"
    }
   }
  },
  {
   "cell_type": "code",
   "execution_count": 76,
   "outputs": [
    {
     "data": {
      "text/plain": "[['--', 1],\n ['-0', 10],\n ['-2', 81],\n ['-3', 35],\n ['-4', 19],\n ['-5', 22],\n ['-6', 18],\n ['-7', 19],\n ['-8', 18],\n ['-9', 17],\n ['-i', 3],\n ['-В', 12],\n ['-Г', 25],\n ['-Е', 5],\n ['-Ж', 14],\n ['-З', 24],\n ['-И', 41],\n ['-Й', 4],\n ['-К', 91],\n ['-Л', 10],\n ['-М', 82],\n ['-Н', 26],\n ['-О', 10],\n ['-П', 28],\n ['-Р', 17],\n ['-С', 45],\n ['-Т', 23],\n ['-У', 12],\n ['-Ф', 5],\n ['-Х', 62],\n ['-Ц', 2],\n ['-Ч', 19],\n ['-Ш', 23],\n ['-Щ', 11],\n ['-Э', 9],\n ['-Ю', 4],\n ['-Я', 3],\n ['-в', 23],\n ['-й', 23],\n ['-о', 61],\n ['-ц', 57],\n ['-ч', 79],\n ['-ы', 62],\n ['-э', 98],\n ['-я', 57],\n ['.-', 9],\n ['..', 1],\n ['.3', 3],\n ['.4', 4],\n ['.5', 9],\n ['.6', 9],\n ['.7', 6],\n ['.8', 13],\n ['.9', 6],\n ['.I', 22],\n ['.А', 100],\n ['.Б', 9],\n ['.В', 3],\n ['.Г', 9],\n ['.Д', 14],\n ['.Е', 4],\n ['.Ж', 4],\n ['.З', 20],\n ['.И', 30],\n ['.К', 21],\n ['.Л', 7],\n ['.М', 30],\n ['.Н', 16],\n ['.П', 16],\n ['.С', 28],\n ['.Т', 9],\n ['.У', 26],\n ['.Ф', 9],\n ['.Х', 18],\n ['.Ц', 1],\n ['.Ч', 1],\n ['.Ш', 2],\n ['.Щ', 7],\n ['.Я', 4],\n ['.а', 4],\n ['.г', 4],\n ['.ж', 2],\n ['.з', 1],\n ['.и', 4],\n ['.к', 5],\n ['.н', 1],\n ['.п', 4],\n ['.р', 1],\n ['.с', 5],\n ['.т', 2],\n ['.у', 1],\n ['.ф', 1],\n ['.х', 1],\n ['.–', 16],\n ['.…', 3],\n ['0.', 77],\n ['03', 38],\n ['04', 48],\n ['05', 47],\n ['06', 48],\n ['07', 53],\n ['08', 71],\n ['09', 52],\n ['0:', 3],\n ['0×', 2],\n ['0Б', 1],\n ['0В', 1],\n ['0М', 1],\n ['0г', 3],\n ['0к', 2],\n ['0н', 1],\n ['0х', 3],\n ['0–', 89],\n ['1.', 87],\n ['1Ж', 1],\n ['1К', 1],\n ['1М', 1],\n ['1П', 1],\n ['1Х', 1],\n ['1а', 2],\n ['1г', 1],\n ['1к', 2],\n ['1р', 2],\n ['1у', 4],\n ['1ы', 1],\n ['1э', 16],\n ['1–', 29],\n ['1…', 1],\n ['2.', 79],\n ['22', 100],\n ['23', 70],\n ['24', 63],\n ['25', 86],\n ['26', 58],\n ['27', 49],\n ['28', 58],\n ['29', 57],\n ['2:', 2],\n ['2К', 1],\n ['2г', 2],\n ['2р', 1],\n ['2–', 31],\n ['2…', 1],\n ['3.', 48],\n ['31', 56],\n ['32', 42],\n ['33', 54],\n ['34', 37],\n ['35', 55],\n ['36', 45],\n ['37', 50],\n ['38', 50],\n ['39', 50],\n ['3:', 4],\n ['3i', 3],\n ['3И', 1],\n ['3а', 1],\n ['3г', 2],\n ['3к', 1],\n ['3р', 1],\n ['3ы', 1],\n ['3–', 17],\n ['4.', 42],\n ['40', 84],\n ['41', 46],\n ['42', 44],\n ['43', 23],\n ['44', 32],\n ['45', 53],\n ['46', 35],\n ['47', 42],\n ['48', 38],\n ['49', 38],\n ['4:', 2],\n ['4К', 1],\n ['4г', 9],\n ['4к', 1],\n ['4р', 2],\n ['4–', 20],\n ['5.', 47],\n ['51', 47],\n ['52', 38],\n ['53', 31],\n ['54', 31],\n ['55', 47],\n ['56', 38],\n ['57', 35],\n ['58', 29],\n ['59', 39],\n ['5:', 6],\n ['5Щ', 1],\n ['5а', 1],\n ['5г', 7],\n ['5р', 2],\n ['5–', 28],\n ['6-', 96],\n ['6.', 49],\n ['60', 91],\n ['61', 40],\n ['62', 30],\n ['63', 29],\n ['64', 48],\n ['65', 44],\n ['66', 25],\n ['67', 21],\n ['68', 32],\n ['69', 24],\n ['6:', 4],\n ['6г', 2],\n ['6з', 1],\n ['6и', 1],\n ['6–', 17],\n ['7.', 35],\n ['70', 82],\n ['71', 28],\n ['72', 35],\n ['73', 40],\n ['74', 30],\n ['75', 46],\n ['76', 30],\n ['77', 50],\n ['78', 39],\n ['79', 37],\n ['7:', 2],\n ['7I', 1],\n ['7г', 4],\n ['7к', 2],\n ['7р', 1],\n ['7–', 25],\n ['8.', 56],\n ['80', 87],\n ['81', 39],\n ['82', 41],\n ['83', 32],\n ['84', 40],\n ['85', 48],\n ['86', 58],\n ['87', 55],\n ['88', 49],\n ['89', 41],\n ['8г', 3],\n ['8к', 1],\n ['8–', 32],\n ['9.', 34],\n ['90', 79],\n ['91', 62],\n ['92', 79],\n ['93', 95],\n ['96', 89],\n ['97', 90],\n ['98', 79],\n ['99', 96],\n ['9I', 1],\n ['9г', 1],\n ['9к', 1],\n ['9р', 1],\n ['9–', 18],\n [':0', 5],\n [':1', 6],\n [':2', 4],\n [':3', 1],\n [':4', 3],\n [':5', 1],\n [':6', 2],\n [':7', 2],\n [':8', 1],\n ['I.', 44],\n ['I1', 3],\n ['I2', 2],\n ['I3', 1],\n ['I4', 1],\n ['I5', 1],\n ['I7', 1],\n ['I8', 3],\n ['I9', 3],\n ['IА', 11],\n ['IЕ', 3],\n ['IЗ', 1],\n ['IИ', 1],\n ['IК', 1],\n ['IМ', 2],\n ['IО', 2],\n ['IУ', 29],\n ['IХ', 6],\n ['IЫ', 19],\n ['IЭ', 27],\n ['Iб', 10],\n ['Iг', 13],\n ['Iд', 8],\n ['Iж', 2],\n ['Iз', 30],\n ['Iл', 16],\n ['Iн', 39],\n ['Iп', 37],\n ['Iс', 3],\n ['Iф', 8],\n ['Iц', 1],\n ['Iш', 6],\n ['Iя', 2],\n ['I–', 10],\n ['i-', 4],\n ['i.', 1],\n ['i1', 2],\n ['i3', 1],\n ['i:', 1],\n ['ii', 4],\n ['iи', 1],\n ['×1', 2],\n ['ЁТ', 1],\n ['Ёв', 1],\n ['А-', 31],\n ['А.', 13],\n ['АI', 10],\n ['АА', 3],\n ['АБ', 6],\n ['АВ', 4],\n ['АГ', 17],\n ['АД', 16],\n ['АЕ', 1],\n ['АЖ', 5],\n ['АЗ', 10],\n ['АИ', 5],\n ['АЙ', 3],\n ['АК', 12],\n ['АЛ', 18],\n ['АМ', 16],\n ['АН', 37],\n ['АО', 4],\n ['АП', 13],\n ['АР', 19],\n ['АС', 19],\n ['АТ', 6],\n ['АУ', 17],\n ['АФ', 6],\n ['АХ', 22],\n ['АЦ', 2],\n ['АШ', 2],\n ['АЩ', 7],\n ['АЭ', 1],\n ['Аа', 4],\n ['Ав', 93],\n ['Аг', 47],\n ['Ае', 2],\n ['Аж', 41],\n ['Аи', 12],\n ['Ай', 52],\n ['Ат', 67],\n ['Ау', 89],\n ['Аф', 73],\n ['Ац', 10],\n ['Ач', 8],\n ['Аш', 74],\n ['Ащ', 17],\n ['Аэ', 3],\n ['Аю', 11],\n ['Ая', 4],\n ['А–', 1],\n ['Б-', 5],\n ['Б.', 6],\n ['БА', 20],\n ['БВ', 1],\n ['БГ', 4],\n ['БД', 1],\n ['БЕ', 3],\n ['БЖ', 7],\n ['БЗ', 4],\n ['БИ', 7],\n ['БК', 8],\n ['БЛ', 6],\n ['БМ', 2],\n ['БН', 1],\n ['БО', 1],\n ['БР', 17],\n ['БС', 1],\n ['БТ', 1],\n ['БУ', 1],\n ['БЩ', 1],\n ['БЫ', 3],\n ['БЭ', 7],\n ['Бб', 1],\n ['Бд', 34],\n ['Бх', 3],\n ['Бь', 2],\n ['Бю', 7],\n ['Бё', 5],\n ['В-', 2],\n ['В.', 5],\n ['В4', 1],\n ['ВА', 6],\n ['ВГ', 1],\n ['ВД', 8],\n ['ВЖ', 7],\n ['ВИ', 1],\n ['ВК', 5],\n ['ВЛ', 1],\n ['ВМ', 1],\n ['ВН', 2],\n ['ВО', 3],\n ['ВР', 1],\n ['ВС', 4],\n ['ВТ', 5],\n ['ВУ', 2],\n ['ВЦ', 3],\n ['ВЧ', 1],\n ['ВЫ', 1],\n ['ВЭ', 3],\n ['Вг', 21],\n ['Вд', 3],\n ['Вж', 14],\n ['Вз', 12],\n ['Ви', 89],\n ['Вк', 2],\n ['Вл', 31],\n ['Вн', 2],\n ['Вп', 3],\n ['Вр', 9],\n ['Вс', 11],\n ['Вт', 4],\n ['Ву', 9],\n ['Въ', 1],\n ['Вы', 98],\n ['Вь', 1],\n ['Вэ', 38],\n ['Вю', 2],\n ['Вя', 10],\n ['Г-', 16],\n ['Г.', 2],\n ['ГА', 7],\n ['ГБ', 2],\n ['ГГ', 1],\n ['ГД', 2],\n ['ГЕ', 1],\n ['ГЗ', 1],\n ['ГИ', 5],\n ['ГК', 3],\n ['ГН', 1],\n ['ГО', 1],\n ['ГП', 1],\n ['ГС', 4],\n ['ГТ', 1],\n ['ГУ', 27],\n ['ГЪ', 34],\n ['ГЫ', 1],\n ['ГЭ', 5],\n ['Гв', 1],\n ['Гд', 2],\n ['Ги', 63],\n ['Гл', 26],\n ['Гн', 12],\n ['Гы', 15],\n ['Гэ', 12],\n ['Гю', 8],\n ['Гё', 7],\n ['Д-', 9],\n ['Д.', 1],\n ['ДА', 20],\n ['ДЕ', 6],\n ['ДЖ', 19],\n ['ДЗ', 6],\n ['ДИ', 6],\n ['ДЛ', 1],\n ['ДН', 2],\n ['ДО', 2],\n ['ДР', 3],\n ['ДЫ', 5],\n ['ДЭ', 17],\n ['Дб', 2],\n ['Дв', 10],\n ['Дг', 49],\n ['Дд', 1],\n ['Дл', 3],\n ['Дм', 15],\n ['Дн', 9],\n ['Др', 97],\n ['Дх', 1],\n ['Дь', 6],\n ['Дю', 9],\n ['Дя', 22],\n ['Е-', 10],\n ['Е.', 1],\n ['ЕI', 22],\n ['ЕА', 1],\n ['ЕБ', 2],\n ['ЕВ', 5],\n ['ЕГ', 4],\n ['ЕД', 3],\n ['ЕЕ', 3],\n ['ЕЖ', 5],\n ['ЕЗ', 4],\n ['ЕИ', 1],\n ['ЕЙ', 14],\n ['ЕК', 2],\n ['ЕЛ', 4],\n ['ЕМ', 6],\n ['ЕН', 2],\n ['ЕП', 6],\n ['ЕР', 4],\n ['ЕС', 4],\n ['ЕТ', 5],\n ['ЕУ', 2],\n ['ЕХ', 4],\n ['ЕЩ', 4],\n ['ЕЯ', 1],\n ['Еб', 54],\n ['Ев', 54],\n ['Ее', 1],\n ['Еж', 51],\n ['Еи', 1],\n ['Ей', 19],\n ['Ек', 62],\n ['Ен', 14],\n ['Ес', 75],\n ['Ет', 73],\n ['Еу', 64],\n ['Еф', 77],\n ['Ех', 61],\n ['Ец', 1],\n ['Еч', 2],\n ['Еш', 37],\n ['Ещ', 63],\n ['Ея', 4],\n ['Е…', 1],\n ['Ж-', 2],\n ['Ж.', 1],\n ['ЖА', 6],\n ['ЖБ', 1],\n ['ЖД', 2],\n ['ЖЕ', 4],\n ['ЖИ', 1],\n ['ЖО', 4],\n ['ЖУ', 7],\n ['ЖЩ', 1],\n ['ЖЫ', 6],\n ['ЖЬ', 17],\n ['ЖЭ', 14],\n ['Жб', 1],\n ['Жв', 2],\n ['Жд', 3],\n ['Жи', 84],\n ['Жм', 1],\n ['Жо', 31],\n ['Жр', 25],\n ['Жу', 82],\n ['Жю', 2],\n ['Жё', 1],\n ['Ж…', 1],\n ['З-', 15],\n ['З.', 7],\n ['ЗА', 7],\n ['ЗГ', 1],\n ['ЗЕ', 4],\n ['ЗЖ', 1],\n ['ЗИ', 8],\n ['ЗО', 6],\n ['ЗС', 2],\n ['ЗУ', 5],\n ['ЗХ', 1],\n ['ЗЩ', 2],\n ['ЗЫ', 17],\n ['ЗЭ', 12],\n ['Зб', 10],\n ['Зв', 19],\n ['Зл', 7],\n ['Зм', 3],\n ['Зн', 10],\n ['Зо', 49],\n ['Зр', 67],\n ['Зя', 2],\n ['Зё', 1],\n ['И-', 18],\n ['И.', 5],\n ['ИI', 68],\n ['ИГ', 12],\n ['ИД', 4],\n ['ИЕ', 1],\n ['ИЖ', 2],\n ['ИЗ', 5],\n ['ИИ', 1],\n ['ИЙ', 5],\n ['ИК', 10],\n ['ИЛ', 5],\n ['ИМ', 7],\n ['ИН', 13],\n ['ИО', 1],\n ['ИП', 3],\n ['ИР', 2],\n ['ИС', 9],\n ['ИТ', 4],\n ['ИУ', 2],\n ['ИХ', 1],\n ['ИЦ', 2],\n ['ИЧ', 1],\n ['ИЩ', 1],\n ['ИЮ', 2],\n ['ИЯ', 2],\n ['Иа', 7],\n ['Иб', 47],\n ['Ив', 46],\n ['Ид', 98],\n ['Ие', 2],\n ['Иж', 33],\n ['Из', 76],\n ['Ии', 5],\n ['Ий', 3],\n ['Ик', 78],\n ['Ио', 25],\n ['Ип', 70],\n ['Ит', 76],\n ['Иу', 95],\n ['Иф', 5],\n ['Их', 51],\n ['Иц', 4],\n ['Ич', 7],\n ['Иш', 25],\n ['Иы', 2],\n ['Иэ', 1],\n ['Ию', 7],\n ['Ия', 2],\n ['Й1', 1],\n ['ЙА', 1],\n ['ЙЛ', 1],\n ['ЙМ', 4],\n ['ЙО', 1],\n ['ЙП', 1],\n ['Йа', 1],\n ['Йе', 6],\n ['Йи', 2],\n ['Йл', 3],\n ['К-', 15],\n ['К.', 4],\n ['КА', 8],\n ['КБ', 4],\n ['КВ', 6],\n ['КГ', 1],\n ['КИ', 6],\n ['КК', 3],\n ['КЛ', 2],\n ['КО', 2],\n ['КП', 11],\n ['КС', 1],\n ['КТ', 3],\n ['КУ', 12],\n ['КХ', 3],\n ['КЧ', 2],\n ['КЪ', 43],\n ['КЭ', 3],\n ['Кб', 1],\n ['Кв', 4],\n ['Ке', 54],\n ['Кл', 68],\n ['Кн', 16],\n ['Кп', 5],\n ['Кс', 3],\n ['Кт', 2],\n ['Кф', 3],\n ['Кц', 1],\n ['Кы', 10],\n ['Кь', 5],\n ['Кэ', 28],\n ['Кю', 7],\n ['Кя', 3],\n ['Кё', 2],\n ['Л-', 2],\n ['Л.', 6],\n ['ЛА', 10],\n ['ЛГ', 4],\n ['ЛЕ', 3],\n ['ЛИ', 14],\n ['ЛК', 1],\n ['ЛО', 7],\n ['ЛУ', 6],\n ['ЛХ', 1],\n ['ЛШ', 1],\n ['ЛЪ', 22],\n ['ЛЫ', 3],\n ['ЛЬ', 1],\n ['ЛЭ', 8],\n ['ЛЯ', 1],\n ['Лж', 1],\n ['Лл', 1],\n ['Ло', 86],\n ['Лу', 64],\n ['Лы', 52],\n ['Ль', 8],\n ['Лю', 58],\n ['Ля', 10],\n ['Лё', 5],\n ['М-', 8],\n ['М.', 11],\n ['М3', 1],\n ['МА', 21],\n ['МБ', 4],\n ['МВ', 3],\n ['МГ', 9],\n ['МЕ', 1],\n ['МИ', 8],\n ['МК', 6],\n ['МЛ', 3],\n ['МН', 1],\n ['МО', 9],\n ['МП', 4],\n ['МР', 3],\n ['МС', 2],\n ['МТ', 4],\n ['МУ', 5],\n ['МФ', 1],\n ['МХ', 2],\n ['МЧ', 2],\n ['МЩ', 1],\n ['МЫ', 13],\n ['МЭ', 16],\n ['МЮ', 1],\n ['МЯ', 1],\n ['Мд', 3],\n ['Мз', 2],\n ['Мк', 1],\n ['Мл', 3],\n ['Мм', 1],\n ['Мн', 3],\n ['Мр', 6],\n ['Мс', 7],\n ['Мц', 2],\n ['Мю', 7],\n ['Мя', 9],\n ['М…', 1],\n ['Н-', 17],\n ['Н.', 4],\n ['НА', 15],\n ['НВ', 1],\n ['НГ', 4],\n ['НД', 2],\n ['НЕ', 1],\n ['НЗ', 1],\n ['НИ', 3],\n ['НК', 7],\n ['НН', 6],\n ['НО', 12],\n ['НП', 4],\n ['НР', 1],\n ['НС', 2],\n ['НТ', 1],\n ['НУ', 9],\n ['НХ', 2],\n ['НЦ', 1],\n ['НШ', 1],\n ['НЩ', 2],\n ['НЫ', 9],\n ['НЬ', 1],\n ['НЭ', 48],\n ['Нг', 1],\n ['Нл', 2],\n ['Нм', 1],\n ['Нр', 2],\n ['Нт', 10],\n ['Ну', 53],\n ['Нь', 5],\n ['Ню', 4],\n ['Ня', 4],\n ['О-', 21],\n ['О.', 1],\n ['О2', 1],\n ['ОА', 1],\n ['ОБ', 4],\n ['ОВ', 5],\n ['ОГ', 2],\n ['ОЗ', 5],\n ['ОК', 19],\n ['ОЛ', 3],\n ['ОМ', 3],\n ['ОН', 11],\n ['ОО', 9],\n ['ОП', 1],\n ['ОР', 8],\n ['ОС', 7],\n ['ОТ', 5],\n ['ОУ', 1],\n ['ОХ', 1],\n ['ОЦ', 1],\n ['ОЯ', 2],\n ['Оа', 1],\n ['Об', 52],\n ['Ов', 9],\n ['Ог', 12],\n ['Од', 20],\n ['Ож', 1],\n ['Оз', 9],\n ['Ой', 4],\n ['Ок', 32],\n ['Ол', 51],\n ['Ом', 10],\n ['Он', 15],\n ['Оо', 1],\n ['Оп', 29],\n ['Ор', 67],\n ['Ос', 35],\n ['От', 35],\n ['Оу', 4],\n ['Оф', 19],\n ['Ох', 3],\n ['Оц', 3],\n ['Оч', 10],\n ['Ош', 2],\n ['Оэ', 1],\n ['Оя', 2],\n ['П-', 15],\n ['П.', 2],\n ['П5', 1],\n ['ПЁ', 1],\n ['ПА', 15],\n ['ПВ', 2],\n ['ПГ', 1],\n ['ПЕ', 2],\n ['ПЗ', 1],\n ['ПИ', 3],\n ['ПК', 4],\n ['ПЛ', 3],\n ['ПМ', 1],\n ['ПП', 8],\n ['ПР', 2],\n ['ПС', 31],\n ['ПТ', 5],\n ['ПУ', 1],\n ['ПХ', 1],\n ['ПЦ', 1],\n ['ПШ', 5],\n ['ПЩ', 7],\n ['ПЫ', 3],\n ['ПЭ', 16],\n ['Пб', 1],\n ['Пг', 1],\n ['Пи', 90],\n ['Пк', 41],\n ['Пп', 5],\n ['Пт', 35],\n ['Пу', 84],\n ['Пф', 39],\n ['Пц', 53],\n ['Пч', 3],\n ['Пь', 18],\n ['Пя', 3],\n ['Пё', 10],\n ['Р-', 61],\n ['Р.', 3],\n ['РА', 13],\n ['РБ', 1],\n ['РВ', 2],\n ['РГ', 2],\n ['РД', 4],\n ['РЕ', 7],\n ['РЖ', 1],\n ['РЗ', 1],\n ['РИ', 8],\n ['РК', 10],\n ['РМ', 8],\n ['РН', 3],\n ['РО', 6],\n ['РС', 2],\n ['РТ', 5],\n ['РУ', 3],\n ['РФ', 4],\n ['РХ', 7],\n ['РШ', 1],\n ['РЫ', 2],\n ['РЭ', 19],\n ['Рж', 3],\n ['Ри', 75],\n ['Рм', 1],\n ['Рт', 1],\n ['Ру', 82],\n ['Рщ', 1],\n ['Ры', 21],\n ['Рэ', 36],\n ['Рю', 3],\n ['Ря', 5],\n ['Рё', 1],\n ['Р–', 1],\n ['С-', 36],\n ['С.', 1],\n ['СI', 46],\n ['СА', 10],\n ['СБ', 2],\n ['СВ', 2],\n ['СЕ', 2],\n ['СИ', 6],\n ['СК', 8],\n ['СЛ', 2],\n ['СМ', 2],\n ['СН', 6],\n ['СО', 13],\n ['СП', 5],\n ['СР', 27],\n ['СС', 54],\n ['СТ', 16],\n ['СУ', 5],\n ['СФ', 1],\n ['СХ', 1],\n ['СШ', 6],\n ['СЩ', 5],\n ['СЫ', 8],\n ['СЭ', 15],\n ['Сб', 7],\n ['Св', 55],\n ['Сг', 2],\n ['Сд', 1],\n ['Ск', 56],\n ['См', 22],\n ['Сн', 5],\n ['Сп', 65],\n ['Ср', 81],\n ['Сс', 1],\n ['Сф', 97],\n ['Сц', 18],\n ['Сч', 4],\n ['Сш', 16],\n ['Съ', 1],\n ['Сь', 1],\n ['Сю', 6],\n ['Ся', 14],\n ['С…', 1],\n ['Т-', 8],\n ['Т.', 4],\n ['ТА', 7],\n ['ТВ', 3],\n ['ТЕ', 7],\n ['ТЗ', 6],\n ['ТК', 2],\n ['ТО', 9],\n ['ТП', 1],\n ['ТР', 12],\n ['ТС', 3],\n ['ТТ', 1],\n ['ТУ', 8],\n ['ТХ', 13],\n ['ТЩ', 1],\n ['Тб', 4],\n ['Тв', 18],\n ['Ти', 93],\n ['Тк', 23],\n ['Тл', 23],\n ['Тм', 2],\n ['Тп', 8],\n ['Тс', 1],\n ['Тт', 4],\n ['Тф', 16],\n ['Тц', 4],\n ['Тш', 4],\n ['Тщ', 34],\n ['Тю', 11],\n ['Тё', 4],\n ['У-', 45],\n ['У.', 1],\n ['У0', 3],\n ['УI', 47],\n ['УА', 19],\n ['УБ', 3],\n ['УВ', 2],\n ['УГ', 4],\n ['УД', 6],\n ['УЕ', 1],\n ['УЖ', 9],\n ['УЗ', 8],\n ['УИ', 3],\n ['УК', 5],\n ['УЛ', 4],\n ['УМ', 14],\n ['УН', 15],\n ['УП', 6],\n ['УР', 18],\n ['УС', 11],\n ['УТ', 7],\n ['УУ', 2],\n ['УФ', 9],\n ['УХ', 7],\n ['УШ', 1],\n ['УЩ', 9],\n ['УЭ', 35],\n ['Уб', 92],\n ['Ув', 36],\n ['Уг', 85],\n ['Уж', 43],\n ['Уй', 1],\n ['Ул', 92],\n ['Уо', 78],\n ['Уп', 98],\n ['Уу', 44],\n ['Уф', 38],\n ['Уц', 19],\n ['Уч', 35],\n ['Уш', 42],\n ['Уя', 9],\n ['Ф-', 6],\n ['Ф.', 3],\n ['ФА', 1],\n ['ФБ', 1],\n ['ФГ', 1],\n ['ФЕ', 1],\n ['ФЗ', 2],\n ['ФИ', 3],\n ['ФЛ', 1],\n ['ФМ', 1],\n ...]"
     },
     "execution_count": 76,
     "metadata": {},
     "output_type": "execute_result"
    }
   ],
   "source": [
    "sorted(filtered)"
   ],
   "metadata": {
    "collapsed": false,
    "ExecuteTime": {
     "end_time": "2024-01-04T11:09:20.609752Z",
     "start_time": "2024-01-04T11:09:20.605738Z"
    }
   }
  },
  {
   "cell_type": "code",
   "execution_count": null,
   "outputs": [],
   "source": [],
   "metadata": {
    "collapsed": false
   }
  }
 ],
 "metadata": {
  "kernelspec": {
   "display_name": "Python 3",
   "language": "python",
   "name": "python3"
  },
  "language_info": {
   "codemirror_mode": {
    "name": "ipython",
    "version": 2
   },
   "file_extension": ".py",
   "mimetype": "text/x-python",
   "name": "python",
   "nbconvert_exporter": "python",
   "pygments_lexer": "ipython2",
   "version": "2.7.6"
  }
 },
 "nbformat": 4,
 "nbformat_minor": 0
}
