{
 "cells": [
  {
   "cell_type": "code",
   "execution_count": 1,
   "outputs": [],
   "source": [
    "import gzip\n",
    "import os\n",
    "import pickle\n",
    "\n",
    "model_dir = '../data/processed/spell_checker/models'\n",
    "\n",
    "\n",
    "def load_model(filepath):\n",
    "    with gzip.open(filepath, 'rb') as f:\n",
    "        return pickle.load(f)\n",
    "\n",
    "\n",
    "rf_apkbr = load_model(filepath=os.path.join(model_dir, 'rf_classifier_model_freq_1000000_apkbr_ru.txt.pkl.gz'))\n",
    "rf_elgkbr = load_model(filepath=os.path.join(model_dir, 'rf_classifier_model_freq_1000000_elgkbr_ru.txt.pkl.gz'))\n",
    "rf_oshhamaho = load_model(filepath=os.path.join(model_dir, 'rf_classifier_model_freq_1000000_oshhamaho.txt.pkl.gz'))"
   ],
   "metadata": {
    "collapsed": false,
    "ExecuteTime": {
     "end_time": "2024-01-07T02:38:30.584513Z",
     "start_time": "2024-01-07T02:38:28.643483Z"
    }
   }
  },
  {
   "cell_type": "code",
   "execution_count": 2,
   "outputs": [
    {
     "name": "stdout",
     "output_type": "stream",
     "text": [
      "196116\n"
     ]
    },
    {
     "name": "stderr",
     "output_type": "stream",
     "text": [
      "prepare test data freq_1000000_apkbr_ru.txt: 100%|██████████| 453533/453533 [01:17<00:00, 5863.71it/s]\n"
     ]
    },
    {
     "name": "stdout",
     "output_type": "stream",
     "text": [
      "95635\n"
     ]
    },
    {
     "name": "stderr",
     "output_type": "stream",
     "text": [
      "prepare test data freq_1000000_elgkbr_ru.txt: 100%|██████████| 245785/245785 [00:42<00:00, 5761.82it/s]\n"
     ]
    },
    {
     "name": "stdout",
     "output_type": "stream",
     "text": [
      "179574\n"
     ]
    },
    {
     "name": "stderr",
     "output_type": "stream",
     "text": [
      "prepare test data freq_1000000_oshhamaho.txt: 100%|██████████| 483338/483338 [01:27<00:00, 5512.93it/s]\n"
     ]
    }
   ],
   "source": [
    "from src.logic.spell_checker.feature_filler import fill_features\n",
    "import pandas as pd\n",
    "from tqdm import tqdm\n",
    "\n",
    "from src.logic.spell_checker.manager.tokenization import TokenizerManager\n",
    "from src.logic.spell_checker.manager.ngram import NGramAnalyzer\n",
    "from src.logic.spell_checker.manager.word_trie import WordTrie\n",
    "\n",
    "\n",
    "def prepare_features_manager(model_from_file):\n",
    "    df = pd.read_csv(f'../data/processed/word_freqs/{model_from_file}'.replace('txt', 'csv'), sep=',')\n",
    "    trie_words = df[df['freq'] > 1]['word'].values.tolist()\n",
    "    print(len(trie_words))\n",
    "\n",
    "    word_trie = WordTrie(words=trie_words)\n",
    "    word_trie.make()\n",
    "    ngram_analyzer = NGramAnalyzer(word_trie.get_words(), ngrams=(2, 3, 4))\n",
    "    tokenizer_manager = TokenizerManager(\n",
    "        tokenizer_paths={\n",
    "            'unigram_5k': '../data/processed/tokenizer/words_unigram_5000.tokenizer.json',\n",
    "            'bpe_5k': '../data/processed/tokenizer/bpe_5000.tokenizer.json',\n",
    "        }\n",
    "    )\n",
    "\n",
    "    return word_trie, ngram_analyzer, tokenizer_manager\n",
    "\n",
    "\n",
    "def prepare_test_data(file_name):\n",
    "    with open(f'../data/processed/word_freqs/{file_name}') as f:\n",
    "        test_words = f.read().split('\\n')\n",
    "\n",
    "    word_trie, ngram_analyzer, tokenizer_manager = prepare_features_manager(file_name)\n",
    "\n",
    "    test_words_data = []\n",
    "    pgbar = tqdm(test_words, desc=f'prepare test data {file_name}')\n",
    "    for word in pgbar:\n",
    "        test_words_data.append(\n",
    "            fill_features(\n",
    "                word,\n",
    "                word_trie=word_trie,\n",
    "                tokenizer_manager=tokenizer_manager,\n",
    "                ngram_analyzer=ngram_analyzer,\n",
    "            )\n",
    "        )\n",
    "\n",
    "    test_df = pd.DataFrame(test_words_data)\n",
    "    test_df.dropna(inplace=True)\n",
    "    return test_df\n",
    "\n",
    "\n",
    "test_df_apkbr = prepare_test_data('freq_1000000_apkbr_ru.txt')\n",
    "test_df_elgkbr = prepare_test_data('freq_1000000_elgkbr_ru.txt')\n",
    "test_df_oshhamaho = prepare_test_data('freq_1000000_oshhamaho.txt')"
   ],
   "metadata": {
    "collapsed": false,
    "ExecuteTime": {
     "end_time": "2024-01-07T02:42:43.474915Z",
     "start_time": "2024-01-07T02:38:34.428506Z"
    }
   }
  },
  {
   "cell_type": "code",
   "execution_count": 4,
   "outputs": [],
   "source": [
    "features_columns = [\n",
    "    # 'word', \n",
    "    'word_len',\n",
    "    'unigram_5k_char_count/token_count',\n",
    "    # 'unigram_5k_tokens', \n",
    "    'unigram_5k_tokens_count',\n",
    "    # 'unigram_5k_token_ids',\n",
    "    # 'unigram_5k_prefix', \n",
    "    'unigram_5k_prefix_len',\n",
    "    # 'unigram_5k_prefix_id',\n",
    "    # 'unigram_5k_suffix', \n",
    "    'unigram_5k_suffix_len',\n",
    "    # 'unigram_5k_suffix_id',\n",
    "    'bpe_5k_char_count/token_count',\n",
    "    # 'bpe_5k_tokens', \n",
    "    'bpe_5k_tokens_count',\n",
    "    # 'bpe_5k_token_ids', \n",
    "    # 'bpe_5k_prefix', \n",
    "    'bpe_5k_prefix_len',\n",
    "    # 'bpe_5k_prefix_id', \n",
    "    # 'bpe_5k_suffix', \n",
    "    'bpe_5k_suffix_len',\n",
    "    # 'bpe_5k_suffix_id', \n",
    "\n",
    "    '2gram_treshold_10',\n",
    "    '2gram_treshold_m_10',\n",
    "    '2gram_treshold_100',\n",
    "    '2gram_treshold_m_100',\n",
    "    '2gram_treshold_200',\n",
    "    '2gram_treshold_m_200',\n",
    "    '2gram_treshold_500',\n",
    "    '2gram_treshold_m_500',\n",
    "    '2gram_treshold_1000',\n",
    "    '2gram_treshold_m_1000',\n",
    "\n",
    "    '3gram_treshold_10',\n",
    "    '3gram_treshold_m_10',\n",
    "    '3gram_treshold_50',\n",
    "    '3gram_treshold_m_50',\n",
    "    '3gram_treshold_100',\n",
    "    '3gram_treshold_m_100',\n",
    "    '3gram_treshold_200',\n",
    "    '3gram_treshold_m_200',\n",
    "    '3gram_treshold_500',\n",
    "    '3gram_treshold_m_500',\n",
    "\n",
    "    '4gram_treshold_10',\n",
    "    '4gram_treshold_m_10',\n",
    "    '4gram_treshold_20',\n",
    "    '4gram_treshold_m_20',\n",
    "    '4gram_treshold_30',\n",
    "    '4gram_treshold_m_30',\n",
    "    '4gram_treshold_50',\n",
    "    '4gram_treshold_m_50',\n",
    "    '4gram_treshold_100',\n",
    "    '4gram_treshold_m_100',\n",
    "\n",
    "    # 'longest_prefix', \n",
    "    'longest_prefix_len',\n",
    "    'longest_prefix/word_len',\n",
    "    # 'longest_suffix', \n",
    "    'longest_suffix_len',\n",
    "    'longest_suffix/word_len',\n",
    "    # 'target',\n",
    "]\n",
    "\n",
    "models = {\n",
    "    'apkbr': rf_apkbr,\n",
    "    'elgkbr': rf_elgkbr,\n",
    "    'oshhamaho': rf_oshhamaho,\n",
    "}\n",
    "\n",
    "test_dfs = {\n",
    "    'apkbr': test_df_apkbr,\n",
    "    'elgkbr': test_df_elgkbr,\n",
    "    'oshhamaho': test_df_oshhamaho,\n",
    "}\n",
    "\n",
    "result_dir = '../data/processed/spell_checker/results'\n",
    "os.makedirs(result_dir, exist_ok=True)\n",
    "\n",
    "for model_name, model in models.items():\n",
    "    for test_df_name, test_df in test_dfs.items():\n",
    "        calculated_df = model.predict(test_df[features_columns])\n",
    "        test_df['calc'] = calculated_df\n",
    "        word_calc = test_df[['word', 'calc']]\n",
    "\n",
    "        word_calc.to_csv(f'../data/processed/spell_checker/results/model_{model_name}__{test_df_name}.csv', index=False)"
   ],
   "metadata": {
    "collapsed": false,
    "ExecuteTime": {
     "end_time": "2024-01-07T02:44:42.534420Z",
     "start_time": "2024-01-07T02:43:59.490267Z"
    }
   }
  },
  {
   "cell_type": "code",
   "execution_count": 5,
   "outputs": [],
   "source": [
    "all_calc_df = None\n",
    "for model_name, _ in models.items():\n",
    "    for test_df_name, _ in test_dfs.items():\n",
    "        word_calc_df = pd.read_csv(os.path.join(result_dir, f'model_{model_name}__{test_df_name}.csv'))\n",
    "        word_calc_df['calc'].astype(int)\n",
    "        word_calc_df.rename(columns={'calc': f'calc_model_{model_name}__text_{test_df_name}'}, inplace=True)\n",
    "\n",
    "        if all_calc_df is None:\n",
    "            all_calc_df = word_calc_df\n",
    "        else:\n",
    "            all_calc_df = pd.merge(all_calc_df, word_calc_df, how='outer', on='word')"
   ],
   "metadata": {
    "collapsed": false,
    "ExecuteTime": {
     "end_time": "2024-01-07T02:44:47.850849Z",
     "start_time": "2024-01-07T02:44:42.525193Z"
    }
   }
  },
  {
   "cell_type": "code",
   "execution_count": 6,
   "outputs": [],
   "source": [
    "import csv\n",
    "import numpy as np\n",
    "\n",
    "all_calc_df.replace({np.nan: None}, inplace=True)\n",
    "all_calc_df.sort_values(by=['word'], inplace=True)"
   ],
   "metadata": {
    "collapsed": false,
    "ExecuteTime": {
     "end_time": "2024-01-07T02:44:49.277859Z",
     "start_time": "2024-01-07T02:44:47.843021Z"
    }
   }
  },
  {
   "cell_type": "code",
   "execution_count": 7,
   "outputs": [],
   "source": [
    "all_calc_df['sum_calculated_conf'] = all_calc_df.apply(\n",
    "    lambda row: sum(\n",
    "        [\n",
    "            row[col]\n",
    "            for col in all_calc_df.columns.tolist()\n",
    "            if col.startswith('calc_model_') and row[col] is not None\n",
    "        ]\n",
    "    ),\n",
    "    axis=1\n",
    ")"
   ],
   "metadata": {
    "collapsed": false,
    "ExecuteTime": {
     "end_time": "2024-01-07T02:45:01.070888Z",
     "start_time": "2024-01-07T02:44:49.315101Z"
    }
   }
  },
  {
   "cell_type": "code",
   "execution_count": 8,
   "outputs": [],
   "source": [
    "all_calc_df['null_count'] = all_calc_df.apply(\n",
    "    lambda row: sum(\n",
    "        [\n",
    "            1\n",
    "            for col in all_calc_df.columns.tolist()\n",
    "            if col.startswith('calc_model_') and row[col] is None\n",
    "        ]\n",
    "    ),\n",
    "    axis=1\n",
    ")"
   ],
   "metadata": {
    "collapsed": false,
    "ExecuteTime": {
     "end_time": "2024-01-07T02:45:10.284214Z",
     "start_time": "2024-01-07T02:45:01.071832Z"
    }
   }
  },
  {
   "cell_type": "code",
   "execution_count": 9,
   "outputs": [],
   "source": [
    "all_calc_df.to_csv(os.path.join(result_dir, 'all_calc.csv'), sep=',', index=False, quoting=csv.QUOTE_MINIMAL)"
   ],
   "metadata": {
    "collapsed": false,
    "ExecuteTime": {
     "end_time": "2024-01-07T02:45:12.772262Z",
     "start_time": "2024-01-07T02:45:10.274636Z"
    }
   }
  },
  {
   "cell_type": "code",
   "execution_count": 17,
   "outputs": [
    {
     "data": {
      "text/plain": "<Figure size 1000x600 with 1 Axes>",
      "image/png": "[encoded data removed]"
     },
     "metadata": {},
     "output_type": "display_data"
    }
   ],
   "source": [
    "import matplotlib.pyplot as plt\n",
    "\n",
    "words_by_calc_conf = all_calc_df['sum_calculated_conf'].value_counts()\n",
    "words_by_calc_conf = words_by_calc_conf.sort_index()\n",
    "\n",
    "plt.figure(figsize=(10, 6))\n",
    "plt.bar(\n",
    "    words_by_calc_conf.index,\n",
    "    words_by_calc_conf.values,\n",
    "    color='r',\n",
    "    align=\"center\"\n",
    ")  # Столбчатая диаграмма\n",
    "plt.title('Распределение слов по сумме conf')\n",
    "plt.xlabel('Значения сумм')\n",
    "plt.ylabel('Количество слов')\n",
    "plt.xticks(words_by_calc_conf.index)\n",
    "\n",
    "plt.show()"
   ],
   "metadata": {
    "collapsed": false,
    "ExecuteTime": {
     "end_time": "2024-01-07T02:55:01.811564Z",
     "start_time": "2024-01-07T02:55:01.723823Z"
    }
   }
  },
  {
   "cell_type": "markdown",
   "source": [
    "Для дальнейшего разбора сохраним выборку слов, по сумме confidence.\n",
    "\n",
    "*Если сумма 9, то слово было в каждом из 3 источников и все три модели сочли слово правильным*    "
   ],
   "metadata": {
    "collapsed": false
   }
  },
  {
   "cell_type": "code",
   "execution_count": 12,
   "outputs": [],
   "source": [
    "words_result_dir = '../data/interim/spell_checker/results/words'\n",
    "os.makedirs(words_result_dir, exist_ok=True)\n",
    "\n",
    "for val in all_calc_df['sum_calculated_conf'].value_counts().index.tolist():\n",
    "    words = all_calc_df[all_calc_df['sum_calculated_conf'] == val]['word'].values.tolist()\n",
    "    with open(os.path.join(words_result_dir, f'words_sum_calculated_conf_{val}.txt'), 'w') as f:\n",
    "        f.write('\\n'.join(sorted(words)))"
   ],
   "metadata": {
    "collapsed": false,
    "ExecuteTime": {
     "start_time": "2024-01-07T02:45:44.103660Z"
    }
   }
  },
  {
   "cell_type": "code",
   "execution_count": 50,
   "outputs": [
    {
     "data": {
      "text/plain": "<matplotlib.legend.Legend at 0x331e23990>"
     },
     "execution_count": 50,
     "metadata": {},
     "output_type": "execute_result"
    },
    {
     "data": {
      "text/plain": "<Figure size 640x480 with 1 Axes>",
      "image/png": "[encoded data removed]"
     },
     "metadata": {},
     "output_type": "display_data"
    }
   ],
   "source": [
    "show_valid = False\n",
    "\n",
    "def filter_value(value):\n",
    "    if show_valid:\n",
    "        return int(value == 1)  # valid words\n",
    "\n",
    "    return int(value == 0)  # invalid words\n",
    "\n",
    "\n",
    "plot_data = {\n",
    "    'text_apkbr': {\n",
    "        'model_apkbr': all_calc_df['calc_model_apkbr__text_apkbr'].apply(filter_value).sum(),\n",
    "        'model_elgkbr': all_calc_df['calc_model_elgkbr__text_apkbr'].apply(filter_value).sum(),\n",
    "        'model_oshhamaho': all_calc_df['calc_model_oshhamaho__text_apkbr'].apply(filter_value).sum(),\n",
    "    },\n",
    "    'text_elgkbr': {\n",
    "        'model_apkbr': all_calc_df['calc_model_apkbr__text_elgkbr'].apply(filter_value).sum(),\n",
    "        'model_elgkbr': all_calc_df['calc_model_elgkbr__text_elgkbr'].apply(filter_value).sum(),\n",
    "        'model_oshhamaho': all_calc_df['calc_model_oshhamaho__text_elgkbr'].apply(filter_value).sum(),\n",
    "    },\n",
    "    'text_oshhamaho': {\n",
    "        'model_apkbr': all_calc_df['calc_model_apkbr__text_oshhamaho'].apply(filter_value).sum(),\n",
    "        'model_elgkbr': all_calc_df['calc_model_elgkbr__text_oshhamaho'].apply(filter_value).sum(),\n",
    "        'model_oshhamaho': all_calc_df['calc_model_oshhamaho__text_oshhamaho'].apply(filter_value).sum(),\n",
    "    }\n",
    "}\n",
    "\n",
    "labels = list(plot_data.keys())\n",
    "models = list(plot_data['text_apkbr'].keys())\n",
    "n_models = len(models)\n",
    "x = np.arange(len(labels))  # Метки по оси x\n",
    "width = 0.2\n",
    "\n",
    "fig, ax = plt.subplots()\n",
    "for i, model in enumerate(models):\n",
    "    model_data = [plot_data[label][model] for label in labels]\n",
    "    ax.bar(x + i * width, model_data, width, label=model)\n",
    "\n",
    "ax.set_title('Результаты моделей спеллчекера')\n",
    "ax.set_xlabel('Текстовые файлы')\n",
    "predict_label = 'правильным' if show_valid else 'неправильным'\n",
    "ax.set_ylabel(f'количество слов которые модель сочла {predict_label}')\n",
    "ax.set_xticks(x + width)\n",
    "ax.set_xticklabels(labels)\n",
    "ax.legend()"
   ],
   "metadata": {
    "collapsed": false,
    "ExecuteTime": {
     "end_time": "2024-01-07T04:14:57.720829Z",
     "start_time": "2024-01-07T04:14:55.279167Z"
    }
   }
  },
  {
   "cell_type": "code",
   "execution_count": null,
   "outputs": [],
   "source": [],
   "metadata": {
    "collapsed": false
   }
  }
 ],
 "metadata": {
  "kernelspec": {
   "display_name": "Python 3",
   "language": "python",
   "name": "python3"
  },
  "language_info": {
   "codemirror_mode": {
    "name": "ipython",
    "version": 2
   },
   "file_extension": ".py",
   "mimetype": "text/x-python",
   "name": "python",
   "nbconvert_exporter": "python",
   "pygments_lexer": "ipython2",
   "version": "2.7.6"
  }
 },
 "nbformat": 4,
 "nbformat_minor": 0
}
