{
 "cells": [
  {
   "cell_type": "code",
   "outputs": [],
   "source": [
    "import os\n",
    "\n",
    "import pandas as pd\n",
    "\n",
    "train_path = '../data/processed/lang_detect/'\n",
    "os.makedirs(train_path, exist_ok=True)\n",
    "\n",
    "df_kbd = pd.read_csv('../data/processed/lang_detect/source.kbd.glossary.csv')\n",
    "df_ady = pd.read_csv('../data/processed/lang_detect/source.ady.glossary.csv')\n",
    "df_rus = pd.read_csv('../data/processed/lang_detect/source.rus.glossary.csv')\n",
    "\n",
    "df_kbd.rename(columns={'#name': 'key', 'Адыгэбзэ псалъалъэ (Ady) (eastern)': 'value'}, inplace=True)\n",
    "df_kbd['lang'] = 'kbd'\n",
    "df_kbd['key'] = df_kbd['key'].apply(lambda x: str(x).lower().replace('i', 'I'))\n",
    "\n",
    "df_ady.rename(columns={'#name': 'key', 'Адыгабзэм изэхэф гущыIалъ (Ady) (western)': 'value'}, inplace=True)\n",
    "df_ady['lang'] = 'ady'\n",
    "\n",
    "df_rus.rename(columns={'#name': 'key', 'Урыс-адыгэ школ псалъалъэ (Rus-Ady) (eastern)': 'value'}, inplace=True)\n",
    "df_rus['lang'] = 'rus'"
   ],
   "metadata": {
    "collapsed": false,
    "ExecuteTime": {
     "end_time": "2024-02-10T14:16:54.367688Z",
     "start_time": "2024-02-10T14:16:54.078630Z"
    }
   },
   "execution_count": 285
  },
  {
   "cell_type": "code",
   "outputs": [
    {
     "ename": "IndexError",
     "evalue": "list index out of range",
     "output_type": "error",
     "traceback": [
      "\u001B[0;31m---------------------------------------------------------------------------\u001B[0m",
      "\u001B[0;31mIndexError\u001B[0m                                Traceback (most recent call last)",
      "Cell \u001B[0;32mIn[378], line 5\u001B[0m\n\u001B[1;32m      2\u001B[0m \u001B[38;5;28;01mwith\u001B[39;00m \u001B[38;5;28mopen\u001B[39m(os\u001B[38;5;241m.\u001B[39mpath\u001B[38;5;241m.\u001B[39mjoin(train_path, \u001B[38;5;124m'\u001B[39m\u001B[38;5;124msentences_1.ady.txt\u001B[39m\u001B[38;5;124m'\u001B[39m), \u001B[38;5;124m'\u001B[39m\u001B[38;5;124mw\u001B[39m\u001B[38;5;124m'\u001B[39m) \u001B[38;5;28;01mas\u001B[39;00m f:\n\u001B[1;32m      3\u001B[0m     f\u001B[38;5;241m.\u001B[39mwrite(\u001B[38;5;124m'\u001B[39m\u001B[38;5;130;01m\\n\u001B[39;00m\u001B[38;5;124m'\u001B[39m\u001B[38;5;241m.\u001B[39mjoin(\u001B[38;5;28msorted\u001B[39m(\u001B[38;5;28mset\u001B[39m(df_ady[\u001B[38;5;124m'\u001B[39m\u001B[38;5;124m-1_sent\u001B[39m\u001B[38;5;124m'\u001B[39m]\u001B[38;5;241m.\u001B[39mtolist()))))\n\u001B[0;32m----> 5\u001B[0m df_ady[\u001B[38;5;124m'\u001B[39m\u001B[38;5;124m-2_sent\u001B[39m\u001B[38;5;124m'\u001B[39m] \u001B[38;5;241m=\u001B[39m \u001B[43mdf_ady\u001B[49m\u001B[43m[\u001B[49m\u001B[38;5;124;43m'\u001B[39;49m\u001B[38;5;124;43mvalue\u001B[39;49m\u001B[38;5;124;43m'\u001B[39;49m\u001B[43m]\u001B[49m\u001B[38;5;241;43m.\u001B[39;49m\u001B[43mapply\u001B[49m\u001B[43m(\u001B[49m\u001B[38;5;28;43;01mlambda\u001B[39;49;00m\u001B[43m \u001B[49m\u001B[43mx\u001B[49m\u001B[43m:\u001B[49m\u001B[43m \u001B[49m\u001B[43mx\u001B[49m\u001B[38;5;241;43m.\u001B[39;49m\u001B[43msplit\u001B[49m\u001B[43m(\u001B[49m\u001B[38;5;124;43m'\u001B[39;49m\u001B[38;5;130;43;01m\\n\u001B[39;49;00m\u001B[38;5;124;43m'\u001B[39;49m\u001B[43m)\u001B[49m\u001B[43m[\u001B[49m\u001B[38;5;241;43m-\u001B[39;49m\u001B[38;5;241;43m2\u001B[39;49m\u001B[43m]\u001B[49m\u001B[43m \u001B[49m\u001B[38;5;241;43m+\u001B[39;49m\u001B[43m \u001B[49m\u001B[38;5;124;43m'\u001B[39;49m\u001B[38;5;124;43m.\u001B[39;49m\u001B[38;5;124;43m'\u001B[39;49m\u001B[43m)\u001B[49m\n\u001B[1;32m      6\u001B[0m \u001B[38;5;28;01mwith\u001B[39;00m \u001B[38;5;28mopen\u001B[39m(os\u001B[38;5;241m.\u001B[39mpath\u001B[38;5;241m.\u001B[39mjoin(train_path, \u001B[38;5;124m'\u001B[39m\u001B[38;5;124msentences_2.ady.txt\u001B[39m\u001B[38;5;124m'\u001B[39m), \u001B[38;5;124m'\u001B[39m\u001B[38;5;124mw\u001B[39m\u001B[38;5;124m'\u001B[39m) \u001B[38;5;28;01mas\u001B[39;00m f:\n\u001B[1;32m      7\u001B[0m     f\u001B[38;5;241m.\u001B[39mwrite(\u001B[38;5;124m'\u001B[39m\u001B[38;5;130;01m\\n\u001B[39;00m\u001B[38;5;124m'\u001B[39m\u001B[38;5;241m.\u001B[39mjoin(\u001B[38;5;28msorted\u001B[39m(\u001B[38;5;28mset\u001B[39m(df_ady[\u001B[38;5;124m'\u001B[39m\u001B[38;5;124m-2_sent\u001B[39m\u001B[38;5;124m'\u001B[39m]\u001B[38;5;241m.\u001B[39mtolist()))))\n",
      "File \u001B[0;32m~/PycharmProjects/zbze_blog/venv/lib/python3.11/site-packages/pandas/core/series.py:4771\u001B[0m, in \u001B[0;36mSeries.apply\u001B[0;34m(self, func, convert_dtype, args, **kwargs)\u001B[0m\n\u001B[1;32m   4661\u001B[0m \u001B[38;5;28;01mdef\u001B[39;00m \u001B[38;5;21mapply\u001B[39m(\n\u001B[1;32m   4662\u001B[0m     \u001B[38;5;28mself\u001B[39m,\n\u001B[1;32m   4663\u001B[0m     func: AggFuncType,\n\u001B[0;32m   (...)\u001B[0m\n\u001B[1;32m   4666\u001B[0m     \u001B[38;5;241m*\u001B[39m\u001B[38;5;241m*\u001B[39mkwargs,\n\u001B[1;32m   4667\u001B[0m ) \u001B[38;5;241m-\u001B[39m\u001B[38;5;241m>\u001B[39m DataFrame \u001B[38;5;241m|\u001B[39m Series:\n\u001B[1;32m   4668\u001B[0m \u001B[38;5;250m    \u001B[39m\u001B[38;5;124;03m\"\"\"\u001B[39;00m\n\u001B[1;32m   4669\u001B[0m \u001B[38;5;124;03m    Invoke function on values of Series.\u001B[39;00m\n\u001B[1;32m   4670\u001B[0m \n\u001B[0;32m   (...)\u001B[0m\n\u001B[1;32m   4769\u001B[0m \u001B[38;5;124;03m    dtype: float64\u001B[39;00m\n\u001B[1;32m   4770\u001B[0m \u001B[38;5;124;03m    \"\"\"\u001B[39;00m\n\u001B[0;32m-> 4771\u001B[0m     \u001B[38;5;28;01mreturn\u001B[39;00m \u001B[43mSeriesApply\u001B[49m\u001B[43m(\u001B[49m\u001B[38;5;28;43mself\u001B[39;49m\u001B[43m,\u001B[49m\u001B[43m \u001B[49m\u001B[43mfunc\u001B[49m\u001B[43m,\u001B[49m\u001B[43m \u001B[49m\u001B[43mconvert_dtype\u001B[49m\u001B[43m,\u001B[49m\u001B[43m \u001B[49m\u001B[43margs\u001B[49m\u001B[43m,\u001B[49m\u001B[43m \u001B[49m\u001B[43mkwargs\u001B[49m\u001B[43m)\u001B[49m\u001B[38;5;241;43m.\u001B[39;49m\u001B[43mapply\u001B[49m\u001B[43m(\u001B[49m\u001B[43m)\u001B[49m\n",
      "File \u001B[0;32m~/PycharmProjects/zbze_blog/venv/lib/python3.11/site-packages/pandas/core/apply.py:1123\u001B[0m, in \u001B[0;36mSeriesApply.apply\u001B[0;34m(self)\u001B[0m\n\u001B[1;32m   1120\u001B[0m     \u001B[38;5;28;01mreturn\u001B[39;00m \u001B[38;5;28mself\u001B[39m\u001B[38;5;241m.\u001B[39mapply_str()\n\u001B[1;32m   1122\u001B[0m \u001B[38;5;66;03m# self.f is Callable\u001B[39;00m\n\u001B[0;32m-> 1123\u001B[0m \u001B[38;5;28;01mreturn\u001B[39;00m \u001B[38;5;28;43mself\u001B[39;49m\u001B[38;5;241;43m.\u001B[39;49m\u001B[43mapply_standard\u001B[49m\u001B[43m(\u001B[49m\u001B[43m)\u001B[49m\n",
      "File \u001B[0;32m~/PycharmProjects/zbze_blog/venv/lib/python3.11/site-packages/pandas/core/apply.py:1174\u001B[0m, in \u001B[0;36mSeriesApply.apply_standard\u001B[0;34m(self)\u001B[0m\n\u001B[1;32m   1172\u001B[0m     \u001B[38;5;28;01melse\u001B[39;00m:\n\u001B[1;32m   1173\u001B[0m         values \u001B[38;5;241m=\u001B[39m obj\u001B[38;5;241m.\u001B[39mastype(\u001B[38;5;28mobject\u001B[39m)\u001B[38;5;241m.\u001B[39m_values\n\u001B[0;32m-> 1174\u001B[0m         mapped \u001B[38;5;241m=\u001B[39m \u001B[43mlib\u001B[49m\u001B[38;5;241;43m.\u001B[39;49m\u001B[43mmap_infer\u001B[49m\u001B[43m(\u001B[49m\n\u001B[1;32m   1175\u001B[0m \u001B[43m            \u001B[49m\u001B[43mvalues\u001B[49m\u001B[43m,\u001B[49m\n\u001B[1;32m   1176\u001B[0m \u001B[43m            \u001B[49m\u001B[43mf\u001B[49m\u001B[43m,\u001B[49m\n\u001B[1;32m   1177\u001B[0m \u001B[43m            \u001B[49m\u001B[43mconvert\u001B[49m\u001B[38;5;241;43m=\u001B[39;49m\u001B[38;5;28;43mself\u001B[39;49m\u001B[38;5;241;43m.\u001B[39;49m\u001B[43mconvert_dtype\u001B[49m\u001B[43m,\u001B[49m\n\u001B[1;32m   1178\u001B[0m \u001B[43m        \u001B[49m\u001B[43m)\u001B[49m\n\u001B[1;32m   1180\u001B[0m \u001B[38;5;28;01mif\u001B[39;00m \u001B[38;5;28mlen\u001B[39m(mapped) \u001B[38;5;129;01mand\u001B[39;00m \u001B[38;5;28misinstance\u001B[39m(mapped[\u001B[38;5;241m0\u001B[39m], ABCSeries):\n\u001B[1;32m   1181\u001B[0m     \u001B[38;5;66;03m# GH#43986 Need to do list(mapped) in order to get treated as nested\u001B[39;00m\n\u001B[1;32m   1182\u001B[0m     \u001B[38;5;66;03m#  See also GH#25959 regarding EA support\u001B[39;00m\n\u001B[1;32m   1183\u001B[0m     \u001B[38;5;28;01mreturn\u001B[39;00m obj\u001B[38;5;241m.\u001B[39m_constructor_expanddim(\u001B[38;5;28mlist\u001B[39m(mapped), index\u001B[38;5;241m=\u001B[39mobj\u001B[38;5;241m.\u001B[39mindex)\n",
      "File \u001B[0;32m~/PycharmProjects/zbze_blog/venv/lib/python3.11/site-packages/pandas/_libs/lib.pyx:2924\u001B[0m, in \u001B[0;36mpandas._libs.lib.map_infer\u001B[0;34m()\u001B[0m\n",
      "Cell \u001B[0;32mIn[378], line 5\u001B[0m, in \u001B[0;36m<lambda>\u001B[0;34m(x)\u001B[0m\n\u001B[1;32m      2\u001B[0m \u001B[38;5;28;01mwith\u001B[39;00m \u001B[38;5;28mopen\u001B[39m(os\u001B[38;5;241m.\u001B[39mpath\u001B[38;5;241m.\u001B[39mjoin(train_path, \u001B[38;5;124m'\u001B[39m\u001B[38;5;124msentences_1.ady.txt\u001B[39m\u001B[38;5;124m'\u001B[39m), \u001B[38;5;124m'\u001B[39m\u001B[38;5;124mw\u001B[39m\u001B[38;5;124m'\u001B[39m) \u001B[38;5;28;01mas\u001B[39;00m f:\n\u001B[1;32m      3\u001B[0m     f\u001B[38;5;241m.\u001B[39mwrite(\u001B[38;5;124m'\u001B[39m\u001B[38;5;130;01m\\n\u001B[39;00m\u001B[38;5;124m'\u001B[39m\u001B[38;5;241m.\u001B[39mjoin(\u001B[38;5;28msorted\u001B[39m(\u001B[38;5;28mset\u001B[39m(df_ady[\u001B[38;5;124m'\u001B[39m\u001B[38;5;124m-1_sent\u001B[39m\u001B[38;5;124m'\u001B[39m]\u001B[38;5;241m.\u001B[39mtolist()))))\n\u001B[0;32m----> 5\u001B[0m df_ady[\u001B[38;5;124m'\u001B[39m\u001B[38;5;124m-2_sent\u001B[39m\u001B[38;5;124m'\u001B[39m] \u001B[38;5;241m=\u001B[39m df_ady[\u001B[38;5;124m'\u001B[39m\u001B[38;5;124mvalue\u001B[39m\u001B[38;5;124m'\u001B[39m]\u001B[38;5;241m.\u001B[39mapply(\u001B[38;5;28;01mlambda\u001B[39;00m x: \u001B[43mx\u001B[49m\u001B[38;5;241;43m.\u001B[39;49m\u001B[43msplit\u001B[49m\u001B[43m(\u001B[49m\u001B[38;5;124;43m'\u001B[39;49m\u001B[38;5;130;43;01m\\n\u001B[39;49;00m\u001B[38;5;124;43m'\u001B[39;49m\u001B[43m)\u001B[49m\u001B[43m[\u001B[49m\u001B[38;5;241;43m-\u001B[39;49m\u001B[38;5;241;43m2\u001B[39;49m\u001B[43m]\u001B[49m \u001B[38;5;241m+\u001B[39m \u001B[38;5;124m'\u001B[39m\u001B[38;5;124m.\u001B[39m\u001B[38;5;124m'\u001B[39m)\n\u001B[1;32m      6\u001B[0m \u001B[38;5;28;01mwith\u001B[39;00m \u001B[38;5;28mopen\u001B[39m(os\u001B[38;5;241m.\u001B[39mpath\u001B[38;5;241m.\u001B[39mjoin(train_path, \u001B[38;5;124m'\u001B[39m\u001B[38;5;124msentences_2.ady.txt\u001B[39m\u001B[38;5;124m'\u001B[39m), \u001B[38;5;124m'\u001B[39m\u001B[38;5;124mw\u001B[39m\u001B[38;5;124m'\u001B[39m) \u001B[38;5;28;01mas\u001B[39;00m f:\n\u001B[1;32m      7\u001B[0m     f\u001B[38;5;241m.\u001B[39mwrite(\u001B[38;5;124m'\u001B[39m\u001B[38;5;130;01m\\n\u001B[39;00m\u001B[38;5;124m'\u001B[39m\u001B[38;5;241m.\u001B[39mjoin(\u001B[38;5;28msorted\u001B[39m(\u001B[38;5;28mset\u001B[39m(df_ady[\u001B[38;5;124m'\u001B[39m\u001B[38;5;124m-2_sent\u001B[39m\u001B[38;5;124m'\u001B[39m]\u001B[38;5;241m.\u001B[39mtolist()))))\n",
      "\u001B[0;31mIndexError\u001B[0m: list index out of range"
     ]
    }
   ],
   "source": [
    "df_ady['-1_sent'] = df_ady['value'].apply(lambda x: x.split('\\n')[-1] + '.')\n",
    "with open(os.path.join(train_path, 'sentences_1.ady.txt'), 'w') as f:\n",
    "    f.write('\\n'.join(sorted(set(df_ady['-1_sent'].tolist()))))\n",
    "\n",
    "df_kbd['-1_sent'] = df_kbd['value'].apply(lambda x: x.split('\\n')[-1])\n",
    "with open(os.path.join(train_path, 'sentences_1.kbd.txt'), 'w') as f:\n",
    "    f.write('\\n'.join(sorted(set(df_kbd['-1_sent'].tolist()))))"
   ],
   "metadata": {
    "collapsed": false,
    "pycharm": {
     "name": "#%%\n"
    },
    "ExecuteTime": {
     "end_time": "2024-02-10T15:22:17.404870Z",
     "start_time": "2024-02-10T15:22:17.171919Z"
    }
   },
   "execution_count": 378
  },
  {
   "cell_type": "code",
   "outputs": [],
   "source": [
    "kbd_words = sorted(set(df_kbd['key'].to_list()))\n",
    "with open(os.path.join(train_path, 'words.kbd.txt'), 'w') as f:\n",
    "    f.write('\\n'.join(kbd_words))\n",
    "\n",
    "ady_words = sorted(set(df_ady['key'].to_list()))\n",
    "with open(os.path.join(train_path, 'words.ady.txt'), 'w') as f:\n",
    "    f.write('\\n'.join(ady_words))\n",
    "\n",
    "rus_words = sorted(set(df_rus['key'].to_list()))\n",
    "with open(os.path.join(train_path, 'words.rus.txt'), 'w') as f:\n",
    "    f.write('\\n'.join(rus_words))\n"
   ],
   "metadata": {
    "collapsed": false,
    "ExecuteTime": {
     "end_time": "2024-02-10T14:02:16.297388Z",
     "start_time": "2024-02-10T14:02:16.279490Z"
    }
   },
   "execution_count": 270
  },
  {
   "cell_type": "code",
   "outputs": [],
   "source": [
    "import nltk\n",
    "\n",
    "from src.logic.text_cleaner import clean_text\n",
    "\n",
    "with open(os.path.join(train_path, 'source.rus.txt')) as f:\n",
    "    rus_text = clean_text(f.read())\n",
    "\n",
    "with open(os.path.join(train_path, 'source.kbd.txt')) as f:\n",
    "    kbd_text = clean_text(f.read())\n",
    "\n",
    "with open(os.path.join(train_path, 'source.ady.txt')) as f:\n",
    "    ady_text = clean_text(f.read())\n",
    "\n",
    "# rus_sentences = [sent.replace('\\n', ' ') for sent in nltk.sent_tokenize(rus_text) if 20 <= len(sent) <= 80]\n",
    "# kbd_sentences = [sent.replace('\\n', ' ') for sent in nltk.sent_tokenize(kbd_text) if 20 <= len(sent) <= 80]\n",
    "# ady_sentences = [sent.replace('\\n', ' ') for sent in nltk.sent_tokenize(ady_text) if 20 <= len(sent) <= 80]\n",
    "\n",
    "# with open(os.path.join(train_path, 'sentences.rus.txt'), 'w') as f:\n",
    "#     f.write('\\n'.join(sorted(set(rus_sentences))))\n",
    "\n",
    "# with open(os.path.join(train_path, 'sentences.kbd.txt'), 'w') as f:\n",
    "#     f.write('\\n'.join(sorted(set(kbd_sentences))))\n",
    "\n",
    "# with open(os.path.join(train_path, 'sentences.ady.txt'), 'w') as f:\n",
    "#     f.write('\\n'.join(sorted(set(ady_sentences))))"
   ],
   "metadata": {
    "collapsed": false,
    "pycharm": {
     "name": "#%%\n"
    },
    "ExecuteTime": {
     "end_time": "2024-02-10T15:18:25.268854Z",
     "start_time": "2024-02-10T15:18:24.313326Z"
    }
   },
   "execution_count": 365
  },
  {
   "cell_type": "code",
   "outputs": [],
   "source": [
    "with open(os.path.join(train_path, 'sentences.rus.txt'), 'r') as f:\n",
    "    rus_sentences = f.read().split('\\n')\n",
    "\n",
    "with open(os.path.join(train_path, 'sentences.kbd.txt'), 'r') as f:\n",
    "    kbd_sentences = f.read().split('\\n')\n",
    "\n",
    "with open(os.path.join(train_path, 'sentences.ady.txt'), 'r') as f:\n",
    "    ady_sentences = f.read().split('\\n')\n",
    "\n",
    "rus_sentences = [sent for sent in rus_sentences if 20 <= len(sent) <= 80]\n",
    "kbs_sentences = [sent for sent in kbd_sentences if 20 <= len(sent) <= 80]\n",
    "kbd_sentences = [sent for sent in kbd_sentences if 20 <= len(sent) <= 80]\n"
   ],
   "metadata": {
    "collapsed": false,
    "ExecuteTime": {
     "end_time": "2024-02-10T15:18:25.755673Z",
     "start_time": "2024-02-10T15:18:25.731204Z"
    }
   },
   "execution_count": 366
  },
  {
   "cell_type": "code",
   "outputs": [],
   "source": [
    "import random\n",
    "\n",
    "for seq in [\n",
    "    rus_sentences,\n",
    "    rus_words,\n",
    "    kbd_sentences,\n",
    "    kbd_words,\n",
    "    ady_sentences,\n",
    "    ady_words\n",
    "]:\n",
    "    random.shuffle(rus_sentences)"
   ],
   "metadata": {
    "collapsed": false,
    "ExecuteTime": {
     "end_time": "2024-02-10T15:18:26.390764Z",
     "start_time": "2024-02-10T15:18:26.371825Z"
    }
   },
   "execution_count": 367
  },
  {
   "cell_type": "code",
   "outputs": [],
   "source": [
    "sent_n = 2000\n",
    "\n",
    "rus_words_with_label = [f'__label__rus {word}' for word in rus_words][:5000]\n",
    "kbd_words_with_label = [f'__label__kbd {word}' for word in kbd_words][:5000]\n",
    "ady_words_with_label = [f'__label__ady {word}' for word in ady_words]\n",
    "\n",
    "rus_sentences_with_label = [f'__label__rus {sent}' for sent in rus_sentences[:int(sent_n * 1.0)]]\n",
    "kbd_sentences_with_label = [f'__label__kbd {sent}' for sent in kbd_sentences[:int(sent_n * 3.0)]]\n",
    "ady_sentences_with_label = [f'__label__ady {sent}' for sent in ady_sentences[:int(sent_n * 10.0)]]\n",
    "\n",
    "sentence_with_label = (\n",
    "        rus_sentences_with_label + rus_words_with_label +\n",
    "        kbd_sentences_with_label + kbd_words_with_label +\n",
    "        ady_sentences_with_label + ady_words_with_label\n",
    ")\n",
    "random.shuffle(sentence_with_label)\n",
    "\n",
    "train_sent = sentence_with_label[:int(len(sentence_with_label) * 0.8)]\n",
    "test_sent = sentence_with_label[int(len(sentence_with_label) * 0.8):]\n",
    "\n",
    "train_file_path = os.path.join(train_path, 'data.train.txt')\n",
    "test_file_path = os.path.join(train_path, 'data.test.txt')\n",
    "\n",
    "with open(train_file_path, 'w') as f:\n",
    "    f.write('\\n'.join(train_sent))\n",
    "\n",
    "with open(test_file_path, 'w') as f:\n",
    "    f.write('\\n'.join(test_sent))"
   ],
   "metadata": {
    "collapsed": false,
    "pycharm": {
     "name": "#%%\n"
    },
    "ExecuteTime": {
     "end_time": "2024-02-10T15:19:59.855467Z",
     "start_time": "2024-02-10T15:19:59.828526Z"
    }
   },
   "execution_count": 374
  },
  {
   "cell_type": "code",
   "outputs": [
    {
     "name": "stderr",
     "output_type": "stream",
     "text": [
      "Read 0M words\n",
      "Number of words:  74840\n",
      "Number of labels: 3\n",
      "Progress: 100.0% words/sec/thread: 1900999 lr:  0.000000 avg.loss:  0.023881 ETA:   0h 0m 0s\n"
     ]
    }
   ],
   "source": [
    "import fasttext\n",
    "\n",
    "model = fasttext.train_supervised(input=train_file_path, epoch=1000)"
   ],
   "metadata": {
    "collapsed": false,
    "pycharm": {
     "name": "#%%\n"
    },
    "ExecuteTime": {
     "end_time": "2024-02-10T15:20:17.217935Z",
     "start_time": "2024-02-10T15:20:00.532683Z"
    }
   },
   "execution_count": 375
  },
  {
   "cell_type": "code",
   "outputs": [
    {
     "data": {
      "text/plain": "{'__label__rus': {'precision': 0.9878958587088916,\n  'recall': nan,\n  'f1score': 1.9757917174177833},\n '__label__kbd': {'precision': 0.9274903687396808,\n  'recall': nan,\n  'f1score': 1.8549807374793617},\n '__label__ady': {'precision': 0.5155227969977039,\n  'recall': nan,\n  'f1score': 1.0310455939954077}}"
     },
     "execution_count": 409,
     "metadata": {},
     "output_type": "execute_result"
    }
   ],
   "source": [
    "score = model.test_label(test_file_path)\n",
    "score"
   ],
   "metadata": {
    "collapsed": false,
    "pycharm": {
     "name": "#%%\n"
    },
    "ExecuteTime": {
     "end_time": "2024-02-10T19:33:34.807378Z",
     "start_time": "2024-02-10T19:33:33.901438Z"
    }
   },
   "execution_count": 409
  },
  {
   "cell_type": "code",
   "outputs": [],
   "source": [
    "rus_precision = score['__label__rus']['precision']\n",
    "kbd_precision = score['__label__kbd']['precision']\n",
    "ady_precision = score['__label__ady']['precision']"
   ],
   "metadata": {
    "collapsed": false,
    "ExecuteTime": {
     "end_time": "2024-02-10T15:32:40.486739Z",
     "start_time": "2024-02-10T15:32:40.475780Z"
    }
   },
   "execution_count": 381
  },
  {
   "cell_type": "code",
   "outputs": [],
   "source": [
    "model.save_model(f'../data/processed/lang_detect/models/rus_{rus_precision:.2f}__kbd_{kbd_precision:.2f}__ady_{ady_precision:.2f}.model')"
   ],
   "metadata": {
    "collapsed": false,
    "ExecuteTime": {
     "end_time": "2024-02-10T15:33:36.656058Z",
     "start_time": "2024-02-10T15:33:36.652270Z"
    }
   },
   "execution_count": 384
  },
  {
   "cell_type": "code",
   "outputs": [],
   "source": [],
   "metadata": {
    "collapsed": false
   }
  }
 ],
 "metadata": {
  "kernelspec": {
   "display_name": "Python 3",
   "language": "python",
   "name": "python3"
  },
  "language_info": {
   "codemirror_mode": {
    "name": "ipython",
    "version": 2
   },
   "file_extension": ".py",
   "mimetype": "text/x-python",
   "name": "python",
   "nbconvert_exporter": "python",
   "pygments_lexer": "ipython2",
   "version": "2.7.6"
  }
 },
 "nbformat": 4,
 "nbformat_minor": 0
}
