{
 "cells": [
  {
   "cell_type": "code",
   "execution_count": 1,
   "id": "initial_id",
   "metadata": {
    "collapsed": true,
    "ExecuteTime": {
     "end_time": "2024-02-27T01:11:51.734212Z",
     "start_time": "2024-02-27T01:11:41.626187Z"
    }
   },
   "outputs": [
    {
     "name": "stderr",
     "output_type": "stream",
     "text": [
      "Special tokens have been added in the vocabulary, make sure the associated word embeddings are fine-tuned or trained.\n"
     ]
    }
   ],
   "source": [
    "from transformers import M2M100Tokenizer, M2M100ForConditionalGeneration\n",
    "\n",
    "model_ru_kbd = M2M100ForConditionalGeneration.from_pretrained(\"anzorq/m2m100_1.2B_ft_ru-kbd_63K\")\n",
    "tokenizer_ru_kbd = M2M100Tokenizer.from_pretrained(\"anzorq/m2m100_418M_ft_ru-kbd_50K_T4\", src_lang=\"ru\")"
   ]
  },
  {
   "cell_type": "code",
   "outputs": [
    {
     "data": {
      "text/plain": "['▁Н',\n 'т',\n 'I',\n 'э',\n ',',\n '▁сы',\n 'ты',\n 'т',\n '▁у',\n 'къ',\n 'ы',\n 'щ',\n 'I',\n 'ы',\n 'с',\n 'ху',\n 'ей',\n 'р',\n '?']"
     },
     "execution_count": 2,
     "metadata": {},
     "output_type": "execute_result"
    }
   ],
   "source": [
    "tokenizer_ru_kbd.tokenize('НтIэ, сытыт укъыщIысхуейр?')"
   ],
   "metadata": {
    "collapsed": false,
    "ExecuteTime": {
     "start_time": "2024-02-27T01:08:12.490264Z"
    }
   },
   "id": "9a76377515bcd7f5",
   "execution_count": 2
  },
  {
   "cell_type": "code",
   "execution_count": 2,
   "outputs": [],
   "source": [
    "def translate(text):\n",
    "    encoded = tokenizer_ru_kbd(text, return_tensors=\"pt\")\n",
    "    generated_tokens = model_ru_kbd.generate(**encoded)\n",
    "    translated = tokenizer_ru_kbd.batch_decode(generated_tokens, skip_special_tokens=True)\n",
    "    return translated[0]"
   ],
   "metadata": {
    "collapsed": false,
    "ExecuteTime": {
     "end_time": "2024-02-27T01:12:03.208629Z",
     "start_time": "2024-02-27T01:12:03.190265Z"
    }
   },
   "id": "159d5cb9d74eb58"
  },
  {
   "cell_type": "code",
   "execution_count": 3,
   "outputs": [
    {
     "name": "stderr",
     "output_type": "stream",
     "text": [
      "/Users/panagoa/PycharmProjects/zbze_blog/venv/lib/python3.11/site-packages/transformers/generation/utils.py:1518: UserWarning: You have modified the pretrained model configuration to control generation. This is a deprecated strategy to control generation and will be removed soon, in a future version. Please use and modify the model generation configuration (see https://huggingface.co/docs/transformers/generation_strategies#default-text-generation-configuration )\n",
      "  warnings.warn(\n"
     ]
    },
    {
     "data": {
      "text/plain": "'ар къызэубыдыну сегугъащ.'"
     },
     "execution_count": 3,
     "metadata": {},
     "output_type": "execute_result"
    }
   ],
   "source": [
    "translate('Я попытался её поймать.')"
   ],
   "metadata": {
    "collapsed": false,
    "ExecuteTime": {
     "end_time": "2024-02-27T01:12:14.176266Z",
     "start_time": "2024-02-27T01:12:07.511981Z"
    }
   },
   "id": "77aa47b9a35b0e87"
  },
  {
   "cell_type": "code",
   "outputs": [],
   "source": [
    "from transformers import M2M100Tokenizer, M2M100ForConditionalGeneration\n",
    "\n",
    "model_kbd_ru = M2M100ForConditionalGeneration.from_pretrained(\"anzorq/m2m100_1.2B_ft_kbd-ru_63K\")"
   ],
   "metadata": {
    "collapsed": false,
    "ExecuteTime": {
     "end_time": "2024-02-27T01:12:57.045120Z",
     "start_time": "2024-02-27T01:12:37.373511Z"
    }
   },
   "id": "d163b22b4f7d0345",
   "execution_count": 4
  },
  {
   "cell_type": "code",
   "outputs": [
    {
     "name": "stderr",
     "output_type": "stream",
     "text": [
      "Special tokens have been added in the vocabulary, make sure the associated word embeddings are fine-tuned or trained.\n"
     ]
    },
    {
     "data": {
      "text/plain": "['▁Н',\n 'т',\n 'I',\n 'э',\n ',',\n '▁сы',\n 'ты',\n 'т',\n '▁у',\n 'къ',\n 'ы',\n 'щ',\n 'I',\n 'ы',\n 'с',\n 'ху',\n 'ей',\n 'р',\n '?']"
     },
     "execution_count": 5,
     "metadata": {},
     "output_type": "execute_result"
    }
   ],
   "source": [
    "tokenizer_kbd_ru = M2M100Tokenizer.from_pretrained(\"anzorq/m2m100_1.2B_ft_kbd-ru_63K\", src_lang=\"ru\")\n",
    "tokenizer_kbd_ru.tokenize('НтIэ, сытыт укъыщIысхуейр?')"
   ],
   "metadata": {
    "collapsed": false,
    "ExecuteTime": {
     "end_time": "2024-02-27T01:13:01.689519Z",
     "start_time": "2024-02-27T01:13:00.975704Z"
    }
   },
   "id": "480a7f5899d0b731",
   "execution_count": 5
  },
  {
   "cell_type": "code",
   "outputs": [],
   "source": [
    "def translate2(text):\n",
    "    encoded = tokenizer_kbd_ru(text, return_tensors=\"pt\")\n",
    "    generated_tokens = model_kbd_ru.generate(**encoded)\n",
    "    translated = tokenizer_kbd_ru.batch_decode(generated_tokens, skip_special_tokens=True)\n",
    "    return translated[0]"
   ],
   "metadata": {
    "collapsed": false,
    "ExecuteTime": {
     "end_time": "2024-02-27T01:13:03.672274Z",
     "start_time": "2024-02-27T01:13:03.662185Z"
    }
   },
   "id": "4ef9e3a3dc871d0e",
   "execution_count": 6
  },
  {
   "cell_type": "code",
   "outputs": [
    {
     "data": {
      "text/plain": "'кстати, что ты хочешь ко мне?'"
     },
     "execution_count": 7,
     "metadata": {},
     "output_type": "execute_result"
    }
   ],
   "source": [
    "translate2(\"\"\"НтIэ, сытыт укъыщIысхуейр?\"\"\")"
   ],
   "metadata": {
    "collapsed": false,
    "ExecuteTime": {
     "end_time": "2024-02-27T01:13:11.539187Z",
     "start_time": "2024-02-27T01:13:06.457930Z"
    }
   },
   "id": "ca2c30ccc59637ed",
   "execution_count": 7
  },
  {
   "cell_type": "code",
   "outputs": [],
   "source": [
    "import pandas as pd\n",
    "\n",
    "bigram_df = pd.read_csv('../data/processed/word_bigrams/oshhamaho.csv')\n",
    "bigram_df.head()\n",
    "bigram_df['translation'] = bigram_df['w_bigram'].apply(translate2)\n",
    "bigram_df['corrected'] = bigram_df['translation']\n",
    "bigram_df.to_csv('../data/processed/word_bigrams/oshhamaho_translated.csv', index=False)"
   ],
   "metadata": {
    "collapsed": false
   },
   "id": "35929a12b8045d96",
   "execution_count": null
  },
  {
   "cell_type": "code",
   "outputs": [],
   "source": [
    "import pandas as pd\n",
    "import os\n",
    "\n",
    "cluster_path = '../data/processed/sent_clusters'\n",
    "\n",
    "with open('../data/processed/sent_clusters/seed_113/10.0_10000_1000/cluster_0_10000_99.txt', 'r') as f:\n",
    "    sentences = f.read().split('\\n')\n",
    "\n",
    "cluster_df = pd.DataFrame({'sentence': sentences})\n",
    "cluster_df['translation'] = cluster_df['sentence'].apply(translate2)\n",
    "cluster_df['corrected'] = cluster_df['translation']"
   ],
   "metadata": {
    "collapsed": false,
    "ExecuteTime": {
     "end_time": "2024-02-27T01:14:58.983080Z",
     "start_time": "2024-02-27T01:13:48.810216Z"
    }
   },
   "id": "e6fd8e067c8e7586",
   "execution_count": 9
  },
  {
   "cell_type": "code",
   "outputs": [
    {
     "data": {
      "text/plain": "                                   sentence  \\\n0       «Къысщымыхьащэрэт мы лIыжь бзаджэр.   \n1                   – Еуэ мы хьэбзми, пыкI!   \n2        – ЛIо, мы уи гъусэр мыпсалъэу ара?   \n3                        Уи урокхэр пщIыжа?   \n4              – Уей-уей, мы слъагъур сыт?!   \n5     Бетэмалу къызихьэлIат мы щакIуэ унэр.   \n6         – Мыр сыт мы уи теплъэр, цIыхубз?   \n7      мы бэлэбанэм сыкъимыгъэпцIауэ пIэрэ?   \n8    Ар къэбгъанэу мы къэпшар зищIысыр сыт?   \n9                Ди адэ, мы шыдыр сыгъэукI!   \n10           – Сэри мы хьэ цIыкIум срещхьщ.   \n11  – Мыпхуэдиз къэрабэр сыту пщIыну, Былэ?   \n12       – Уи цIэр сыту хьэлэмэтыщэ, Бланэ.   \n13      – Ы-ы, сыт жыпIэхэр, Надя, уэра ар?   \n14              – Уэлэхьэ, пэркуро пщIынмэ!   \n15               Хэплъыхьищэр уощIри ущысщ.   \n16                 – Дэнэ къикIа мы щыхьыр?   \n17         Дэнэ къиукIт мы фызыжь цIыкIури?   \n18      – Уэлэхьи, хэт плъэгъуами, мы-Умар!   \n19    «А щIалэр дэнэ щыпцIыхурэ?» – жи зым.   \n\n                                         translation  \\\n0        \"он не сидел бы, что ли, этот злой старик.\"   \n1                          – что бы ни... проклявай!   \n2       – что ли, не разговаривая с твоим товарищем?   \n3                            чии уроки ты переиграл?   \n4                                 – эй, что я вижу?!   \n5              бетамалу приходил домой этот охотник.   \n6                     – каков это твой вид, женщина?   \n7                не видел ли ты меня в этих шалунах?   \n8   что же это означает, что она оторвалась от него?   \n9                  наш папа, да убьют меня эти осли!   \n10                    – я тоже похож на эту собачку.   \n11             – что же ты так трусливый, был ли ты?   \n12                       – какая доброта вон, бланэ.   \n13                  – что ты говоришь, надя, это ты?   \n14                – клянусь, если у тебя есть ногти!   \n15                    сто оглядывается, и ты сидишь.   \n16                       – откуда взялась эта олень?   \n17                       откуда убилась эта девочка?   \n18                   – клянусь, кто видел, это умар!   \n19                    где этот парень лорис-меликов?   \n\n                                           corrected  \n0        \"он не сидел бы, что ли, этот злой старик.\"  \n1                          – что бы ни... проклявай!  \n2       – что ли, не разговаривая с твоим товарищем?  \n3                            чии уроки ты переиграл?  \n4                                 – эй, что я вижу?!  \n5              бетамалу приходил домой этот охотник.  \n6                     – каков это твой вид, женщина?  \n7                не видел ли ты меня в этих шалунах?  \n8   что же это означает, что она оторвалась от него?  \n9                  наш папа, да убьют меня эти осли!  \n10                    – я тоже похож на эту собачку.  \n11             – что же ты так трусливый, был ли ты?  \n12                       – какая доброта вон, бланэ.  \n13                  – что ты говоришь, надя, это ты?  \n14                – клянусь, если у тебя есть ногти!  \n15                    сто оглядывается, и ты сидишь.  \n16                       – откуда взялась эта олень?  \n17                       откуда убилась эта девочка?  \n18                   – клянусь, кто видел, это умар!  \n19                    где этот парень лорис-меликов?  ",
      "text/html": "<div>\n<style scoped>\n    .dataframe tbody tr th:only-of-type {\n        vertical-align: middle;\n    }\n\n    .dataframe tbody tr th {\n        vertical-align: top;\n    }\n\n    .dataframe thead th {\n        text-align: right;\n    }\n</style>\n<table border=\"1\" class=\"dataframe\">\n  <thead>\n    <tr style=\"text-align: right;\">\n      <th></th>\n      <th>sentence</th>\n      <th>translation</th>\n      <th>corrected</th>\n    </tr>\n  </thead>\n  <tbody>\n    <tr>\n      <th>0</th>\n      <td>«Къысщымыхьащэрэт мы лIыжь бзаджэр.</td>\n      <td>\"он не сидел бы, что ли, этот злой старик.\"</td>\n      <td>\"он не сидел бы, что ли, этот злой старик.\"</td>\n    </tr>\n    <tr>\n      <th>1</th>\n      <td>– Еуэ мы хьэбзми, пыкI!</td>\n      <td>– что бы ни... проклявай!</td>\n      <td>– что бы ни... проклявай!</td>\n    </tr>\n    <tr>\n      <th>2</th>\n      <td>– ЛIо, мы уи гъусэр мыпсалъэу ара?</td>\n      <td>– что ли, не разговаривая с твоим товарищем?</td>\n      <td>– что ли, не разговаривая с твоим товарищем?</td>\n    </tr>\n    <tr>\n      <th>3</th>\n      <td>Уи урокхэр пщIыжа?</td>\n      <td>чии уроки ты переиграл?</td>\n      <td>чии уроки ты переиграл?</td>\n    </tr>\n    <tr>\n      <th>4</th>\n      <td>– Уей-уей, мы слъагъур сыт?!</td>\n      <td>– эй, что я вижу?!</td>\n      <td>– эй, что я вижу?!</td>\n    </tr>\n    <tr>\n      <th>5</th>\n      <td>Бетэмалу къызихьэлIат мы щакIуэ унэр.</td>\n      <td>бетамалу приходил домой этот охотник.</td>\n      <td>бетамалу приходил домой этот охотник.</td>\n    </tr>\n    <tr>\n      <th>6</th>\n      <td>– Мыр сыт мы уи теплъэр, цIыхубз?</td>\n      <td>– каков это твой вид, женщина?</td>\n      <td>– каков это твой вид, женщина?</td>\n    </tr>\n    <tr>\n      <th>7</th>\n      <td>мы бэлэбанэм сыкъимыгъэпцIауэ пIэрэ?</td>\n      <td>не видел ли ты меня в этих шалунах?</td>\n      <td>не видел ли ты меня в этих шалунах?</td>\n    </tr>\n    <tr>\n      <th>8</th>\n      <td>Ар къэбгъанэу мы къэпшар зищIысыр сыт?</td>\n      <td>что же это означает, что она оторвалась от него?</td>\n      <td>что же это означает, что она оторвалась от него?</td>\n    </tr>\n    <tr>\n      <th>9</th>\n      <td>Ди адэ, мы шыдыр сыгъэукI!</td>\n      <td>наш папа, да убьют меня эти осли!</td>\n      <td>наш папа, да убьют меня эти осли!</td>\n    </tr>\n    <tr>\n      <th>10</th>\n      <td>– Сэри мы хьэ цIыкIум срещхьщ.</td>\n      <td>– я тоже похож на эту собачку.</td>\n      <td>– я тоже похож на эту собачку.</td>\n    </tr>\n    <tr>\n      <th>11</th>\n      <td>– Мыпхуэдиз къэрабэр сыту пщIыну, Былэ?</td>\n      <td>– что же ты так трусливый, был ли ты?</td>\n      <td>– что же ты так трусливый, был ли ты?</td>\n    </tr>\n    <tr>\n      <th>12</th>\n      <td>– Уи цIэр сыту хьэлэмэтыщэ, Бланэ.</td>\n      <td>– какая доброта вон, бланэ.</td>\n      <td>– какая доброта вон, бланэ.</td>\n    </tr>\n    <tr>\n      <th>13</th>\n      <td>– Ы-ы, сыт жыпIэхэр, Надя, уэра ар?</td>\n      <td>– что ты говоришь, надя, это ты?</td>\n      <td>– что ты говоришь, надя, это ты?</td>\n    </tr>\n    <tr>\n      <th>14</th>\n      <td>– Уэлэхьэ, пэркуро пщIынмэ!</td>\n      <td>– клянусь, если у тебя есть ногти!</td>\n      <td>– клянусь, если у тебя есть ногти!</td>\n    </tr>\n    <tr>\n      <th>15</th>\n      <td>Хэплъыхьищэр уощIри ущысщ.</td>\n      <td>сто оглядывается, и ты сидишь.</td>\n      <td>сто оглядывается, и ты сидишь.</td>\n    </tr>\n    <tr>\n      <th>16</th>\n      <td>– Дэнэ къикIа мы щыхьыр?</td>\n      <td>– откуда взялась эта олень?</td>\n      <td>– откуда взялась эта олень?</td>\n    </tr>\n    <tr>\n      <th>17</th>\n      <td>Дэнэ къиукIт мы фызыжь цIыкIури?</td>\n      <td>откуда убилась эта девочка?</td>\n      <td>откуда убилась эта девочка?</td>\n    </tr>\n    <tr>\n      <th>18</th>\n      <td>– Уэлэхьи, хэт плъэгъуами, мы-Умар!</td>\n      <td>– клянусь, кто видел, это умар!</td>\n      <td>– клянусь, кто видел, это умар!</td>\n    </tr>\n    <tr>\n      <th>19</th>\n      <td>«А щIалэр дэнэ щыпцIыхурэ?» – жи зым.</td>\n      <td>где этот парень лорис-меликов?</td>\n      <td>где этот парень лорис-меликов?</td>\n    </tr>\n  </tbody>\n</table>\n</div>"
     },
     "execution_count": 10,
     "metadata": {},
     "output_type": "execute_result"
    }
   ],
   "source": [
    "cluster_df"
   ],
   "metadata": {
    "collapsed": false,
    "ExecuteTime": {
     "end_time": "2024-02-27T01:15:18.395961Z",
     "start_time": "2024-02-27T01:15:18.382679Z"
    }
   },
   "id": "4c269cde88a4bc63",
   "execution_count": 10
  },
  {
   "cell_type": "code",
   "outputs": [],
   "source": [],
   "metadata": {
    "collapsed": false
   },
   "id": "ffb7ac459037965b",
   "execution_count": null
  }
 ],
 "metadata": {
  "kernelspec": {
   "display_name": "Python 3",
   "language": "python",
   "name": "python3"
  },
  "language_info": {
   "codemirror_mode": {
    "name": "ipython",
    "version": 2
   },
   "file_extension": ".py",
   "mimetype": "text/x-python",
   "name": "python",
   "nbconvert_exporter": "python",
   "pygments_lexer": "ipython2",
   "version": "2.7.6"
  }
 },
 "nbformat": 4,
 "nbformat_minor": 5
}
